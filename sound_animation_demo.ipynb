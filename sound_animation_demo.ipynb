{
 "cells": [
  {
   "cell_type": "code",
   "execution_count": 1,
   "id": "e8de37fa-76c1-4936-aa66-46161af06e3d",
   "metadata": {},
   "outputs": [],
   "source": [
    "import json\n",
    "import numpy as np\n",
    "# import wavio\n",
    "# from scipy.io.wavfile import write\n",
    "import matplotlib.pyplot as plt\n",
    "import wave\n",
    "import struct"
   ]
  },
  {
   "cell_type": "code",
   "execution_count": 3,
   "id": "51f430a5-6c59-4423-8673-3c118839e685",
   "metadata": {},
   "outputs": [],
   "source": [
    "with open('/Users/dmartins/Desktop/spikeT_13_to_16.json', 'r') as f:\n",
    "    spikeT = json.load(f)\n",
    "n_units = len(spikeT.keys())\n",
    "\n",
    "with open('/Users/dmartins/Desktop/saccT_13_to_16.json', 'r') as f:\n",
    "    saccT = json.load(f)\n",
    "    \n",
    "modinds = np.load('/Users/dmartins/Desktop/demo_modinds.npy')"
   ]
  },
  {
   "cell_type": "code",
   "execution_count": 41,
   "id": "ece30f73-3275-4756-8a38-30cf82423382",
   "metadata": {},
   "outputs": [],
   "source": [
    "fr = np.load('/Users/dmartins/Desktop/demo_fr.npy')"
   ]
  },
  {
   "cell_type": "code",
   "execution_count": 4,
   "id": "3e69c03b-2c01-4fb2-a1e9-46eb39fa273a",
   "metadata": {},
   "outputs": [],
   "source": [
    "def note_to_freq(n):\n",
    "    freq = 2 ** ((n-49)/12)\n",
    "    return freq * 440 # Hz"
   ]
  },
  {
   "cell_type": "markdown",
   "id": "1069b6cd-c677-4c29-9fb9-07e560fa48ee",
   "metadata": {},
   "source": [
    "# all cells"
   ]
  },
  {
   "cell_type": "markdown",
   "id": "4da5b277-bbb2-491e-a438-8611cd70d405",
   "metadata": {},
   "source": [
    "## select cells that are strongly responsive"
   ]
  },
  {
   "cell_type": "code",
   "execution_count": 38,
   "id": "e51013ab-9652-435a-8656-33f9c89ba700",
   "metadata": {},
   "outputs": [
    {
     "data": {
      "text/plain": [
       "48"
      ]
     },
     "execution_count": 38,
     "metadata": {},
     "output_type": "execute_result"
    }
   ],
   "source": [
    "usecells = np.argwhere(modinds>0.5).flatten()\n",
    "len(usecells)"
   ]
  },
  {
   "cell_type": "code",
   "execution_count": 52,
   "id": "90df0adf-d605-412a-9842-9c3d7af40277",
   "metadata": {},
   "outputs": [
    {
     "data": {
      "text/plain": [
       "38"
      ]
     },
     "execution_count": 52,
     "metadata": {},
     "output_type": "execute_result"
    }
   ],
   "source": [
    "usecells = np.argwhere((fr>1)*(fr<3)).flatten()\n",
    "len(usecells)"
   ]
  },
  {
   "cell_type": "markdown",
   "id": "1f1cfe56-ef89-4995-8b40-22ac7999e34e",
   "metadata": {},
   "source": [
    "## spikes"
   ]
  },
  {
   "cell_type": "code",
   "execution_count": 72,
   "id": "aa77203b-69e1-44cf-a443-8a1ab72e8ac4",
   "metadata": {},
   "outputs": [
    {
     "data": {
      "text/plain": [
       "2349.31814333926"
      ]
     },
     "execution_count": 72,
     "metadata": {},
     "output_type": "execute_result"
    }
   ],
   "source": [
    "n = 38\n",
    "note_to_freq(((n+1)*2))"
   ]
  },
  {
   "cell_type": "code",
   "execution_count": 73,
   "id": "47ecce91-4cc7-42c7-848a-c741e6531013",
   "metadata": {},
   "outputs": [],
   "source": [
    "framerate = 30000\n",
    "tlen = 3 # sec\n",
    "t = np.linspace(0, tlen, int(tlen*framerate), endpoint=True)\n",
    "sp_len = int(framerate*(30/1000)) # play each spike sound for 5 ms\n",
    "tone_t = np.arange(0, sp_len)\n",
    "\n",
    "sinlist = []\n",
    "\n",
    "count = 0\n",
    "for ind, sps in spikeT.items():\n",
    "    # spike the units w/ odd numbers\n",
    "    if int(ind) not in usecells:\n",
    "        continue\n",
    "    count += 1\n",
    "    \n",
    "    freq = note_to_freq(((count+1)*2))\n",
    "    \n",
    "    tone = np.sin(2*np.pi * freq * tone_t)\n",
    "    \n",
    "    x = np.zeros(np.size(t))\n",
    "    \n",
    "    for sp in sps:\n",
    "        t_on = int(sp*framerate)\n",
    "        t_off = int((sp*framerate)+sp_len)\n",
    "        if t_off < np.size(x):\n",
    "            x[t_on:t_off] = tone\n",
    "    \n",
    "    sinlist.append(x)"
   ]
  },
  {
   "cell_type": "code",
   "execution_count": 74,
   "id": "dd283f2e-a724-4b49-ac4b-14108ef6a40d",
   "metadata": {},
   "outputs": [],
   "source": [
    "framerate = 30000\n",
    "tlen = 3 # sec\n",
    "t = np.linspace(0, tlen, int(tlen*framerate), endpoint=True)\n",
    "sp_len = int(framerate*(30/1000))\n",
    "tone_t = np.arange(0, sp_len)\n",
    "\n",
    "freq = note_to_freq(80)\n",
    "\n",
    "tone = 3 * np.sin(2*np.pi * freq * tone_t)\n",
    "\n",
    "x = np.zeros(np.size(t))\n",
    "\n",
    "for s in saccT['gazeshift']:\n",
    "    t_on = int(s*framerate)\n",
    "    t_off = int((s*framerate)+sp_len)\n",
    "    if t_off < np.size(x):\n",
    "        x[t_on:t_off] = tone"
   ]
  },
  {
   "cell_type": "code",
   "execution_count": 75,
   "id": "1718a067-6bb5-4ed8-b231-c4588efaf9f4",
   "metadata": {},
   "outputs": [],
   "source": [
    "fname = '/Users/dmartins/Desktop/spikes_byFr.wav'\n",
    "wav_file = wave.open(fname, \"w\")\n",
    "\n",
    "nchannels = 1\n",
    "sampwidth = 2\n",
    "nframes = np.size(t)\n",
    "comptype = \"NONE\"\n",
    "compname = \"not compressed\"\n",
    "\n",
    "wav_file.setparams((nchannels, sampwidth, int(framerate/4), nframes, comptype, compname))\n",
    "\n",
    "sound = np.zeros(int(framerate*tlen))\n",
    "for s in sinlist:\n",
    "    # increase so it ranges from min:max of int16 dtype\n",
    "    sound = np.add(sound, s)\n",
    "    \n",
    "sound = np.add(sound, x*2)\n",
    "    \n",
    "newsound = sound / np.max(sound)\n",
    "newsound = newsound*(np.iinfo(np.int16).max)\n",
    "\n",
    "# write the audio frames to file\n",
    "wav_file.writeframes(newsound.astype(np.int16))\n",
    "# int(s*amp/2)))\n",
    "\n",
    "wav_file.close()"
   ]
  },
  {
   "cell_type": "markdown",
   "id": "cc3419b6-a391-4092-930a-27d603e2b33f",
   "metadata": {},
   "source": [
    "## gaze shifts"
   ]
  },
  {
   "cell_type": "code",
   "execution_count": 30,
   "id": "062c93af-e68b-4fe8-9369-781f4dc5e464",
   "metadata": {},
   "outputs": [],
   "source": [
    "framerate = 30000\n",
    "tlen = 3 # sec\n",
    "t = np.linspace(0, tlen, int(tlen*framerate), endpoint=True)\n",
    "sp_len = int(framerate*(30/1000))\n",
    "tone_t = np.arange(0, sp_len)\n",
    "\n",
    "freq = note_to_freq(3)\n",
    "\n",
    "tone = np.sin(2*np.pi * freq * tone_t)\n",
    "\n",
    "x = np.zeros(np.size(t))\n",
    "\n",
    "for s in saccT['gazeshift']:\n",
    "    t_on = int(s*framerate)\n",
    "    t_off = int((s*framerate)+sp_len)\n",
    "    if t_off < np.size(x):\n",
    "        x[t_on:t_off] = tone"
   ]
  },
  {
   "cell_type": "code",
   "execution_count": 31,
   "id": "18f833f7-8a90-40b9-a984-d200345730e8",
   "metadata": {},
   "outputs": [],
   "source": [
    "fname = '/Users/dmartins/Desktop/sacc_high.wav'\n",
    "wav_file = wave.open(fname, \"w\")\n",
    "\n",
    "nchannels = 1\n",
    "sampwidth = 2\n",
    "nframes = np.size(t)\n",
    "comptype = \"NONE\"\n",
    "compname = \"not compressed\"\n",
    "\n",
    "wav_file.setparams((nchannels, sampwidth, int(framerate/4), nframes, comptype, compname))\n",
    "\n",
    "sound = x\n",
    "    \n",
    "newsound = sound / np.max(sound)\n",
    "\n",
    "newsound = newsound*(np.iinfo(np.int16).max)\n",
    "\n",
    "# write the audio frames to file\n",
    "wav_file.writeframes(newsound.astype(np.int16))\n",
    "# int(s*amp/2)))\n",
    "\n",
    "wav_file.close()"
   ]
  },
  {
   "cell_type": "markdown",
   "id": "77803856-cc80-417f-bc6c-78d65185a9f1",
   "metadata": {},
   "source": [
    "# merge mp4 with audio"
   ]
  },
  {
   "cell_type": "code",
   "execution_count": 2,
   "id": "73c35cf1-5f25-4895-9624-dd441f325ae4",
   "metadata": {},
   "outputs": [],
   "source": [
    "import subprocess"
   ]
  },
  {
   "cell_type": "code",
   "execution_count": 22,
   "id": "08654a52-f87d-4a75-9b71-3afe403752cc",
   "metadata": {},
   "outputs": [
    {
     "name": "stdout",
     "output_type": "stream",
     "text": [
      "12.534000\n"
     ]
    },
    {
     "data": {
      "text/plain": [
       "0"
      ]
     },
     "execution_count": 22,
     "metadata": {},
     "output_type": "execute_result"
    }
   ],
   "source": [
    "subprocess.call(['ffprobe', '-v', 'error', '-show_entries', 'format=duration', '-of', 'default=noprint_wrappers=1:nokey=1', video_path])\n"
   ]
  },
  {
   "cell_type": "code",
   "execution_count": 25,
   "id": "9871a9ad-d6b3-4bbd-bc08-53654cba7965",
   "metadata": {},
   "outputs": [
    {
     "name": "stderr",
     "output_type": "stream",
     "text": [
      "ffmpeg version 5.1 Copyright (c) 2000-2022 the FFmpeg developers\n",
      "  built with Apple clang version 13.1.6 (clang-1316.0.21.2.5)\n",
      "  configuration: --prefix=/opt/homebrew/Cellar/ffmpeg/5.1 --enable-shared --enable-pthreads --enable-version3 --cc=clang --host-cflags= --host-ldflags= --enable-ffplay --enable-gnutls --enable-gpl --enable-libaom --enable-libbluray --enable-libdav1d --enable-libmp3lame --enable-libopus --enable-librav1e --enable-librist --enable-librubberband --enable-libsnappy --enable-libsrt --enable-libtesseract --enable-libtheora --enable-libvidstab --enable-libvmaf --enable-libvorbis --enable-libvpx --enable-libwebp --enable-libx264 --enable-libx265 --enable-libxml2 --enable-libxvid --enable-lzma --enable-libfontconfig --enable-libfreetype --enable-frei0r --enable-libass --enable-libopencore-amrnb --enable-libopencore-amrwb --enable-libopenjpeg --enable-libspeex --enable-libsoxr --enable-libzmq --enable-libzimg --disable-libjack --disable-indev=jack --enable-videotoolbox --enable-neon\n",
      "  libavutil      57. 28.100 / 57. 28.100\n",
      "  libavcodec     59. 37.100 / 59. 37.100\n",
      "  libavformat    59. 27.100 / 59. 27.100\n",
      "  libavdevice    59.  7.100 / 59.  7.100\n",
      "  libavfilter     8. 44.100 /  8. 44.100\n",
      "  libswscale      6.  7.100 /  6.  7.100\n",
      "  libswresample   4.  7.100 /  4.  7.100\n",
      "  libpostproc    56.  6.100 / 56.  6.100\n",
      "Input #0, mov,mp4,m4a,3gp,3g2,mj2, from '/Users/dmartins/Downloads/raster_animation_13_3_cmap_fixlen.mp4':\n",
      "  Metadata:\n",
      "    major_brand     : isom\n",
      "    minor_version   : 512\n",
      "    compatible_brands: isomiso2mp41\n",
      "    encoder         : Lavf58.45.100\n",
      "  Duration: 00:00:11.78, start: 0.000000, bitrate: 5562 kb/s\n",
      "  Stream #0:0[0x1](und): Video: mpeg4 (Simple Profile) (mp4v / 0x7634706D), yuv420p, 1800x1200 [SAR 1:1 DAR 3:2], 5561 kb/s, 15.96 fps, 15.96 tbr, 15957 tbn (default)\n",
      "    Metadata:\n",
      "      handler_name    : VideoHandler\n",
      "      vendor_id       : [0][0][0][0]\n",
      "Input #1, mp3, from '/Users/dmartins/Desktop/raster_audio_13_3.mp3':\n",
      "  Metadata:\n",
      "    encoder         : Lavf59.27.100\n",
      "  Duration: 00:00:12.02, start: 0.011021, bitrate: 320 kb/s\n",
      "  Stream #1:0: Audio: mp3, 48000 Hz, stereo, fltp, 320 kb/s\n",
      "    Metadata:\n",
      "      encoder         : Lavf\n",
      "Stream mapping:\n",
      "  Stream #0:0 -> #0:0 (copy)\n",
      "  Stream #1:0 -> #0:1 (mp3 (mp3float) -> aac (native))\n",
      "Press [q] to stop, [?] for help\n",
      "Output #0, mp4, to '/Users/dmartins/Desktop/VideoS1_081922_v2.mp4':\n",
      "  Metadata:\n",
      "    major_brand     : isom\n",
      "    minor_version   : 512\n",
      "    compatible_brands: isomiso2mp41\n",
      "    encoder         : Lavf59.27.100\n",
      "  Stream #0:0(und): Video: mpeg4 (Simple Profile) (mp4v / 0x7634706D), yuv420p, 1800x1200 [SAR 1:1 DAR 3:2], q=2-31, 5561 kb/s, 15.96 fps, 15.96 tbr, 15957 tbn (default)\n",
      "    Metadata:\n",
      "      handler_name    : VideoHandler\n",
      "      vendor_id       : [0][0][0][0]\n",
      "  Stream #0:1: Audio: aac (LC) (mp4a / 0x6134706D), 48000 Hz, stereo, fltp, 128 kb/s\n",
      "    Metadata:\n",
      "      encoder         : Lavc59.37.100 aac\n",
      "frame=  188 fps=0.0 q=-1.0 Lsize=    8195kB time=00:00:12.03 bitrate=5579.8kbits/s speed=55.4x    \n",
      "video:7999kB audio:190kB subtitle:0kB other streams:0kB global headers:0kB muxing overhead: 0.075438%\n",
      "[aac @ 0x159804080] Qavg: 797.940\n"
     ]
    },
    {
     "data": {
      "text/plain": [
       "0"
      ]
     },
     "execution_count": 25,
     "metadata": {},
     "output_type": "execute_result"
    }
   ],
   "source": [
    "# merge_mp4_path_0 = '/Users/dmartins/Desktop/Freely_moving_gaze_shift_demo_spikes_only.mp4'\n",
    "merge_mp4_path_1 = '/Users/dmartins/Desktop/VideoS1_081922_v2.mp4'\n",
    "\n",
    "video_path = '/Users/dmartins/Downloads/raster_animation_13_3_cmap_fixlen.mp4'\n",
    "audio_path = '/Users/dmartins/Desktop/raster_audio_13_3.mp3'\n",
    "# sacc_wav_path = '/Users/dmartins/Desktop/sacc_high.wav'\n",
    "# spike_wav_path = '/Users/dmartins/Desktop/spikes_byFr.wav'\n",
    "\n",
    "subprocess.call(['ffmpeg', '-i', video_path, '-i', audio_path, '-c:v', 'copy', '-c:a', 'aac', '-y', merge_mp4_path_1])\n",
    "# subprocess.call(['ffmpeg', '-i', merge_mp4_path_0, '-i', sacc_wav_path, '-c:v', 'copy', '-c:a', 'aac', '-y', merge_mp4_path_1])"
   ]
  },
  {
   "cell_type": "markdown",
   "id": "4898a9ca-ca9f-4f34-82b6-d060a8a8a0de",
   "metadata": {},
   "source": [
    "# Trim audio file"
   ]
  },
  {
   "cell_type": "code",
   "execution_count": 18,
   "id": "c413b00e-cc0e-4c3b-9c7a-d04d1e16d0e8",
   "metadata": {},
   "outputs": [
    {
     "name": "stderr",
     "output_type": "stream",
     "text": [
      "ffmpeg version 5.1 Copyright (c) 2000-2022 the FFmpeg developers\n",
      "  built with Apple clang version 13.1.6 (clang-1316.0.21.2.5)\n",
      "  configuration: --prefix=/opt/homebrew/Cellar/ffmpeg/5.1 --enable-shared --enable-pthreads --enable-version3 --cc=clang --host-cflags= --host-ldflags= --enable-ffplay --enable-gnutls --enable-gpl --enable-libaom --enable-libbluray --enable-libdav1d --enable-libmp3lame --enable-libopus --enable-librav1e --enable-librist --enable-librubberband --enable-libsnappy --enable-libsrt --enable-libtesseract --enable-libtheora --enable-libvidstab --enable-libvmaf --enable-libvorbis --enable-libvpx --enable-libwebp --enable-libx264 --enable-libx265 --enable-libxml2 --enable-libxvid --enable-lzma --enable-libfontconfig --enable-libfreetype --enable-frei0r --enable-libass --enable-libopencore-amrnb --enable-libopencore-amrwb --enable-libopenjpeg --enable-libspeex --enable-libsoxr --enable-libzmq --enable-libzimg --disable-libjack --disable-indev=jack --enable-videotoolbox --enable-neon\n",
      "  libavutil      57. 28.100 / 57. 28.100\n",
      "  libavcodec     59. 37.100 / 59. 37.100\n",
      "  libavformat    59. 27.100 / 59. 27.100\n",
      "  libavdevice    59.  7.100 / 59.  7.100\n",
      "  libavfilter     8. 44.100 /  8. 44.100\n",
      "  libswscale      6.  7.100 /  6.  7.100\n",
      "  libswresample   4.  7.100 /  4.  7.100\n",
      "  libpostproc    56.  6.100 / 56.  6.100\n",
      "[mp3 @ 0x1237043d0] Estimating duration from bitrate, this may be inaccurate\n",
      "Input #0, mp3, from '/Users/dmartins/Downloads/phil_test21_4Xrim808.mp3':\n",
      "  Duration: 00:04:00.00, start: 0.000000, bitrate: 320 kb/s\n",
      "  Stream #0:0: Audio: mp3, 48000 Hz, stereo, fltp, 320 kb/s\n",
      "Output #0, mp3, to '/Users/dmartins/Desktop/raster_audio_13_3_v4.mp3':\n",
      "  Metadata:\n",
      "    TSSE            : Lavf59.27.100\n",
      "  Stream #0:0: Audio: mp3, 48000 Hz, stereo, fltp, 320 kb/s\n",
      "Stream mapping:\n",
      "  Stream #0:0 -> #0:0 (copy)\n",
      "Press [q] to stop, [?] for help\n",
      "size=     431kB time=00:00:11.00 bitrate= 321.2kbits/s speed=6.32e+03x    \n",
      "video:0kB audio:430kB subtitle:0kB other streams:0kB global headers:0kB muxing overhead: 0.228077%\n"
     ]
    },
    {
     "data": {
      "text/plain": [
       "0"
      ]
     },
     "execution_count": 18,
     "metadata": {},
     "output_type": "execute_result"
    }
   ],
   "source": [
    "audio_path = '/Users/dmartins/Downloads/phil_test21_4Xrim808.mp3'\n",
    "\n",
    "trim_save = '/Users/dmartins/Desktop/raster_audio_13_3_v4.mp3'\n",
    "\n",
    "# start at 52sec, lasts for 12sec (13sec for 3 sec in real-time)\n",
    "subprocess.call(['ffmpeg', '-ss', '52', '-t', '12', '-i', audio_path, '-acodec', 'copy', trim_save])\n"
   ]
  },
  {
   "cell_type": "code",
   "execution_count": null,
   "id": "7398a6a7-abce-4eb4-94ff-28746e60f64b",
   "metadata": {},
   "outputs": [],
   "source": []
  },
  {
   "cell_type": "code",
   "execution_count": null,
   "id": "59a0e472-edb4-4c44-8c79-3320ca8ff033",
   "metadata": {},
   "outputs": [],
   "source": []
  },
  {
   "cell_type": "code",
   "execution_count": null,
   "id": "1dc0988b-55ac-41a2-be1b-2c1cc8c3c44f",
   "metadata": {},
   "outputs": [],
   "source": []
  },
  {
   "cell_type": "code",
   "execution_count": 205,
   "id": "89029c99-b23b-4199-8b7c-d82763aeee69",
   "metadata": {},
   "outputs": [
    {
     "data": {
      "text/plain": [
       "[<matplotlib.lines.Line2D at 0x7faee90cc550>]"
      ]
     },
     "execution_count": 205,
     "metadata": {},
     "output_type": "execute_result"
    },
    {
     "data": {
      "image/png": "[encoded data removed]",
      "text/plain": [
       "<Figure size 432x288 with 1 Axes>"
      ]
     },
     "metadata": {
      "needs_background": "light"
     },
     "output_type": "display_data"
    }
   ],
   "source": [
    "plt.plot(sound[:1000])"
   ]
  },
  {
   "cell_type": "code",
   "execution_count": 196,
   "id": "31de1f6e-ab67-4735-b2eb-e9be9a2396c9",
   "metadata": {},
   "outputs": [],
   "source": []
  },
  {
   "cell_type": "code",
   "execution_count": 197,
   "id": "576b565a-8630-4e55-99b3-498b66a02766",
   "metadata": {},
   "outputs": [],
   "source": []
  },
  {
   "cell_type": "code",
   "execution_count": null,
   "id": "30e38dc7-25ac-47d7-9332-cab2e4869149",
   "metadata": {},
   "outputs": [],
   "source": []
  },
  {
   "cell_type": "code",
   "execution_count": 100,
   "id": "f1531b4b-b356-47b1-b3d0-fce5cbb572fd",
   "metadata": {},
   "outputs": [
    {
     "data": {
      "text/plain": [
       "44100"
      ]
     },
     "execution_count": 100,
     "metadata": {},
     "output_type": "execute_result"
    }
   ],
   "source": [
    "int(framerate)"
   ]
  },
  {
   "cell_type": "code",
   "execution_count": 98,
   "id": "7afc386d-9a20-4692-8669-3ceca8241e5a",
   "metadata": {},
   "outputs": [
    {
     "data": {
      "text/plain": [
       "[<matplotlib.lines.Line2D at 0x7fb6eb5c6c70>]"
      ]
     },
     "execution_count": 98,
     "metadata": {},
     "output_type": "execute_result"
    },
    {
     "data": {
      "image/png": "[encoded data removed]",
      "text/plain": [
       "<Figure size 432x288 with 1 Axes>"
      ]
     },
     "metadata": {
      "needs_background": "light"
     },
     "output_type": "display_data"
    }
   ],
   "source": [
    "plt.plot(sound)"
   ]
  },
  {
   "cell_type": "markdown",
   "id": "93dbe253-fe36-4e01-b425-6dfcd9a5bc77",
   "metadata": {
    "tags": []
   },
   "source": [
    "# testing on individual cells"
   ]
  },
  {
   "cell_type": "code",
   "execution_count": 85,
   "id": "9cad442f-703c-43bf-9c26-72e6c614b8ff",
   "metadata": {},
   "outputs": [],
   "source": [
    "framerate = 30000\n",
    "tlen = 3 # sec\n",
    "t = np.linspace(0, tlen, int(tlen*framerate), endpoint=True)\n",
    "sp_len = int(framerate*(30/1000)) # play each spike sound for 30 ms\n",
    "tone_t = np.arange(0, sp_len)\n",
    "\n",
    "ind = 96\n",
    "sps = spikeT[str(ind)]\n",
    "    \n",
    "n = 100 - int(ind)\n",
    "freq = note_to_freq(int((int(n)+1)/2))\n",
    "\n",
    "tone = np.sin(2*np.pi * freq * tone_t)\n",
    "\n",
    "x = np.zeros(np.size(t))\n",
    "\n",
    "for sp in sps:\n",
    "    t_on = int(sp*framerate)\n",
    "    t_off = int((sp*framerate)+sp_len)\n",
    "    x[t_on:t_off] = tone"
   ]
  },
  {
   "cell_type": "code",
   "execution_count": 86,
   "id": "c5096e9a-e864-4bb7-8afe-903f5f8f11f9",
   "metadata": {},
   "outputs": [],
   "source": [
    "fname = '/Users/dmartins/Desktop/audio_test_96.wav'\n",
    "wav_file = wave.open(fname, \"w\")\n",
    "\n",
    "nchannels = 1#len(spikeT.keys())\n",
    "sampwidth = 2\n",
    "nframes = np.size(t)\n",
    "comptype = \"NONE\"\n",
    "compname = \"not compressed\"\n",
    "\n",
    "wav_file.setparams((nchannels, sampwidth, int(framerate/4), nframes, comptype, compname))\n",
    "\n",
    "s = x\n",
    "# increase so it ranges from min:max of int16 dtype\n",
    "s = np.array(s)*np.iinfo(np.int16).max\n",
    "# write the audio frames to file\n",
    "wav_file.writeframes(s.astype(np.int16))\n",
    "# int(s*amp/2)))\n",
    "\n",
    "wav_file.close()"
   ]
  },
  {
   "cell_type": "code",
   "execution_count": 87,
   "id": "31f401d2-7df7-42af-96db-72c9a80feb8b",
   "metadata": {},
   "outputs": [
    {
     "name": "stderr",
     "output_type": "stream",
     "text": [
      "/Users/dmartins/opt/anaconda3/envs/ephys0r/lib/python3.8/site-packages/pydub/utils.py:170: RuntimeWarning: Couldn't find ffmpeg or avconv - defaulting to ffmpeg, but may not work\n",
      "  warn(\"Couldn't find ffmpeg or avconv - defaulting to ffmpeg, but may not work\", RuntimeWarning)\n"
     ]
    }
   ],
   "source": []
  },
  {
   "cell_type": "code",
   "execution_count": null,
   "id": "d4ab6086-d931-452c-95df-38d23bcdd840",
   "metadata": {},
   "outputs": [],
   "source": []
  },
  {
   "cell_type": "code",
   "execution_count": 46,
   "id": "813f8a5e-b547-4753-aba1-74d1178e5746",
   "metadata": {},
   "outputs": [
    {
     "data": {
      "text/plain": [
       "32767"
      ]
     },
     "execution_count": 46,
     "metadata": {},
     "output_type": "execute_result"
    }
   ],
   "source": [
    "np.iinfo(np.int16).max"
   ]
  },
  {
   "cell_type": "code",
   "execution_count": 45,
   "id": "d45c2969-a4be-4fe3-8b23-bf56ef423fed",
   "metadata": {},
   "outputs": [
    {
     "data": {
      "text/plain": [
       "[<matplotlib.lines.Line2D at 0x7fb6d03286a0>]"
      ]
     },
     "execution_count": 45,
     "metadata": {},
     "output_type": "execute_result"
    },
    {
     "data": {
      "image/png": "[encoded data removed]",
      "text/plain": [
       "<Figure size 432x288 with 1 Axes>"
      ]
     },
     "metadata": {
      "needs_background": "light"
     },
     "output_type": "display_data"
    }
   ],
   "source": [
    "plt.plot()"
   ]
  },
  {
   "cell_type": "code",
   "execution_count": 48,
   "id": "74704611-c493-4a03-b444-86f35b135b37",
   "metadata": {},
   "outputs": [],
   "source": [
    "rate = 44100\n",
    "tlen = 3\n",
    "t = np.linspace(0, tlen, int(tlen*rate), endpoint=True)\n",
    "data = np.zeros([np.size(t), len(spikeT.keys())])\n",
    "\n",
    "for ind, sps in spikeT.items():\n",
    "    \n",
    "    n = int(ind) + 20\n",
    "    freq = note_to_freq(int((int(n)+1)/2))\n",
    "    \n",
    "    x = np.sin(2*np.pi * freq * t)\n",
    "    # x = x * (2**15)\n",
    "    \n",
    "    for sp in sps:\n",
    "        t_on = int(sp*rate)\n",
    "        t_off = int((sp*rate)+1000)\n",
    "    \n",
    "        data[t_on:t_off,int(ind)] = x[t_on:t_off]\n",
    "\n",
    "savepath = '/Users/dmartins/Desktop/audio_test_1.wav'\n",
    "write(savepath, int(rate/4), data)"
   ]
  },
  {
   "cell_type": "code",
   "execution_count": 46,
   "id": "764953da-40fc-41f9-bf8d-890917f2e1f0",
   "metadata": {},
   "outputs": [
    {
     "data": {
      "text/plain": [
       "<matplotlib.image.AxesImage at 0x7f9b099ce340>"
      ]
     },
     "execution_count": 46,
     "metadata": {},
     "output_type": "execute_result"
    },
    {
     "data": {
      "image/png": "[encoded data removed]",
      "text/plain": [
       "<Figure size 720x720 with 1 Axes>"
      ]
     },
     "metadata": {
      "needs_background": "light"
     },
     "output_type": "display_data"
    }
   ],
   "source": [
    "plt.figure(figsize=(10,10))\n",
    "plt.imshow(data, aspect=0.0001)"
   ]
  },
  {
   "cell_type": "code",
   "execution_count": 30,
   "id": "7de09072-7ab5-413c-a161-695729496d1d",
   "metadata": {},
   "outputs": [
    {
     "data": {
      "text/plain": [
       "(2000.0, 3000.0)"
      ]
     },
     "execution_count": 30,
     "metadata": {},
     "output_type": "execute_result"
    },
    {
     "data": {
      "image/png": "[encoded data removed]",
      "text/plain": [
       "<Figure size 432x288 with 1 Axes>"
      ]
     },
     "metadata": {
      "needs_background": "light"
     },
     "output_type": "display_data"
    }
   ],
   "source": [
    "plt.plot(data[:,50]*(2**15))\n",
    "plt.xlim([2000,3000])"
   ]
  },
  {
   "cell_type": "code",
   "execution_count": 12,
   "id": "5d51c6fe-52d5-4de7-8f9a-573f73b7d702",
   "metadata": {},
   "outputs": [
    {
     "data": {
      "text/plain": [
       "(132300, 99)"
      ]
     },
     "execution_count": 12,
     "metadata": {},
     "output_type": "execute_result"
    }
   ],
   "source": [
    "data.shape"
   ]
  },
  {
   "cell_type": "code",
   "execution_count": 11,
   "id": "9bfdf3bb-96b7-4dcb-adea-a5d8eb96843e",
   "metadata": {},
   "outputs": [
    {
     "data": {
      "text/plain": [
       "(132300,)"
      ]
     },
     "execution_count": 11,
     "metadata": {},
     "output_type": "execute_result"
    }
   ],
   "source": [
    "x.shape"
   ]
  },
  {
   "cell_type": "code",
   "execution_count": 25,
   "id": "9785c696-7302-4ddd-9648-2875f427b6b3",
   "metadata": {},
   "outputs": [
    {
     "data": {
      "text/plain": [
       "89320"
      ]
     },
     "execution_count": 25,
     "metadata": {},
     "output_type": "execute_result"
    }
   ],
   "source": [
    "int(sp*rate)"
   ]
  },
  {
   "cell_type": "code",
   "execution_count": 26,
   "id": "ef00f162-4f79-4a6c-b68a-dc003a053f10",
   "metadata": {},
   "outputs": [
    {
     "data": {
      "text/plain": [
       "89350"
      ]
     },
     "execution_count": 26,
     "metadata": {},
     "output_type": "execute_result"
    }
   ],
   "source": [
    "int((sp*rate)+30)"
   ]
  },
  {
   "cell_type": "code",
   "execution_count": 15,
   "id": "b6e92ae3-00e0-4604-88f3-0da0c15844db",
   "metadata": {},
   "outputs": [
    {
     "data": {
      "text/plain": [
       "65535"
      ]
     },
     "execution_count": 15,
     "metadata": {},
     "output_type": "execute_result"
    }
   ],
   "source": [
    "32767 *2 +1"
   ]
  },
  {
   "cell_type": "code",
   "execution_count": 7,
   "id": "e4e45907-2e24-4e09-a5f5-3c2103abba6a",
   "metadata": {},
   "outputs": [
    {
     "data": {
      "text/plain": [
       "(0.0, 100.0)"
      ]
     },
     "execution_count": 7,
     "metadata": {},
     "output_type": "execute_result"
    },
    {
     "data": {
      "image/png": "[encoded data removed]",
      "text/plain": [
       "<Figure size 432x288 with 1 Axes>"
      ]
     },
     "metadata": {
      "needs_background": "light"
     },
     "output_type": "display_data"
    }
   ],
   "source": [
    "f = 400\n",
    "rate = 30000\n",
    "tlen = 3\n",
    "t = np.linspace(0, tlen, int(tlen*rate), endpoint=True)\n",
    "plt.plot(np.sin(2*np.pi * 400 * t))\n",
    "plt.plot(np.sin(2*np.pi * 400 * t))\n",
    "plt.xlim([0,100])"
   ]
  },
  {
   "cell_type": "code",
   "execution_count": 122,
   "id": "b84741e4-963f-4497-9320-62486b06046c",
   "metadata": {},
   "outputs": [
    {
     "data": {
      "text/plain": [
       "numpy.ndarray"
      ]
     },
     "execution_count": 122,
     "metadata": {},
     "output_type": "execute_result"
    }
   ],
   "source": [
    "type(freqrange"
   ]
  },
  {
   "cell_type": "code",
   "execution_count": null,
   "id": "c36167f0-8e72-47ae-a1d3-3b80027e9c6e",
   "metadata": {},
   "outputs": [],
   "source": []
  }
 ],
 "metadata": {
  "kernelspec": {
   "display_name": "ephys0r",
   "language": "python",
   "name": "ephys0r"
  },
  "language_info": {
   "codemirror_mode": {
    "name": "ipython",
    "version": 3
   },
   "file_extension": ".py",
   "mimetype": "text/x-python",
   "name": "python",
   "nbconvert_exporter": "python",
   "pygments_lexer": "ipython3",
   "version": "3.8.13"
  }
 },
 "nbformat": 4,
 "nbformat_minor": 5
}
