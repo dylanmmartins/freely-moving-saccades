{
 "cells": [
  {
   "cell_type": "code",
   "execution_count": 1,
   "metadata": {},
   "outputs": [],
   "source": [
    "import os, sys\n",
    "sys.path.insert(0, '/home/niell_lab/Documents/github/FreelyMovingEphys-dmm/')\n",
    "from projects.ephys.optic_flow import OpticFlow"
   ]
  },
  {
   "cell_type": "code",
   "execution_count": 2,
   "metadata": {},
   "outputs": [],
   "source": [
    "base_path = '/home/niell_lab/Goeppert/nlab-nas/Dylan/freely_moving_ephys/ephys_recordings/'\n",
    "recordings = ['122021/J581RT/fm1','110421/J569LT/fm1','102821/J570LT/fm1','101521/J559NC/fm1','070921/J553RT/fm1']"
   ]
  },
  {
   "cell_type": "code",
   "execution_count": 3,
   "metadata": {},
   "outputs": [
    {
     "name": "stdout",
     "output_type": "stream",
     "text": [
      "122021/J581RT/fm1\n",
      "calculating optic flow\n"
     ]
    },
    {
     "name": "stderr",
     "output_type": "stream",
     "text": [
      "100%|█████████████████████████████████| 109222/109222 [01:12<00:00, 1500.16it/s]\n"
     ]
    },
    {
     "name": "stdout",
     "output_type": "stream",
     "text": [
      "full\n",
      "active_gyro\n",
      "inactive_gyro\n",
      "running_forward\n",
      "running_backward\n",
      "fine_motion\n",
      "immobile\n",
      "saving\n",
      "110421/J569LT/fm1\n",
      "calculating optic flow\n"
     ]
    },
    {
     "name": "stderr",
     "output_type": "stream",
     "text": [
      "100%|█████████████████████████████████| 112994/112994 [01:17<00:00, 1456.80it/s]\n"
     ]
    },
    {
     "name": "stdout",
     "output_type": "stream",
     "text": [
      "full\n",
      "active_gyro\n",
      "inactive_gyro\n",
      "running_forward\n",
      "running_backward\n",
      "fine_motion\n",
      "immobile\n",
      "saving\n",
      "102821/J570LT/fm1\n",
      "calculating optic flow\n"
     ]
    },
    {
     "name": "stderr",
     "output_type": "stream",
     "text": [
      "100%|█████████████████████████████████| 145453/145453 [01:41<00:00, 1433.31it/s]\n"
     ]
    },
    {
     "name": "stdout",
     "output_type": "stream",
     "text": [
      "full\n",
      "active_gyro\n",
      "inactive_gyro\n",
      "running_forward\n",
      "running_backward\n",
      "fine_motion\n",
      "immobile\n",
      "saving\n",
      "101521/J559NC/fm1\n",
      "calculating optic flow\n"
     ]
    },
    {
     "name": "stderr",
     "output_type": "stream",
     "text": [
      "100%|█████████████████████████████████| 145459/145459 [01:40<00:00, 1442.68it/s]\n"
     ]
    },
    {
     "name": "stdout",
     "output_type": "stream",
     "text": [
      "full\n",
      "active_gyro\n",
      "inactive_gyro\n",
      "running_forward\n",
      "running_backward\n",
      "fine_motion\n",
      "immobile\n",
      "saving\n",
      "070921/J553RT/fm1\n",
      "calculating optic flow\n"
     ]
    },
    {
     "name": "stderr",
     "output_type": "stream",
     "text": [
      "100%|█████████████████████████████████| 108704/108704 [01:12<00:00, 1490.38it/s]\n"
     ]
    },
    {
     "name": "stdout",
     "output_type": "stream",
     "text": [
      "full\n",
      "active_gyro\n",
      "inactive_gyro\n",
      "running_forward\n",
      "running_backward\n",
      "fine_motion\n",
      "immobile\n",
      "saving\n"
     ]
    }
   ],
   "source": [
    "for i, r in enumerate(recordings):\n",
    "    print(r)\n",
    "    recpath = os.path.join(base_path, r)\n",
    "    of = OpticFlow(recpath)\n",
    "    of.calc_optic_flow()"
   ]
  },
  {
   "cell_type": "code",
   "execution_count": null,
   "metadata": {},
   "outputs": [],
   "source": []
  }
 ],
 "metadata": {
  "kernelspec": {
   "display_name": "Python [conda env:ephys1-gpu]",
   "language": "python",
   "name": "conda-env-ephys1-gpu-py"
  },
  "language_info": {
   "codemirror_mode": {
    "name": "ipython",
    "version": 3
   },
   "file_extension": ".py",
   "mimetype": "text/x-python",
   "name": "python",
   "nbconvert_exporter": "python",
   "pygments_lexer": "ipython3",
   "version": "3.8.12"
  }
 },
 "nbformat": 4,
 "nbformat_minor": 4
}
