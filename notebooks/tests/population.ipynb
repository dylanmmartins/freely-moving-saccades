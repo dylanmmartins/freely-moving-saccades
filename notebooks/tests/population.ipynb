{
 "cells": [
  {
   "cell_type": "code",
   "execution_count": 1,
   "metadata": {},
   "outputs": [],
   "source": [
    "import sys\n",
    "sys.path.insert(0, '/home/niell_lab/Documents/github/FreelyMovingEphys/')\n",
    "from projects.ephys.population import Population\n",
    "import pandas as pd\n",
    "from src.utils.path import find\n",
    "from src.utils.auxiliary import flatten_series\n",
    "import numpy as np\n",
    "import matplotlib.pyplot as plt"
   ]
  },
  {
   "cell_type": "code",
   "execution_count": null,
   "metadata": {},
   "outputs": [],
   "source": [
    "hffm = Population(savepath='/home/niell_lab/data/freely_moving_ephys/batch_files/021022/hffm')\n",
    "hffm.load(fname='hffm_pop1')\n",
    "hffm.exptype = 'hffm'"
   ]
  },
  {
   "cell_type": "code",
   "execution_count": 2,
   "metadata": {},
   "outputs": [
    {
     "name": "stdout",
     "output_type": "stream",
     "text": [
      "reading from /home/niell_lab/data/freely_moving_ephys/batch_files/021022/ltdk/ltdk_pop.pickle\n"
     ]
    }
   ],
   "source": [
    "ltdk = Population(savepath='/home/niell_lab/data/freely_moving_ephys/batch_files/021022/ltdk')\n",
    "ltdk.load(fname='ltdk_pop')\n",
    "ltdk.exptype = 'ltdk'"
   ]
  },
  {
   "cell_type": "code",
   "execution_count": 3,
   "metadata": {},
   "outputs": [
    {
     "name": "stdout",
     "output_type": "stream",
     "text": [
      "clustering by waveform\n",
      "movement tuning\n",
      "dEye clustering\n"
     ]
    }
   ],
   "source": [
    "ltdk.summarize_population()"
   ]
  },
  {
   "cell_type": "code",
   "execution_count": 4,
   "metadata": {},
   "outputs": [
    {
     "name": "stdout",
     "output_type": "stream",
     "text": [
      "saving to /home/niell_lab/data/freely_moving_ephys/batch_files/021022/ltdk/ltdk_pop1.pickle\n"
     ]
    }
   ],
   "source": [
    "ltdk.save(fname='ltdk_pop1')"
   ]
  },
  {
   "cell_type": "markdown",
   "metadata": {},
   "source": [
    "# Gather or load data"
   ]
  },
  {
   "cell_type": "code",
   "execution_count": null,
   "metadata": {},
   "outputs": [],
   "source": [
    "# gather\n",
    "savepath = '/home/niell_lab/data/freely_moving_ephys/batch_files/021022'\n",
    "metadata_path = '/home/niell_lab/data/freely_moving_ephys/batch_files/021022/local_V1_data.csv'\n",
    "pop = Population(savepath=savepath, metadata_path=metadata_path)\n",
    "pop.gather_data()\n",
    "pop.data['index'] = pop.data.index.values\n",
    "pop.data.reset_index(inplace=True)\n",
    "pop.save(fname='raw')"
   ]
  },
  {
   "cell_type": "code",
   "execution_count": null,
   "metadata": {},
   "outputs": [],
   "source": [
    "# or, load in existing pickle file\n",
    "savepath = '/home/niell_lab/data/freely_moving_ephys/batch_files/021022'\n",
    "pop = Population(savepath=savepath)\n",
    "pop.load(fname='raw')"
   ]
  },
  {
   "cell_type": "markdown",
   "metadata": {},
   "source": [
    "# Edit laminar depths, add optic flow data"
   ]
  },
  {
   "cell_type": "code",
   "execution_count": null,
   "metadata": {},
   "outputs": [],
   "source": [
    "def grab_depth(sess):\n",
    "    depth = pop.data['Wn_layer5cent_from_lfp'][pop.data['session']==sess].iloc[0]\n",
    "    return depth"
   ]
  },
  {
   "cell_type": "code",
   "execution_count": null,
   "metadata": {},
   "outputs": [],
   "source": [
    "# light/dark recordings don't have depth calculated from MUA\n",
    "# instead, use the depth from the previous day's recording\n",
    "# (the drive is not moved between days)\n",
    "session_depths = {\n",
    "    '100821_J559TT_control_Rig2': [16,16,16,16],\n",
    "    '100921_J559RT_control_Rig2': [30,30,30,29],\n",
    "    '101621_J559NC_control_Rig2': grab_depth('101521_J559NC_control_Rig2'),\n",
    "    '102721_J558NC_control_Rig2': grab_depth('102621_J558NC_control_Rig2'),\n",
    "    '110421_J558LT_control_Rig2': grab_depth('110321_J558LT_control_Rig2'),\n",
    "    '110521_J569LT_control_Rig2': grab_depth('110421_J569LT_control_Rig2'),\n",
    "    '020322_J577TT_control_Rig2': grab_depth('020222_J577TT_control_Rig2'),\n",
    "    '020522_J577RT_control_Rig2': grab_depth('020422_J577RT_control_Rig2')\n",
    "}\n",
    "for key, val in session_depths.items():\n",
    "    for ind in pop.data[pop.data['session']==key].index.values:\n",
    "        pop.data.at[ind, 'Wn_layer5cent_from_lfp'] = val"
   ]
  },
  {
   "cell_type": "code",
   "execution_count": 4,
   "metadata": {},
   "outputs": [
    {
     "name": "stdout",
     "output_type": "stream",
     "text": [
      "reading /home/niell_lab/Goeppert/nlab-nas/Dylan/freely_moving_ephys/ephys_recordings/070921/J553RT/fm1/fm1_optic_flow.npz\n",
      "reading /home/niell_lab/Goeppert/nlab-nas/Dylan/freely_moving_ephys/ephys_recordings/101521/J559NC/fm1/fm1_optic_flow.npz\n",
      "reading /home/niell_lab/Goeppert/nlab-nas/Dylan/freely_moving_ephys/ephys_recordings/102821/J570LT/fm1/fm1_optic_flow.npz\n",
      "reading /home/niell_lab/Goeppert/nlab-nas/Dylan/freely_moving_ephys/ephys_recordings/110421/J569LT/fm1/fm1_optic_flow.npz\n",
      "reading /home/niell_lab/Goeppert/nlab-nas/Dylan/freely_moving_ephys/ephys_recordings/122021/J581RT/fm1/fm1_optic_flow.npz\n"
     ]
    }
   ],
   "source": [
    "pop.add_available_optic_flow_data()"
   ]
  },
  {
   "cell_type": "code",
   "execution_count": 6,
   "metadata": {},
   "outputs": [
    {
     "name": "stdout",
     "output_type": "stream",
     "text": [
      "saving to /home/niell_lab/data/freely_moving_ephys/batch_files/020722/population_add_opticflow.pickle\n"
     ]
    }
   ],
   "source": [
    "pop.save(fname='all')"
   ]
  },
  {
   "cell_type": "code",
   "execution_count": null,
   "metadata": {},
   "outputs": [],
   "source": [
    "pop.summarize_sessions()"
   ]
  },
  {
   "cell_type": "markdown",
   "metadata": {},
   "source": [
    "# HF/FM units\n",
    "Before running this section, copy the file 'all.pickle' we just wrote, and put it in a new directory so that we can create a new instance of the Population object for only head-fixed / freely moving data."
   ]
  },
  {
   "cell_type": "code",
   "execution_count": null,
   "metadata": {},
   "outputs": [],
   "source": [
    "savepath = '/home/niell_lab/data/freely_moving_ephys/batch_files/021022_hffm'\n",
    "pop = Population(savepath=savepath)\n",
    "pop.load(fname='all')"
   ]
  },
  {
   "cell_type": "code",
   "execution_count": null,
   "metadata": {},
   "outputs": [],
   "source": [
    "pop.set_experiment('hffm')\n",
    "pop.save(fname='hffm')"
   ]
  },
  {
   "cell_type": "code",
   "execution_count": null,
   "metadata": {},
   "outputs": [],
   "source": [
    "pop.summarize_units()\n",
    "pop.save(fname='hffm_units')"
   ]
  },
  {
   "cell_type": "code",
   "execution_count": null,
   "metadata": {},
   "outputs": [],
   "source": [
    "pop.summarize_population()\n",
    "pop.save(fname='hffm_pop')"
   ]
  },
  {
   "cell_type": "markdown",
   "metadata": {},
   "source": [
    "# LT/DK units\n",
    "Again, copy the 'all.pickle' file to a new directory so that we can just look at the freely moving light / dark data."
   ]
  },
  {
   "cell_type": "code",
   "execution_count": null,
   "metadata": {},
   "outputs": [],
   "source": [
    "savepath = '/home/niell_lab/data/freely_moving_ephys/batch_files/021022_ltdk'\n",
    "pop = Population(savepath=savepath)\n",
    "pop.load(fname='all')"
   ]
  },
  {
   "cell_type": "code",
   "execution_count": null,
   "metadata": {},
   "outputs": [],
   "source": [
    "pop.set_experiment('ltdk')\n",
    "pop.save(fname='ltdk')"
   ]
  },
  {
   "cell_type": "code",
   "execution_count": null,
   "metadata": {},
   "outputs": [],
   "source": [
    "pop.summarize_units()\n",
    "pop.save(fname='ltdk_units')"
   ]
  },
  {
   "cell_type": "code",
   "execution_count": null,
   "metadata": {},
   "outputs": [],
   "source": [
    "pop.summarize_population()\n",
    "pop.save(fname='ltdk_pop')"
   ]
  }
 ],
 "metadata": {
  "kernelspec": {
   "display_name": "Python [conda env:ephys0]",
   "language": "python",
   "name": "conda-env-ephys0-py"
  },
  "language_info": {
   "codemirror_mode": {
    "name": "ipython",
    "version": 3
   },
   "file_extension": ".py",
   "mimetype": "text/x-python",
   "name": "python",
   "nbconvert_exporter": "python",
   "pygments_lexer": "ipython3",
   "version": "3.8.12"
  }
 },
 "nbformat": 4,
 "nbformat_minor": 4
}
