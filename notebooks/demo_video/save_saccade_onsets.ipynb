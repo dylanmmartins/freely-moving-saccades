{
 "cells": [
  {
   "cell_type": "code",
   "execution_count": 1,
   "id": "ed4d79ca-59fa-47c9-9214-6e3d85740c48",
   "metadata": {},
   "outputs": [],
   "source": [
    "import pandas as pd\n",
    "import numpy as np"
   ]
  },
  {
   "cell_type": "code",
   "execution_count": 2,
   "id": "3129d6eb-8ce9-416d-b5d4-2ed098c8745c",
   "metadata": {},
   "outputs": [],
   "source": [
    "hffm = pd.read_pickle('/home/niell_lab/Data/freely_moving_ephys/batch_files/062022/hffm_062022_gt.pickle')"
   ]
  },
  {
   "cell_type": "code",
   "execution_count": 4,
   "id": "16f558c3-0cd8-4a25-868d-81430e647903",
   "metadata": {},
   "outputs": [
    {
     "name": "stderr",
     "output_type": "stream",
     "text": [
      "/tmp/ipykernel_946102/1186467121.py:1: PerformanceWarning: \n",
      "your performance may suffer as PyTables will pickle object types that it cannot\n",
      "map directly to c-types [inferred_type->mixed-integer,key->block3_values] [items->Index(['KSLabel', 'group', 'waveform', 'FmLt_spikeT', 'FmLt_spikeTraw',\n",
      "       'FmLt_rate', 'FmLt_contrast_tuning_bins', 'FmLt_contrast_tuning',\n",
      "       'FmLt_contrast_tuning_err', 'FmLt_spike_triggered_average',\n",
      "       ...\n",
      "       'FmLt_comp_left_saccPSTH_dHead1', 'FmLt_comp_left_saccTimes_dHead1',\n",
      "       'FmLt_comp_right_saccPSTH_dHead1', 'FmLt_comp_right_saccTimes_dHead1',\n",
      "       'pref_gazeshift_psth_raw', 'nonpref_gazeshift_psth_raw',\n",
      "       'pref_comp_psth_raw', 'nonpref_comp_psth_raw',\n",
      "       'pref_gazeshift_psth_for_kmeans', 'Gt_kde_psth'],\n",
      "      dtype='object', length=319)]\n",
      "\n",
      "  hffm.to_hdf('/home/niell_lab/Desktop/freely_moving_saccades.h5', key='hffm', mode='w')\n"
     ]
    },
    {
     "ename": "OverflowError",
     "evalue": "value too large to convert to int",
     "output_type": "error",
     "traceback": [
      "\u001b[0;31m---------------------------------------------------------------------------\u001b[0m",
      "\u001b[0;31mOverflowError\u001b[0m                             Traceback (most recent call last)",
      "Input \u001b[0;32mIn [4]\u001b[0m, in \u001b[0;36m<module>\u001b[0;34m\u001b[0m\n\u001b[0;32m----> 1\u001b[0m \u001b[43mhffm\u001b[49m\u001b[38;5;241;43m.\u001b[39;49m\u001b[43mto_hdf\u001b[49m\u001b[43m(\u001b[49m\u001b[38;5;124;43m'\u001b[39;49m\u001b[38;5;124;43m/home/niell_lab/Desktop/freely_moving_saccades.h5\u001b[39;49m\u001b[38;5;124;43m'\u001b[39;49m\u001b[43m,\u001b[49m\u001b[43m \u001b[49m\u001b[43mkey\u001b[49m\u001b[38;5;241;43m=\u001b[39;49m\u001b[38;5;124;43m'\u001b[39;49m\u001b[38;5;124;43mhffm\u001b[39;49m\u001b[38;5;124;43m'\u001b[39;49m\u001b[43m,\u001b[49m\u001b[43m \u001b[49m\u001b[43mmode\u001b[49m\u001b[38;5;241;43m=\u001b[39;49m\u001b[38;5;124;43m'\u001b[39;49m\u001b[38;5;124;43mw\u001b[39;49m\u001b[38;5;124;43m'\u001b[39;49m\u001b[43m)\u001b[49m\n",
      "File \u001b[0;32m~/anaconda3/envs/ephys0/lib/python3.8/site-packages/pandas/core/generic.py:2775\u001b[0m, in \u001b[0;36mNDFrame.to_hdf\u001b[0;34m(self, path_or_buf, key, mode, complevel, complib, append, format, index, min_itemsize, nan_rep, dropna, data_columns, errors, encoding)\u001b[0m\n\u001b[1;32m   2771\u001b[0m \u001b[38;5;28;01mfrom\u001b[39;00m \u001b[38;5;21;01mpandas\u001b[39;00m\u001b[38;5;21;01m.\u001b[39;00m\u001b[38;5;21;01mio\u001b[39;00m \u001b[38;5;28;01mimport\u001b[39;00m pytables\n\u001b[1;32m   2773\u001b[0m \u001b[38;5;66;03m# Argument 3 to \"to_hdf\" has incompatible type \"NDFrame\"; expected\u001b[39;00m\n\u001b[1;32m   2774\u001b[0m \u001b[38;5;66;03m# \"Union[DataFrame, Series]\" [arg-type]\u001b[39;00m\n\u001b[0;32m-> 2775\u001b[0m \u001b[43mpytables\u001b[49m\u001b[38;5;241;43m.\u001b[39;49m\u001b[43mto_hdf\u001b[49m\u001b[43m(\u001b[49m\n\u001b[1;32m   2776\u001b[0m \u001b[43m    \u001b[49m\u001b[43mpath_or_buf\u001b[49m\u001b[43m,\u001b[49m\n\u001b[1;32m   2777\u001b[0m \u001b[43m    \u001b[49m\u001b[43mkey\u001b[49m\u001b[43m,\u001b[49m\n\u001b[1;32m   2778\u001b[0m \u001b[43m    \u001b[49m\u001b[38;5;28;43mself\u001b[39;49m\u001b[43m,\u001b[49m\u001b[43m  \u001b[49m\u001b[38;5;66;43;03m# type: ignore[arg-type]\u001b[39;49;00m\n\u001b[1;32m   2779\u001b[0m \u001b[43m    \u001b[49m\u001b[43mmode\u001b[49m\u001b[38;5;241;43m=\u001b[39;49m\u001b[43mmode\u001b[49m\u001b[43m,\u001b[49m\n\u001b[1;32m   2780\u001b[0m \u001b[43m    \u001b[49m\u001b[43mcomplevel\u001b[49m\u001b[38;5;241;43m=\u001b[39;49m\u001b[43mcomplevel\u001b[49m\u001b[43m,\u001b[49m\n\u001b[1;32m   2781\u001b[0m \u001b[43m    \u001b[49m\u001b[43mcomplib\u001b[49m\u001b[38;5;241;43m=\u001b[39;49m\u001b[43mcomplib\u001b[49m\u001b[43m,\u001b[49m\n\u001b[1;32m   2782\u001b[0m \u001b[43m    \u001b[49m\u001b[43mappend\u001b[49m\u001b[38;5;241;43m=\u001b[39;49m\u001b[43mappend\u001b[49m\u001b[43m,\u001b[49m\n\u001b[1;32m   2783\u001b[0m \u001b[43m    \u001b[49m\u001b[38;5;28;43mformat\u001b[39;49m\u001b[38;5;241;43m=\u001b[39;49m\u001b[38;5;28;43mformat\u001b[39;49m\u001b[43m,\u001b[49m\n\u001b[1;32m   2784\u001b[0m \u001b[43m    \u001b[49m\u001b[43mindex\u001b[49m\u001b[38;5;241;43m=\u001b[39;49m\u001b[43mindex\u001b[49m\u001b[43m,\u001b[49m\n\u001b[1;32m   2785\u001b[0m \u001b[43m    \u001b[49m\u001b[43mmin_itemsize\u001b[49m\u001b[38;5;241;43m=\u001b[39;49m\u001b[43mmin_itemsize\u001b[49m\u001b[43m,\u001b[49m\n\u001b[1;32m   2786\u001b[0m \u001b[43m    \u001b[49m\u001b[43mnan_rep\u001b[49m\u001b[38;5;241;43m=\u001b[39;49m\u001b[43mnan_rep\u001b[49m\u001b[43m,\u001b[49m\n\u001b[1;32m   2787\u001b[0m \u001b[43m    \u001b[49m\u001b[43mdropna\u001b[49m\u001b[38;5;241;43m=\u001b[39;49m\u001b[43mdropna\u001b[49m\u001b[43m,\u001b[49m\n\u001b[1;32m   2788\u001b[0m \u001b[43m    \u001b[49m\u001b[43mdata_columns\u001b[49m\u001b[38;5;241;43m=\u001b[39;49m\u001b[43mdata_columns\u001b[49m\u001b[43m,\u001b[49m\n\u001b[1;32m   2789\u001b[0m \u001b[43m    \u001b[49m\u001b[43merrors\u001b[49m\u001b[38;5;241;43m=\u001b[39;49m\u001b[43merrors\u001b[49m\u001b[43m,\u001b[49m\n\u001b[1;32m   2790\u001b[0m \u001b[43m    \u001b[49m\u001b[43mencoding\u001b[49m\u001b[38;5;241;43m=\u001b[39;49m\u001b[43mencoding\u001b[49m\u001b[43m,\u001b[49m\n\u001b[1;32m   2791\u001b[0m \u001b[43m\u001b[49m\u001b[43m)\u001b[49m\n",
      "File \u001b[0;32m~/anaconda3/envs/ephys0/lib/python3.8/site-packages/pandas/io/pytables.py:314\u001b[0m, in \u001b[0;36mto_hdf\u001b[0;34m(path_or_buf, key, value, mode, complevel, complib, append, format, index, min_itemsize, nan_rep, dropna, data_columns, errors, encoding)\u001b[0m\n\u001b[1;32m    310\u001b[0m \u001b[38;5;28;01mif\u001b[39;00m \u001b[38;5;28misinstance\u001b[39m(path_or_buf, \u001b[38;5;28mstr\u001b[39m):\n\u001b[1;32m    311\u001b[0m     \u001b[38;5;28;01mwith\u001b[39;00m HDFStore(\n\u001b[1;32m    312\u001b[0m         path_or_buf, mode\u001b[38;5;241m=\u001b[39mmode, complevel\u001b[38;5;241m=\u001b[39mcomplevel, complib\u001b[38;5;241m=\u001b[39mcomplib\n\u001b[1;32m    313\u001b[0m     ) \u001b[38;5;28;01mas\u001b[39;00m store:\n\u001b[0;32m--> 314\u001b[0m         \u001b[43mf\u001b[49m\u001b[43m(\u001b[49m\u001b[43mstore\u001b[49m\u001b[43m)\u001b[49m\n\u001b[1;32m    315\u001b[0m \u001b[38;5;28;01melse\u001b[39;00m:\n\u001b[1;32m    316\u001b[0m     f(path_or_buf)\n",
      "File \u001b[0;32m~/anaconda3/envs/ephys0/lib/python3.8/site-packages/pandas/io/pytables.py:296\u001b[0m, in \u001b[0;36mto_hdf.<locals>.<lambda>\u001b[0;34m(store)\u001b[0m\n\u001b[1;32m    282\u001b[0m     f \u001b[38;5;241m=\u001b[39m \u001b[38;5;28;01mlambda\u001b[39;00m store: store\u001b[38;5;241m.\u001b[39mappend(\n\u001b[1;32m    283\u001b[0m         key,\n\u001b[1;32m    284\u001b[0m         value,\n\u001b[0;32m   (...)\u001b[0m\n\u001b[1;32m    292\u001b[0m         encoding\u001b[38;5;241m=\u001b[39mencoding,\n\u001b[1;32m    293\u001b[0m     )\n\u001b[1;32m    294\u001b[0m \u001b[38;5;28;01melse\u001b[39;00m:\n\u001b[1;32m    295\u001b[0m     \u001b[38;5;66;03m# NB: dropna is not passed to `put`\u001b[39;00m\n\u001b[0;32m--> 296\u001b[0m     f \u001b[38;5;241m=\u001b[39m \u001b[38;5;28;01mlambda\u001b[39;00m store: \u001b[43mstore\u001b[49m\u001b[38;5;241;43m.\u001b[39;49m\u001b[43mput\u001b[49m\u001b[43m(\u001b[49m\n\u001b[1;32m    297\u001b[0m \u001b[43m        \u001b[49m\u001b[43mkey\u001b[49m\u001b[43m,\u001b[49m\n\u001b[1;32m    298\u001b[0m \u001b[43m        \u001b[49m\u001b[43mvalue\u001b[49m\u001b[43m,\u001b[49m\n\u001b[1;32m    299\u001b[0m \u001b[43m        \u001b[49m\u001b[38;5;28;43mformat\u001b[39;49m\u001b[38;5;241;43m=\u001b[39;49m\u001b[38;5;28;43mformat\u001b[39;49m\u001b[43m,\u001b[49m\n\u001b[1;32m    300\u001b[0m \u001b[43m        \u001b[49m\u001b[43mindex\u001b[49m\u001b[38;5;241;43m=\u001b[39;49m\u001b[43mindex\u001b[49m\u001b[43m,\u001b[49m\n\u001b[1;32m    301\u001b[0m \u001b[43m        \u001b[49m\u001b[43mmin_itemsize\u001b[49m\u001b[38;5;241;43m=\u001b[39;49m\u001b[43mmin_itemsize\u001b[49m\u001b[43m,\u001b[49m\n\u001b[1;32m    302\u001b[0m \u001b[43m        \u001b[49m\u001b[43mnan_rep\u001b[49m\u001b[38;5;241;43m=\u001b[39;49m\u001b[43mnan_rep\u001b[49m\u001b[43m,\u001b[49m\n\u001b[1;32m    303\u001b[0m \u001b[43m        \u001b[49m\u001b[43mdata_columns\u001b[49m\u001b[38;5;241;43m=\u001b[39;49m\u001b[43mdata_columns\u001b[49m\u001b[43m,\u001b[49m\n\u001b[1;32m    304\u001b[0m \u001b[43m        \u001b[49m\u001b[43merrors\u001b[49m\u001b[38;5;241;43m=\u001b[39;49m\u001b[43merrors\u001b[49m\u001b[43m,\u001b[49m\n\u001b[1;32m    305\u001b[0m \u001b[43m        \u001b[49m\u001b[43mencoding\u001b[49m\u001b[38;5;241;43m=\u001b[39;49m\u001b[43mencoding\u001b[49m\u001b[43m,\u001b[49m\n\u001b[1;32m    306\u001b[0m \u001b[43m        \u001b[49m\u001b[43mdropna\u001b[49m\u001b[38;5;241;43m=\u001b[39;49m\u001b[43mdropna\u001b[49m\u001b[43m,\u001b[49m\n\u001b[1;32m    307\u001b[0m \u001b[43m    \u001b[49m\u001b[43m)\u001b[49m\n\u001b[1;32m    309\u001b[0m path_or_buf \u001b[38;5;241m=\u001b[39m stringify_path(path_or_buf)\n\u001b[1;32m    310\u001b[0m \u001b[38;5;28;01mif\u001b[39;00m \u001b[38;5;28misinstance\u001b[39m(path_or_buf, \u001b[38;5;28mstr\u001b[39m):\n",
      "File \u001b[0;32m~/anaconda3/envs/ephys0/lib/python3.8/site-packages/pandas/io/pytables.py:1122\u001b[0m, in \u001b[0;36mHDFStore.put\u001b[0;34m(self, key, value, format, index, append, complib, complevel, min_itemsize, nan_rep, data_columns, encoding, errors, track_times, dropna)\u001b[0m\n\u001b[1;32m   1120\u001b[0m     \u001b[38;5;28mformat\u001b[39m \u001b[38;5;241m=\u001b[39m get_option(\u001b[38;5;124m\"\u001b[39m\u001b[38;5;124mio.hdf.default_format\u001b[39m\u001b[38;5;124m\"\u001b[39m) \u001b[38;5;129;01mor\u001b[39;00m \u001b[38;5;124m\"\u001b[39m\u001b[38;5;124mfixed\u001b[39m\u001b[38;5;124m\"\u001b[39m\n\u001b[1;32m   1121\u001b[0m \u001b[38;5;28mformat\u001b[39m \u001b[38;5;241m=\u001b[39m \u001b[38;5;28mself\u001b[39m\u001b[38;5;241m.\u001b[39m_validate_format(\u001b[38;5;28mformat\u001b[39m)\n\u001b[0;32m-> 1122\u001b[0m \u001b[38;5;28;43mself\u001b[39;49m\u001b[38;5;241;43m.\u001b[39;49m\u001b[43m_write_to_group\u001b[49m\u001b[43m(\u001b[49m\n\u001b[1;32m   1123\u001b[0m \u001b[43m    \u001b[49m\u001b[43mkey\u001b[49m\u001b[43m,\u001b[49m\n\u001b[1;32m   1124\u001b[0m \u001b[43m    \u001b[49m\u001b[43mvalue\u001b[49m\u001b[43m,\u001b[49m\n\u001b[1;32m   1125\u001b[0m \u001b[43m    \u001b[49m\u001b[38;5;28;43mformat\u001b[39;49m\u001b[38;5;241;43m=\u001b[39;49m\u001b[38;5;28;43mformat\u001b[39;49m\u001b[43m,\u001b[49m\n\u001b[1;32m   1126\u001b[0m \u001b[43m    \u001b[49m\u001b[43mindex\u001b[49m\u001b[38;5;241;43m=\u001b[39;49m\u001b[43mindex\u001b[49m\u001b[43m,\u001b[49m\n\u001b[1;32m   1127\u001b[0m \u001b[43m    \u001b[49m\u001b[43mappend\u001b[49m\u001b[38;5;241;43m=\u001b[39;49m\u001b[43mappend\u001b[49m\u001b[43m,\u001b[49m\n\u001b[1;32m   1128\u001b[0m \u001b[43m    \u001b[49m\u001b[43mcomplib\u001b[49m\u001b[38;5;241;43m=\u001b[39;49m\u001b[43mcomplib\u001b[49m\u001b[43m,\u001b[49m\n\u001b[1;32m   1129\u001b[0m \u001b[43m    \u001b[49m\u001b[43mcomplevel\u001b[49m\u001b[38;5;241;43m=\u001b[39;49m\u001b[43mcomplevel\u001b[49m\u001b[43m,\u001b[49m\n\u001b[1;32m   1130\u001b[0m \u001b[43m    \u001b[49m\u001b[43mmin_itemsize\u001b[49m\u001b[38;5;241;43m=\u001b[39;49m\u001b[43mmin_itemsize\u001b[49m\u001b[43m,\u001b[49m\n\u001b[1;32m   1131\u001b[0m \u001b[43m    \u001b[49m\u001b[43mnan_rep\u001b[49m\u001b[38;5;241;43m=\u001b[39;49m\u001b[43mnan_rep\u001b[49m\u001b[43m,\u001b[49m\n\u001b[1;32m   1132\u001b[0m \u001b[43m    \u001b[49m\u001b[43mdata_columns\u001b[49m\u001b[38;5;241;43m=\u001b[39;49m\u001b[43mdata_columns\u001b[49m\u001b[43m,\u001b[49m\n\u001b[1;32m   1133\u001b[0m \u001b[43m    \u001b[49m\u001b[43mencoding\u001b[49m\u001b[38;5;241;43m=\u001b[39;49m\u001b[43mencoding\u001b[49m\u001b[43m,\u001b[49m\n\u001b[1;32m   1134\u001b[0m \u001b[43m    \u001b[49m\u001b[43merrors\u001b[49m\u001b[38;5;241;43m=\u001b[39;49m\u001b[43merrors\u001b[49m\u001b[43m,\u001b[49m\n\u001b[1;32m   1135\u001b[0m \u001b[43m    \u001b[49m\u001b[43mtrack_times\u001b[49m\u001b[38;5;241;43m=\u001b[39;49m\u001b[43mtrack_times\u001b[49m\u001b[43m,\u001b[49m\n\u001b[1;32m   1136\u001b[0m \u001b[43m    \u001b[49m\u001b[43mdropna\u001b[49m\u001b[38;5;241;43m=\u001b[39;49m\u001b[43mdropna\u001b[49m\u001b[43m,\u001b[49m\n\u001b[1;32m   1137\u001b[0m \u001b[43m\u001b[49m\u001b[43m)\u001b[49m\n",
      "File \u001b[0;32m~/anaconda3/envs/ephys0/lib/python3.8/site-packages/pandas/io/pytables.py:1772\u001b[0m, in \u001b[0;36mHDFStore._write_to_group\u001b[0;34m(self, key, value, format, axes, index, append, complib, complevel, fletcher32, min_itemsize, chunksize, expectedrows, dropna, nan_rep, data_columns, encoding, errors, track_times)\u001b[0m\n\u001b[1;32m   1769\u001b[0m     \u001b[38;5;28;01mraise\u001b[39;00m \u001b[38;5;167;01mValueError\u001b[39;00m(\u001b[38;5;124m\"\u001b[39m\u001b[38;5;124mCompression not supported on Fixed format stores\u001b[39m\u001b[38;5;124m\"\u001b[39m)\n\u001b[1;32m   1771\u001b[0m \u001b[38;5;66;03m# write the object\u001b[39;00m\n\u001b[0;32m-> 1772\u001b[0m \u001b[43ms\u001b[49m\u001b[38;5;241;43m.\u001b[39;49m\u001b[43mwrite\u001b[49m\u001b[43m(\u001b[49m\n\u001b[1;32m   1773\u001b[0m \u001b[43m    \u001b[49m\u001b[43mobj\u001b[49m\u001b[38;5;241;43m=\u001b[39;49m\u001b[43mvalue\u001b[49m\u001b[43m,\u001b[49m\n\u001b[1;32m   1774\u001b[0m \u001b[43m    \u001b[49m\u001b[43maxes\u001b[49m\u001b[38;5;241;43m=\u001b[39;49m\u001b[43maxes\u001b[49m\u001b[43m,\u001b[49m\n\u001b[1;32m   1775\u001b[0m \u001b[43m    \u001b[49m\u001b[43mappend\u001b[49m\u001b[38;5;241;43m=\u001b[39;49m\u001b[43mappend\u001b[49m\u001b[43m,\u001b[49m\n\u001b[1;32m   1776\u001b[0m \u001b[43m    \u001b[49m\u001b[43mcomplib\u001b[49m\u001b[38;5;241;43m=\u001b[39;49m\u001b[43mcomplib\u001b[49m\u001b[43m,\u001b[49m\n\u001b[1;32m   1777\u001b[0m \u001b[43m    \u001b[49m\u001b[43mcomplevel\u001b[49m\u001b[38;5;241;43m=\u001b[39;49m\u001b[43mcomplevel\u001b[49m\u001b[43m,\u001b[49m\n\u001b[1;32m   1778\u001b[0m \u001b[43m    \u001b[49m\u001b[43mfletcher32\u001b[49m\u001b[38;5;241;43m=\u001b[39;49m\u001b[43mfletcher32\u001b[49m\u001b[43m,\u001b[49m\n\u001b[1;32m   1779\u001b[0m \u001b[43m    \u001b[49m\u001b[43mmin_itemsize\u001b[49m\u001b[38;5;241;43m=\u001b[39;49m\u001b[43mmin_itemsize\u001b[49m\u001b[43m,\u001b[49m\n\u001b[1;32m   1780\u001b[0m \u001b[43m    \u001b[49m\u001b[43mchunksize\u001b[49m\u001b[38;5;241;43m=\u001b[39;49m\u001b[43mchunksize\u001b[49m\u001b[43m,\u001b[49m\n\u001b[1;32m   1781\u001b[0m \u001b[43m    \u001b[49m\u001b[43mexpectedrows\u001b[49m\u001b[38;5;241;43m=\u001b[39;49m\u001b[43mexpectedrows\u001b[49m\u001b[43m,\u001b[49m\n\u001b[1;32m   1782\u001b[0m \u001b[43m    \u001b[49m\u001b[43mdropna\u001b[49m\u001b[38;5;241;43m=\u001b[39;49m\u001b[43mdropna\u001b[49m\u001b[43m,\u001b[49m\n\u001b[1;32m   1783\u001b[0m \u001b[43m    \u001b[49m\u001b[43mnan_rep\u001b[49m\u001b[38;5;241;43m=\u001b[39;49m\u001b[43mnan_rep\u001b[49m\u001b[43m,\u001b[49m\n\u001b[1;32m   1784\u001b[0m \u001b[43m    \u001b[49m\u001b[43mdata_columns\u001b[49m\u001b[38;5;241;43m=\u001b[39;49m\u001b[43mdata_columns\u001b[49m\u001b[43m,\u001b[49m\n\u001b[1;32m   1785\u001b[0m \u001b[43m    \u001b[49m\u001b[43mtrack_times\u001b[49m\u001b[38;5;241;43m=\u001b[39;49m\u001b[43mtrack_times\u001b[49m\u001b[43m,\u001b[49m\n\u001b[1;32m   1786\u001b[0m \u001b[43m\u001b[49m\u001b[43m)\u001b[49m\n\u001b[1;32m   1788\u001b[0m \u001b[38;5;28;01mif\u001b[39;00m \u001b[38;5;28misinstance\u001b[39m(s, Table) \u001b[38;5;129;01mand\u001b[39;00m index:\n\u001b[1;32m   1789\u001b[0m     s\u001b[38;5;241m.\u001b[39mcreate_index(columns\u001b[38;5;241m=\u001b[39mindex)\n",
      "File \u001b[0;32m~/anaconda3/envs/ephys0/lib/python3.8/site-packages/pandas/io/pytables.py:3241\u001b[0m, in \u001b[0;36mBlockManagerFixed.write\u001b[0;34m(self, obj, **kwargs)\u001b[0m\n\u001b[1;32m   3238\u001b[0m \u001b[38;5;28;01mfor\u001b[39;00m i, blk \u001b[38;5;129;01min\u001b[39;00m \u001b[38;5;28menumerate\u001b[39m(data\u001b[38;5;241m.\u001b[39mblocks):\n\u001b[1;32m   3239\u001b[0m     \u001b[38;5;66;03m# I have no idea why, but writing values before items fixed #2299\u001b[39;00m\n\u001b[1;32m   3240\u001b[0m     blk_items \u001b[38;5;241m=\u001b[39m data\u001b[38;5;241m.\u001b[39mitems\u001b[38;5;241m.\u001b[39mtake(blk\u001b[38;5;241m.\u001b[39mmgr_locs)\n\u001b[0;32m-> 3241\u001b[0m     \u001b[38;5;28;43mself\u001b[39;49m\u001b[38;5;241;43m.\u001b[39;49m\u001b[43mwrite_array\u001b[49m\u001b[43m(\u001b[49m\u001b[38;5;124;43mf\u001b[39;49m\u001b[38;5;124;43m\"\u001b[39;49m\u001b[38;5;124;43mblock\u001b[39;49m\u001b[38;5;132;43;01m{\u001b[39;49;00m\u001b[43mi\u001b[49m\u001b[38;5;132;43;01m}\u001b[39;49;00m\u001b[38;5;124;43m_values\u001b[39;49m\u001b[38;5;124;43m\"\u001b[39;49m\u001b[43m,\u001b[49m\u001b[43m \u001b[49m\u001b[43mblk\u001b[49m\u001b[38;5;241;43m.\u001b[39;49m\u001b[43mvalues\u001b[49m\u001b[43m,\u001b[49m\u001b[43m \u001b[49m\u001b[43mitems\u001b[49m\u001b[38;5;241;43m=\u001b[39;49m\u001b[43mblk_items\u001b[49m\u001b[43m)\u001b[49m\n\u001b[1;32m   3242\u001b[0m     \u001b[38;5;28mself\u001b[39m\u001b[38;5;241m.\u001b[39mwrite_index(\u001b[38;5;124mf\u001b[39m\u001b[38;5;124m\"\u001b[39m\u001b[38;5;124mblock\u001b[39m\u001b[38;5;132;01m{\u001b[39;00mi\u001b[38;5;132;01m}\u001b[39;00m\u001b[38;5;124m_items\u001b[39m\u001b[38;5;124m\"\u001b[39m, blk_items)\n",
      "File \u001b[0;32m~/anaconda3/envs/ephys0/lib/python3.8/site-packages/pandas/io/pytables.py:3087\u001b[0m, in \u001b[0;36mGenericFixed.write_array\u001b[0;34m(self, key, obj, items)\u001b[0m\n\u001b[1;32m   3084\u001b[0m         warnings\u001b[38;5;241m.\u001b[39mwarn(ws, PerformanceWarning, stacklevel\u001b[38;5;241m=\u001b[39mfind_stack_level())\n\u001b[1;32m   3086\u001b[0m     vlarr \u001b[38;5;241m=\u001b[39m \u001b[38;5;28mself\u001b[39m\u001b[38;5;241m.\u001b[39m_handle\u001b[38;5;241m.\u001b[39mcreate_vlarray(\u001b[38;5;28mself\u001b[39m\u001b[38;5;241m.\u001b[39mgroup, key, _tables()\u001b[38;5;241m.\u001b[39mObjectAtom())\n\u001b[0;32m-> 3087\u001b[0m     \u001b[43mvlarr\u001b[49m\u001b[38;5;241;43m.\u001b[39;49m\u001b[43mappend\u001b[49m\u001b[43m(\u001b[49m\u001b[43mvalue\u001b[49m\u001b[43m)\u001b[49m\n\u001b[1;32m   3089\u001b[0m \u001b[38;5;28;01melif\u001b[39;00m is_datetime64_dtype(value\u001b[38;5;241m.\u001b[39mdtype):\n\u001b[1;32m   3090\u001b[0m     \u001b[38;5;28mself\u001b[39m\u001b[38;5;241m.\u001b[39m_handle\u001b[38;5;241m.\u001b[39mcreate_array(\u001b[38;5;28mself\u001b[39m\u001b[38;5;241m.\u001b[39mgroup, key, value\u001b[38;5;241m.\u001b[39mview(\u001b[38;5;124m\"\u001b[39m\u001b[38;5;124mi8\u001b[39m\u001b[38;5;124m\"\u001b[39m))\n",
      "File \u001b[0;32m~/anaconda3/envs/ephys0/lib/python3.8/site-packages/tables/vlarray.py:543\u001b[0m, in \u001b[0;36mVLArray.append\u001b[0;34m(self, sequence)\u001b[0m\n\u001b[1;32m    540\u001b[0m     nobjects \u001b[38;5;241m=\u001b[39m \u001b[38;5;241m0\u001b[39m\n\u001b[1;32m    541\u001b[0m     nparr \u001b[38;5;241m=\u001b[39m \u001b[38;5;28;01mNone\u001b[39;00m\n\u001b[0;32m--> 543\u001b[0m \u001b[38;5;28;43mself\u001b[39;49m\u001b[38;5;241;43m.\u001b[39;49m\u001b[43m_append\u001b[49m\u001b[43m(\u001b[49m\u001b[43mnparr\u001b[49m\u001b[43m,\u001b[49m\u001b[43m \u001b[49m\u001b[43mnobjects\u001b[49m\u001b[43m)\u001b[49m\n\u001b[1;32m    544\u001b[0m \u001b[38;5;28mself\u001b[39m\u001b[38;5;241m.\u001b[39mnrows \u001b[38;5;241m+\u001b[39m\u001b[38;5;241m=\u001b[39m \u001b[38;5;241m1\u001b[39m\n",
      "File \u001b[0;32mtables/hdf5extension.pyx:2032\u001b[0m, in \u001b[0;36mtables.hdf5extension.VLArray._append\u001b[0;34m()\u001b[0m\n",
      "\u001b[0;31mOverflowError\u001b[0m: value too large to convert to int"
     ]
    }
   ],
   "source": [
    "hffm.to_hdf('/home/niell_lab/Desktop/freely_moving_saccades.h5', key='hffm', mode='w')"
   ]
  },
  {
   "cell_type": "code",
   "execution_count": null,
   "id": "2d9cd7b3-ad91-4f83-871d-cc61759cf22a",
   "metadata": {},
   "outputs": [],
   "source": [
    "ltdk = pd.read_pickle('/home/niell_lab/Data/freely_moving_ephys/batch_files/062022/ltdk_062022.pickle')"
   ]
  },
  {
   "cell_type": "code",
   "execution_count": null,
   "id": "b050dd52-f925-44ea-8f3f-3a7dadb5fca8",
   "metadata": {},
   "outputs": [],
   "source": []
  },
  {
   "cell_type": "code",
   "execution_count": null,
   "id": "04a44ad6-2c7b-4a94-9e0a-20e9ad58c558",
   "metadata": {},
   "outputs": [],
   "source": []
  },
  {
   "cell_type": "code",
   "execution_count": 5,
   "id": "d36d928d-7f59-44ef-a1eb-0cdf6978d375",
   "metadata": {},
   "outputs": [
    {
     "data": {
      "text/plain": [
       "['FmLt_rightsacc_avg_gaze_shift_dEye',\n",
       " 'FmLt_leftsacc_avg_gaze_shift_dEye',\n",
       " 'FmLt_rightsacc_avg_gaze_shift_dHead',\n",
       " 'FmLt_leftsacc_avg_gaze_shift_dHead',\n",
       " 'FmLt_rightsacc_avg_gaze_shift_dEye_modind_t0',\n",
       " 'FmLt_leftsacc_avg_gaze_shift_dEye_modind_t0',\n",
       " 'FmLt_rightsacc_avg_gaze_shift_dEye_modind_t100',\n",
       " 'FmLt_leftsacc_avg_gaze_shift_dEye_modind_t100',\n",
       " 'FmLt_rightsacc_avg_gaze_shift_dHead_modind_t0',\n",
       " 'FmLt_leftsacc_avg_gaze_shift_dHead_modind_t0',\n",
       " 'FmLt_rightsacc_avg_gaze_shift_dHead_modind_t100',\n",
       " 'FmLt_leftsacc_avg_gaze_shift_dHead_modind_t100',\n",
       " 'pref_gazeshift_direction',\n",
       " 'pref_gazeshift_direction_ind',\n",
       " 'is_more_gazeshift',\n",
       " 'pref_gazeshift_psth_FmDk',\n",
       " 'nonpref_gazeshift_psth_FmDk',\n",
       " 'pref_gazeshift_psth',\n",
       " 'nonpref_gazeshift_psth',\n",
       " 'pref_gazeshift_raw_psth',\n",
       " 'gaze_sacc_rlMI',\n",
       " 'gaze_sacc_pnpMI',\n",
       " 'FmLt_gazeshift_left_saccPSTH_dHead',\n",
       " 'FmLt_gazeshift_left_saccTimes_dHead',\n",
       " 'FmLt_gazeshift_right_saccPSTH_dHead',\n",
       " 'FmLt_gazeshift_right_saccTimes_dHead',\n",
       " 'nonpref_gazeshift_direction',\n",
       " 'FmLt_gazeshift_baseline',\n",
       " 'FmLt_gazeshift_med_baseline',\n",
       " 'FmLt_gazeshift_peak_val',\n",
       " 'FmLt_gazeshift_peakT',\n",
       " 'FmLt_gazeshift_troughT',\n",
       " 'FmLt_gazeshift_zscore',\n",
       " 'gazecluster',\n",
       " 'gaze_rc_maxcc',\n",
       " 'gaze_sn_maxcc',\n",
       " 'FmLt_gazeshift_left_saccPSTH_dHead1',\n",
       " 'FmLt_gazeshift_left_saccTimes_dHead1',\n",
       " 'FmLt_gazeshift_right_saccPSTH_dHead1',\n",
       " 'FmLt_gazeshift_right_saccTimes_dHead1',\n",
       " 'gazecluster_ind',\n",
       " 'gazeshift_responsive',\n",
       " 'gazeshift_dirselind',\n",
       " 'gazeshift_DSI',\n",
       " 'pref_gazeshift_psth_raw',\n",
       " 'nonpref_gazeshift_psth_raw',\n",
       " 'pref_gazeshift_psth_for_kmeans']"
      ]
     },
     "execution_count": 5,
     "metadata": {},
     "output_type": "execute_result"
    }
   ],
   "source": [
    "[col for col in hffm.columns.values if 'gaze' in col]"
   ]
  },
  {
   "cell_type": "code",
   "execution_count": 9,
   "id": "e1fe1d92-b80a-4f9e-a369-b31418c9cd7d",
   "metadata": {},
   "outputs": [
    {
     "data": {
      "text/plain": [
       "['062921_G6HCK1ALTRN_control_Rig2',\n",
       " '070921_J553RT_control_Rig2',\n",
       " '101521_J559NC_control_Rig2',\n",
       " '102621_J558NC_control_Rig2',\n",
       " '110321_J558LT_control_Rig2',\n",
       " '110421_J569LT_control_Rig2',\n",
       " '122021_J581RT_control_Rig2',\n",
       " '020222_J577TT_control_Rig2',\n",
       " '020422_J577RT_control_Rig2']"
      ]
     },
     "execution_count": 9,
     "metadata": {},
     "output_type": "execute_result"
    }
   ],
   "source": [
    "sessions = list(hffm['session'].unique())\n",
    "sessions"
   ]
  },
  {
   "cell_type": "code",
   "execution_count": 12,
   "id": "04db974a-3751-4511-9c19-e925c1203998",
   "metadata": {},
   "outputs": [
    {
     "name": "stdout",
     "output_type": "stream",
     "text": [
      "062921_G6HCK1ALTRN_control_Rig2 1688\n",
      "070921_J553RT_control_Rig2 2917\n",
      "101521_J559NC_control_Rig2 4765\n",
      "102621_J558NC_control_Rig2 4735\n",
      "110321_J558LT_control_Rig2 4630\n",
      "110421_J569LT_control_Rig2 3198\n",
      "122021_J581RT_control_Rig2 1551\n",
      "020222_J577TT_control_Rig2 2000\n",
      "020422_J577RT_control_Rig2 2809\n"
     ]
    }
   ],
   "source": [
    "for s in sessions:\n",
    "    print(s, len(hffm['FmLt_gazeshift_left_saccTimes_dHead'][hffm['session']==s].iloc[0]))"
   ]
  },
  {
   "cell_type": "code",
   "execution_count": 19,
   "id": "259ba832-5bc0-41e2-9da3-ca0e93952f9e",
   "metadata": {},
   "outputs": [
    {
     "data": {
      "text/plain": [
       "dict_keys(['062921_G6HCK1ALTRN_control_Rig2', '070921_J553RT_control_Rig2', '101521_J559NC_control_Rig2', '102621_J558NC_control_Rig2', '110321_J558LT_control_Rig2', '110421_J569LT_control_Rig2', '122021_J581RT_control_Rig2', '020222_J577TT_control_Rig2', '020422_J577RT_control_Rig2'])"
      ]
     },
     "execution_count": 19,
     "metadata": {},
     "output_type": "execute_result"
    }
   ],
   "source": [
    "saccade_onsets.keys()"
   ]
  },
  {
   "cell_type": "code",
   "execution_count": 26,
   "id": "024f7c2b-0e83-4d33-88c7-10111cc86a0e",
   "metadata": {},
   "outputs": [],
   "source": [
    "saccade_onsets = {}\n",
    "\n",
    "for s in sessions:\n",
    "    temp = {}\n",
    "    temp['gaze-shift_left'] = list(hffm['FmLt_gazeshift_left_saccTimes_dHead1'][hffm['session']==s].iloc[0].astype(float))\n",
    "    temp['gaze-shift_right'] = list(hffm['FmLt_gazeshift_right_saccTimes_dHead1'][hffm['session']==s].iloc[0].astype(float))\n",
    "    temp['compensatory_left'] = list(hffm['FmLt_comp_left_saccTimes_dHead1'][hffm['session']==s].iloc[0].astype(float))\n",
    "    temp['compensatory_right'] = list(hffm['FmLt_comp_right_saccTimes_dHead1'][hffm['session']==s].iloc[0].astype(float))\n",
    "    \n",
    "    saccade_onsets[s] = temp"
   ]
  },
  {
   "cell_type": "code",
   "execution_count": 28,
   "id": "a81387b9-b05a-4d19-a92e-66fa176b3012",
   "metadata": {},
   "outputs": [],
   "source": [
    "import json\n",
    "with open('/home/niell_lab/Desktop/saccade_onsets.json', 'w') as fp:\n",
    "    json.dump(saccade_onsets, fp)"
   ]
  },
  {
   "cell_type": "code",
   "execution_count": null,
   "id": "961452ee-e271-4e27-804d-4aa747cba4a0",
   "metadata": {},
   "outputs": [],
   "source": []
  }
 ],
 "metadata": {
  "kernelspec": {
   "display_name": "Python [conda env:ephys0]",
   "language": "python",
   "name": "conda-env-ephys0-py"
  },
  "language_info": {
   "codemirror_mode": {
    "name": "ipython",
    "version": 3
   },
   "file_extension": ".py",
   "mimetype": "text/x-python",
   "name": "python",
   "nbconvert_exporter": "python",
   "pygments_lexer": "ipython3",
   "version": "3.8.12"
  }
 },
 "nbformat": 4,
 "nbformat_minor": 5
}
