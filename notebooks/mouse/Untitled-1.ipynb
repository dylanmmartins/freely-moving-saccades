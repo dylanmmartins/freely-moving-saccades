{
 "cells": [
  {
   "cell_type": "code",
   "execution_count": 2,
   "metadata": {},
   "outputs": [
    {
     "name": "stdout",
     "output_type": "stream",
     "text": [
      "Loading DLC 2.2.3...\n"
     ]
    }
   ],
   "source": [
    "import fmEphys as fme\n",
    "import pandas as pd\n",
    "import numpy as np"
   ]
  },
  {
   "cell_type": "code",
   "execution_count": 3,
   "metadata": {},
   "outputs": [],
   "source": [
    "flhf = fme.read_group_h5(r'D:\\niell_lab_data\\mouse\\flhf_021623_recalcPSTHs.h5')"
   ]
  },
  {
   "cell_type": "code",
   "execution_count": 10,
   "metadata": {},
   "outputs": [
    {
     "name": "stdout",
     "output_type": "stream",
     "text": [
      "041422_J593LT_control_Rig2\n",
      "Rc_eyeT [-1.0658055 -1.063527  -1.048487 ] 5.369638949999838\n",
      "SnI_eyeT [-1.121159  -1.103207  -1.0877635] 22.818770883333368\n",
      "041422_J599RT_control_Rig2\n",
      "Rc_eyeT [-1.030893  -1.013402  -0.9973955] 5.19822590833331\n",
      "SnI_eyeT [-1.051085  -1.036621  -1.0207425] 20.306490874999994\n",
      "Sn_eyeT [-1.007084  -0.99182   -0.9737915] 14.439503458333274\n",
      "041822_J594NC_control_Rig2\n",
      "Rc_eyeT [-1.0871555 -1.079514  -1.063821 ] 5.252435949999926\n",
      "SnI_eyeT [-0.9551045 -0.939098  -0.9232195] 20.175322999999967\n",
      "Sn_eyeT [-1.0205245 -1.007782  -0.99239  ] 10.159668258333356\n",
      "042022_J604RT_control_Rig2\n",
      "Rc_eyeT [-0.974208 -0.95904  -0.941408] 5.099187633333349\n",
      "SnI_eyeT [-0.987456  -0.969792  -0.9538115] 20.084626016666757\n",
      "Sn_eyeT [-1.0255555 -1.009767  -0.9941255] 10.030159566666772\n",
      "042122_J604RT_control_Rig2\n",
      "Rc_eyeT [-1.0498375 -1.039591  -1.0219655] 5.540622399999969\n",
      "Sn_eyeT [-1.011763 -0.996224 -0.978637] 10.618633699999918\n",
      "042222_J594RT_control_Rig2\n",
      "Rc_eyeT [-1.0086145 -0.992717  -0.9769985] 5.40785557499997\n",
      "SnI_eyeT [-1.0435195 -1.027289  -1.0092795] 20.213632966666772\n",
      "Sn_eyeT [-1.185683  -1.169536  -1.1539455] 10.329938558333378\n",
      "042322_J559NC_control_Rig2\n",
      "Rc_eyeT [-1.06144  -1.045952 -1.030259] 5.242678191666588\n",
      "050622_J606NC_control_Rig2\n",
      "Rc_eyeT [-1.0622145 -1.046912  -1.028941 ] 5.228770233333368\n",
      "060822_J611RN_control_Rig2\n",
      "Sn_eyeT [-1.057158 -1.03895  -1.023187] 11.370064100000066\n",
      "SnR_eyeT [-0.954419 -0.93783  -0.920403] 10.12026516666665\n",
      "060922_J611RN_control_Rig2\n",
      "Sn_eyeT [-1.0432065 -1.0256    -1.0095295] 10.318907624999945\n",
      "SnR_eyeT [-1.048845 -1.033741 -1.014157] 10.137479791666799\n"
     ]
    }
   ],
   "source": [
    "for s in flhf['session'].unique():\n",
    "    print(s)\n",
    "    for x in flhf.columns.values:\n",
    "        if 'eyeT' in x:\n",
    "            try:\n",
    "                _t = flhf[x][flhf['session']==s].iloc[0]\n",
    "                print(x, flhf[x][flhf['session']==s].iloc[0][:3], (_t[-1]-_t[0])/60)\n",
    "            except TypeError:\n",
    "                pass"
   ]
  },
  {
   "cell_type": "code",
   "execution_count": 12,
   "metadata": {},
   "outputs": [
    {
     "data": {
      "text/plain": [
       "1200"
      ]
     },
     "execution_count": 12,
     "metadata": {},
     "output_type": "execute_result"
    }
   ],
   "source": [
    "(10*60*2)"
   ]
  },
  {
   "cell_type": "code",
   "execution_count": null,
   "metadata": {},
   "outputs": [],
   "source": []
  }
 ],
 "metadata": {
  "kernelspec": {
   "display_name": "ephys1",
   "language": "python",
   "name": "python3"
  },
  "language_info": {
   "codemirror_mode": {
    "name": "ipython",
    "version": 3
   },
   "file_extension": ".py",
   "mimetype": "text/x-python",
   "name": "python",
   "nbconvert_exporter": "python",
   "pygments_lexer": "ipython3",
   "version": "3.8.13"
  },
  "orig_nbformat": 4
 },
 "nbformat": 4,
 "nbformat_minor": 2
}
