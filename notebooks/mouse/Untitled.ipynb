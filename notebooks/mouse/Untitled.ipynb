{
 "cells": [
  {
   "cell_type": "code",
   "execution_count": 1,
   "id": "f739840f-ad2d-43c0-a11c-73feac09facf",
   "metadata": {},
   "outputs": [],
   "source": [
    "import fmEphys\n",
    "import matplotlib.pyplot as plt\n",
    "import xarray as xr\n",
    "import pandas as pd"
   ]
  },
  {
   "cell_type": "code",
   "execution_count": null,
   "id": "b9608dcb-d1dd-48cf-b278-3e8fd2972833",
   "metadata": {},
   "outputs": [],
   "source": [
    "hffm = pd.read_pickle('/home/niell_lab/Data/freely_moving_ephys/batch_files/062022/hffm_062022_gt.pickle')"
   ]
  },
  {
   "cell_type": "code",
   "execution_count": null,
   "id": "a93f92b2-9568-4a91-8f02-34a54dfac8dd",
   "metadata": {},
   "outputs": [],
   "source": [
    "def apply_win_to_comp_sacc(comp, gazeshift, win=0.25):\n",
    "    bad_comp = np.array([c for c in comp for g in gazeshift if ((g>(c-win)) & (g<(c+win)))])\n",
    "    comp_times = np.delete(comp, np.isin(comp, bad_comp))\n",
    "    return comp_times\n",
    "\n",
    "def keep_first_saccade(eventT, win=0.020):\n",
    "    duplicates = set([])\n",
    "    for t in eventT:\n",
    "        new = eventT[((eventT-t)<win) & ((eventT-t)>0)]\n",
    "        duplicates.update(list(new))\n",
    "    out = np.sort(np.setdiff1d(eventT, np.array(list(duplicates)), assume_unique=True))\n",
    "    return out"
   ]
  },
  {
   "cell_type": "code",
   "execution_count": null,
   "id": "3d4bc18e-6132-4272-8bbf-f1bcd74a7b66",
   "metadata": {},
   "outputs": [],
   "source": [
    "saccthresh = { # deg/sec\n",
    "        'head_moved': 60,\n",
    "        'gaze_stationary': 120,\n",
    "        'gaze_moved': 240\n",
    "    }\n",
    "\n",
    "for stim in ['FmLt']:\n",
    "        for s, name in enumerate(hffm.data['session'].unique()):\n",
    "            print('{} stim of {} recording'.format(stim, name))\n",
    "            dHead = hffm.data[stim+'_dHead'][hffm.data['session']==name].iloc[0]\n",
    "            dGaze = hffm.data[stim+'_dGaze'][hffm.data['session']==name].iloc[0]\n",
    "            eyeT = hffm.data[stim+'_eyeT'][hffm.data['session']==name].iloc[0][:-1]\n",
    "            \n",
    "            gazeL = eyeT[(dHead > saccthresh['head_moved']) & (dGaze > saccthresh['gaze_moved'])]\n",
    "            gazeR = eyeT[(dHead < -saccthresh['head_moved']) & (dGaze < -saccthresh['gaze_moved'])]\n",
    "\n",
    "            compL = eyeT[(dHead > saccthresh['head_moved']) & (dGaze < saccthresh['gaze_stationary']) & (dGaze > -saccthresh['gaze_stationary'])]\n",
    "            compR = eyeT[(dHead < -saccthresh['head_moved']) & (dGaze > -saccthresh['gaze_stationary']) & (dGaze < saccthresh['gaze_stationary'])]\n",
    "            \n",
    "            compL = apply_win_to_comp_sacc(compL, gazeL)\n",
    "            compR = apply_win_to_comp_sacc(compR, gazeR)\n",
    "            \n",
    "            # SDFs\n",
    "            for ind in tqdm(hffm.data[hffm.data['session']==name].index.values):\n",
    "                spikeT = hffm.data.loc[ind,stim+'_spikeT']\n",
    "                \n",
    "                movements = [gazeL, gazeR, compL, compR]\n",
    "                movkeys = [stim+'_gazeshift_left_saccPSTH_dHead',\n",
    "                        stim+'_gazeshift_right_saccPSTH_dHead',\n",
    "                        stim+'_comp_left_saccPSTH_dHead',\n",
    "                        stim+'_comp_right_saccPSTH_dHead']\n",
    "                timekeys = [stim+'_gazeshift_left_saccTimes_dHead',\n",
    "                        stim+'_gazeshift_right_saccTimes_dHead',\n",
    "                        stim+'_comp_left_saccTimes_dHead',\n",
    "                        stim+'_comp_right_saccTimes_dHead']\n",
    "                for x in range(4):\n",
    "                    movkey = movkeys[x]; timekey = timekeys[x]\n",
    "                    eventT = movements[x]\n",
    "                    \n",
    "                    # save the spike density function\n",
    "                    _, sdf = calc_kde_sdf(spikeT, eventT)\n",
    "                    hffm.data.at[ind, movkey] = sdf.astype(object)\n",
    "                    \n",
    "                    # save the saccade times\n",
    "                    hffm.data.at[ind, timekey] = eventT.astype(object)"
   ]
  },
  {
   "cell_type": "code",
   "execution_count": null,
   "id": "e48cfd7a-7610-4301-88dd-a72900158e4f",
   "metadata": {},
   "outputs": [],
   "source": [
    "demo = hffm[hffm['session']=='102621_J558NC_control_Rig2'].iloc[0]\n",
    "\n",
    "left = demo['FmLt_gazeshift_left_saccTimes_dHead1']\n",
    "right = demo['FmLt_gazeshift_right_saccTimes_dHead1']\n",
    "comp = np.hstack([demo['FmLt_comp_left_saccTimes_dHead1'], demo['FmLt_comp_right_saccTimes_dHead1']])\n",
    "\n",
    "plotinds = np.sort(np.random.choice(np.arange(eyeT.size), size=int(np.ceil(eyeT.size/25)), replace=False))\n",
    "gazemovs = np.hstack([left, right])\n",
    "\n",
    "for i in plotinds:\n",
    "    dGaze_i = np.abs(dHead_data[i]+dEye_data[i])\n",
    "    if (eyeT[i] in gazemovs) or (dGaze_i>240):\n",
    "        c = colors['gaze']\n",
    "    elif (eyeT[i] in comp) or (dGaze_i<120):\n",
    "        c = colors['comp']\n",
    "    elif (dGaze_i<240) and (dGaze_i>120): \n",
    "        c = 'dimgray'\n",
    "    else:\n",
    "        continue\n",
    "    ax_dEyeHead.plot(dHead_data[i], dEye_data[i], '.', color=c, markersize=2)\n",
    "\n",
    "ax_dEyeHead.set_aspect('equal','box')\n",
    "ax_dEyeHead.set_xlim([-600,600])\n",
    "ax_dEyeHead.set_ylim([-600,600])\n",
    "ax_dEyeHead.set_xlabel('head velocity (deg/sec)')\n",
    "ax_dEyeHead.set_ylabel('eye velocity (deg/sec)')\n",
    "ax_dEyeHead.plot([-500,500],[500,-500], linestyle='dashed', color='k', linewidth=1)\n",
    "# ax_dEyeHead.annotate('left', xy=[350,500], color='k')\n",
    "# ax_dEyeHead.annotate('right', xy=[-550,-500], color='k')\n",
    "# ax_dEyeHead.annotate('gaze shift', xy=[-620,470], color=colors['gaze'])\n",
    "# ax_dEyeHead.annotate('compensated', xy=[-620,550], color=colors['comp'])\n",
    "ax_dEyeHead.set_xticks(np.linspace(-600,600,5))\n",
    "ax_dEyeHead.set_yticks(np.linspace(-600,600,5))"
   ]
  }
 ],
 "metadata": {
  "kernelspec": {
   "display_name": "Python [conda env:ephys1]",
   "language": "python",
   "name": "conda-env-ephys1-py"
  },
  "language_info": {
   "codemirror_mode": {
    "name": "ipython",
    "version": 3
   },
   "file_extension": ".py",
   "mimetype": "text/x-python",
   "name": "python",
   "nbconvert_exporter": "python",
   "pygments_lexer": "ipython3",
   "version": "3.8.13"
  }
 },
 "nbformat": 4,
 "nbformat_minor": 5
}
