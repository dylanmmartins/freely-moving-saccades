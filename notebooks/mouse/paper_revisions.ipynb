{
 "cells": [
  {
   "cell_type": "code",
   "execution_count": 2,
   "id": "b3e739b8-f150-4461-8fba-44687baa7611",
   "metadata": {},
   "outputs": [
    {
     "name": "stdout",
     "output_type": "stream",
     "text": [
      "DLC loaded in light mode; you cannot use any GUI (labeling, relabeling and standalone GUI)\n"
     ]
    }
   ],
   "source": [
    "import sys, os\n",
    "sys.path.insert(0, '/home/niell_lab/Documents/GitHub/FreelyMovingEphys/')\n",
    "import matplotlib.pyplot as plt\n",
    "import matplotlib as mpl\n",
    "from matplotlib import cm\n",
    "import matplotlib.gridspec as gridspec\n",
    "import numpy as np\n",
    "import pandas as pd\n",
    "from scipy.interpolate import interp1d\n",
    "from scipy.stats import linregress\n",
    "mpl.rcParams['axes.spines.top'] = False\n",
    "mpl.rcParams['axes.spines.right'] = False\n",
    "mpl.rcParams['pdf.fonttype'] = 42\n",
    "mpl.rcParams['ps.fonttype'] = 42\n",
    "%matplotlib inline\n",
    "import cv2\n",
    "import xarray as xr\n",
    "mpl.rcParams.update({'font.size':10})\n",
    "from matplotlib.backends.backend_pdf import PdfPages\n",
    "\n",
    "from fmEphys.utils.path import find\n",
    "from fmEphys.utils.auxiliary import flatten_series\n"
   ]
  },
  {
   "cell_type": "code",
   "execution_count": 20,
   "id": "668a6f1f-95b3-41d2-8f99-d74eaf9a2e1b",
   "metadata": {},
   "outputs": [],
   "source": [
    "%matplotlib inline"
   ]
  },
  {
   "cell_type": "code",
   "execution_count": 2,
   "id": "10405509-352a-42aa-a17d-50e5e901f7d2",
   "metadata": {},
   "outputs": [],
   "source": [
    "def to_color(r,g,b):\n",
    "    return (r/255, g/255, b/255)"
   ]
  },
  {
   "cell_type": "markdown",
   "id": "e0b749d2-febc-419d-b2bd-e29a2f373352",
   "metadata": {},
   "source": [
    "# load data"
   ]
  },
  {
   "cell_type": "code",
   "execution_count": 3,
   "id": "2b661989-429d-4409-b51c-0aeb90b713bb",
   "metadata": {},
   "outputs": [],
   "source": [
    "figpath = '/home/niell_lab/Desktop/revision_figs_122922/'\n",
    "hffm = pd.read_pickle('/home/niell_lab/Data/freely_moving_ephys/batch_files/062022/hffm_062022_gt.pickle')\n",
    "ltdk = pd.read_pickle('/home/niell_lab/Data/freely_moving_ephys/batch_files/062022/ltdk_062022.pickle')"
   ]
  },
  {
   "cell_type": "code",
   "execution_count": 4,
   "id": "14ac76bb-7d0b-4b72-a8aa-43dbdfd72c03",
   "metadata": {},
   "outputs": [],
   "source": [
    "plasma_map = plt.cm.plasma(np.linspace(0,1,15))\n",
    "cat_cmap = {\n",
    "    'movement': plasma_map[12,:],\n",
    "    'early': plasma_map[10,:],\n",
    "    'late': plasma_map[8,:],\n",
    "    'biphasic': plasma_map[5,:],\n",
    "    'negative': plasma_map[2,:],\n",
    "    'unresponsive': 'dimgrey'\n",
    "}\n",
    "colors = {\n",
    "    'gaze': 'firebrick',\n",
    "    'comp': 'mediumblue',\n",
    "    'rc': 'indigo'\n",
    "}\n",
    "psth_bins = np.arange(-1,1.001,1/1000)"
   ]
  },
  {
   "cell_type": "markdown",
   "id": "694d26b5-0428-4de8-9a92-7ff7b5f6d5e0",
   "metadata": {},
   "source": [
    "# set up some plotting functions"
   ]
  },
  {
   "cell_type": "code",
   "execution_count": 5,
   "id": "51dd5f14-d246-45d2-9578-b464dbe7ee2b",
   "metadata": {},
   "outputs": [],
   "source": [
    "def drop_nan_along(x, axis=1):\n",
    "    # axis=1 will drop along columns (i.e. any rows with NaNs will be dropped)\n",
    "    x = x[~np.isnan(x).any(axis=axis)]\n",
    "    return x"
   ]
  },
  {
   "cell_type": "code",
   "execution_count": 6,
   "id": "d742d3c9-e965-4a5c-aac2-e37ffaead861",
   "metadata": {},
   "outputs": [],
   "source": [
    "def jitter_ax(center, size):\n",
    "    return np.ones(size)+np.random.uniform(center-0.2, center+0.2, size)"
   ]
  },
  {
   "cell_type": "code",
   "execution_count": 7,
   "id": "f3b392bf-f281-4fb2-a5ad-52a94a1a4ccb",
   "metadata": {},
   "outputs": [],
   "source": [
    "def plot_cprop_scatter(panel, data, prop_name, use_median=False):\n",
    "    for c, cluster in enumerate(['early','late','biphasic','negative']):\n",
    "        cluster_data = data[prop_name][data['gazecluster']==cluster]\n",
    "        x_jitter = np.random.uniform(c-0.2, c+0.2, np.size(cluster_data,0))\n",
    "        panel.plot(x_jitter, cluster_data, '.', color=cat_cmap[cluster], markersize=2)\n",
    "        if use_median:\n",
    "            hline = np.nanmedian(cluster_data)\n",
    "        elif not use_median:\n",
    "            hline = np.nanmean(cluster_data)\n",
    "        panel.hlines(hline, c-0.2, c+0.2, color='k', linewidth=2)\n",
    "        err = np.std(cluster_data) / np.sqrt(np.size(cluster_data))\n",
    "        panel.vlines(c, hline-err, hline+err, color='k', linewidth=2)\n",
    "        panel.set_xticks(range(4), ['early','late','biphasic','negative'])"
   ]
  },
  {
   "cell_type": "code",
   "execution_count": 8,
   "id": "aae33b20-4985-4e33-a7f6-080324a43ff1",
   "metadata": {},
   "outputs": [],
   "source": [
    "def plot_tempseq(panel, tseq, return_img=False, freev=None):\n",
    "    panel.set_xlabel('time (msec)')\n",
    "    panel.set_ylim([np.size(tseq,0),0])\n",
    "    vmin = -0.75; vmax = 0.75\n",
    "    if freev is not None:\n",
    "        vmin = -freev\n",
    "        vmax = freev\n",
    "    img = panel.imshow(tseq, cmap='coolwarm', vmin=vmin, vmax=vmax)\n",
    "    panel.set_xlim([800,1400])\n",
    "    panel.set_xticks(np.linspace(800,1400,4), labels=np.linspace(-200,400,4).astype(int))\n",
    "    panel.vlines(1000, 0, np.size(tseq,0), color='k', linestyle='dashed', linewidth=1)\n",
    "    if return_img:\n",
    "        return img"
   ]
  },
  {
   "cell_type": "code",
   "execution_count": 17,
   "id": "11874b68-ccfb-4021-88fa-7cde8d04d78a",
   "metadata": {},
   "outputs": [
    {
     "data": {
      "text/plain": [
       "['FmLt_gazeshift_left_saccTimes_dHead',\n",
       " 'FmLt_gazeshift_right_saccTimes_dHead',\n",
       " 'FmLt_comp_left_saccTimes_dHead',\n",
       " 'FmLt_comp_right_saccTimes_dHead',\n",
       " 'FmLt_gazeshift_left_saccTimes_dHead1',\n",
       " 'FmLt_gazeshift_right_saccTimes_dHead1',\n",
       " 'FmLt_comp_left_saccTimes_dHead1',\n",
       " 'FmLt_comp_right_saccTimes_dHead1']"
      ]
     },
     "execution_count": 17,
     "metadata": {},
     "output_type": "execute_result"
    }
   ],
   "source": [
    "[col for col in hffm.columns if 'saccT' in col]"
   ]
  },
  {
   "cell_type": "code",
   "execution_count": 14,
   "id": "14738f0c-f716-4565-a245-0086ec9e444f",
   "metadata": {},
   "outputs": [
    {
     "data": {
      "text/plain": [
       "0      [0.2843270000012126, 1.6037250000008498, 1.851...\n",
       "1      [0.2843270000012126, 1.6037250000008498, 1.851...\n",
       "2      [0.2843270000012126, 1.6037250000008498, 1.851...\n",
       "3      [0.2843270000012126, 1.6037250000008498, 1.851...\n",
       "4      [0.2843270000012126, 1.6037250000008498, 1.851...\n",
       "                             ...                        \n",
       "711    [9.179764000000432, 9.195764000003692, 10.7477...\n",
       "712    [9.179764000000432, 9.195764000003692, 10.7477...\n",
       "713    [9.179764000000432, 9.195764000003692, 10.7477...\n",
       "714    [9.179764000000432, 9.195764000003692, 10.7477...\n",
       "715    [9.179764000000432, 9.195764000003692, 10.7477...\n",
       "Name: FmLt_gazeshift_left_saccTimes_dHead, Length: 716, dtype: object"
      ]
     },
     "execution_count": 14,
     "metadata": {},
     "output_type": "execute_result"
    }
   ],
   "source": [
    "for ind, row in hffm.iterrows():\n",
    "    \n",
    "    saccT = row['FmLt_gazeshift_left_saccTimes_dHead1'].copy()\n",
    "    \n",
    "    saccT"
   ]
  },
  {
   "cell_type": "code",
   "execution_count": 12,
   "id": "7d28cfec-3f04-448b-b37a-3251f12c1a67",
   "metadata": {},
   "outputs": [
    {
     "data": {
      "text/plain": [
       "array([66.15516662, 38.64384415, 41.52417184, ...,         nan,\n",
       "               nan,         nan])"
      ]
     },
     "execution_count": 12,
     "metadata": {},
     "output_type": "execute_result"
    }
   ],
   "source": [
    "plt.scatter(hffm.loc[0,''], hffm.loc[0]"
   ]
  },
  {
   "cell_type": "code",
   "execution_count": 141,
   "id": "f4afee0e-b2a3-4d5f-ac03-b7452bedd30c",
   "metadata": {},
   "outputs": [],
   "source": [
    "row = hffm.iloc[215].copy()"
   ]
  },
  {
   "cell_type": "code",
   "execution_count": 142,
   "id": "9390cf62-2d02-4567-981f-5cba5159ac45",
   "metadata": {},
   "outputs": [],
   "source": [
    "def interp_nans(y):\n",
    "    nans = np.isnan(y)\n",
    "    x = lambda z: z.nonzero()[0]\n",
    "    \n",
    "    y[nans] = np.interp(x(nans), x(~nans), y[~nans])\n",
    "    \n",
    "    return y"
   ]
  },
  {
   "cell_type": "code",
   "execution_count": 172,
   "id": "ae575b7d-5421-402b-a62f-7dd7da5d3331",
   "metadata": {},
   "outputs": [],
   "source": [
    "# comp saccade times\n",
    "saccTcomp = []\n",
    "saccTcomp.extend(row['FmLt_comp_left_saccTimes_dHead1'].copy())\n",
    "saccTcomp.extend(row['FmLt_comp_right_saccTimes_dHead1'].copy())"
   ]
  },
  {
   "cell_type": "code",
   "execution_count": 174,
   "id": "a0d8b358-b4a1-452d-a6c8-5ed105b5265d",
   "metadata": {},
   "outputs": [],
   "source": [
    "compspeeds_arr = np.zeros([len(saccTcomp), 4, 21])\n",
    "    # spike rate, dEye speed, dGaze speed\n",
    "\n",
    "for i, t in enumerate(saccTcomp):\n",
    "    saccInd = np.nanargmin(np.abs(eyeT-t))\n",
    "    indRange = np.arange(saccInd-10, saccInd+11)\n",
    "    # win_eye_speed = dEye[saccInd-3:saccInd+3].copy()\n",
    "    # saccSpeed = np.abs(np.nanmax(win_eye_speed) - np.nanmin(win_eye_speed))\n",
    "    \n",
    "    compspeeds_arr[i,0,:] = binned_rate[indRange]\n",
    "    \n",
    "    compspeeds_arr[i,1,:] = dEye[indRange]\n",
    "    \n",
    "    compspeeds_arr[i,2,:] = dHead[indRange]\n",
    "    \n",
    "    compspeeds_arr[i,3,:] = dGaze[indRange]\n",
    "    "
   ]
  },
  {
   "cell_type": "code",
   "execution_count": 143,
   "id": "8edbbe85-681b-433e-8ea5-fff3a1f27f92",
   "metadata": {},
   "outputs": [],
   "source": [
    "# gaze saccade times\n",
    "saccT = []\n",
    "saccT.extend(row['FmLt_gazeshift_left_saccTimes_dHead1'].copy())\n",
    "saccT.extend(row['FmLt_gazeshift_right_saccTimes_dHead1'].copy())\n",
    "\n",
    "eyeT = interp_nans(row['FmLt_eyeT'].copy())\n",
    "dEye = row['FmLt_dEye_dps'].copy()\n",
    "dHead = row['FmLt_dHead'].copy()\n",
    "dGaze = row['FmLt_dGaze'].copy()\n",
    "spikeT = row['FmLt_spikeT'].copy()\n",
    "\n",
    "# spike binning\n",
    "# dT = 1/60\n",
    "# modelT = np.arange(0, np.nanmax(eyeT), dT)\n",
    "# bins = np.append(modelT, modelT[-1]+dT)\n",
    "binned_rate, _ = np.histogram(spikeT, eyeT)\n",
    "# binned_rate = binned_rate / dT"
   ]
  },
  {
   "cell_type": "code",
   "execution_count": 144,
   "id": "23e57041-f077-446a-be58-861afa8c5ad8",
   "metadata": {},
   "outputs": [],
   "source": [
    "speeds_arr = np.zeros([len(saccT), 4, 21])\n",
    "    # spike rate, dEye speed, dGaze speed\n",
    "\n",
    "for i, t in enumerate(saccT):\n",
    "    saccInd = np.nanargmin(np.abs(eyeT-t))\n",
    "    indRange = np.arange(saccInd-10, saccInd+11)\n",
    "    # win_eye_speed = dEye[saccInd-3:saccInd+3].copy()\n",
    "    # saccSpeed = np.abs(np.nanmax(win_eye_speed) - np.nanmin(win_eye_speed))\n",
    "    \n",
    "    speeds_arr[i,0,:] = binned_rate[indRange]\n",
    "    \n",
    "    speeds_arr[i,1,:] = dEye[indRange]\n",
    "    \n",
    "    speeds_arr[i,2,:] = dHead[indRange]\n",
    "    \n",
    "    speeds_arr[i,3,:] = dGaze[indRange]\n",
    "    "
   ]
  },
  {
   "cell_type": "code",
   "execution_count": 170,
   "id": "7a4bea67-1d1d-4973-8621-99fbed3fd566",
   "metadata": {},
   "outputs": [
    {
     "data": {
      "image/png": "[encoded data removed]",
      "text/plain": [
       "<Figure size 504x144 with 3 Axes>"
      ]
     },
     "metadata": {
      "needs_background": "light"
     },
     "output_type": "display_data"
    }
   ],
   "source": [
    "fig, [ax0,ax1,ax2] = plt.subplots(1,3,figsize=(7,2))\n",
    "\n",
    "ax0.hist(speeds_arr[:,1,10], histtype='step', color='k')\n",
    "\n",
    "ax1.hist(speeds_arr[:,2,10])\n",
    "\n",
    "ax2.hist(speeds_arr[:,3,10])\n",
    "\n",
    "\n",
    "fig.tight_layout()"
   ]
  },
  {
   "cell_type": "code",
   "execution_count": 176,
   "id": "8b0e6098-da90-4761-ad17-504f3e513f4e",
   "metadata": {},
   "outputs": [],
   "source": [
    "sp_before = np.sum(speeds_arr[:,0,:9], axis=1)\n",
    "sp_after = np.sum(speeds_arr[:,0,10:], axis=1)"
   ]
  },
  {
   "cell_type": "code",
   "execution_count": 1,
   "id": "3e48f43c-5f48-4680-82b6-75dd918218a9",
   "metadata": {},
   "outputs": [
    {
     "ename": "NameError",
     "evalue": "name 'plt' is not defined",
     "output_type": "error",
     "traceback": [
      "\u001b[0;31m---------------------------------------------------------------------------\u001b[0m",
      "\u001b[0;31mNameError\u001b[0m                                 Traceback (most recent call last)",
      "Input \u001b[0;32mIn [1]\u001b[0m, in \u001b[0;36m<module>\u001b[0;34m\u001b[0m\n\u001b[0;32m----> 1\u001b[0m \u001b[43mplt\u001b[49m\u001b[38;5;241m.\u001b[39mbar(speeds_arr[:,\u001b[38;5;241m0\u001b[39m,\u001b[38;5;241m10\u001b[39m], speeds_arr[:,\u001b[38;5;241m1\u001b[39m,\u001b[38;5;241m10\u001b[39m])\n",
      "\u001b[0;31mNameError\u001b[0m: name 'plt' is not defined"
     ]
    }
   ],
   "source": [
    "plt.bar(speeds_arr[:,0,10], speeds_arr[:,1,10])"
   ]
  },
  {
   "cell_type": "code",
   "execution_count": 161,
   "id": "a9a8c1e3-f454-4d91-9c8e-ef617d9fbe3f",
   "metadata": {},
   "outputs": [
    {
     "data": {
      "text/plain": [
       "(array([   9.,  104.,  638., 1569., 1145.,  853.,  444.,  142.,   14.,\n",
       "           3.]),\n",
       " array([-1498.58020098, -1128.39589976,  -758.21159855,  -388.02729734,\n",
       "          -17.84299612,   352.34130509,   722.52560631,  1092.70990752,\n",
       "         1462.89420874,  1833.07850995,  2203.26281116]),\n",
       " <BarContainer object of 10 artists>)"
      ]
     },
     "execution_count": 161,
     "metadata": {},
     "output_type": "execute_result"
    },
    {
     "data": {
      "image/png": "[encoded data removed]",
      "text/plain": [
       "<Figure size 432x288 with 1 Axes>"
      ]
     },
     "metadata": {
      "needs_background": "light"
     },
     "output_type": "display_data"
    }
   ],
   "source": [
    "plt.hist(speeds_arr[:,1,10])"
   ]
  },
  {
   "cell_type": "code",
   "execution_count": null,
   "id": "773f1dc2-63b4-4d93-b541-e7edaf3cdd76",
   "metadata": {},
   "outputs": [],
   "source": []
  },
  {
   "cell_type": "code",
   "execution_count": 157,
   "id": "44872b09-26c6-4e91-ba01-80d230e3bb40",
   "metadata": {},
   "outputs": [],
   "source": [
    "def psth_modind(psth):\n",
    "\n",
    "    psth = psth.astype(float)\n",
    "    \n",
    "    pre = np.nanmean(psth[0:9])\n",
    "    post = np.nanmean(psth[10:])\n",
    "    \n",
    "    # diff / sum\n",
    "    \n",
    "    mod = np.max(np.abs(use[10:]))\n",
    "    \n",
    "    return mod"
   ]
  },
  {
   "cell_type": "code",
   "execution_count": null,
   "id": "3d446a55-327b-492b-afcd-0fdfde77c5cc",
   "metadata": {},
   "outputs": [],
   "source": [
    "for i in range(np.size(speeds_arr,0)):\n",
    "    psth_modind()\n",
    "    "
   ]
  },
  {
   "cell_type": "code",
   "execution_count": 151,
   "id": "70efca1a-8beb-44fc-b819-1953a0c83318",
   "metadata": {},
   "outputs": [
    {
     "data": {
      "text/plain": [
       "{0: -10,\n",
       " 1: -9,\n",
       " 2: -8,\n",
       " 3: -7,\n",
       " 4: -6,\n",
       " 5: -5,\n",
       " 6: -4,\n",
       " 7: -3,\n",
       " 8: -2,\n",
       " 9: -1,\n",
       " 10: 0,\n",
       " 11: 1,\n",
       " 12: 2,\n",
       " 13: 3,\n",
       " 14: 4,\n",
       " 15: 5,\n",
       " 16: 6,\n",
       " 17: 7,\n",
       " 18: 8,\n",
       " 19: 9,\n",
       " 20: 10}"
      ]
     },
     "execution_count": 151,
     "metadata": {},
     "output_type": "execute_result"
    }
   ],
   "source": [
    "saccInd = 0\n",
    "dict(zip(range(0,21),np.arange(saccInd-10, saccInd+11)))"
   ]
  },
  {
   "cell_type": "code",
   "execution_count": 156,
   "id": "231ed776-81a6-4561-a20a-cbb5f68bf50b",
   "metadata": {},
   "outputs": [
    {
     "data": {
      "text/plain": [
       "(4921,)"
      ]
     },
     "execution_count": 156,
     "metadata": {},
     "output_type": "execute_result"
    }
   ],
   "source": []
  },
  {
   "cell_type": "code",
   "execution_count": null,
   "id": "1cb48519-74f7-40a8-b3de-1d133963d322",
   "metadata": {},
   "outputs": [],
   "source": []
  },
  {
   "cell_type": "code",
   "execution_count": null,
   "id": "1550c6dd-ff79-4c16-a3c6-bd7d61be5309",
   "metadata": {},
   "outputs": [],
   "source": [
    "np.nanmean(speeds_arr[:,3,0:10],axis=1).shape"
   ]
  },
  {
   "cell_type": "code",
   "execution_count": 150,
   "id": "55a71f35-5f43-4f23-a35f-44320ddfe9e0",
   "metadata": {},
   "outputs": [
    {
     "data": {
      "text/plain": [
       "<matplotlib.colorbar.Colorbar at 0x7face18b0c10>"
      ]
     },
     "execution_count": 150,
     "metadata": {},
     "output_type": "execute_result"
    },
    {
     "data": {
      "image/png": "[encoded data removed]",
      "text/plain": [
       "<Figure size 720x720 with 2 Axes>"
      ]
     },
     "metadata": {
      "needs_background": "light"
     },
     "output_type": "display_data"
    }
   ],
   "source": [
    "fig, ax = plt.subplots(1,1,figsize=(10,10))\n",
    "colorbar_obj = ax.imshow(speeds_arr[:,0,:], aspect=0.005, cmap='Reds')\n",
    "ax.set_xticks(np.arange(0,21,2), labels=np.arange(-10,11,2))\n",
    "ax.set_ylabel('saccades')\n",
    "ax.set_xlabel('eyecam frames')\n",
    "ax.vlines(10, 0, np.size(speeds_arr,0), color='k')\n",
    "ax.set_ylim([0, np.size(speeds_arr,0)])\n",
    "ax.set_xlim([0, 21])\n",
    "\n",
    "fig.colorbar(colorbar_obj)"
   ]
  },
  {
   "cell_type": "code",
   "execution_count": 124,
   "id": "ceadc53c-d945-4f69-9213-c6d1e0638542",
   "metadata": {},
   "outputs": [
    {
     "data": {
      "text/plain": [
       "array([-10,  -8,  -6,  -4,  -2,   0,   2,   4,   6,   8,  10])"
      ]
     },
     "execution_count": 124,
     "metadata": {},
     "output_type": "execute_result"
    }
   ],
   "source": [
    "np.arange(-10,11,2)"
   ]
  },
  {
   "cell_type": "code",
   "execution_count": 125,
   "id": "30411f5c-939d-486c-8b81-9c6e7f06c8ca",
   "metadata": {},
   "outputs": [
    {
     "data": {
      "text/plain": [
       "array([ 0,  2,  4,  6,  8, 10, 12, 14, 16, 18, 20])"
      ]
     },
     "execution_count": 125,
     "metadata": {},
     "output_type": "execute_result"
    }
   ],
   "source": [
    "np.arange(0,21,2)"
   ]
  },
  {
   "cell_type": "code",
   "execution_count": 114,
   "id": "0ff789cd-9b2d-4a96-a39a-a91b4ff7158a",
   "metadata": {},
   "outputs": [
    {
     "data": {
      "text/plain": [
       "(2692, 21)"
      ]
     },
     "execution_count": 114,
     "metadata": {},
     "output_type": "execute_result"
    }
   ],
   "source": [
    "speeds_arr[:,0,:].shape"
   ]
  }
 ],
 "metadata": {
  "kernelspec": {
   "display_name": "Python [conda env:ephys0]",
   "language": "python",
   "name": "conda-env-ephys0-py"
  },
  "language_info": {
   "codemirror_mode": {
    "name": "ipython",
    "version": 3
   },
   "file_extension": ".py",
   "mimetype": "text/x-python",
   "name": "python",
   "nbconvert_exporter": "python",
   "pygments_lexer": "ipython3",
   "version": "3.8.12"
  }
 },
 "nbformat": 4,
 "nbformat_minor": 5
}
