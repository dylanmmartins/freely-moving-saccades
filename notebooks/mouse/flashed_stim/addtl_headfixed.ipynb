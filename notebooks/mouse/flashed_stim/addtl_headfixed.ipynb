{
 "cells": [
  {
   "cell_type": "code",
   "execution_count": 1,
   "metadata": {},
   "outputs": [],
   "source": [
    "import sys, os\n",
    "sys.path.insert(0, '/home/niell_lab/Documents/github/FreelyMovingEphys/')\n",
    "from projects.ephys.addtl_headfixed import AddtlHF\n",
    "from src.utils.path import list_subdirs\n",
    "import matplotlib.pyplot as plt\n",
    "import numpy as np"
   ]
  },
  {
   "cell_type": "code",
   "execution_count": 2,
   "metadata": {},
   "outputs": [],
   "source": [
    "base_path = '/home/niell_lab/Goeppert/nlab-nas/Dylan/freely_moving_ephys/ephys_recordings/'\n",
    "recordings = [\n",
    "    '062921/G6HCK1ALTRN',\n",
    "    '070921/J553RT',\n",
    "    '100821/J559TT',\n",
    "    '101521/J559NC',\n",
    "    '101621/J559NC',\n",
    "    '102621/J558NC',\n",
    "    '102721/J558NC',\n",
    "    '102821/J570LT',\n",
    "    '110321/J558LT',\n",
    "    '110421/J558LT',\n",
    "    '110421/J569LT',\n",
    "    '110521/J569LT',\n",
    "    '122021/J581RT',\n",
    "    '020222/J577TT',\n",
    "    '020322/J577TT',\n",
    "    '020422/J577RT',\n",
    "    '020522/J577RT'\n",
    "]"
   ]
  },
  {
   "cell_type": "code",
   "execution_count": null,
   "metadata": {},
   "outputs": [],
   "source": [
    "# base_path = '/home/niell_lab/Goeppert/nlab-nas/Dylan/freely_moving_ephys/ephys_recordings/'\n",
    "# recordings = [\n",
    "#     '070921/J553RT'\n",
    "# ]"
   ]
  },
  {
   "cell_type": "code",
   "execution_count": 3,
   "metadata": {},
   "outputs": [
    {
     "name": "stdout",
     "output_type": "stream",
     "text": [
      "062921/G6HCK1ALTRN\n",
      "sparse noise\n"
     ]
    },
    {
     "name": "stderr",
     "output_type": "stream",
     "text": [
      "73it [00:15,  4.62it/s]\n"
     ]
    },
    {
     "name": "stdout",
     "output_type": "stream",
     "text": [
      "reversing checkerboard\n"
     ]
    },
    {
     "name": "stderr",
     "output_type": "stream",
     "text": [
      "73it [00:00, 162.97it/s]\n"
     ]
    },
    {
     "name": "stdout",
     "output_type": "stream",
     "text": [
      "saving /home/niell_lab/Goeppert/nlab-nas/Dylan/freely_moving_ephys/ephys_recordings/062921/G6HCK1ALTRN/addtlhf_props.npz\n",
      "070921/J553RT\n",
      "sparse noise\n"
     ]
    },
    {
     "name": "stderr",
     "output_type": "stream",
     "text": [
      "128it [00:33,  3.77it/s]\n"
     ]
    },
    {
     "name": "stdout",
     "output_type": "stream",
     "text": [
      "reversing checkerboard\n"
     ]
    },
    {
     "name": "stderr",
     "output_type": "stream",
     "text": [
      "128it [00:01, 121.55it/s]\n"
     ]
    },
    {
     "name": "stdout",
     "output_type": "stream",
     "text": [
      "saving /home/niell_lab/Goeppert/nlab-nas/Dylan/freely_moving_ephys/ephys_recordings/070921/J553RT/addtlhf_props.npz\n",
      "101521/J559NC\n",
      "sparse noise\n"
     ]
    },
    {
     "name": "stderr",
     "output_type": "stream",
     "text": [
      "67it [00:21,  3.16it/s]\n"
     ]
    },
    {
     "name": "stdout",
     "output_type": "stream",
     "text": [
      "reversing checkerboard\n"
     ]
    },
    {
     "name": "stderr",
     "output_type": "stream",
     "text": [
      "67it [00:00, 94.42it/s]\n"
     ]
    },
    {
     "name": "stdout",
     "output_type": "stream",
     "text": [
      "saving /home/niell_lab/Goeppert/nlab-nas/Dylan/freely_moving_ephys/ephys_recordings/101521/J559NC/addtlhf_props.npz\n",
      "102621/J558NC\n",
      "sparse noise\n"
     ]
    },
    {
     "name": "stderr",
     "output_type": "stream",
     "text": [
      "102it [00:26,  3.91it/s]\n"
     ]
    },
    {
     "name": "stdout",
     "output_type": "stream",
     "text": [
      "reversing checkerboard\n"
     ]
    },
    {
     "name": "stderr",
     "output_type": "stream",
     "text": [
      "102it [00:00, 140.09it/s]\n"
     ]
    },
    {
     "name": "stdout",
     "output_type": "stream",
     "text": [
      "saving /home/niell_lab/Goeppert/nlab-nas/Dylan/freely_moving_ephys/ephys_recordings/102621/J558NC/addtlhf_props.npz\n",
      "102821/J570LT\n",
      "sparse noise\n"
     ]
    },
    {
     "name": "stderr",
     "output_type": "stream",
     "text": [
      "56it [00:19,  2.93it/s]\n"
     ]
    },
    {
     "name": "stdout",
     "output_type": "stream",
     "text": [
      "reversing checkerboard\n"
     ]
    },
    {
     "name": "stderr",
     "output_type": "stream",
     "text": [
      "56it [00:00, 116.81it/s]\n"
     ]
    },
    {
     "name": "stdout",
     "output_type": "stream",
     "text": [
      "saving /home/niell_lab/Goeppert/nlab-nas/Dylan/freely_moving_ephys/ephys_recordings/102821/J570LT/addtlhf_props.npz\n",
      "110321/J558LT\n",
      "sparse noise\n"
     ]
    },
    {
     "name": "stderr",
     "output_type": "stream",
     "text": [
      "35it [00:08,  4.02it/s]\n"
     ]
    },
    {
     "name": "stdout",
     "output_type": "stream",
     "text": [
      "reversing checkerboard\n"
     ]
    },
    {
     "name": "stderr",
     "output_type": "stream",
     "text": [
      "35it [00:00, 180.75it/s]\n"
     ]
    },
    {
     "name": "stdout",
     "output_type": "stream",
     "text": [
      "saving /home/niell_lab/Goeppert/nlab-nas/Dylan/freely_moving_ephys/ephys_recordings/110321/J558LT/addtlhf_props.npz\n",
      "110421/J569LT\n",
      "sparse noise\n"
     ]
    },
    {
     "name": "stderr",
     "output_type": "stream",
     "text": [
      "71it [00:17,  4.04it/s]\n"
     ]
    },
    {
     "name": "stdout",
     "output_type": "stream",
     "text": [
      "reversing checkerboard\n"
     ]
    },
    {
     "name": "stderr",
     "output_type": "stream",
     "text": [
      "71it [00:00, 143.64it/s]\n"
     ]
    },
    {
     "name": "stdout",
     "output_type": "stream",
     "text": [
      "saving /home/niell_lab/Goeppert/nlab-nas/Dylan/freely_moving_ephys/ephys_recordings/110421/J569LT/addtlhf_props.npz\n",
      "122021/J581RT\n",
      "sparse noise\n"
     ]
    },
    {
     "name": "stderr",
     "output_type": "stream",
     "text": [
      "60it [00:14,  4.16it/s]\n"
     ]
    },
    {
     "name": "stdout",
     "output_type": "stream",
     "text": [
      "reversing checkerboard\n"
     ]
    },
    {
     "name": "stderr",
     "output_type": "stream",
     "text": [
      "60it [00:00, 140.23it/s]\n"
     ]
    },
    {
     "name": "stdout",
     "output_type": "stream",
     "text": [
      "saving /home/niell_lab/Goeppert/nlab-nas/Dylan/freely_moving_ephys/ephys_recordings/122021/J581RT/addtlhf_props.npz\n",
      "020222/J577TT\n",
      "sparse noise\n"
     ]
    },
    {
     "name": "stderr",
     "output_type": "stream",
     "text": [
      "50it [00:20,  2.46it/s]\n"
     ]
    },
    {
     "name": "stdout",
     "output_type": "stream",
     "text": [
      "reversing checkerboard\n"
     ]
    },
    {
     "name": "stderr",
     "output_type": "stream",
     "text": [
      "50it [00:00, 132.22it/s]\n"
     ]
    },
    {
     "name": "stdout",
     "output_type": "stream",
     "text": [
      "saving /home/niell_lab/Goeppert/nlab-nas/Dylan/freely_moving_ephys/ephys_recordings/020222/J577TT/addtlhf_props.npz\n",
      "020422/J577RT\n",
      "sparse noise\n"
     ]
    },
    {
     "name": "stderr",
     "output_type": "stream",
     "text": [
      "130it [00:29,  4.44it/s]\n"
     ]
    },
    {
     "name": "stdout",
     "output_type": "stream",
     "text": [
      "reversing checkerboard\n"
     ]
    },
    {
     "name": "stderr",
     "output_type": "stream",
     "text": [
      "130it [00:01, 126.36it/s]\n"
     ]
    },
    {
     "name": "stdout",
     "output_type": "stream",
     "text": [
      "saving /home/niell_lab/Goeppert/nlab-nas/Dylan/freely_moving_ephys/ephys_recordings/020422/J577RT/addtlhf_props.npz\n"
     ]
    }
   ],
   "source": [
    "for i, r in enumerate(recordings):\n",
    "    recpath = os.path.join(base_path, r)\n",
    "    recnames = list_subdirs(recpath)\n",
    "    if 'hf1_wn' not in recnames:\n",
    "        continue\n",
    "    print(r)\n",
    "    ahf = AddtlHF(recpath)\n",
    "    print('sparse noise')\n",
    "    ahf.calc_Sn_psth()\n",
    "    print('reversing checkerboard')\n",
    "    ahf.calc_Rc_psth()\n",
    "    ahf.save()"
   ]
  },
  {
   "cell_type": "code",
   "execution_count": null,
   "metadata": {},
   "outputs": [],
   "source": [
    "import sys, os\n",
    "sys.path.insert(0, '/home/niell_lab/Documents/github/FreelyMovingEphys/')\n",
    "from projects.ephys.population import Population"
   ]
  },
  {
   "cell_type": "code",
   "execution_count": null,
   "metadata": {},
   "outputs": [],
   "source": [
    "hffm_savepath = '/home/niell_lab/data/freely_moving_ephys/batch_files/021022/hffm'\n",
    "hffm = Population(savepath=hffm_savepath)\n",
    "hffm.load(fname='hffm_pop2')"
   ]
  },
  {
   "cell_type": "code",
   "execution_count": null,
   "metadata": {},
   "outputs": [],
   "source": [
    "pop = hffm.data[hffm.data['session']=='062921_G6HCK1ALTRN_control_Rig2'].copy().reset_index(drop=True)"
   ]
  },
  {
   "cell_type": "code",
   "execution_count": null,
   "metadata": {},
   "outputs": [],
   "source": [
    "vid = ahf.Sn_world.WORLD_video.values.astype(np.uint8).astype(float)\n",
    "worldT = ahf.Sn_world.timestamps.values\n",
    "eyeT = ahf.Sn_ephys['Sn_eyeT'].iloc[0]\n",
    "ephysT0 = ahf.Sn_ephys['t0'].iloc[0]\n",
    "\n",
    "# when does the stimulus change?\n",
    "dStim = np.sum(np.abs(np.diff(vid, axis=0)), axis=(1,2))\n",
    "flips = np.argwhere((dStim[1:]>ahf.Sn_dStim_thresh) * (dStim[:-1]<ahf.Sn_dStim_thresh)).flatten()\n",
    "\n",
    "flipT = worldT[flips]\n",
    "eventT = flipT - ephysT0\n",
    "\n",
    "rf_xy = np.zeros([len(ahf.Sn_ephys.index.values),2]) # [unit#, x/y]\n",
    "Sn_psth = np.zeros([len(ahf.Sn_ephys.index.values), len(ahf.trange_x), 4]) # shape = [unit#, time, all/ltd/on/not_rf]"
   ]
  },
  {
   "cell_type": "code",
   "execution_count": null,
   "metadata": {},
   "outputs": [],
   "source": [
    "ind = 111\n",
    "i = int(pop[pop['index']==ind].index.values)"
   ]
  },
  {
   "cell_type": "code",
   "execution_count": null,
   "metadata": {},
   "outputs": [],
   "source": [
    "unit_sta = ahf.Wn_ephys.loc[ind, 'Wn_spike_triggered_average']\n",
    "unit_stim, rf_xy[i,0], rf_xy[i,1] = ahf.calc_RF_stim(unit_sta, vid)"
   ]
  },
  {
   "cell_type": "code",
   "execution_count": null,
   "metadata": {},
   "outputs": [],
   "source": [
    "event_eyeT = np.zeros(len(eventT))\n",
    "for i, t in enumerate(eventT):\n",
    "    event_eyeT[i] = eyeT[np.argmin(np.abs(t-eyeT))]\n",
    "gray = np.nanmedian(unit_stim)\n",
    "\n",
    "shifted_flips = flips+ahf.frameshift\n",
    "if np.max(shifted_flips) > (unit_stim.size-ahf.frameshift):\n",
    "    shifted_flips = shifted_flips[:-1]\n",
    "    event_eyeT = event_eyeT[:-1]\n",
    "    \n",
    "rf_off = event_eyeT.copy(); rf_on = event_eyeT.copy(); only_global = event_eyeT.copy()\n",
    "\n",
    "off_bool = unit_stim[shifted_flips]<(gray-ahf.Sn_rf_change_thresh)\n",
    "offT = rf_off[off_bool] # light-to-dark transitions, as a timestamp in ephys eyeT timebase\n",
    "offInds = flips[np.where(off_bool)[0]]\n",
    "\n",
    "on_bool = unit_stim[shifted_flips]>(gray+ahf.Sn_rf_change_thresh)\n",
    "onT = rf_on[on_bool] # same for dark-to-light transitions\n",
    "onInds = flips[np.where(on_bool)[0]]\n",
    "\n",
    "background_bool = (unit_stim[shifted_flips]>(gray-ahf.Sn_rf_change_thresh)) & (unit_stim[shifted_flips]<(gray+ahf.Sn_rf_change_thresh))\n",
    "backgroundT = only_global[background_bool] # stim did not change from baseline enoguh\n",
    "backgroundInds = flips[np.where(background_bool)[0]]"
   ]
  },
  {
   "cell_type": "code",
   "execution_count": null,
   "metadata": {},
   "outputs": [],
   "source": [
    "rf_off.size"
   ]
  },
  {
   "cell_type": "code",
   "execution_count": null,
   "metadata": {},
   "outputs": [],
   "source": [
    "np.max(shifted_flips)"
   ]
  },
  {
   "cell_type": "code",
   "execution_count": null,
   "metadata": {},
   "outputs": [],
   "source": [
    "unit_stim.size"
   ]
  },
  {
   "cell_type": "code",
   "execution_count": null,
   "metadata": {},
   "outputs": [],
   "source": [
    "data = np.load('/home/niell_lab/Goeppert/nlab-nas/Dylan/freely_moving_ephys/ephys_recordings/070921/J553RT/addtlhf_props.npz')"
   ]
  },
  {
   "cell_type": "code",
   "execution_count": null,
   "metadata": {},
   "outputs": [],
   "source": [
    "sn_psth = data['sn']"
   ]
  },
  {
   "cell_type": "code",
   "execution_count": null,
   "metadata": {},
   "outputs": [],
   "source": [
    "rf_cent = data['rf']"
   ]
  },
  {
   "cell_type": "code",
   "execution_count": null,
   "metadata": {},
   "outputs": [],
   "source": [
    "trange_x = np.array([-0.9875, -0.9625, -0.9375, -0.9125, -0.8875, -0.8625, -0.8375,\n",
    "       -0.8125, -0.7875, -0.7625, -0.7375, -0.7125, -0.6875, -0.6625,\n",
    "       -0.6375, -0.6125, -0.5875, -0.5625, -0.5375, -0.5125, -0.4875,\n",
    "       -0.4625, -0.4375, -0.4125, -0.3875, -0.3625, -0.3375, -0.3125,\n",
    "       -0.2875, -0.2625, -0.2375, -0.2125, -0.1875, -0.1625, -0.1375,\n",
    "       -0.1125, -0.0875, -0.0625, -0.0375, -0.0125,  0.0125,  0.0375,\n",
    "        0.0625,  0.0875,  0.1125,  0.1375,  0.1625,  0.1875,  0.2125,\n",
    "        0.2375,  0.2625,  0.2875,  0.3125,  0.3375,  0.3625,  0.3875,\n",
    "        0.4125,  0.4375,  0.4625,  0.4875,  0.5125,  0.5375,  0.5625,\n",
    "        0.5875,  0.6125,  0.6375,  0.6625,  0.6875,  0.7125,  0.7375,\n",
    "        0.7625,  0.7875,  0.8125,  0.8375,  0.8625,  0.8875,  0.9125,\n",
    "        0.9375,  0.9625,  0.9875,  1.0125,  1.0375,  1.0625])"
   ]
  },
  {
   "cell_type": "code",
   "execution_count": null,
   "metadata": {},
   "outputs": [],
   "source": [
    "n_cells = np.size(sn_psth,0)\n",
    "n_cells"
   ]
  },
  {
   "cell_type": "code",
   "execution_count": null,
   "metadata": {},
   "outputs": [],
   "source": [
    "vid = ahf.Sn_world.WORLD_video.values.astype(np.uint8).astype(float)"
   ]
  },
  {
   "cell_type": "code",
   "execution_count": null,
   "metadata": {},
   "outputs": [],
   "source": [
    "worldT = ahf.Sn_world.timestamps.values\n",
    "eyeT = ahf.Sn_ephys['Sn_eyeT'].iloc[0]\n",
    "ephysT0 = ahf.Sn_ephys['t0'].iloc[0]\n",
    "\n",
    "# when does the stimulus change?\n",
    "dStim = np.sum(np.abs(np.diff(vid, axis=0)), axis=(1,2))\n",
    "flips = np.argwhere((dStim[1:]>ahf.Sn_dStim_thresh) * (dStim[:-1]<ahf.Sn_dStim_thresh)).flatten()"
   ]
  },
  {
   "cell_type": "code",
   "execution_count": null,
   "metadata": {},
   "outputs": [],
   "source": [
    "flipT = worldT[flips]\n",
    "eventT = flipT - ephysT0"
   ]
  },
  {
   "cell_type": "code",
   "execution_count": null,
   "metadata": {},
   "outputs": [],
   "source": [
    "flips[1]"
   ]
  },
  {
   "cell_type": "code",
   "execution_count": null,
   "metadata": {},
   "outputs": [],
   "source": [
    "flips = flips[np.diff(flips,prepend=0)>3]"
   ]
  },
  {
   "cell_type": "code",
   "execution_count": null,
   "metadata": {},
   "outputs": [],
   "source": [
    "start = 24.5\n",
    "plt.plot(dStim)\n",
    "plt.hlines(ahf.Sn_dStim_thresh, 0, len(dStim), color='g')\n",
    "plt.xlim([start*60,(start+1)*60])\n",
    "plt.ylim([0,5e5])\n",
    "plt.vlines(flips[np.where(rf_on_frames)[0]], 0,ahf.Sn_dStim_thresh,'r')\n",
    "plt.vlines(flips[np.where(rf_off_frames)[0]], 0,ahf.Sn_dStim_thresh,'b')"
   ]
  },
  {
   "cell_type": "code",
   "execution_count": null,
   "metadata": {
    "scrolled": true
   },
   "outputs": [],
   "source": [
    "for i in range(1419,1440):\n",
    "    plt.figure()\n",
    "    plt.title(i)\n",
    "    plt.imshow(vid[i,:,:], cmap='gray')"
   ]
  },
  {
   "cell_type": "code",
   "execution_count": null,
   "metadata": {},
   "outputs": [],
   "source": [
    "rf_xy = np.zeros([len(ahf.Sn_ephys.index.values),2]) # [unit#, x/y]\n",
    "Sn_psth = np.zeros([len(ahf.Sn_ephys.index.values), len(ahf.trange_x), 4]) # shape = [unit#, time, all/ltd/d2l/not_rf]\n",
    "i=3; ind=31\n",
    "unit_sta = ahf.Wn_ephys.loc[ind, 'Wn_spike_triggered_average']\n",
    "unit_stim, rf_xy[i,0], rf_xy[i,1] = ahf.calc_RF_stim(unit_sta, vid)\n",
    "all_eventT, rf_l2d_eventT, rf_d2l_eventT, only_global_eventT = ahf.sort_lum(unit_stim, eventT, eyeT, flips)"
   ]
  },
  {
   "cell_type": "code",
   "execution_count": null,
   "metadata": {},
   "outputs": [],
   "source": [
    "all_eventT.shape"
   ]
  },
  {
   "cell_type": "code",
   "execution_count": null,
   "metadata": {},
   "outputs": [],
   "source": [
    "only_global.shape"
   ]
  },
  {
   "cell_type": "code",
   "execution_count": null,
   "metadata": {},
   "outputs": [],
   "source": [
    "flips.shape"
   ]
  },
  {
   "cell_type": "code",
   "execution_count": null,
   "metadata": {},
   "outputs": [],
   "source": [
    "(unit_stim[flips]<(gray-ahf.Sn_rf_change_thresh)).shape"
   ]
  },
  {
   "cell_type": "code",
   "execution_count": null,
   "metadata": {},
   "outputs": [],
   "source": [
    "flips"
   ]
  },
  {
   "cell_type": "code",
   "execution_count": null,
   "metadata": {},
   "outputs": [],
   "source": []
  },
  {
   "cell_type": "code",
   "execution_count": null,
   "metadata": {},
   "outputs": [],
   "source": [
    "rf_l2d = all_eventT.copy(); rf_d2l = all_eventT.copy(); only_global = all_eventT.copy()\n",
    "gray = np.nanmedian(unit_stim)\n",
    "rf_off_frames = unit_stim[flips+4]<(gray-ahf.Sn_rf_change_thresh)\n",
    "rf_l2d = rf_l2d[rf_off_frames] # light-to-dark transitions, as a timestamp in ephys eyeT timebase\n",
    "rf_on_frames = unit_stim[flips+4]>(gray+ahf.Sn_rf_change_thresh)\n",
    "rf_d2l = rf_d2l[rf_off_frames] # same for dark-to-light transitions\n",
    "# only_global = only_global[(unit_stim[flips]>(gray-ahf.Sn_rf_change_thresh)) & (unit_stim[flips]<(gray+ahf.Sn_rf_change_thresh))] # stim did not change from baseline enoguh"
   ]
  },
  {
   "cell_type": "code",
   "execution_count": null,
   "metadata": {},
   "outputs": [],
   "source": [
    "start = 20\n",
    "plt.plot(unit_stim, 'k')\n",
    "plt.xlim([start*60,(start+5)*60])\n",
    "# plt.xlim([1245,1285])\n",
    "plt.vlines(flips[np.where(rf_on_frames)[0]], 150,250,'r')\n",
    "plt.vlines(flips[np.where(rf_off_frames)[0]], 150,250,'b')"
   ]
  },
  {
   "cell_type": "code",
   "execution_count": null,
   "metadata": {},
   "outputs": [],
   "source": [
    "gray"
   ]
  },
  {
   "cell_type": "code",
   "execution_count": null,
   "metadata": {},
   "outputs": [],
   "source": [
    "plt.imshow(vid[100])\n",
    "plt.colorbar()"
   ]
  },
  {
   "cell_type": "code",
   "execution_count": null,
   "metadata": {},
   "outputs": [],
   "source": [
    "for i, t in enumerate(rf_l2d):\n",
    "    "
   ]
  },
  {
   "cell_type": "code",
   "execution_count": null,
   "metadata": {},
   "outputs": [],
   "source": [
    "t = rf_l2d[3]\n",
    "np.argmin(np.abs(t-eventT))"
   ]
  },
  {
   "cell_type": "code",
   "execution_count": null,
   "metadata": {},
   "outputs": [],
   "source": [
    "i+10-3"
   ]
  },
  {
   "cell_type": "code",
   "execution_count": null,
   "metadata": {},
   "outputs": [],
   "source": [
    "unitind = 3\n",
    "plt.subplots(10,7,figsize=(50,35))\n",
    "count = 1\n",
    "for i, eventF in enumerate(rf_l2d[10:19]):\n",
    "    for f in np.arange(eyeT[i-3],eyeT[i+4]):\n",
    "        plt.subplot(10,7,count)\n",
    "        ind = np.argmin(np.abs((f+ephysT0)-eventT))\n",
    "        plt.imshow(vid[ind], cmap='gray')\n",
    "        plt.plot(rf_cent[unitind, 0]*2, rf_cent[unitind, 1]*2, '*', color='tab:green')\n",
    "        plt.title('frame={}, val={}'.format(ind, unit_stim[ind]))\n",
    "        count += 1\n",
    "plt.tight_layout()"
   ]
  },
  {
   "cell_type": "code",
   "execution_count": null,
   "metadata": {},
   "outputs": [],
   "source": [
    "f"
   ]
  },
  {
   "cell_type": "code",
   "execution_count": null,
   "metadata": {},
   "outputs": [],
   "source": [
    "count = 1\n",
    "for i, eventF in enumerate(rf_l2d[10:50]):\n",
    "    print(count, eventF, np.arange(eventF[i+10-3],eventF[i+10+4]))\n",
    "    count += 1"
   ]
  },
  {
   "cell_type": "code",
   "execution_count": null,
   "metadata": {},
   "outputs": [],
   "source": [
    "unit_sta = row['Wn_spike_triggered_average']"
   ]
  },
  {
   "cell_type": "code",
   "execution_count": null,
   "metadata": {},
   "outputs": [],
   "source": [
    "unit_sta.shape"
   ]
  },
  {
   "cell_type": "code",
   "execution_count": null,
   "metadata": {},
   "outputs": [],
   "source": [
    "row['index']"
   ]
  },
  {
   "cell_type": "code",
   "execution_count": null,
   "metadata": {},
   "outputs": [],
   "source": [
    "row"
   ]
  },
  {
   "cell_type": "code",
   "execution_count": null,
   "metadata": {},
   "outputs": [],
   "source": [
    "flat_unit_sta = unit_sta.copy().flatten()\n",
    "y, x = np.unravel_index(np.argmax(flat_unit_sta), unit_sta.shape)"
   ]
  },
  {
   "cell_type": "code",
   "execution_count": null,
   "metadata": {},
   "outputs": [],
   "source": [
    "plt.imshow(unit_sta, cmap='gray')\n",
    "plt.plot(x, y, '*', color='tab:green')"
   ]
  },
  {
   "cell_type": "code",
   "execution_count": null,
   "metadata": {},
   "outputs": [],
   "source": []
  },
  {
   "cell_type": "code",
   "execution_count": null,
   "metadata": {},
   "outputs": [],
   "source": [
    "flat_unit_sta = unit_sta.copy().flatten()\n",
    "y, x = np.unravel_index(np.argmax(flat_unit_sta), unit_sta.shape)"
   ]
  },
  {
   "cell_type": "code",
   "execution_count": null,
   "metadata": {},
   "outputs": [],
   "source": [
    "plt.imshow(vid[100], cmap='gray')\n",
    "plt.plot(x*2, y*2, '*', color='tab:green')"
   ]
  },
  {
   "cell_type": "code",
   "execution_count": null,
   "metadata": {},
   "outputs": [],
   "source": [
    "stim_history = vid[:,x*2,y*2]"
   ]
  },
  {
   "cell_type": "code",
   "execution_count": null,
   "metadata": {},
   "outputs": [],
   "source": [
    "row = pop[pop['index']==423].iloc[0]"
   ]
  },
  {
   "cell_type": "code",
   "execution_count": null,
   "metadata": {},
   "outputs": [],
   "source": [
    "plt.figure(figsize=(10,10))\n",
    "plt.imshow(row['Wn_spike_triggered_average'], vmin=-1, vmax=1, cmap='seismic')\n",
    "plt.plot(row['Wn_rf_cent'][1]/2, row['Wn_rf_cent'][0]/2, '*', color='tab:green')"
   ]
  },
  {
   "cell_type": "code",
   "execution_count": null,
   "metadata": {},
   "outputs": [],
   "source": [
    "row['Wn_rf_cent'][0]/2, row['Wn_rf_cent'][1]/2"
   ]
  },
  {
   "cell_type": "code",
   "execution_count": null,
   "metadata": {},
   "outputs": [],
   "source": [
    "sta = row['Wn_spike_triggered_average']"
   ]
  },
  {
   "cell_type": "code",
   "execution_count": null,
   "metadata": {},
   "outputs": [],
   "source": [
    "sta.shape"
   ]
  },
  {
   "cell_type": "code",
   "execution_count": null,
   "metadata": {},
   "outputs": [],
   "source": [
    "vid.shape"
   ]
  },
  {
   "cell_type": "code",
   "execution_count": null,
   "metadata": {},
   "outputs": [],
   "source": [
    "row['Wn_rf_cent'][0]/2, row['Wn_rf_cent'][1]/2"
   ]
  },
  {
   "cell_type": "code",
   "execution_count": null,
   "metadata": {},
   "outputs": [],
   "source": [
    "plt.subplots(8,32,figsize=(75,20))\n",
    "panel = 1\n",
    "for unit in range(n_cells):\n",
    "    row = pop.iloc[unit]\n",
    "    plt.subplot(8,32,panel)\n",
    "    plt.title(row['index'])\n",
    "    plt.plot(trange_x, sn_psth[unit, :, 1] - sn_psth[unit, :, 3], 'tab:red', label='off')\n",
    "    plt.plot(trange_x, sn_psth[unit, :, 2] - sn_psth[unit, :, 3], 'k', label='on')\n",
    "    plt.xlim([-0.2,0.4])\n",
    "    panel += 1\n",
    "    plt.subplot(8,32,panel)\n",
    "    sta_range = np.max(np.abs(row['Wn_spike_triggered_average']))*1.2\n",
    "    sta_range = (0.25 if sta_range<0.25 else sta_range)\n",
    "    plt.imshow(row['Sn_spike_triggered_average'], vmin=-sta_range, vmax=sta_range, cmap='seismic')\n",
    "    plt.plot(rf_cent[unit, 0], rf_cent[unit, 1], '*', color='tab:green')\n",
    "    plt.axis('off')\n",
    "    plt.title(row['index'])\n",
    "    panel += 1\n",
    "plt.tight_layout()\n",
    "plt.savefig('/home/niell_lab/Desktop/psth_from_Sn_static_vminmax.pdf')"
   ]
  },
  {
   "cell_type": "code",
   "execution_count": null,
   "metadata": {},
   "outputs": [],
   "source": [
    "ex = hffm.data[hffm.data['session']=='070921_J553RT_control_Rig2'][hffm.data['index']==241].iloc[0]"
   ]
  },
  {
   "cell_type": "code",
   "execution_count": null,
   "metadata": {},
   "outputs": [],
   "source": [
    "plt.subplots(2,2, figsize=(15,10))\n",
    "plt.subplot(221)\n",
    "plt.plot(hffm.trange_x, ex['Sn_l2d_psth'])#-ex['Sn_onlyglobal_psth'])\n",
    "plt.xlim([-0.2,0.4])\n",
    "plt.title('to dark')\n",
    "plt.subplot(222)\n",
    "plt.plot(hffm.trange_x, ex['Sn_d2l_psth'])#-ex['Sn_onlyglobal_psth'])\n",
    "plt.title('to light')\n",
    "plt.xlim([-0.2,0.4])\n",
    "plt.subplot(223)\n",
    "plt.plot(hffm.trange_x, ex['Sn_all_psth'])\n",
    "plt.title('global')\n",
    "plt.xlim([-0.2,0.4])\n",
    "plt.subplot(224)\n",
    "plt.plot(hffm.trange_x, ex['Sn_onlyglobal_psth'])\n",
    "plt.title('global (but not RF)')\n",
    "plt.xlim([-0.2,0.4])\n",
    "plt.tight_layout()"
   ]
  },
  {
   "cell_type": "code",
   "execution_count": null,
   "metadata": {},
   "outputs": [],
   "source": []
  },
  {
   "cell_type": "code",
   "execution_count": null,
   "metadata": {},
   "outputs": [],
   "source": []
  },
  {
   "cell_type": "code",
   "execution_count": null,
   "metadata": {},
   "outputs": [],
   "source": [
    "import pandas as pd\n",
    "import numpy as np\n",
    "from scipy.signal import argrelmax\n",
    "import xarray as xr\n",
    "from scipy.interpolate import interp1d\n",
    "from tqdm import tqdm"
   ]
  },
  {
   "cell_type": "code",
   "execution_count": null,
   "metadata": {},
   "outputs": [],
   "source": [
    "vid = ahf.Sn_world.WORLD_video.values.astype(np.uint8).astype(float)\n",
    "worldT = ahf.Sn_world.timestamps.values\n",
    "eyeT = ahf.Sn_ephys['Sn_eyeT'].iloc[0]\n",
    "ephysT0 = ahf.Sn_ephys['t0'].iloc[0]"
   ]
  },
  {
   "cell_type": "code",
   "execution_count": null,
   "metadata": {},
   "outputs": [],
   "source": [
    "dStim = np.sum(np.abs(np.diff(vid.astype(float), axis=0)), axis=(1,2))\n",
    "flips = np.argwhere((dStim[1:]>1e5) * (dStim[:-1]<1e5))"
   ]
  },
  {
   "cell_type": "code",
   "execution_count": null,
   "metadata": {},
   "outputs": [],
   "source": [
    "flipT = worldT[flips]\n",
    "eventT = flipT - ephysT0"
   ]
  },
  {
   "cell_type": "code",
   "execution_count": null,
   "metadata": {},
   "outputs": [],
   "source": [
    "plt.plot(dStim)\n",
    "plt.vlines(flips, 0, 100000, colors='tab:red')\n",
    "plt.xlim([0,60*5])\n",
    "plt.ylim([0,200000])"
   ]
  },
  {
   "cell_type": "code",
   "execution_count": null,
   "metadata": {},
   "outputs": [],
   "source": [
    "def sort_lum(unit_stim, eventT, eyeT, flips):\n",
    "    event_eyeT = np.zeros(len(eventT))\n",
    "    for i, t in enumerate(eventT):\n",
    "        event_eyeT[i] = eyeT[np.argmin(np.abs(t-eyeT))]\n",
    "    rf_l2d = event_eyeT.copy(); rf_d2l = event_eyeT.copy(); only_global = event_eyeT.copy();\n",
    "    gray = np.nanmedian(unit_stim)\n",
    "    rf_l2d = rf_l2d[unit_stim[flips]<(gray-25)] # light-to-dark transitions, as a timestamp in ephys eyeT timebase\n",
    "    rf_d2l = rf_d2l[unit_stim[flips]>(gray+25)] # same for dark-to-light transitions\n",
    "    only_global = only_global[(unit_stim[flips]>(gray-25)) & (unit_stim[flips]<(gray+25))] # stim did not change from baseline enoguh\n",
    "    return event_eyeT, rf_l2d, rf_d2l, only_global"
   ]
  },
  {
   "cell_type": "code",
   "execution_count": null,
   "metadata": {},
   "outputs": [],
   "source": [
    "unit_sta = ahf.Wn_ephys.loc[122, 'Wn_spike_triggered_average']\n",
    "unit_stim, x, y = ahf.calc_RF_stim(unit_sta, vid)\n",
    "event_eyeT, rf_l2d, rf_d2l, only_global = sort_lum(unit_stim, eventT, eyeT, flips.flatten())"
   ]
  },
  {
   "cell_type": "code",
   "execution_count": null,
   "metadata": {},
   "outputs": [],
   "source": [
    "plt.imshow(unit_sta, cmap='seismic')\n",
    "plt.plot(y/2,x/2,'g*')\n",
    "plt.colorbar()"
   ]
  },
  {
   "cell_type": "code",
   "execution_count": null,
   "metadata": {},
   "outputs": [],
   "source": [
    "plt.plot(worldT-ephysT0, unit_stim)\n",
    "plt.vlines(worldT[flips]-ephysT0, 150, 200, colors='tab:red')\n",
    "plt.xlim([7,15])\n",
    "plt.vlines(l2d_eventT, 100, 250, colors='green')"
   ]
  },
  {
   "cell_type": "code",
   "execution_count": null,
   "metadata": {},
   "outputs": [],
   "source": [
    "psth = ahf.calc_psth(ahf.Sn_ephys.loc[122, 'spikeT'], d2l_eventT)\n",
    "plt.plot(ahf.trange_x, psth)"
   ]
  },
  {
   "cell_type": "code",
   "execution_count": null,
   "metadata": {},
   "outputs": [],
   "source": [
    "psth = ahf.calc_psth(ahf.Sn_ephys.loc[122, 'spikeT'], l2d_eventT)\n",
    "plt.plot(ahf.trange_x, psth)"
   ]
  },
  {
   "cell_type": "code",
   "execution_count": null,
   "metadata": {},
   "outputs": [],
   "source": [
    "psth = ahf.calc_psth(ahf.Sn_ephys.loc[122, 'spikeT'], np.concatenate([l2d_eventT, d2l_eventT]))\n",
    "plt.plot(ahf.trange_x, psth)"
   ]
  },
  {
   "cell_type": "code",
   "execution_count": null,
   "metadata": {},
   "outputs": [],
   "source": [
    "psth = ahf.calc_psth(ahf.Sn_ephys.loc[122, 'spikeT'], eventT)\n",
    "plt.plot(ahf.trange_x, psth)"
   ]
  },
  {
   "cell_type": "code",
   "execution_count": null,
   "metadata": {},
   "outputs": [],
   "source": [
    "psth = ahf.calc_psth(ahf.Sn_ephys.loc[122, 'spikeT'], only_global)\n",
    "plt.plot(ahf.trange_x, psth)"
   ]
  },
  {
   "cell_type": "code",
   "execution_count": null,
   "metadata": {},
   "outputs": [],
   "source": [
    "np.array([i for i in eventT if i not in np.concatenate([l2d_eventT, d2l_eventT])]).size"
   ]
  },
  {
   "cell_type": "code",
   "execution_count": null,
   "metadata": {},
   "outputs": [],
   "source": [
    "eventT.size"
   ]
  },
  {
   "cell_type": "code",
   "execution_count": null,
   "metadata": {},
   "outputs": [],
   "source": [
    "only_global_eventT.size"
   ]
  },
  {
   "cell_type": "code",
   "execution_count": null,
   "metadata": {},
   "outputs": [],
   "source": []
  },
  {
   "cell_type": "code",
   "execution_count": null,
   "metadata": {},
   "outputs": [],
   "source": [
    "\n",
    "psth = ahf.calc_psth(ahf.Sn_ephys.loc[45, 'spikeT'], l2d_eventT)"
   ]
  },
  {
   "cell_type": "code",
   "execution_count": null,
   "metadata": {},
   "outputs": [],
   "source": [
    "# # when does the stimulus change?\n",
    "# dStim = np.sum(np.diff(vid, axis=0), axis=(1,2))\n",
    "\n",
    "# flips = argrelmax(dStim, order=7)[0]\n",
    "flipT = worldT[flips]\n",
    "eventT = flipT - ephysT0\n",
    "\n",
    "Sn_psth = np.zeros([len(ahf.Sn_ephys.index.values), len(ahf.trange_x), 2]) # shape = [unit#, time, ltd or d2l]\n",
    "for i, ind in tqdm(enumerate(ahf.Sn_ephys.index.values)):\n",
    "    unit_sta = ahf.Wn_ephys.loc[ind, 'Wn_spike_triggered_average']\n",
    "    unit_stim, _, _ = ahf.calc_RF_stim(unit_sta, vid)\n",
    "    l2d_eventT, d2l_eventT = sort_lum(unit_stim, eventT, eyeT, flips)"
   ]
  },
  {
   "cell_type": "code",
   "execution_count": null,
   "metadata": {},
   "outputs": [],
   "source": []
  },
  {
   "cell_type": "code",
   "execution_count": null,
   "metadata": {},
   "outputs": [],
   "source": [
    "plt.imshow(np.abs(np.diff(vid.astype(float), axis=0))[103])\n",
    "plt.colorbar()"
   ]
  },
  {
   "cell_type": "code",
   "execution_count": null,
   "metadata": {},
   "outputs": [],
   "source": [
    "np.median(np.diff(flips.flatten()))/60"
   ]
  },
  {
   "cell_type": "code",
   "execution_count": null,
   "metadata": {},
   "outputs": [],
   "source": []
  },
  {
   "cell_type": "code",
   "execution_count": null,
   "metadata": {},
   "outputs": [],
   "source": [
    "eventInd = np.zeros(len(rf_l2d))\n",
    "for i, t in enumerate(rf_l2d):\n",
    "    eventInd[i] = np.argmin(np.abs((t+ephysT0)-worldT))"
   ]
  },
  {
   "cell_type": "code",
   "execution_count": null,
   "metadata": {},
   "outputs": [],
   "source": [
    "eventInd1 = np.zeros(len(rf_d2l))\n",
    "for i, t in enumerate(rf_d2l):\n",
    "    eventInd1[i] = np.argmin(np.abs((t+ephysT0)-worldT))"
   ]
  },
  {
   "cell_type": "code",
   "execution_count": null,
   "metadata": {},
   "outputs": [],
   "source": [
    "eventInd = eventInd[np.diff(eventInd, append=0)>10]"
   ]
  },
  {
   "cell_type": "code",
   "execution_count": null,
   "metadata": {},
   "outputs": [],
   "source": [
    "plt.plot(np.diff(unit_stim)) # DO BOXCAR FILTER\n",
    "plt.xlim([start*60,(start+5)*60])"
   ]
  },
  {
   "cell_type": "code",
   "execution_count": null,
   "metadata": {},
   "outputs": [],
   "source": [
    "start = 20\n",
    "plt.plot(unit_stim, 'k')\n",
    "plt.xlim([start*60,(start+5)*60])\n",
    "plt.vlines(eventInd, 0,250,'r')\n",
    "plt.vlines(eventInd1, 0,250,'b')"
   ]
  },
  {
   "cell_type": "code",
   "execution_count": null,
   "metadata": {},
   "outputs": [],
   "source": [
    "psth = ahf.calc_psth(unit_spikeT, l2d_eventT)"
   ]
  },
  {
   "cell_type": "code",
   "execution_count": null,
   "metadata": {},
   "outputs": [],
   "source": [
    "plt.plot(ahf.trange_x, psth)"
   ]
  },
  {
   "cell_type": "code",
   "execution_count": null,
   "metadata": {},
   "outputs": [],
   "source": []
  }
 ],
 "metadata": {
  "kernelspec": {
   "display_name": "Python [conda env:ephys0]",
   "language": "python",
   "name": "conda-env-ephys0-py"
  },
  "language_info": {
   "codemirror_mode": {
    "name": "ipython",
    "version": 3
   },
   "file_extension": ".py",
   "mimetype": "text/x-python",
   "name": "python",
   "nbconvert_exporter": "python",
   "pygments_lexer": "ipython3",
   "version": "3.8.12"
  }
 },
 "nbformat": 4,
 "nbformat_minor": 4
}
