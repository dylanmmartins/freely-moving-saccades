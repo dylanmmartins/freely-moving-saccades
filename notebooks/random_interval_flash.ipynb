{
 "cells": [
  {
   "cell_type": "markdown",
   "id": "e765abc0-13c9-4cc7-83b1-35c852a9cad3",
   "metadata": {},
   "source": [
    "# Imports"
   ]
  },
  {
   "cell_type": "code",
   "execution_count": 1,
   "id": "6cc819d9-3328-479b-9dd1-502a2f41b08f",
   "metadata": {},
   "outputs": [],
   "source": [
    "import matplotlib.pyplot as plt\n",
    "import numpy as np\n",
    "import pandas as pd\n",
    "from tqdm import tqdm\n",
    "import cv2\n",
    "import os, json\n",
    "import xarray as xr\n",
    "from datetime import datetime\n",
    "from sklearn.neighbors import KernelDensity"
   ]
  },
  {
   "cell_type": "markdown",
   "id": "92511416-d308-404d-91d3-31accb5edd71",
   "metadata": {},
   "source": [
    "# Basic functions"
   ]
  },
  {
   "cell_type": "code",
   "execution_count": 2,
   "id": "af1aaa3d-6d15-49ae-a984-24cf84c484a5",
   "metadata": {},
   "outputs": [],
   "source": [
    "def read_timestamp_series(s):\n",
    "    output_time = []\n",
    "    fmt = '%H:%M:%S.%f'\n",
    "    if s.dtype != np.float64:\n",
    "        for current_time in s:\n",
    "            str_time = str(current_time).strip()\n",
    "            try:\n",
    "                t = datetime.strptime(str_time, fmt)\n",
    "            except ValueError as v:\n",
    "                ulr = len(v.args[0].partition('unconverted data remains: ')[2])\n",
    "                if ulr:\n",
    "                    str_time = str_time[:-ulr]\n",
    "            try:\n",
    "                output_time.append((datetime.strptime(str_time, '%H:%M:%S.%f') - datetime.strptime('00:00:00.000000', '%H:%M:%S.%f')).total_seconds())\n",
    "            except ValueError:\n",
    "                output_time.append(np.nan)\n",
    "        output_time = np.array(output_time)\n",
    "    else:\n",
    "        output_time = s.values\n",
    "    return output_time\n",
    "\n",
    "def read_timestamp_file(path):\n",
    "    # read data and set up format\n",
    "    s = pd.read_csv(path, encoding='utf-8', engine='c', header=None).squeeze()\n",
    "    if s[0] == 0:\n",
    "        s = s[1:]\n",
    "    camT = read_timestamp_series(s)\n",
    "    return camT\n",
    "\n",
    "def calc_PSTH(spikeT, eventT, bandwidth=10, resample_size=1, edgedrop=15, win=1000):\n",
    "    \"\"\"\n",
    "    calcualtes for a single cell at a time\n",
    "\n",
    "    bandwidth (msec)\n",
    "    resample_size (msec)\n",
    "    edgedrop (msec to drop at the start and end of the window so eliminate artifacts of filtering)\n",
    "    win = 1000msec before and after\n",
    "    \"\"\"\n",
    "\n",
    "    bandwidth = bandwidth / 1000\n",
    "    resample_size = resample_size / 1000\n",
    "    win = win / 1000\n",
    "    edgedrop = edgedrop / 1000\n",
    "    edgedrop_ind = int(edgedrop / resample_size)\n",
    "\n",
    "    bins = np.arange(-win-edgedrop, win+edgedrop+resample_size, resample_size)\n",
    "\n",
    "    # Timestamps of spikes (`sps`) relative to `eventT`\n",
    "    sps = []\n",
    "    for i, t in enumerate(eventT):\n",
    "        sp = spikeT-t\n",
    "        # Only keep spikes in this window\n",
    "        sp = sp[(sp <= (win+edgedrop)) & (sp >= (-win-edgedrop))] \n",
    "        sps.extend(sp)\n",
    "    sps = np.array(sps)\n",
    "\n",
    "    kernel = KernelDensity(kernel='gaussian', bandwidth=bandwidth).fit(sps[:, np.newaxis])\n",
    "    density = kernel.score_samples(bins[:, np.newaxis])\n",
    "\n",
    "    # Multiply by the # spikes to get spike count per point. Divide\n",
    "    # by # events for rate/event.\n",
    "    psth = np.exp(density) * (np.size(sps ) / np.size(eventT))\n",
    "\n",
    "    # Drop padding at start & end to eliminate edge effects.\n",
    "    psth = psth[edgedrop_ind:-edgedrop_ind]\n",
    "\n",
    "    return psth"
   ]
  },
  {
   "cell_type": "code",
   "execution_count": 3,
   "id": "5e2ec24d-4975-4e21-98ea-75550a6e553b",
   "metadata": {},
   "outputs": [],
   "source": [
    "def list_subdirs(rootdir, name_only=False):\n",
    "    \"\"\" List subdirectories in a root directory.\n",
    "\n",
    "    without keep_parent, the subdirectory itself is named\n",
    "    with keep_parent, the subdirectory will be returned *including* its parent path\n",
    "    \"\"\"\n",
    "    paths = []; names = []\n",
    "    for item in os.scandir(rootdir):\n",
    "        if os.path.isdir(item):\n",
    "            if item.name[0]!='.':\n",
    "                paths.append(item.path)\n",
    "                names.append(item.name)\n",
    "\n",
    "    if not name_only:\n",
    "        return paths\n",
    "    elif name_only:\n",
    "        return names\n",
    "    \n",
    "import os, fnmatch\n",
    "\n",
    "def find(pattern, path):\n",
    "    \"\"\" Glob for subdirectories.\n",
    "\n",
    "    Parameters\n",
    "    --------\n",
    "    pattern : str\n",
    "        str with * for missing sections of characters\n",
    "    path : str\n",
    "        path to search, including subdirectories\n",
    "    \n",
    "    Returns\n",
    "    --------\n",
    "    result : list\n",
    "        list of files matching pattern.\n",
    "    \"\"\"\n",
    "    result = [] # initialize the list as empty\n",
    "    for root, _, files in os.walk(path): # walk though the path directory, and files\n",
    "        for name in files:  # walk to the file in the directory\n",
    "            if fnmatch.fnmatch(name,pattern):  # if the file matches the filetype append to list\n",
    "                result.append(os.path.join(root,name))\n",
    "    return result # return full list of file of a given type"
   ]
  },
  {
   "cell_type": "markdown",
   "id": "5f4d8470-6d97-4cbc-8360-3009aaed2400",
   "metadata": {},
   "source": [
    "# Paths"
   ]
  },
  {
   "cell_type": "code",
   "execution_count": null,
   "id": "cf025918-b5a8-4082-ab68-35207662998a",
   "metadata": {},
   "outputs": [],
   "source": [
    "list_subdirs('/home/niell_lab/Mounts/Goeppert/nlab-nas/freely_moving_ephys/ephys_recordings/060922/J611RN/')"
   ]
  },
  {
   "cell_type": "code",
   "execution_count": 4,
   "id": "e6ae4c20-91fd-46ea-ace3-edcabdcb45da",
   "metadata": {},
   "outputs": [],
   "source": [
    "recpath = '/home/niell_lab/Mounts/Goeppert/nlab-nas/freely_moving_ephys/ephys_recordings/060922/J611RN/hf4_sparsenoiseflashRAND/'"
   ]
  },
  {
   "cell_type": "code",
   "execution_count": null,
   "id": "50521caa-07da-47fe-a043-2084c2b3948c",
   "metadata": {},
   "outputs": [],
   "source": [
    "os.listdir(recpath)"
   ]
  },
  {
   "cell_type": "markdown",
   "id": "08ac4783-b4a4-46f0-8b79-20decb42e380",
   "metadata": {},
   "source": [
    "# Ephys during playback"
   ]
  },
  {
   "cell_type": "code",
   "execution_count": 5,
   "id": "49a4efe0-82ad-4f0b-b21e-3afacbc631d9",
   "metadata": {},
   "outputs": [],
   "source": [
    "ephys_path = os.path.join(recpath,'060922_J611RN_control_Rig2_hf4_sparsenoiseflashRAND_ephys_merge.json')\n",
    "ephys_data = pd.read_json(ephys_path)"
   ]
  },
  {
   "cell_type": "code",
   "execution_count": 6,
   "id": "293f63e6-0938-42a5-9f59-651acac6d91f",
   "metadata": {},
   "outputs": [],
   "source": [
    "# sort by ch\n",
    "ephys_data = ephys_data.sort_values(by='ch', axis=0, ascending=True)\n",
    "ephys_data = ephys_data.reset_index()\n",
    "ephys_data = ephys_data.drop('index', axis=1)"
   ]
  },
  {
   "cell_type": "code",
   "execution_count": 7,
   "id": "7306b7a6-c8bb-4015-bc8e-3675f5f20b93",
   "metadata": {},
   "outputs": [],
   "source": [
    "# good cells\n",
    "ephys = ephys_data.loc[ephys_data['group']=='good']"
   ]
  },
  {
   "cell_type": "code",
   "execution_count": 8,
   "id": "64f0ad5e-b013-4c84-9f81-58c7e60d57bd",
   "metadata": {},
   "outputs": [],
   "source": [
    "# timing correction\n",
    "offset = 0.1\n",
    "drift = -0.000114\n",
    "\n",
    "spike_times = {}\n",
    "for i, ind in enumerate(ephys.index.values):\n",
    "    sps = np.array(ephys.loc[ind,'spikeT'].copy()).astype(float)\n",
    "    new_sps = sps - (offset + sps * drift)\n",
    "    # new_sps = new_sps - t0\n",
    "    spike_times[i] = new_sps\n",
    "    "
   ]
  },
  {
   "cell_type": "code",
   "execution_count": 9,
   "id": "66c54ba6-9e3a-4e61-b516-0cae8253c949",
   "metadata": {},
   "outputs": [],
   "source": [
    "ephysT0 = ephys_data['t0'].iloc[0].copy()"
   ]
  },
  {
   "cell_type": "markdown",
   "id": "0acc479c-4827-470f-be21-2af90284056b",
   "metadata": {},
   "source": [
    "# Flip times"
   ]
  },
  {
   "cell_type": "code",
   "execution_count": null,
   "id": "a37f5179-1904-423c-b948-799656326936",
   "metadata": {},
   "outputs": [],
   "source": [
    "world_path = find('*world.nc', recpath)[0]\n",
    "world_data = xr.open_dataset(world_path)\n",
    "worldVid = world_data.WORLD_video.values.astype(np.uint8).astype(float)\n",
    "worldT_ = world_data.timestamps.values"
   ]
  },
  {
   "cell_type": "code",
   "execution_count": null,
   "id": "a15e0780-eb2f-484f-9816-716f844e9b25",
   "metadata": {},
   "outputs": [],
   "source": [
    "worldT = worldT_.copy() - ephysT0"
   ]
  },
  {
   "cell_type": "code",
   "execution_count": null,
   "id": "ccaa23c7-e751-4dfa-a5a9-ad57db36a81c",
   "metadata": {},
   "outputs": [],
   "source": [
    "dStim = np.sum(np.abs(np.diff(worldVid, axis=0)), axis=(1,2))\n",
    "dStim[0] = np.nan"
   ]
  },
  {
   "cell_type": "code",
   "execution_count": null,
   "id": "2dd1e7ca-629a-4749-baab-6e2c656929a7",
   "metadata": {},
   "outputs": [],
   "source": [
    "dStim_thresh = 1e5"
   ]
  },
  {
   "cell_type": "code",
   "execution_count": null,
   "id": "abc05765-1624-4f6d-9719-5c959733b849",
   "metadata": {},
   "outputs": [],
   "source": [
    "plt.plot(worldT[:-1], dStim)\n",
    "plt.xlim([0, 30])\n",
    "plt.hlines(dStim_thresh, 0, 30, 'k')"
   ]
  },
  {
   "cell_type": "code",
   "execution_count": null,
   "id": "7390a09b-b41a-4194-9a7e-93cd344f554d",
   "metadata": {},
   "outputs": [],
   "source": [
    "flips = np.argwhere((dStim[1:] > dStim_thresh) * (dStim[:-1] < dStim_thresh)).flatten()"
   ]
  },
  {
   "cell_type": "code",
   "execution_count": null,
   "id": "d9691ae6-1b78-4c1f-a57e-b3ded2ebc988",
   "metadata": {},
   "outputs": [],
   "source": [
    "eventT = worldT[flips+1]\n",
    "eventT = eventT + (1/120)"
   ]
  },
  {
   "cell_type": "code",
   "execution_count": null,
   "id": "98b3cc11-00cd-4313-96f9-de5cc6c486b9",
   "metadata": {},
   "outputs": [],
   "source": [
    "plt.hist(np.diff(eventT), bins=10)"
   ]
  },
  {
   "cell_type": "markdown",
   "id": "2d69ff80-be9e-459f-921e-0263fdb03c32",
   "metadata": {},
   "source": [
    "# Responses during playback"
   ]
  },
  {
   "cell_type": "code",
   "execution_count": null,
   "id": "b7622b63-627a-4221-9c39-dbc1d041f3d1",
   "metadata": {},
   "outputs": [],
   "source": [
    "all_psth = np.zeros([len(ephys.index.values), 2001])\n",
    "\n",
    "for i, spT in tqdm(spike_times.items()):\n",
    "    \n",
    "    sps = np.array(spT)\n",
    "    psth = calc_PSTH(sps, eventT)\n",
    "    \n",
    "    all_psth[i,:] = psth"
   ]
  },
  {
   "cell_type": "markdown",
   "id": "b88711c2-3326-4574-98c6-a9687a91a39b",
   "metadata": {},
   "source": [
    "# plots"
   ]
  },
  {
   "cell_type": "markdown",
   "id": "c048d0aa-311b-4efa-ab8d-e60dca0da2d2",
   "metadata": {},
   "source": [
    "# rasters for example cells"
   ]
  },
  {
   "cell_type": "code",
   "execution_count": null,
   "id": "f0336d61-968a-4b61-9e22-8b555598737c",
   "metadata": {
    "scrolled": true,
    "tags": []
   },
   "outputs": [],
   "source": [
    "# plot PSTHs\n",
    "bins = np.arange(-1000,1001,1)\n",
    "n_movs = 2000\n",
    "xrange = 0.5\n",
    "\n",
    "# fig, axs = plt.subplots(10,8, dpi=300, figsize=(15,15))\n",
    "fig, axs = plt.subplots(1,5, dpi=300, figsize=(8,6))\n",
    "\n",
    "for col, ind in enumerate(ephys.index.values[:5]):\n",
    "    \n",
    "    # row = int(np.floor(i/8))\n",
    "    # col = int(i%8)\n",
    "    \n",
    "    sps = np.array(ephys.loc[ind,'spikeT'].copy()).astype(float)\n",
    "    for n, t in enumerate(eventT[:n_movs]):\n",
    "        sp = sps-t\n",
    "        sp = sp[np.abs(sp)<=xrange]\n",
    "        axs[col].plot(sp, np.ones(sp.size)*n, '|', color='k', markersize=1)\n",
    "    \n",
    "    # axs[row,col].plot(bins, psth)\n",
    "    axs[col].vlines(0, 0, n_movs, color='r', linestyle='dashed')\n",
    "    axs[col].set_ylim([0, n_movs])\n",
    "    axs[col].set_title(ind)\n",
    "    axs[col].set_xticklabels([])\n",
    "    if col!=0:\n",
    "        axs[col].set_yticklabels([])\n",
    "    axs[col].set_xlim([-xrange, xrange])\n",
    "\n",
    "fig.tight_layout()"
   ]
  },
  {
   "cell_type": "code",
   "execution_count": null,
   "id": "816feddd-e50b-4d34-8a86-c56bfcb747e7",
   "metadata": {},
   "outputs": [],
   "source": [
    "# plot PSTHs\n",
    "bins = np.arange(-1000,1001,1)\n",
    "\n",
    "fig, axs = plt.subplots(10,9, dpi=300, figsize=(15,15))\n",
    "\n",
    "for i, ind in enumerate(ephys.index.values):\n",
    "    psth = all_psth[i,:]\n",
    "    \n",
    "    row = int(np.floor(i/9))\n",
    "    col = int(i%9)\n",
    "    \n",
    "    axs[row,col].plot(bins, psth)\n",
    "    axs[row,col].vlines(0, 0, np.max(psth)*1.1, color='k', linestyle='dashed')\n",
    "    axs[row,col].set_ylim([0, np.max(psth)*1.1])\n",
    "    axs[row,col].set_title(ind)\n",
    "    axs[row,col].set_xticklabels([])\n",
    "    axs[row,col].set_xlim([-500,500])\n",
    "\n",
    "fig.tight_layout()\n",
    "fig.savefig('/home/niell_lab/Desktop/060922_constant_sparse_noise_PSTHs.pdf')"
   ]
  },
  {
   "cell_type": "code",
   "execution_count": null,
   "id": "1dc5d932-fde4-474b-a191-0a58fe96021f",
   "metadata": {},
   "outputs": [],
   "source": [
    "np.save('/home/niell_lab/Desktop/constant_sn.npy', all_psth)"
   ]
  },
  {
   "cell_type": "code",
   "execution_count": null,
   "id": "e79b9052-5f0b-40f8-8b0a-ae39dd1cff72",
   "metadata": {},
   "outputs": [],
   "source": [
    "tempT = np.array(saccFr['gazeL']+saccFr['gazeR'])\n",
    "tempT = tempT[(tempT<(60*5))]\n",
    "tempT = np.arange(0, 5.016, 0.016)[tempT]\n",
    "tempT"
   ]
  },
  {
   "cell_type": "code",
   "execution_count": null,
   "id": "128d7d77-19de-4a46-a258-f9931c3d0d39",
   "metadata": {},
   "outputs": [],
   "source": [
    "# plot raster\n",
    "tlen = 5\n",
    "\n",
    "fig, ax = plt.subplots(1,1, figsize=(10,5), dpi=300)\n",
    "sps = np.array(ephys.loc[11, 'spikeT'].copy())\n",
    "for i, t in enumerate(stim_restart_times):\n",
    "    sps_i = sps[(sps>t) * (sps<(t+tlen))]\n",
    "    sps_i = sps_i - t\n",
    "    ax.plot(sps_i, np.ones(len(sps_i))*i, '|', color='k')\n",
    "ax.vlines(tempT, 0, 19, 'r')\n",
    "ax.set_xlim([0,5])"
   ]
  },
  {
   "cell_type": "markdown",
   "id": "4b027155-81cb-4513-9acb-b3c5be610244",
   "metadata": {},
   "source": [
    "# Plot of constant and random SN"
   ]
  },
  {
   "cell_type": "code",
   "execution_count": null,
   "id": "61c2bb50-06da-4cea-abc4-d40028a55dd4",
   "metadata": {},
   "outputs": [],
   "source": [
    "rand_psth = np.load('/home/niell_lab/Desktop/random_sn.npy')"
   ]
  },
  {
   "cell_type": "code",
   "execution_count": null,
   "id": "d588662c-1328-4431-90df-4a6c12dd2abf",
   "metadata": {},
   "outputs": [],
   "source": [
    "# plot PSTHs\n",
    "bins = np.arange(-1000,1001,1)\n",
    "\n",
    "fig, axs = plt.subplots(10,9, dpi=300, figsize=(15,15))\n",
    "\n",
    "for i, ind in enumerate(ephys.index.values):\n",
    "    psth = all_psth[i,:]\n",
    "    \n",
    "    row = int(np.floor(i/9))\n",
    "    col = int(i%9)\n",
    "    \n",
    "    set_max = np.max([psth, rand_psth[i,:]])\n",
    "    \n",
    "    axs[row,col].plot(bins, psth, 'k', label='constant')\n",
    "    axs[row,col].plot(bins, rand_psth[i,:], 'r', label='variable')\n",
    "    axs[row,col].vlines(0, 0, set_max*1.1, color='k', linestyle='dashed')\n",
    "    axs[row,col].set_ylim([0, set_max*1.1])\n",
    "    axs[row,col].set_title(ind)\n",
    "    axs[row,col].set_xlim([-500,500])\n",
    "    \n",
    "    if i == 0:\n",
    "        axs[row,col].legend()\n",
    "    # else:\n",
    "        # axs[row,col].set_xticklabels([])\n",
    "\n",
    "fig.tight_layout()\n",
    "fig.savefig('/home/niell_lab/Desktop/060922_both_sparse_noise_PSTHs.pdf')"
   ]
  },
  {
   "cell_type": "code",
   "execution_count": null,
   "id": "8b67f2a9-7e19-4a8f-9583-3cb1f22f93bf",
   "metadata": {},
   "outputs": [],
   "source": []
  }
 ],
 "metadata": {
  "kernelspec": {
   "display_name": "ephys1",
   "language": "python",
   "name": "python3"
  },
  "language_info": {
   "codemirror_mode": {
    "name": "ipython",
    "version": 3
   },
   "file_extension": ".py",
   "mimetype": "text/x-python",
   "name": "python",
   "nbconvert_exporter": "python",
   "pygments_lexer": "ipython3",
   "version": "3.8.13 | packaged by conda-forge | (default, Mar 25 2022, 06:06:49) \n[Clang 12.0.1 ]"
  },
  "vscode": {
   "interpreter": {
    "hash": "ad72398d212dd8da6852baf714cae8f0fa23fc7580788ca6adf4db7595b97880"
   }
  }
 },
 "nbformat": 4,
 "nbformat_minor": 5
}
