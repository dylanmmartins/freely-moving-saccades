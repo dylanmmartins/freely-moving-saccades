{
 "cells": [
  {
   "cell_type": "markdown",
   "id": "f8602895-71f5-40b3-969e-07592f1834ac",
   "metadata": {},
   "source": [
    "# Imports and paths"
   ]
  },
  {
   "cell_type": "code",
   "execution_count": 1,
   "id": "32623ad2-f82b-4778-bafa-dd0feb90e4c2",
   "metadata": {},
   "outputs": [],
   "source": [
    "import os\n",
    "from scipy.io import loadmat\n",
    "import numpy as np\n",
    "import matplotlib.pyplot as plt\n",
    "from sklearn.cluster import KMeans\n",
    "from sklearn.decomposition import PCA\n",
    "import matplotlib as mpl\n",
    "mpl.rcParams['axes.spines.top'] = False\n",
    "mpl.rcParams['axes.spines.right'] = False\n",
    "mpl.rcParams['pdf.fonttype'] = 42\n",
    "mpl.rcParams['ps.fonttype'] = 42\n",
    "%matplotlib inline\n",
    "mpl.rcParams.update({'font.size':10})\n",
    "plasma_map = plt.cm.plasma(np.linspace(0,1,15))\n",
    "kcolors = {\n",
    "    'movement': plasma_map[12,:],\n",
    "    'early': plasma_map[10,:],\n",
    "    'late': plasma_map[8,:],\n",
    "    'biphasic': plasma_map[5,:],\n",
    "    'negative': plasma_map[2,:],\n",
    "    'unresponsive': 'dimgrey'\n",
    "}\n",
    "tcolors = {\n",
    "    'gaze': 'firebrick',\n",
    "    'comp': 'mediumblue',\n",
    "    'rc': 'indigo'\n",
    "}"
   ]
  },
  {
   "cell_type": "code",
   "execution_count": 2,
   "id": "0e74d8f8-fc19-4190-bf4e-4bc4291ede8e",
   "metadata": {},
   "outputs": [],
   "source": [
    "psth_bins = np.arange(-200,401)"
   ]
  },
  {
   "cell_type": "code",
   "execution_count": 3,
   "id": "4d4d3d08-bad7-482a-9de9-73f9db579061",
   "metadata": {},
   "outputs": [],
   "source": [
    "# savepath = '/home/niell_lab/Desktop/'\n",
    "data = loadmat('/home/niell_lab/Data/marmoset/gazeshift/Pooled_V1Hart_Preload_Final.mat')\n",
    "totdata = loadmat('/home/niell_lab/Data/marmoset/gazeshift/Pooled_V1Hart_Preload_TotalInfo.mat')['TotalInfo']"
   ]
  },
  {
   "cell_type": "markdown",
   "id": "8975caa7-bb57-4351-9feb-a92e54c104c3",
   "metadata": {},
   "source": [
    "# Raster around single saccade examples"
   ]
  },
  {
   "cell_type": "code",
   "execution_count": 5,
   "id": "d1a27cf2-41fd-4b10-85b1-400ce97a6f45",
   "metadata": {},
   "outputs": [],
   "source": [
    "uNum = 0\n",
    "unitlabels = ['tagname','pathname','pathplot','isolation','depth','duration',\n",
    "              'waveform','channel','shank','ISI','Hart','SacGrating','SacImage']\n",
    "unit_dict = dict(zip(unitlabels, list(totdata[uNum][0][0][0])))\n",
    "\n",
    "sacimlabels = ['EventList','StimWin','TrialType','StimRast','OriInd','StimTT',\n",
    "               'StimUU','StimSU','OriInd2','StimRast2','StimTT2','StimUU2',\n",
    "               'StimSU2','BaseMu','BaseMu2']\n",
    "sacim_dict = dict(zip(sacimlabels, list(unit_dict['SacImage'][0][0])))\n",
    "\n",
    "#     hartlabels = ['SFcurve','stcounts','stsem','NOri','NSpf','SpatOris','SpatFrqs',\n",
    "#                   'tXX','tempker','sgcounts','sgsem','Ori','OI','SFI','SpatFreq',\n",
    "#                   'ymean','uu','su','otune','sotune','stune','sstune','MyTick','MyTickLabel',\n",
    "#                   'mcounts','msem','pcounts','psem','tcrit','trepa','trepb','FileTag']\n",
    "#     hart_dict = dict(zip(hartlabels, list(unit_dict['Hart'][0][0])))"
   ]
  },
  {
   "cell_type": "code",
   "execution_count": 9,
   "id": "2b050d7e-df17-4d33-9242-edf2d1423388",
   "metadata": {},
   "outputs": [],
   "source": [
    "u0_sps = sacim_dict['StimRast2'].copy()"
   ]
  },
  {
   "cell_type": "code",
   "execution_count": 13,
   "id": "2425f85c-1832-4fdd-9262-fdc7bcaaad69",
   "metadata": {},
   "outputs": [
    {
     "data": {
      "text/plain": [
       "(27057,)"
      ]
     },
     "execution_count": 13,
     "metadata": {},
     "output_type": "execute_result"
    }
   ],
   "source": [
    "(u0_sps[:,1]==1).shape"
   ]
  },
  {
   "cell_type": "code",
   "execution_count": 14,
   "id": "e7d3636d-0e66-4b60-a30c-3ee27abc5646",
   "metadata": {},
   "outputs": [
    {
     "data": {
      "text/plain": [
       "array([[-0.1963    ,  1.        ],\n",
       "       [-0.0952    ,  1.        ],\n",
       "       [-0.07466667,  1.        ],\n",
       "       [-0.06303333,  1.        ],\n",
       "       [-0.04916667,  1.        ],\n",
       "       [-0.019     ,  1.        ],\n",
       "       [-0.00153333,  1.        ],\n",
       "       [ 0.01143333,  1.        ],\n",
       "       [ 0.027     ,  1.        ],\n",
       "       [ 0.0723    ,  1.        ],\n",
       "       [ 0.07586667,  1.        ],\n",
       "       [ 0.08426667,  1.        ],\n",
       "       [ 0.08756667,  1.        ],\n",
       "       [ 0.08873333,  1.        ],\n",
       "       [ 0.09486667,  1.        ],\n",
       "       [ 0.09726667,  1.        ],\n",
       "       [ 0.09893333,  1.        ],\n",
       "       [ 0.10106667,  1.        ],\n",
       "       [ 0.1057    ,  1.        ],\n",
       "       [ 0.11306667,  1.        ],\n",
       "       [ 0.11933333,  1.        ],\n",
       "       [ 0.12226667,  1.        ],\n",
       "       [ 0.12513333,  1.        ],\n",
       "       [ 0.12776667,  1.        ],\n",
       "       [ 0.13043333,  1.        ],\n",
       "       [ 0.13673333,  1.        ],\n",
       "       [ 0.13786667,  1.        ],\n",
       "       [ 0.13936667,  1.        ],\n",
       "       [ 0.14133333,  1.        ],\n",
       "       [ 0.15226667,  1.        ],\n",
       "       [ 0.15366667,  1.        ],\n",
       "       [ 0.1583    ,  1.        ],\n",
       "       [ 0.16986667,  1.        ],\n",
       "       [ 0.17423333,  1.        ],\n",
       "       [ 0.17926667,  1.        ],\n",
       "       [ 0.1869    ,  1.        ],\n",
       "       [ 0.19713333,  1.        ],\n",
       "       [ 0.1989    ,  1.        ],\n",
       "       [ 0.2162    ,  1.        ],\n",
       "       [ 0.22576667,  1.        ],\n",
       "       [ 0.23026667,  1.        ],\n",
       "       [ 0.24193333,  1.        ],\n",
       "       [ 0.26016667,  1.        ],\n",
       "       [ 0.26766667,  1.        ],\n",
       "       [ 0.28763333,  1.        ],\n",
       "       [ 0.292     ,  1.        ],\n",
       "       [ 0.3065    ,  1.        ],\n",
       "       [ 0.31086667,  1.        ],\n",
       "       [ 0.3226    ,  1.        ]])"
      ]
     },
     "execution_count": 14,
     "metadata": {},
     "output_type": "execute_result"
    }
   ],
   "source": [
    "u0_sps[u0_sps[:,1]==1]"
   ]
  },
  {
   "cell_type": "code",
   "execution_count": null,
   "id": "086258fd-ae28-4b65-9e3f-43b24254bd58",
   "metadata": {},
   "outputs": [],
   "source": []
  },
  {
   "cell_type": "code",
   "execution_count": null,
   "id": "3e9bfe6e-9dbd-4571-a476-61920eef66f1",
   "metadata": {},
   "outputs": [],
   "source": []
  },
  {
   "cell_type": "markdown",
   "id": "d97aea1b-5d93-43a1-b183-07a8b2b5ce45",
   "metadata": {},
   "source": [
    "# Rasters for example units"
   ]
  },
  {
   "cell_type": "code",
   "execution_count": null,
   "id": "8c86b57a-9eed-4e63-94bf-ead7a7ec44a6",
   "metadata": {},
   "outputs": [],
   "source": [
    "def mRaster(ax, rast, n=500):\n",
    "    usetrials = np.array(sorted(np.random.choice(np.arange(0,int(np.max(rast[:,1]))), n, replace=False)))\n",
    "    \n",
    "    for row, tnum in enumerate(usetrials):\n",
    "        sps = rast.copy()\n",
    "        sps = sps[sps[:,1].astype(int)==tnum]\n",
    "        sps = sps[:,0]\n",
    "        \n",
    "        ax.plot(sps, np.ones(sps.size)*row, '|', color='k', markersize=0.3)\n",
    "        \n",
    "    ax.set_xlim([-0.2,0.4])\n",
    "    ax.set_ylim([n, 0])\n",
    "    ax.set_yticks(np.linspace(0,n,3))\n",
    "    \n",
    "    ax.set_xticks(np.linspace(-.2,.4,4))\n",
    "    ax.set_xticklabels([])\n",
    "    # ax.set_xticklabels(np.linspace(-200,400,4).astype(int))"
   ]
  },
  {
   "cell_type": "code",
   "execution_count": null,
   "id": "c4feace8-9e46-45ea-a6ec-661466968e3c",
   "metadata": {},
   "outputs": [],
   "source": [
    "raw_sacc = np.load('/home/niell_lab/Desktop/marmoset_recalc_saccades.npy')\n",
    "raw_sacc.shape"
   ]
  },
  {
   "cell_type": "code",
   "execution_count": null,
   "id": "38391a8a-cf15-4442-b37b-94bf7beb81ac",
   "metadata": {},
   "outputs": [],
   "source": [
    "example_units = [9, 30, 0]\n",
    "\n",
    "fig, axs = plt.subplots(2,3, figsize=(5.5,3), dpi=300)\n",
    "\n",
    "for uPos, uNum in enumerate(example_units):\n",
    "\n",
    "    unitlabels = ['tagname','pathname','pathplot','isolation','depth','duration',\n",
    "                  'waveform','channel','shank','ISI','Hart','SacGrating','SacImage']\n",
    "    unit_dict = dict(zip(unitlabels, list(totdata[uNum][0][0][0])))\n",
    "\n",
    "    sacimlabels = ['EventList','StimWin','TrialType','StimRast','OriInd','StimTT',\n",
    "                   'StimUU','StimSU','OriInd2','StimRast2','StimTT2','StimUU2',\n",
    "                   'StimSU2','BaseMu','BaseMu2']\n",
    "    sacim_dict = dict(zip(sacimlabels, list(unit_dict['SacImage'][0][0])))\n",
    "\n",
    "#     hartlabels = ['SFcurve','stcounts','stsem','NOri','NSpf','SpatOris','SpatFrqs',\n",
    "#                   'tXX','tempker','sgcounts','sgsem','Ori','OI','SFI','SpatFreq',\n",
    "#                   'ymean','uu','su','otune','sotune','stune','sstune','MyTick','MyTickLabel',\n",
    "#                   'mcounts','msem','pcounts','psem','tcrit','trepa','trepb','FileTag']\n",
    "#     hart_dict = dict(zip(hartlabels, list(unit_dict['Hart'][0][0])))\n",
    "\n",
    "    mRaster(axs[0,uPos], sacim_dict['StimRast2'], 500)\n",
    "    if uPos==0:\n",
    "        axs[0,uPos].set_ylabel('gaze shifts')\n",
    "    \n",
    "    axs[0,uPos].set_title('cell {}'.format(uPos+1))\n",
    "\n",
    "    # psth = data['ISACMOD2'][uNum]\n",
    "    psth = raw_sacc[uNum,:].copy()\n",
    "    psth_bins = np.arange(-200,401,1)\n",
    "    psth[:15] = np.nan\n",
    "    psth[-15:] = np.nan\n",
    "    axs[1,uPos].plot(psth_bins, psth, 'k-')\n",
    "    axs[1,uPos].vlines(0,0,np.max(psth)*1.1, 'k', linestyle='dashed',linewidth=1)\n",
    "    \n",
    "    # axs[1,uPos].plot(sacim_dict['StimTT'].flatten(), sacim_dict['StimUU'].flatten(), 'k-')\n",
    "    # axs[1,uPos].vlines(0,0,np.max(sacim_dict['StimUU'].flatten())*1.1, 'k', linestyle='dashed',linewidth=1)\n",
    "    if uPos==0:\n",
    "        axs[1,uPos].set_ylabel('sp/s')\n",
    "    axs[1,uPos].set_xticks(np.linspace(-200,400,4))\n",
    "    axs[1,uPos].set_xlim([-200,400])\n",
    "    axs[1,uPos].set_xticklabels(np.linspace(-200,400,4).astype(int))\n",
    "    axs[1,uPos].set_xlabel('time (ms)')\n",
    "    axs[1,uPos].set_ylim([0, np.nanmax(psth)*1.01])\n",
    "\n",
    "    # axs[2,uPos].plot(hart_dict['SpatOris'].flatten(),\n",
    "    #               np.array(hart_dict['otune'].flatten())[:int(np.size(hart_dict['SpatOris'].flatten()))],\n",
    "    #               color='k')\n",
    "    # axs[2,uPos].set_xticks(hart_dict['SpatOris'].flatten()[::2].astype(int))\n",
    "    # axs[2,uPos].set_xlabel('orientation (deg)')\n",
    "    # axs[2,uPos].set_ylabel('sp/s')\n",
    "\n",
    "fig.tight_layout()\n",
    "\n",
    "fig.savefig(os.path.join(savepath, '6_example_cells_081022.pdf'))"
   ]
  },
  {
   "cell_type": "markdown",
   "id": "c435bae9-1de5-4b34-ba29-721104dd37a0",
   "metadata": {},
   "source": [
    "# Cross validation"
   ]
  },
  {
   "cell_type": "code",
   "execution_count": null,
   "id": "e7db524d-e213-4545-82e3-0ff4e599a4af",
   "metadata": {},
   "outputs": [],
   "source": [
    "cv_psth = np.load('/home/niell_lab/Desktop/crossval.npy')\n",
    "cv_psth.shape"
   ]
  },
  {
   "cell_type": "code",
   "execution_count": null,
   "id": "eb51b568-c40f-4111-8642-5aace8e5d78c",
   "metadata": {},
   "outputs": [],
   "source": [
    "cv_norm_psth = np.zeros(cv_psth.shape)\n",
    "cv_peakT = np.zeros([334,2])\n",
    "for u in range(334):\n",
    "    for x in range(2):\n",
    "        n = normalize_psth(cv_psth[u,x,:].copy())\n",
    "        cv_norm_psth[u,x,:] = n\n",
    "        cv_peakT[u,x] = np.argmax(n[220:450])+20"
   ]
  },
  {
   "cell_type": "code",
   "execution_count": null,
   "id": "7028d641-d19d-4319-aacb-8478bdc0c796",
   "metadata": {},
   "outputs": [],
   "source": [
    "plt.figure(figsize=(2,2), dpi=300)\n",
    "plt.plot(cv_peakT[:,0], cv_peakT[:,1], 'k.', markersize=3)\n",
    "plt.xlabel('train latency (ms)'); plt.ylabel('test latency (ms)')\n",
    "plt.plot([20,250], [20,250], linestyle='dashed', color='tab:red', linewidth=1)\n",
    "# plt.xlim([20,250]); plt.ylim([20,250])\n",
    "plt.xticks(np.linspace(20,250,4), labels=np.linspace(20,250,4).astype(int))\n",
    "plt.yticks(np.linspace(20,250,4), labels=np.linspace(20,250,4).astype(int))\n",
    "# plt.savefig('/home/niell_lab/Desktop/marmoset_latency_crossval.pdf', pad_inches=3)"
   ]
  },
  {
   "cell_type": "code",
   "execution_count": null,
   "id": "cfbc14ba-8066-423a-bdff-1bd35cf1491c",
   "metadata": {},
   "outputs": [],
   "source": [
    "from scipy.stats import spearmanr"
   ]
  },
  {
   "cell_type": "code",
   "execution_count": null,
   "id": "1702be7b-ef53-4b62-ab74-ffe10676f898",
   "metadata": {},
   "outputs": [],
   "source": [
    "spearmanr(cv_peakT[:,0], cv_peakT[:,1])"
   ]
  },
  {
   "cell_type": "code",
   "execution_count": null,
   "id": "684fc594-f839-45eb-b6f7-69f20c80e64f",
   "metadata": {},
   "outputs": [],
   "source": [
    "from scipy.stats import linregress\n",
    "\n",
    "res = linregress(cv_peakT[:,0], cv_peakT[:,1])"
   ]
  },
  {
   "cell_type": "code",
   "execution_count": null,
   "id": "c69d8e8b-78af-43ce-936e-815ea7857f62",
   "metadata": {},
   "outputs": [],
   "source": [
    "res.rvalue"
   ]
  },
  {
   "cell_type": "code",
   "execution_count": null,
   "id": "c99e9dcd-fbd5-4217-b556-840be92613ef",
   "metadata": {},
   "outputs": [],
   "source": [
    "res.rvalue**2"
   ]
  },
  {
   "cell_type": "code",
   "execution_count": null,
   "id": "f452fcb7-e6d4-45fa-b839-d33f1f9ea531",
   "metadata": {},
   "outputs": [],
   "source": []
  },
  {
   "cell_type": "code",
   "execution_count": null,
   "id": "a4a3e047-0420-4de2-9950-31b0c4e2676a",
   "metadata": {},
   "outputs": [],
   "source": [
    "latency_sort = np.argsort(cv_peakT[:,0].flatten().copy())\n",
    "train_tseq = cv_norm_psth[:,0,:].copy()[latency_sort]\n",
    "test_tseq = cv_norm_psth[:,1,:].copy()[latency_sort]"
   ]
  },
  {
   "cell_type": "code",
   "execution_count": null,
   "id": "307b300c-2534-4a35-beca-49930913dac9",
   "metadata": {},
   "outputs": [],
   "source": [
    "test_tseq.shape"
   ]
  },
  {
   "cell_type": "code",
   "execution_count": null,
   "id": "3aedd4f7-7616-4861-9b79-ff669798dc2d",
   "metadata": {},
   "outputs": [],
   "source": [
    "def plot_tempseq(panel, tseq, return_img=False, freev=None):\n",
    "    # tseq = drop_nan_along(tseq, 1)\n",
    "    panel.set_xlabel('msec')\n",
    "    panel.set_ylim([np.size(tseq,0),0])\n",
    "    vmin = -0.75; vmax = 0.75\n",
    "    if freev is not None:\n",
    "        vmin = -freev\n",
    "        vmax = freev\n",
    "    tseq[:,:5] = np.nan\n",
    "    tseq[:,-5:] = np.nan\n",
    "    img = panel.imshow(tseq, cmap='coolwarm', vmin=vmin, vmax=vmax)\n",
    "    panel.set_xlim([0,601])\n",
    "    panel.set_yticks(np.arange(0, np.size(train_tseq,0),100))\n",
    "    panel.set_xticks(np.linspace(0,601,4), labels=np.linspace(-200,400,4).astype(int))\n",
    "    panel.vlines(200, 0, np.size(tseq,0), color='k', linestyle='dashed', linewidth=1)\n",
    "    panel.set_aspect(2.8)\n",
    "    if return_img:\n",
    "        return img"
   ]
  },
  {
   "cell_type": "code",
   "execution_count": null,
   "id": "693d468f-b439-4e01-aa4b-9f84d563ee31",
   "metadata": {},
   "outputs": [],
   "source": [
    "fig, [ax0,ax1] = plt.subplots(1,2,figsize=(4,4), dpi=300)\n",
    "\n",
    "ax0_img = plot_tempseq(ax0, train_tseq)\n",
    "\n",
    "ax1_img = plot_tempseq(ax1, test_tseq)\n",
    "ax1.set_yticklabels([])\n",
    "\n",
    "ax0.set_title('train')\n",
    "ax1.set_title('test')\n",
    "\n",
    "fig.savefig('/home/niell_lab/Desktop/marmoset_crossval.pdf', pad_inches=3)"
   ]
  },
  {
   "cell_type": "code",
   "execution_count": null,
   "id": "c5213a79-4ee4-4a7d-a8eb-2b5260fa7efa",
   "metadata": {},
   "outputs": [],
   "source": [
    "# uNum = 10\n",
    "\n",
    "# unitlabels = ['tagname','pathname','pathplot','isolation','depth','duration',\n",
    "#               'waveform','channel','shank','ISI','Hart','SacGrating','SacImage']\n",
    "# unit_dict = dict(zip(unitlabels, list(totunits[uNum][0][0][0])))\n",
    "\n",
    "# sacimlabels = ['EventList','StimWin','TrialType','StimRast','OriInd','StimTT',\n",
    "#                'StimUU','StimSU','OriInd2','StimRast2','StimTT2','StimUU2',\n",
    "#                'StimSU2','BaseMu','BaseMu2']\n",
    "# sacim_dict = dict(zip(sacimlabels, list(unit_dict['SacImage'][0][0])))\n",
    "\n",
    "# rast = sacim_dict['StimRast2'].copy()\n",
    "\n",
    "# trials = np.unique(rast[:,1]).astype(int)-1\n",
    "\n",
    "# train_inds = np.array(sorted(np.random.choice(trials, size=int(np.floor(trials.size/2)), replace=False)))\n",
    "# test_inds = trials.copy()\n",
    "# test_inds = np.delete(test_inds, train_inds)\n",
    "\n",
    "# all_sps = []\n",
    "# for tnum in train_inds:\n",
    "#     sps = rast.copy()\n",
    "#     sps = sps[sps[:,1].astype(int)==int(tnum)]\n",
    "#     sps = sps[:,0]\n",
    "#     all_sps.extend(sps)\n",
    "    \n",
    "# # PSTH\n",
    "# psth = calc_PSTH(np.array(all_sps), np.zeros(train_inds.size), bandwidth=5, win=400)\n",
    "# psth = psth[200:800]\n",
    "# # normalize\n",
    "# norm_psth = normalize_psth(psth)"
   ]
  },
  {
   "cell_type": "code",
   "execution_count": null,
   "id": "2e396204-42c0-4031-b1f4-d0234f26b060",
   "metadata": {},
   "outputs": [],
   "source": [
    "unitlabels = ['tagname','pathname','pathplot','isolation','depth','duration',\n",
    "              'waveform','channel','shank','ISI','Hart','SacGrating','SacImage']\n",
    "\n",
    "sacimlabels = ['EventList','StimWin','TrialType','StimRast','OriInd','StimTT',\n",
    "               'StimUU','StimSU','OriInd2','StimRast2','StimTT2','StimUU2',\n",
    "               'StimSU2','BaseMu','BaseMu2']\n",
    "\n",
    "crossval = {}\n",
    "\n",
    "for uPos, uNum in tqdm(enumerate(range(601))):\n",
    "    \n",
    "    unit_dict = dict(zip(unitlabels, list(totunits[uNum][0][0][0])))\n",
    "\n",
    "    sacim_dict = dict(zip(sacimlabels, list(unit_dict['SacImage'][0][0])))\n",
    "\n",
    "    rast = sacim_dict['StimRast2'].copy()\n",
    "\n",
    "    trials = np.unique(rast[:,1]).astype(int)-1\n",
    "\n",
    "    train_inds = np.array(sorted(np.random.choice(trials, size=int(np.floor(trials.size/2)), replace=False)))\n",
    "    test_inds = trials.copy()\n",
    "    test_inds = np.delete(test_inds, train_inds)\n",
    "    \n",
    "    prop_dict = {}\n",
    "\n",
    "    for tt, tname in enumerate(['train', 'test']):\n",
    "        \n",
    "        inds = [train_inds, test_inds][tt]\n",
    "    \n",
    "        all_sps = []\n",
    "        for tnum in inds:\n",
    "            sps = rast.copy()\n",
    "            sps = sps[sps[:,1].astype(int)==int(tnum)]\n",
    "            sps = sps[:,0]\n",
    "            all_sps.extend(sps)\n",
    "\n",
    "        # PSTH\n",
    "        psth = calc_PSTH(np.array(all_sps), np.zeros(inds.size), bandwidth=5, win=400)\n",
    "        psth = psth[200:800]\n",
    "        norm_psth = normalize_psth(psth)\n",
    "\n",
    "        # latency\n",
    "        peakT = np.argmax(norm_psth)-200 # in ms since onset of eye movement\\\n",
    "        \n",
    "        prop_dict['{}_rawPsth'.format(tname)] = psth\n",
    "        prop_dict['{}_normPsth'.format(tname)] = norm_psth\n",
    "        prop_dict['{}_peakT'.format(tname)] = peakT\n",
    "        \n",
    "    crossval[uNum] = prop_dict"
   ]
  },
  {
   "cell_type": "markdown",
   "id": "6486e782-86f7-43e2-917f-8451f4918ded",
   "metadata": {},
   "source": [
    "# Open in arrays"
   ]
  },
  {
   "cell_type": "code",
   "execution_count": null,
   "id": "21f1ecc7-1e43-40b0-a272-39020a89f874",
   "metadata": {},
   "outputs": [],
   "source": [
    "sacc_psth = data['ISACMOD2']\n",
    "grat_psth = data['GSACMOD']\n",
    "sf_tuning = data['SFTUNE']\n",
    "tf_tuning = data['TFTUNE']\n",
    "ori_tuning = data['ORTUNE']\n",
    "bsln_fr = data['BASEMU2']\n",
    "peakT = data['PEAKIM2']\n",
    "animal = data['ANIMID']"
   ]
  },
  {
   "cell_type": "code",
   "execution_count": null,
   "id": "b5d1fc75-b32b-440d-b9a3-1e1ff03639cc",
   "metadata": {},
   "outputs": [],
   "source": [
    "def normalize_psth(psth):\n",
    "    pref = psth.copy()\n",
    "    bsln = np.mean(psth[0:150]) # was -100 to -50 ms ; now, -200 to -50 ms\n",
    "    norm_psth = (psth - bsln) / np.max(pref[200:]) # 0 to 200\n",
    "    return norm_psth\n",
    "\n",
    "n_cells = np.size(peakT,0)\n",
    "\n",
    "norm_sacc_psth = np.zeros([n_cells, len(psth_bins)])\n",
    "for ind in range(n_cells):\n",
    "    norm_sacc_psth[ind,:] = normalize_psth(sacc_psth[ind].copy())"
   ]
  },
  {
   "cell_type": "markdown",
   "id": "a31c277e-4704-49e2-b7a3-974d53230c47",
   "metadata": {},
   "source": [
    "# Grat prefs"
   ]
  },
  {
   "cell_type": "code",
   "execution_count": null,
   "id": "8e05bf2f-b878-4b7b-a7b1-d883b90968ac",
   "metadata": {},
   "outputs": [],
   "source": [
    "# spatial and temporal frequencies used\n",
    "sf_vals = np.array([1,2,4,8,16])\n",
    "tf_vals = (60/16) * np.arange(9)\n",
    "\n",
    "tf_pref = np.zeros(n_cells); sf_pref = np.zeros(n_cells)\n",
    "ori_index = np.zeros(n_cells); tf_index = np.zeros(n_cells); sf_index = np.zeros(n_cells);\n",
    "\n",
    "for ind in range(n_cells):\n",
    "    sf = sf_tuning[ind,:].copy()\n",
    "    tf = tf_tuning[ind,:].copy()\n",
    "    ori = ori_tuning[ind,:].copy()\n",
    "    \n",
    "    ofi = np.nanstd(ori) / np.nanmean(ori)\n",
    "    sfi = np.nanstd(sf) / np.nanmean(sf)\n",
    "    tfi = np.nanstd(tf) / np.nanmean(tf)\n",
    "    \n",
    "    svec = sf.copy()-1\n",
    "    svec[svec<0] = 0\n",
    "    svec = svec**2\n",
    "    spref = np.nansum(svec * sf_vals) / np.nansum(svec)\n",
    "    \n",
    "    tvec = tf.copy()-1\n",
    "    tvec[tvec<0] = 0\n",
    "    tvec = tvec**2\n",
    "    tpref = np.nansum(tvec * tf_vals) / np.nansum(tvec)\n",
    "    \n",
    "    sf_pref[ind] = spref\n",
    "    tf_pref[ind] = tpref\n",
    "    ori_index[ind] = ofi\n",
    "    sf_index[ind] = sfi\n",
    "    tf_index[ind] = tfi"
   ]
  },
  {
   "cell_type": "code",
   "execution_count": null,
   "id": "880b60c1-7b6c-4063-95b1-32520746e576",
   "metadata": {},
   "outputs": [],
   "source": [
    "def psth_modind(psth):\n",
    "    # modulation in terms of spike rate\n",
    "    psth = psth.astype(float)\n",
    "    use = psth - np.mean(psth[0:150].copy())\n",
    "    mod = np.max(np.abs(use[200:]))\n",
    "    return mod\n",
    "\n",
    "sacc_resp = np.zeros(n_cells)\n",
    "mods = np.zeros(n_cells)\n",
    "for ind in range(n_cells):\n",
    "    mod = psth_modind(norm_sacc_psth[ind,:])\n",
    "    mods[ind] = mod\n",
    "    if mod > 0.1:\n",
    "        sacc_resp[ind] = True"
   ]
  },
  {
   "cell_type": "markdown",
   "id": "cef21f2a-491b-4af7-920a-9f3945e10b83",
   "metadata": {},
   "source": [
    "# clustering"
   ]
  },
  {
   "cell_type": "code",
   "execution_count": null,
   "id": "f030f7c4-2b64-4647-91a8-d15eb98876e3",
   "metadata": {},
   "outputs": [],
   "source": [
    "Z = np.load('/home/niell_lab/Desktop/marmoset_clusters.npy')"
   ]
  },
  {
   "cell_type": "code",
   "execution_count": null,
   "id": "e627ff71-bd4a-491d-b171-ff32679b480e",
   "metadata": {},
   "outputs": [],
   "source": [
    "pca_input = norm_sacc_psth.copy()\n",
    "\n",
    "n_pcas = 10\n",
    "pca = PCA(n_components=n_pcas)\n",
    "pca.fit(pca_input)\n",
    "\n",
    "explvar = pca.explained_variance_ratio_\n",
    "\n",
    "proj = pca.transform(pca_input)\n",
    "\n",
    "# keep_pcas = int(np.argwhere(np.cumsum(explvar)>.95)[0])\n",
    "# print('using best {} PCs'.format(keep_pcas))\n",
    "\n",
    "gproj = proj[:,:7] # \n",
    "\n",
    "km = KMeans(n_clusters=4) ### using 4 clusters, not 5...\n",
    "km.fit_predict(gproj)\n",
    "Z = km.labels_"
   ]
  },
  {
   "cell_type": "code",
   "execution_count": null,
   "id": "f1f29669-abdd-45b2-a543-e87d61658216",
   "metadata": {},
   "outputs": [],
   "source": [
    "np.cumsum(explvar[:7])"
   ]
  },
  {
   "cell_type": "code",
   "execution_count": null,
   "id": "76cb47ef-9b91-4c0b-95e2-e812d41601bd",
   "metadata": {},
   "outputs": [],
   "source": [
    "kord = [2,0,3,1]\n",
    "\n",
    "color_list = [kcolors['early'],\n",
    "          kcolors['late'],\n",
    "          kcolors['biphasic'],\n",
    "          kcolors['negative']\n",
    "         ]"
   ]
  },
  {
   "cell_type": "code",
   "execution_count": null,
   "id": "7e44dd1f-70b6-4a76-a978-f68517c0259d",
   "metadata": {},
   "outputs": [],
   "source": [
    "clusters = Z.copy()"
   ]
  },
  {
   "cell_type": "code",
   "execution_count": null,
   "id": "f1912573-1690-4eca-9686-5f3eca718c2f",
   "metadata": {},
   "outputs": [],
   "source": [
    "for ki, k in enumerate(kord):\n",
    "    print(names[ki], len(np.argwhere((clusters==k) * (grat_resp==1)).flatten()))"
   ]
  },
  {
   "cell_type": "code",
   "execution_count": null,
   "id": "0c975f92-bc7e-464f-8e4d-d3440ce41d1e",
   "metadata": {},
   "outputs": [],
   "source": [
    "np.save('/home/niell_lab/Desktop/marmoset_clusters.npy', clusters)"
   ]
  },
  {
   "cell_type": "markdown",
   "id": "79cb8842-93b7-41bc-bc32-d9df81dbb20f",
   "metadata": {},
   "source": [
    "# plot clusters"
   ]
  },
  {
   "cell_type": "code",
   "execution_count": null,
   "id": "fbf35992-cd4d-4597-b5da-b2fb8fe9b79d",
   "metadata": {},
   "outputs": [],
   "source": [
    "names = ['early','late','biphasic','negative']\n",
    "fig, axs = plt.subplots(1,4,figsize=(7.5,2), dpi=300)\n",
    "for ki, k in enumerate(kord):\n",
    "    ax = axs[ki]\n",
    "    inds = np.argwhere(clusters==k).flatten()\n",
    "    for ind in inds:\n",
    "        psth = norm_sacc_psth[ind,:]\n",
    "        ax.plot(psth_bins, psth, alpha=0.2)\n",
    "    ax.plot(psth_bins, np.nanmean(norm_sacc_psth[inds,:], axis=0), color=color_list[ki], linewidth=2)\n",
    "    ax.set_ylim([-0.75,1])\n",
    "    ax.vlines(0, -1, 1, color='k', linestyle='dashed')\n",
    "    ax.set_xticks(np.linspace(-200,400,4))\n",
    "    ax.set_xlim([-200,400])\n",
    "    ax.set_xlabel('time (ms)')\n",
    "    print(names[ki], len(inds))\n",
    "    if ki>0:\n",
    "        ax.set_yticks([])\n",
    "    if ki==0:\n",
    "        ax.set_ylabel('norm sp/s')\n",
    "fig.tight_layout()\n",
    "# fig.savefig(os.path.join(savepath, '6_clusters.pdf'))"
   ]
  },
  {
   "cell_type": "code",
   "execution_count": null,
   "id": "c4cd7300-5081-41ea-9ff6-985d29a11aa6",
   "metadata": {},
   "outputs": [],
   "source": [
    "fig, axs = plt.subplots(2,2,figsize=(4,3.25), dpi=300)\n",
    "for ki, k in enumerate(kord):\n",
    "    ax = axs.flatten()[ki]\n",
    "    inds = np.argwhere(clusters==k).flatten()\n",
    "    for ind in inds:\n",
    "        psth = norm_sacc_psth[ind,:]\n",
    "        ax.plot(psth_bins, psth, alpha=0.2)\n",
    "    ax.plot(psth_bins, np.nanmean(norm_sacc_psth[inds,:], axis=0), color=color_list[ki], linewidth=2)\n",
    "    ax.set_ylim([-0.8,1])\n",
    "    ax.vlines(0, -1, 1, color='k', linestyle='dashed')\n",
    "    ax.set_xticks(np.linspace(-200,400,4))\n",
    "    ax.set_xlim([-200,400])\n",
    "    if ki<2:\n",
    "        ax.set_xticklabels([])\n",
    "    if ki==0 or ki==2:\n",
    "        ax.set_ylabel('norm sp/s')\n",
    "    if ki>1:\n",
    "        ax.set_xlabel('time (ms)')\n",
    "fig.tight_layout()\n",
    "fig.savefig(os.path.join(savepath, '6_clusters_sq.pdf'))"
   ]
  },
  {
   "cell_type": "code",
   "execution_count": null,
   "id": "07984dcf-f357-4014-8e95-66eb8fcf2f3c",
   "metadata": {},
   "outputs": [],
   "source": [
    "fig, ax = plt.subplots(1,1,figsize=(2.75,2), dpi=300)\n",
    "for ki, k in enumerate(kord):\n",
    "    inds = np.argwhere(clusters==k).flatten()\n",
    "    for ind in inds:\n",
    "        psth = norm_sacc_psth[ind,:]\n",
    "        # ax.plot(psth_bins, psth, alpha=0.2)\n",
    "    ax.plot(psth_bins, np.nanmean(norm_sacc_psth[inds,:], axis=0), color=color_list[ki], linewidth=2)\n",
    "    ax.set_ylim([-.5,.7])\n",
    "    ax.vlines(0, -1, 1, color='k', linestyle='dashed')\n",
    "    \n",
    "ax.set_xlim([-200,400])\n",
    "ax.set_xticks(np.linspace(-200,400,4))\n",
    "ax.set_xlabel('time (ms)')\n",
    "ax.set_ylabel('norm sp/s')\n",
    "\n",
    "fig.tight_layout()\n",
    "fig.savefig(os.path.join(savepath, '6_all_clusters.pdf'))"
   ]
  },
  {
   "cell_type": "code",
   "execution_count": null,
   "id": "984a73d5-f242-4b92-bb31-dc7e645ff9af",
   "metadata": {},
   "outputs": [],
   "source": [
    "fig, ax = plt.subplots(1,1,figsize=(2.5,2), dpi=300)\n",
    "for ki, k in enumerate(kord):\n",
    "    inds = np.argwhere(clusters==k).flatten()\n",
    "    ax.scatter(proj[inds,0], proj[inds,1], s=1, c=color_list[ki])\n",
    "ax.set_xlabel('PC 1'); ax.set_ylabel('PC 2')\n",
    "ax.axis('equal')\n",
    "# ax.set_ylim([-3,5])\n",
    "# ax.set_xlim([-6,8])\n",
    "\n",
    "fig.savefig(os.path.join(savepath, '6_pca.pdf'))"
   ]
  },
  {
   "cell_type": "code",
   "execution_count": null,
   "id": "5de5c10c-e6e5-47e2-8d4b-8058379ee563",
   "metadata": {},
   "outputs": [],
   "source": [
    "def plot_cprop_scatter(ax, data, clusters, color_list):\n",
    "    for ki, k in enumerate(kord):\n",
    "        \n",
    "        inds = np.argwhere(clusters==k).flatten()\n",
    "        kdata = data[inds].copy()\n",
    "        \n",
    "        x_jitter = np.random.uniform(ki-0.2, ki+0.2, np.size(kdata,0))\n",
    "        \n",
    "        ax.plot(x_jitter, kdata, '.', color=color_list[ki], markersize=2)\n",
    "        \n",
    "        hline = np.nanmedian(kdata)\n",
    "        err = np.std(kdata) / np.sqrt(np.size(kdata))\n",
    "        \n",
    "        ax.hlines(hline, ki-0.2, ki+0.2, color='k', linewidth=2)\n",
    "        ax.vlines(ki, hline-err, hline+err, color='k', linewidth=2)\n",
    "        \n",
    "        ax.set_xticks(range(4))\n",
    "        ax.set_xticklabels(['early','late','biphasic','negative'])"
   ]
  },
  {
   "cell_type": "code",
   "execution_count": null,
   "id": "adb7c314-e974-4e0a-8c67-f0276bf2ef69",
   "metadata": {},
   "outputs": [],
   "source": [
    "from scipy import stats\n",
    "def running_median(ax, x, y, n_bins=7):\n",
    "    bins = np.linspace(np.min(x), np.max(x), n_bins)\n",
    "    bin_means, bin_edges, bin_number = stats.binned_statistic(x[~np.isnan(x) & ~np.isnan(y)], y[~np.isnan(x) & ~np.isnan(y)], statistic=np.median, bins=bins)\n",
    "    bin_std, _, _ = stats.binned_statistic(x[~np.isnan(x) & ~np.isnan(y)], y[~np.isnan(x) & ~np.isnan(y)], statistic=np.nanstd, bins=bins)\n",
    "    hist, _ = np.histogram(x[~np.isnan(x) & ~np.isnan(y)], bins=bins)\n",
    "    tuning_err = bin_std / np.sqrt(hist)\n",
    "    ax.plot(bin_edges[:-1] + (np.median(np.diff(bins))/2), bin_means, '-', color='k')\n",
    "    ax.fill_between(bin_edges[:-1] + (np.median(np.diff(bins))/2), bin_means-tuning_err, bin_means+tuning_err, color='k', alpha=0.2)"
   ]
  },
  {
   "cell_type": "code",
   "execution_count": null,
   "id": "e37a6a3f-0eb0-4b59-8cf2-3ff76eb6bc0e",
   "metadata": {},
   "outputs": [],
   "source": [
    "grat_resp = np.zeros(n_cells)\n",
    "for ind in range(n_cells):\n",
    "    ffi = np.sqrt(ori_index[ind]**2 + sf_index[ind]**2)\n",
    "    if ffi >= 0.2:\n",
    "        grat_resp[ind] = True\n",
    "grat_resp = grat_resp.astype(bool)"
   ]
  },
  {
   "cell_type": "code",
   "execution_count": null,
   "id": "52af82c4-d08f-4213-8d47-1abd68a41047",
   "metadata": {},
   "outputs": [],
   "source": [
    "use = np.argwhere(grat_resp).flatten()\n",
    "\n",
    "vcounts = np.unique(clusters[use], return_counts=True)\n",
    "vcounts[1][kord]"
   ]
  },
  {
   "cell_type": "code",
   "execution_count": null,
   "id": "6d8919ae-6b75-4a92-93ee-f848d305a9df",
   "metadata": {},
   "outputs": [],
   "source": [
    "use = np.argwhere((grat_resp) * (peakT.flatten()>25) * (peakT.flatten()<160)).flatten()\n",
    "\n",
    "vcounts = np.unique(clusters[use], return_counts=True)\n",
    "vcounts[1][kord]"
   ]
  },
  {
   "cell_type": "markdown",
   "id": "2c5221ef-4a6a-490c-ba37-f87c3ed9062b",
   "metadata": {},
   "source": [
    "# tf and sf"
   ]
  },
  {
   "cell_type": "code",
   "execution_count": null,
   "id": "0aabb379-cff1-4ef3-9595-d94666e27d01",
   "metadata": {},
   "outputs": [],
   "source": [
    "from scipy.stats import f_oneway\n",
    "import itertools"
   ]
  },
  {
   "cell_type": "code",
   "execution_count": null,
   "id": "8ff11b90-35f6-4691-b620-8c02943f37e8",
   "metadata": {},
   "outputs": [],
   "source": [
    "combs = list(itertools.combinations(['early','late','biphasic','negative'], 2))"
   ]
  },
  {
   "cell_type": "code",
   "execution_count": null,
   "id": "0d02fca0-d78f-411f-b8b9-cd63d502647e",
   "metadata": {},
   "outputs": [],
   "source": [
    "[['early','late','biphasic','negative'][k] for k in kord]"
   ]
  },
  {
   "cell_type": "code",
   "execution_count": null,
   "id": "9f370767-2f4b-4b10-a423-807255396dde",
   "metadata": {},
   "outputs": [],
   "source": [
    "kord"
   ]
  },
  {
   "cell_type": "code",
   "execution_count": null,
   "id": "412232d2-c62e-489b-a924-b26ef05aa34b",
   "metadata": {},
   "outputs": [],
   "source": [
    "kname = 'negative'\n",
    "kord[['early','late','biphasic','negative'].index(kname)]"
   ]
  },
  {
   "cell_type": "code",
   "execution_count": null,
   "id": "ece45735-10ad-45d0-9ec8-d97a3d0830ad",
   "metadata": {},
   "outputs": [],
   "source": [
    "pairwise_anova = {}\n",
    "\n",
    "use = np.argwhere(grat_resp).flatten()\n",
    "\n",
    "vals = []\n",
    "for i, pair in enumerate(combs):\n",
    "    \n",
    "    n1 = kord[['early','late','biphasic','negative'].index(pair[0])]\n",
    "    n2 = kord[['early','late','biphasic','negative'].index(pair[1])]\n",
    "    \n",
    "    v1 = sf_pref[use][clusters[use]==n1]\n",
    "    v2 = sf_pref[use][clusters[use]==n2]\n",
    "    v1 = v1[~np.isnan(v1)]\n",
    "    v2 = v2[~np.isnan(v2)]\n",
    "    \n",
    "    f, p = f_oneway(v1, v2)\n",
    "    out = {'f':f, 'p':p}\n",
    "    pairwise_anova['{}{} {:02f} vs {}{} {:02f}'.format(pair[0],n1,np.mean(v1),pair[1],n2,np.mean(v2))] = out\n",
    "pairwise_anova"
   ]
  },
  {
   "cell_type": "code",
   "execution_count": null,
   "id": "56642604-6ac1-4912-aa31-ae5b631d878b",
   "metadata": {},
   "outputs": [],
   "source": [
    "kord"
   ]
  },
  {
   "cell_type": "code",
   "execution_count": null,
   "id": "52248534-943e-40d2-bf1e-71e532b156b8",
   "metadata": {},
   "outputs": [],
   "source": []
  },
  {
   "cell_type": "code",
   "execution_count": null,
   "id": "38ba9b50-bafb-4aea-9bc9-857d90fa439d",
   "metadata": {},
   "outputs": [],
   "source": [
    "fig, [[ax0,ax1],[ax2,ax3]] = plt.subplots(2,2, figsize=(6,4.5), dpi=300)\n",
    "\n",
    "# use = np.argwhere((grat_resp)).flatten()\n",
    "use = np.argwhere((grat_resp) * (peakT.flatten()>25) * (peakT.flatten()<160)).flatten() # 25; 175 ms\n",
    "\n",
    "plot_cprop_scatter(ax0, tf_pref[use], clusters[use], color_list)\n",
    "ax0.set_ylabel('temporal freq (cps)')\n",
    "\n",
    "plot_cprop_scatter(ax2, sf_pref[use], clusters[use], color_list)\n",
    "ax2.set_ylabel('spatial freq (cpd)')\n",
    "\n",
    "for ki, k in enumerate(kord):\n",
    "    inds = np.intersect1d(np.argwhere((clusters==k)).flatten(), use)\n",
    "    \n",
    "    ax1.plot(peakT.flatten()[inds], tf_pref[inds], '.', color=color_list[ki], markersize=3)\n",
    "    ax3.plot(peakT.flatten()[inds], sf_pref[inds], '.', color=color_list[ki], markersize=3)\n",
    "    \n",
    "running_median(ax1, peakT.flatten()[use], tf_pref[use], n_bins=6)\n",
    "running_median(ax3, peakT.flatten()[use], sf_pref[use], n_bins=6)\n",
    "\n",
    "ax1.set_xlabel('saccade latency (ms)')\n",
    "ax3.set_xlabel('saccade latency (ms)')\n",
    "ax1.set_ylabel('temporal freq (cps)')\n",
    "ax3.set_ylabel('spatial freq (cpd)')\n",
    "    \n",
    "ax1.set_xlim([25,175])\n",
    "ax3.set_xlim([25,175])\n",
    "ax0.set_ylim([0, 15]); ax1.set_ylim([0, 15])\n",
    "ax2.set_ylim([1.5, 5]); ax3.set_ylim([1.5, 5])\n",
    "\n",
    "fig.tight_layout()\n",
    "\n",
    "# fig.savefig(os.path.join(savepath, '6_sf_tf_scatter.pdf'))"
   ]
  },
  {
   "cell_type": "code",
   "execution_count": null,
   "id": "959f7a33-c417-4a9e-a9d1-054c4ef20cd2",
   "metadata": {},
   "outputs": [],
   "source": [
    "from scipy.stats import spearmanr"
   ]
  },
  {
   "cell_type": "code",
   "execution_count": null,
   "id": "3ffd5eca-080b-42b4-b1b5-05fbb9b6345d",
   "metadata": {},
   "outputs": [],
   "source": [
    "use = np.argwhere(grat_resp).flatten()\n",
    "\n",
    "spearmanr(peakT.flatten()[use], sf_pref[use])"
   ]
  },
  {
   "cell_type": "code",
   "execution_count": null,
   "id": "398d4621-f0d2-40a3-befc-8d21fc98cbea",
   "metadata": {},
   "outputs": [],
   "source": [
    "(res.rvalue)**2"
   ]
  },
  {
   "cell_type": "code",
   "execution_count": null,
   "id": "4603d15f-5fd7-44f3-ba50-4c2f7f48d389",
   "metadata": {},
   "outputs": [],
   "source": [
    "res.pvalue"
   ]
  },
  {
   "cell_type": "code",
   "execution_count": null,
   "id": "f02ad5e8-7edd-47ac-a4c1-440c31ffef93",
   "metadata": {},
   "outputs": [],
   "source": [
    "len(peakT.flatten()[grat_resp])"
   ]
  },
  {
   "cell_type": "code",
   "execution_count": null,
   "id": "bd4638c7-5275-4160-a4b5-00499e09f840",
   "metadata": {},
   "outputs": [],
   "source": [
    "use = np.argwhere((grat_resp) * (peakT.flatten()>25) * (peakT.flatten()<150)).flatten()\n",
    "np.unique(clusters[use], return_counts=True)"
   ]
  },
  {
   "cell_type": "code",
   "execution_count": null,
   "id": "337fe4a5-ffbd-4f08-b7bc-25c384687933",
   "metadata": {},
   "outputs": [],
   "source": [
    "len(use)"
   ]
  },
  {
   "cell_type": "code",
   "execution_count": null,
   "id": "3986d338-72ee-4d7e-95a4-25fb73484058",
   "metadata": {},
   "outputs": [],
   "source": [
    "latency_sort = np.argsort(peakT.flatten().copy())\n",
    "tempseq = norm_sacc_psth.copy()[latency_sort]"
   ]
  },
  {
   "cell_type": "code",
   "execution_count": null,
   "id": "0cccb66e-1f70-45fe-84a5-19d4839c176e",
   "metadata": {},
   "outputs": [],
   "source": [
    "def plot_tempseq(ax, seq):\n",
    "    \n",
    "    ax.set_xlabel('time (msec)')\n",
    "    ax.set_ylim([np.size(seq,0),0])\n",
    "    \n",
    "    vmin = -0.75; vmax = 0.75\n",
    "    img = ax.imshow(seq, cmap='coolwarm', vmin=vmin, vmax=vmax)\n",
    "    \n",
    "    ax.set_xlim([0,601])\n",
    "    \n",
    "    ax.set_xticks(np.linspace(0,600,4))\n",
    "    ax.set_xticklabels(labels=np.linspace(-200,400,4).astype(int))\n",
    "    ax.vlines(200, 0, np.size(seq,0), color='k', linestyle='dashed', linewidth=1)\n",
    "    \n",
    "    ax.set_aspect(3)\n",
    "    \n",
    "    return img"
   ]
  },
  {
   "cell_type": "code",
   "execution_count": null,
   "id": "6670b001-3876-4dec-b30c-9aac0fc24eeb",
   "metadata": {},
   "outputs": [],
   "source": [
    "fig, ax = plt.subplots(1,1, dpi=300, figsize=(5,5))\n",
    "plot_tempseq(ax, tempseq)\n",
    "ax.set_yticks(np.arange(0,np.size(tempseq,0),100))\n",
    "fig.savefig(os.path.join(savepath, '6_tempseq.pdf'))"
   ]
  },
  {
   "cell_type": "code",
   "execution_count": null,
   "id": "0301f275-51cc-4d2e-9a63-1ab769443196",
   "metadata": {},
   "outputs": [],
   "source": [
    "0,2,3,1"
   ]
  },
  {
   "cell_type": "code",
   "execution_count": null,
   "id": "d56c276f-c618-42dd-ab51-536654b6b41e",
   "metadata": {},
   "outputs": [],
   "source": [
    "k_to_name = {\n",
    "    0:'early',\n",
    "    2:'late',\n",
    "    3:'biphasic',\n",
    "    1:'negative'\n",
    "}"
   ]
  },
  {
   "cell_type": "code",
   "execution_count": null,
   "id": "cf09deb5-b0b6-44c8-8d1d-2f165dea1cc1",
   "metadata": {},
   "outputs": [],
   "source": [
    "sorted_clusters = clusters.copy()[latency_sort]\n",
    "\n",
    "tempseq_legend = np.zeros([n_cells, 1, 4])\n",
    "for ki, k in enumerate(sorted_clusters):\n",
    "    tempseq_legend[ki,:,:] = kcolors[k_to_name[k]]"
   ]
  },
  {
   "cell_type": "code",
   "execution_count": null,
   "id": "6a1ab184-e55f-4955-8e7f-edf6129c1949",
   "metadata": {},
   "outputs": [],
   "source": [
    "fig, ax = plt.subplots(1,1,figsize=(0.5,1.5), dpi=300)\n",
    "ax.imshow(tempseq_legend, aspect=.05)\n",
    "ax.set_yticks([]); ax.set_xticks([])\n",
    "ax.axes.spines.bottom.set_visible(False)\n",
    "ax.axes.spines.right.set_visible(False)\n",
    "ax.axes.spines.left.set_visible(False)\n",
    "ax.axes.spines.top.set_visible(False)\n",
    "plt.tight_layout()\n",
    "fig.savefig(os.path.join(savepath, '6_tempseq_legend.pdf'))"
   ]
  },
  {
   "cell_type": "code",
   "execution_count": null,
   "id": "b3e3589b-769a-4a3c-8587-f5be6b6964d9",
   "metadata": {},
   "outputs": [],
   "source": [
    "fig, [ax_cellcounts, ax_baseline_fr] = plt.subplots(1,2, figsize=(5.5,2.5), dpi=300)\n",
    "\n",
    "names = ['early','late','biphasic','negative']\n",
    "print_names = ['early','late','biph','neg']\n",
    "\n",
    "for ki, k in enumerate(kord):\n",
    "    inds = np.argwhere((clusters==k)).flatten()\n",
    "    ax_cellcounts.bar(ki, len(inds)/n_cells, color=color_list[ki])\n",
    "    \n",
    "ax_cellcounts.set_xticks(ticks=range(4))\n",
    "ax_cellcounts.set_xticklabels(print_names, rotation=90)\n",
    "ax_cellcounts.set_ylabel('frac. cells')\n",
    "\n",
    "for ki, k in enumerate(kord):\n",
    "    inds = np.argwhere((clusters==k)).flatten()\n",
    "    bsln_plot_vals = bsln_fr[inds]\n",
    "    \n",
    "    err = np.nanstd(bsln_plot_vals) / np.sqrt(np.size(bsln_plot_vals))\n",
    "    med = np.nanmedian(bsln_plot_vals)\n",
    "    \n",
    "    ax_baseline_fr.bar(ki, med, color=color_list[ki])\n",
    "    ax_baseline_fr.plot([ki, ki], [med-err, med+err], 'k-')\n",
    "    \n",
    "ax_baseline_fr.set_xticks(range(4))\n",
    "ax_baseline_fr.set_xticklabels(print_names, rotation=90)\n",
    "ax_baseline_fr.set_ylabel('baseline (sp/s)')\n",
    "\n",
    "fig.tight_layout()\n",
    "fig.savefig(os.path.join(savepath, '6_ksize_bslnFr.pdf'))"
   ]
  },
  {
   "cell_type": "code",
   "execution_count": null,
   "id": "ccc251cc-a005-4af4-9788-ab678d7b7e1d",
   "metadata": {},
   "outputs": [],
   "source": []
  }
 ],
 "metadata": {
  "kernelspec": {
   "display_name": "ephys0",
   "language": "python",
   "name": "ephys0"
  },
  "language_info": {
   "codemirror_mode": {
    "name": "ipython",
    "version": 3
   },
   "file_extension": ".py",
   "mimetype": "text/x-python",
   "name": "python",
   "nbconvert_exporter": "python",
   "pygments_lexer": "ipython3",
   "version": "3.9.7"
  }
 },
 "nbformat": 4,
 "nbformat_minor": 5
}
