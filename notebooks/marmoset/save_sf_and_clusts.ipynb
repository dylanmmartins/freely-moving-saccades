{
 "cells": [
  {
   "cell_type": "code",
   "execution_count": 22,
   "id": "c9141758-72a2-40a5-bed7-9cd0471586c6",
   "metadata": {},
   "outputs": [],
   "source": [
    "import numpy as np\n",
    "from scipy.io import loadmat\n",
    "import pandas as pd"
   ]
  },
  {
   "cell_type": "code",
   "execution_count": 4,
   "id": "4bd5dd68-457b-4028-8af5-287a9b3fb328",
   "metadata": {},
   "outputs": [],
   "source": [
    "Z = np.load('/home/niell_lab/Desktop/marmoset_clusters.npy')\n",
    "data = loadmat('/home/niell_lab/Data/marmoset/gazeshift/Pooled_V1Hart_Preload_Final.mat')"
   ]
  },
  {
   "cell_type": "code",
   "execution_count": 5,
   "id": "bf48fa59-849b-4fe2-9c8c-8e55bc81afa9",
   "metadata": {},
   "outputs": [],
   "source": [
    "sacc_psth = data['ISACMOD2']\n",
    "grat_psth = data['GSACMOD']\n",
    "sf_tuning = data['SFTUNE']\n",
    "tf_tuning = data['TFTUNE']\n",
    "ori_tuning = data['ORTUNE']\n",
    "bsln_fr = data['BASEMU2']\n",
    "peakT = data['PEAKIM2']\n",
    "animal = data['ANIMID']"
   ]
  },
  {
   "cell_type": "code",
   "execution_count": 11,
   "id": "09e36c19-b9d4-469c-9467-3b649380742b",
   "metadata": {},
   "outputs": [],
   "source": [
    "n_cells = np.size(sacc_psth, 0)"
   ]
  },
  {
   "cell_type": "code",
   "execution_count": 12,
   "id": "db32811c-7d0b-48dd-ae33-c9de7457c8e1",
   "metadata": {},
   "outputs": [],
   "source": [
    "# spatial and temporal frequencies used\n",
    "sf_vals = np.array([1,2,4,8,16])\n",
    "tf_vals = (60/16) * np.arange(9)\n",
    "\n",
    "tf_pref = np.zeros(n_cells); sf_pref = np.zeros(n_cells)\n",
    "ori_index = np.zeros(n_cells); tf_index = np.zeros(n_cells); sf_index = np.zeros(n_cells);\n",
    "\n",
    "for ind in range(n_cells):\n",
    "    sf = sf_tuning[ind,:].copy()\n",
    "    tf = tf_tuning[ind,:].copy()\n",
    "    ori = ori_tuning[ind,:].copy()\n",
    "    \n",
    "    ofi = np.nanstd(ori) / np.nanmean(ori)\n",
    "    sfi = np.nanstd(sf) / np.nanmean(sf)\n",
    "    tfi = np.nanstd(tf) / np.nanmean(tf)\n",
    "    \n",
    "    svec = sf.copy()-1\n",
    "    svec[svec<0] = 0\n",
    "    svec = svec**2\n",
    "    spref = np.nansum(svec * sf_vals) / np.nansum(svec)\n",
    "    \n",
    "    tvec = tf.copy()-1\n",
    "    tvec[tvec<0] = 0\n",
    "    tvec = tvec**2\n",
    "    tpref = np.nansum(tvec * tf_vals) / np.nansum(tvec)\n",
    "    \n",
    "    sf_pref[ind] = spref\n",
    "    tf_pref[ind] = tpref\n",
    "    ori_index[ind] = ofi\n",
    "    sf_index[ind] = sfi\n",
    "    tf_index[ind] = tfi"
   ]
  },
  {
   "cell_type": "code",
   "execution_count": 18,
   "id": "bd95db41-89d4-4441-a8cc-81e9dee2ff8f",
   "metadata": {},
   "outputs": [
    {
     "data": {
      "text/plain": [
       "(334,)"
      ]
     },
     "execution_count": 18,
     "metadata": {},
     "output_type": "execute_result"
    }
   ],
   "source": [
    "np.shape(sf_pref)"
   ]
  },
  {
   "cell_type": "code",
   "execution_count": 20,
   "id": "f7fc7c0c-14bd-4baa-a864-c0266b27a697",
   "metadata": {},
   "outputs": [
    {
     "data": {
      "text/plain": [
       "(array([0, 1, 2, 3], dtype=int32), array([136,  50,  64,  84]))"
      ]
     },
     "execution_count": 20,
     "metadata": {},
     "output_type": "execute_result"
    }
   ],
   "source": [
    "np.unique(Z, return_counts=True)"
   ]
  },
  {
   "cell_type": "code",
   "execution_count": 30,
   "id": "9fa3aa16-c581-4233-a395-12658f4c43f3",
   "metadata": {},
   "outputs": [],
   "source": [
    "labels = {\n",
    "    2:'early',\n",
    "    0:'late',\n",
    "    3:'biphasic',\n",
    "    1:'negative'\n",
    "}"
   ]
  },
  {
   "cell_type": "code",
   "execution_count": 31,
   "id": "5d6ef99b-bc57-4260-b3ae-77fe686e60ec",
   "metadata": {},
   "outputs": [
    {
     "data": {
      "text/plain": [
       "{2: 'early', 0: 'late', 3: 'biphasic', 1: 'negative'}"
      ]
     },
     "execution_count": 31,
     "metadata": {},
     "output_type": "execute_result"
    }
   ],
   "source": [
    "labels"
   ]
  },
  {
   "cell_type": "code",
   "execution_count": 33,
   "id": "60188586-4424-42a3-81f6-fe1053ac79bb",
   "metadata": {},
   "outputs": [
    {
     "name": "stderr",
     "output_type": "stream",
     "text": [
      "/tmp/ipykernel_253070/2083477256.py:1: FutureWarning: The default dtype for empty Series will be 'object' instead of 'float64' in a future version. Specify a dtype explicitly to silence this warning.\n",
      "  Z1 = pd.Series()\n"
     ]
    },
    {
     "data": {
      "text/plain": [
       "0      negative\n",
       "1          late\n",
       "2      negative\n",
       "3         early\n",
       "4      biphasic\n",
       "         ...   \n",
       "329       early\n",
       "330        late\n",
       "331       early\n",
       "332       early\n",
       "333    biphasic\n",
       "Length: 334, dtype: object"
      ]
     },
     "execution_count": 33,
     "metadata": {},
     "output_type": "execute_result"
    }
   ],
   "source": [
    "Z1 = pd.Series()\n",
    "for i in range(np.size(Z)):\n",
    "    Z1.at[i] = labels[Z[i]]\n",
    "Z1"
   ]
  },
  {
   "cell_type": "code",
   "execution_count": 66,
   "id": "1502d107-91b2-4d8e-8cc4-7f1510421420",
   "metadata": {},
   "outputs": [],
   "source": [
    "df = pd.DataFrame(sf_pref, columns=['sf_pref'])\n",
    "df['gazecluster_ind'] = Z\n",
    "df['gazecluster'] = Z1\n",
    "df['animal'] = animal.T[0]"
   ]
  },
  {
   "cell_type": "code",
   "execution_count": 67,
   "id": "fc35bff0-9047-4798-8cad-7a328c945e54",
   "metadata": {},
   "outputs": [
    {
     "data": {
      "text/html": [
       "<div>\n",
       "<style scoped>\n",
       "    .dataframe tbody tr th:only-of-type {\n",
       "        vertical-align: middle;\n",
       "    }\n",
       "\n",
       "    .dataframe tbody tr th {\n",
       "        vertical-align: top;\n",
       "    }\n",
       "\n",
       "    .dataframe thead th {\n",
       "        text-align: right;\n",
       "    }\n",
       "</style>\n",
       "<table border=\"1\" class=\"dataframe\">\n",
       "  <thead>\n",
       "    <tr style=\"text-align: right;\">\n",
       "      <th></th>\n",
       "      <th>sf_pref</th>\n",
       "      <th>gazecluster_ind</th>\n",
       "      <th>gazecluster</th>\n",
       "      <th>animal</th>\n",
       "    </tr>\n",
       "  </thead>\n",
       "  <tbody>\n",
       "    <tr>\n",
       "      <th>0</th>\n",
       "      <td>3.404837</td>\n",
       "      <td>1</td>\n",
       "      <td>negative</td>\n",
       "      <td>1</td>\n",
       "    </tr>\n",
       "    <tr>\n",
       "      <th>1</th>\n",
       "      <td>4.324515</td>\n",
       "      <td>0</td>\n",
       "      <td>late</td>\n",
       "      <td>1</td>\n",
       "    </tr>\n",
       "    <tr>\n",
       "      <th>2</th>\n",
       "      <td>2.717623</td>\n",
       "      <td>1</td>\n",
       "      <td>negative</td>\n",
       "      <td>1</td>\n",
       "    </tr>\n",
       "    <tr>\n",
       "      <th>3</th>\n",
       "      <td>2.741098</td>\n",
       "      <td>2</td>\n",
       "      <td>early</td>\n",
       "      <td>1</td>\n",
       "    </tr>\n",
       "    <tr>\n",
       "      <th>4</th>\n",
       "      <td>2.171180</td>\n",
       "      <td>3</td>\n",
       "      <td>biphasic</td>\n",
       "      <td>1</td>\n",
       "    </tr>\n",
       "    <tr>\n",
       "      <th>...</th>\n",
       "      <td>...</td>\n",
       "      <td>...</td>\n",
       "      <td>...</td>\n",
       "      <td>...</td>\n",
       "    </tr>\n",
       "    <tr>\n",
       "      <th>329</th>\n",
       "      <td>2.445485</td>\n",
       "      <td>2</td>\n",
       "      <td>early</td>\n",
       "      <td>2</td>\n",
       "    </tr>\n",
       "    <tr>\n",
       "      <th>330</th>\n",
       "      <td>3.811275</td>\n",
       "      <td>0</td>\n",
       "      <td>late</td>\n",
       "      <td>2</td>\n",
       "    </tr>\n",
       "    <tr>\n",
       "      <th>331</th>\n",
       "      <td>1.773443</td>\n",
       "      <td>2</td>\n",
       "      <td>early</td>\n",
       "      <td>2</td>\n",
       "    </tr>\n",
       "    <tr>\n",
       "      <th>332</th>\n",
       "      <td>1.689047</td>\n",
       "      <td>2</td>\n",
       "      <td>early</td>\n",
       "      <td>2</td>\n",
       "    </tr>\n",
       "    <tr>\n",
       "      <th>333</th>\n",
       "      <td>3.441698</td>\n",
       "      <td>3</td>\n",
       "      <td>biphasic</td>\n",
       "      <td>2</td>\n",
       "    </tr>\n",
       "  </tbody>\n",
       "</table>\n",
       "<p>334 rows × 4 columns</p>\n",
       "</div>"
      ],
      "text/plain": [
       "      sf_pref  gazecluster_ind gazecluster  animal\n",
       "0    3.404837                1    negative       1\n",
       "1    4.324515                0        late       1\n",
       "2    2.717623                1    negative       1\n",
       "3    2.741098                2       early       1\n",
       "4    2.171180                3    biphasic       1\n",
       "..        ...              ...         ...     ...\n",
       "329  2.445485                2       early       2\n",
       "330  3.811275                0        late       2\n",
       "331  1.773443                2       early       2\n",
       "332  1.689047                2       early       2\n",
       "333  3.441698                3    biphasic       2\n",
       "\n",
       "[334 rows x 4 columns]"
      ]
     },
     "execution_count": 67,
     "metadata": {},
     "output_type": "execute_result"
    }
   ],
   "source": [
    "df"
   ]
  },
  {
   "cell_type": "code",
   "execution_count": 41,
   "id": "11b4b916-34f0-4daa-97b9-6ba7e9442913",
   "metadata": {},
   "outputs": [],
   "source": [
    "import matplotlib.pyplot as plt"
   ]
  },
  {
   "cell_type": "code",
   "execution_count": 53,
   "id": "6a1062bd-a804-4832-ad6c-a815ae8e1373",
   "metadata": {},
   "outputs": [
    {
     "data": {
      "text/plain": [
       "<BarContainer object of 4 artists>"
      ]
     },
     "execution_count": 53,
     "metadata": {},
     "output_type": "execute_result"
    },
    {
     "data": {
      "image/png": "[encoded data removed]",
      "text/plain": [
       "<Figure size 432x288 with 1 Axes>"
      ]
     },
     "metadata": {
      "needs_background": "light"
     },
     "output_type": "display_data"
    }
   ],
   "source": [
    "plt.bar(range(4), df['gazecluster_ind'].value_counts())"
   ]
  },
  {
   "cell_type": "code",
   "execution_count": 68,
   "id": "8ae537ea-ef3b-4fe7-b0ba-005d3f8ee560",
   "metadata": {},
   "outputs": [],
   "source": [
    "df.to_json('/home/niell_lab/Desktop/marmoset_sf_cluster_1.json')"
   ]
  },
  {
   "cell_type": "code",
   "execution_count": null,
   "id": "1c4b9152-1534-48a8-ac45-13e02db32d2d",
   "metadata": {},
   "outputs": [],
   "source": []
  }
 ],
 "metadata": {
  "kernelspec": {
   "display_name": "Python [conda env:ephys0]",
   "language": "python",
   "name": "conda-env-ephys0-py"
  },
  "language_info": {
   "codemirror_mode": {
    "name": "ipython",
    "version": 3
   },
   "file_extension": ".py",
   "mimetype": "text/x-python",
   "name": "python",
   "nbconvert_exporter": "python",
   "pygments_lexer": "ipython3",
   "version": "3.8.12"
  }
 },
 "nbformat": 4,
 "nbformat_minor": 5
}
