{
 "cells": [
  {
   "cell_type": "code",
   "execution_count": null,
   "metadata": {},
   "outputs": [],
   "source": [
    "unitsummary_recordings = fme.find('*ephys_props.h5', r'T:/freely_moving_ephys/ephys_recordings/021624/J685NC')\n",
    "dfs = [pd.read_hdf(r) for r in unitsummary_recordings]"
   ]
  },
  {
   "cell_type": "code",
   "execution_count": null,
   "metadata": {},
   "outputs": [],
   "source": [
    "dfs"
   ]
  },
  {
   "cell_type": "code",
   "execution_count": null,
   "metadata": {},
   "outputs": [],
   "source": [
    "dfs_unitsummary = sacc.add_stimuli_horizontally(dfs)"
   ]
  },
  {
   "cell_type": "code",
   "execution_count": null,
   "metadata": {},
   "outputs": [],
   "source": [
    "dfs_unitsummary.to_hdf('T:/freely_moving_ephys/ephys_recordings/021624/J685NC/unitsummarydata.h5', key='dfs') \n",
    "#run python -m saccadeAnalysis.unitSummary"
   ]
  }
 ],
 "metadata": {
  "language_info": {
   "name": "python"
  }
 },
 "nbformat": 4,
 "nbformat_minor": 2
}
