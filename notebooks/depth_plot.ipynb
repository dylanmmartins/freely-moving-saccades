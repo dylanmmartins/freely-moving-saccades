{
 "cells": [
  {
   "cell_type": "code",
   "execution_count": 2,
   "metadata": {},
   "outputs": [
    {
     "name": "stdout",
     "output_type": "stream",
     "text": [
      "Loading DLC 2.2.3...\n"
     ]
    }
   ],
   "source": [
    "import numpy as np\n",
    "import pandas as pd\n",
    "import matplotlib.pyplot as plt\n",
    "\n",
    "import fmEphys as fme"
   ]
  },
  {
   "cell_type": "code",
   "execution_count": 3,
   "metadata": {},
   "outputs": [],
   "source": [
    "hffm = fme.read_group_h5(r'C:\\Users\\dmartins\\Documents\\Dropbox\\Research\\Niell_lab\\Data\\Gaze_shift_data\\Mouse\\complete_dataset\\hffm_021423_figupdate.h5')"
   ]
  },
  {
   "cell_type": "code",
   "execution_count": 4,
   "metadata": {},
   "outputs": [
    {
     "data": {
      "text/plain": [
       "['020222_J577TT_control_Rig2',\n",
       " '020422_J577RT_control_Rig2',\n",
       " '062921_G6HCK1ALTRN_control_Rig2',\n",
       " '070921_J553RT_control_Rig2',\n",
       " '101521_J559NC_control_Rig2',\n",
       " '102621_J558NC_control_Rig2',\n",
       " '110321_J558LT_control_Rig2',\n",
       " '110421_J569LT_control_Rig2',\n",
       " '122021_J581RT_control_Rig2']"
      ]
     },
     "execution_count": 4,
     "metadata": {},
     "output_type": "execute_result"
    }
   ],
   "source": [
    "list(hffm['session'].unique())"
   ]
  },
  {
   "cell_type": "code",
   "execution_count": 5,
   "metadata": {},
   "outputs": [
    {
     "data": {
      "text/plain": [
       "['depth',\n",
       " 'Rc_relative_depth',\n",
       " 'Rc_ch_lfp_relative_depth',\n",
       " 'Rc_depth_from_layer4',\n",
       " 'Wn_depth_from_layer5']"
      ]
     },
     "execution_count": 5,
     "metadata": {},
     "output_type": "execute_result"
    }
   ],
   "source": [
    "[x for x in hffm.columns.values if 'depth' in x]"
   ]
  },
  {
   "cell_type": "code",
   "execution_count": 9,
   "metadata": {},
   "outputs": [],
   "source": [
    "def jitter(center, size):\n",
    "    return np.ones(size)+np.random.uniform(center-0.1, center+0.1, size)"
   ]
  },
  {
   "cell_type": "code",
   "execution_count": 14,
   "metadata": {},
   "outputs": [
    {
     "data": {
      "image/png": "[encoded data removed]",
      "text/plain": [
       "<Figure size 400x500 with 1 Axes>"
      ]
     },
     "metadata": {},
     "output_type": "display_data"
    }
   ],
   "source": [
    "fig, ax = plt.subplots(1,1,figsize=(4,5))\n",
    "\n",
    "m1_depths = hffm['Wn_depth_from_layer5'][hffm['session']=='070921_J553RT_control_Rig2'].copy().to_numpy()\n",
    "m2_depths = hffm['Wn_depth_from_layer5'][hffm['session']=='110421_J569LT_control_Rig2'].copy().to_numpy()\n",
    "m3_depths = hffm['Wn_depth_from_layer5'][hffm['session']=='101521_J559NC_control_Rig2'].copy().to_numpy()\n",
    "\n",
    "ax.plot(jitter(0,len(m1_depths)), m1_depths, '.', ms=2, color='k')\n",
    "ax.plot(jitter(1,len(m2_depths)), m2_depths, '.', ms=2, color='k')\n",
    "ax.plot(jitter(2,len(m3_depths)), m3_depths, '.', ms=2, color='k')\n",
    "\n",
    "ax.set_ylim([700, -350])\n",
    "ax.set_xlim([.5,3.5])\n",
    "\n",
    "ax.set_xticks([1,2,3], labels=['Mouse 1', 'Mouse 2', 'Mouse 3'])\n",
    "ax.set_ylabel('depth from layer 5 (um)')\n",
    "\n",
    "fig.tight_layout()\n",
    "fig.savefig('depth_jitter.png')"
   ]
  },
  {
   "cell_type": "code",
   "execution_count": null,
   "metadata": {},
   "outputs": [],
   "source": []
  }
 ],
 "metadata": {
  "kernelspec": {
   "display_name": "fmgaze",
   "language": "python",
   "name": "python3"
  },
  "language_info": {
   "codemirror_mode": {
    "name": "ipython",
    "version": 3
   },
   "file_extension": ".py",
   "mimetype": "text/x-python",
   "name": "python",
   "nbconvert_exporter": "python",
   "pygments_lexer": "ipython3",
   "version": "3.8.13"
  },
  "orig_nbformat": 4
 },
 "nbformat": 4,
 "nbformat_minor": 2
}
