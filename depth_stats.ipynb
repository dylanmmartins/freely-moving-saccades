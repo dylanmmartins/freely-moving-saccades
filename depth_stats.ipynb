{
 "cells": [
  {
   "cell_type": "code",
   "execution_count": 25,
   "id": "d6707dbf-9454-4dd4-aa8a-f0f08031ca4e",
   "metadata": {},
   "outputs": [],
   "source": [
    "import sys, os\n",
    "sys.path.insert(0, '/home/niell_lab/Documents/GitHub/FreelyMovingEphys/')\n",
    "import matplotlib.pyplot as plt\n",
    "import matplotlib as mpl\n",
    "from matplotlib import cm\n",
    "import matplotlib.gridspec as gridspec\n",
    "import numpy as np\n",
    "import pandas as pd\n",
    "from src.utils.path import find\n",
    "from src.utils.auxiliary import flatten_series\n",
    "from scipy.interpolate import interp1d\n",
    "from scipy.stats import linregress\n",
    "from scipy.stats import ttest_1samp\n",
    "from src.utils.auxiliary import flatten_series\n",
    "from matplotlib.backends.backend_pdf import PdfPages\n",
    "from projects.ephys.population import to_color\n",
    "mpl.rcParams['axes.spines.top'] = False\n",
    "mpl.rcParams['axes.spines.right'] = False\n",
    "mpl.rcParams['pdf.fonttype'] = 42\n",
    "mpl.rcParams['ps.fonttype'] = 42\n",
    "%matplotlib inline\n",
    "import cv2\n",
    "import xarray as xr\n",
    "mpl.rcParams.update({'font.size':10})"
   ]
  },
  {
   "cell_type": "code",
   "execution_count": 2,
   "id": "7130b398-c490-4ba7-b5e7-a698dffec4f2",
   "metadata": {},
   "outputs": [],
   "source": [
    "ltdk = pd.read_pickle('/home/niell_lab/Data/freely_moving_ephys/batch_files/062022/ltdk_062022.pickle')\n",
    "hffm = pd.read_pickle('/home/niell_lab/Data/freely_moving_ephys/batch_files/062022/hffm_062022_gt.pickle')"
   ]
  },
  {
   "cell_type": "code",
   "execution_count": 3,
   "id": "1a800f44-56fc-49c6-9df0-c8201c74573a",
   "metadata": {},
   "outputs": [],
   "source": [
    "figpath = '/home/niell_lab/Desktop/figs_072622/'"
   ]
  },
  {
   "cell_type": "code",
   "execution_count": 4,
   "id": "ad281052-f5aa-44ad-9b43-dc9ffa1093ae",
   "metadata": {},
   "outputs": [],
   "source": [
    "plasma_map = plt.cm.plasma(np.linspace(0,1,15))\n",
    "cat_cmap = {\n",
    "    'movement': plasma_map[12,:],\n",
    "    'early': plasma_map[10,:],\n",
    "    'late': plasma_map[8,:],\n",
    "    'biphasic': plasma_map[5,:],\n",
    "    'negative': plasma_map[2,:],\n",
    "    'unresponsive': 'dimgrey'\n",
    "}\n",
    "colors = {\n",
    "    'gaze': 'firebrick',\n",
    "    'comp': 'mediumblue',\n",
    "    'rc': 'indigo'\n",
    "}\n",
    "psth_bins = np.arange(-1,1.001,1/1000)"
   ]
  },
  {
   "cell_type": "markdown",
   "id": "b15a65b2-208c-4047-9efb-4b930d874ff9",
   "metadata": {},
   "source": [
    "# Depth"
   ]
  },
  {
   "cell_type": "markdown",
   "id": "e1d65c35-41cf-4d8e-ad0c-8b4795886ffc",
   "metadata": {},
   "source": [
    "## t-test"
   ]
  },
  {
   "cell_type": "code",
   "execution_count": 26,
   "id": "03aff99c-8093-471f-9e53-444cae6ef3cc",
   "metadata": {},
   "outputs": [],
   "source": [
    "ttest_res = np.zeros([5,2])\n",
    "for k, name in enumerate(['early','late','biphasic','negative','unresponsive']):\n",
    "    depths = hffm['Wn_depth_from_layer5'][hffm['gazecluster']==name].copy().to_numpy()\n",
    "    t_val, p_val = ttest_1samp(depths, 0, nan_policy='omit')\n",
    "    ttest_res[k,0] = t_val\n",
    "    ttest_res[k,1] = p_val"
   ]
  },
  {
   "cell_type": "code",
   "execution_count": 29,
   "id": "70adc484-fc12-4525-acc2-85b9c8906066",
   "metadata": {},
   "outputs": [
    {
     "name": "stdout",
     "output_type": "stream",
     "text": [
      "p=1.136e-15\n",
      "p=4.501e-10\n",
      "p=1.43e-07\n",
      "p=3.248e-05\n",
      "p=4.72e-24\n"
     ]
    }
   ],
   "source": [
    "for i in ttest_res[:,1]:\n",
    "    print('p={:.4}'.format(i))"
   ]
  },
  {
   "cell_type": "code",
   "execution_count": null,
   "id": "27b07edd-4d03-44e9-980c-9354bd8195bc",
   "metadata": {},
   "outputs": [],
   "source": []
  }
 ],
 "metadata": {
  "kernelspec": {
   "display_name": "Python [conda env:ephys0]",
   "language": "python",
   "name": "conda-env-ephys0-py"
  },
  "language_info": {
   "codemirror_mode": {
    "name": "ipython",
    "version": 3
   },
   "file_extension": ".py",
   "mimetype": "text/x-python",
   "name": "python",
   "nbconvert_exporter": "python",
   "pygments_lexer": "ipython3",
   "version": "3.8.12"
  }
 },
 "nbformat": 4,
 "nbformat_minor": 5
}
