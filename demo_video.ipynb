{
 "cells": [
  {
   "cell_type": "code",
   "execution_count": 186,
   "id": "6e3b32e8-451a-492f-ad14-1158f5753932",
   "metadata": {},
   "outputs": [],
   "source": [
    "import cv2\n",
    "import os, wave, sys\n",
    "import numpy as np\n",
    "import matplotlib.pyplot as plt\n",
    "import matplotlib as mpl\n",
    "import time\n",
    "import pandas as pd\n",
    "import matplotlib.gridspec as gridspec\n",
    "import ray\n",
    "from ray.actor import ActorHandle\n",
    "from tqdm.auto import tqdm\n",
    "sys.path.insert(0, '/home/niell_lab/Documents/GitHub/FreelyMovingEphys/')\n",
    "from src.utils.save import load\n",
    "import matplotlib as mpl\n",
    "mpl.rcParams.update({'font.size':10})"
   ]
  },
  {
   "cell_type": "code",
   "execution_count": 182,
   "id": "596edc2b-26af-4691-8b0f-99ce600f5fe0",
   "metadata": {},
   "outputs": [],
   "source": [
    "plasma_map = plt.cm.plasma(np.linspace(0,1,15))\n",
    "cat_cmap = {\n",
    "    'movement': plasma_map[12,:],\n",
    "    'early': plasma_map[10,:],\n",
    "    'late': plasma_map[8,:],\n",
    "    'biphasic': plasma_map[5,:],\n",
    "    'negative': plasma_map[2,:],\n",
    "    'unresponsive': 'dimgrey'\n",
    "}"
   ]
  },
  {
   "cell_type": "code",
   "execution_count": 4,
   "id": "497e75f1-042b-436d-b32a-fb30f3cfdade",
   "metadata": {},
   "outputs": [],
   "source": [
    "def avi_to_arr(path, ds=0.25):\n",
    "    vid = cv2.VideoCapture(path)\n",
    "    # array to put video frames into\n",
    "    # will have the shape: [frames, height, width] and be returned with dtype=int8\n",
    "    arr = np.empty([int(vid.get(cv2.CAP_PROP_FRAME_COUNT)),\n",
    "                        int(vid.get(cv2.CAP_PROP_FRAME_HEIGHT)*ds),\n",
    "                        int(vid.get(cv2.CAP_PROP_FRAME_WIDTH)*ds)], dtype=np.uint8)\n",
    "    # iterate through each frame\n",
    "    for f in range(0,int(vid.get(cv2.CAP_PROP_FRAME_COUNT))):\n",
    "        # read the frame in and make sure it is read in correctly\n",
    "        ret, img = vid.read()\n",
    "        if not ret:\n",
    "            break\n",
    "        # convert to grayscale\n",
    "        img = cv2.cvtColor(img, cv2.COLOR_BGR2GRAY)\n",
    "        # downsample the frame by an amount specified in the config file\n",
    "        img_s = cv2.resize(img, (0,0), fx=ds, fy=ds, interpolation=cv2.INTER_NEAREST)\n",
    "        # add the downsampled frame to all_frames as int8\n",
    "        arr[f,:,:] = img_s.astype(np.int8)\n",
    "    return arr\n",
    "\n",
    "def drop_repeat_sacc(eventT, onset=True, win=0.020):\n",
    "    \"\"\"For saccades spanning multiple camera\n",
    "    frames, only keep one saccade time. Either first or last.\n",
    "\n",
    "    If `onset`, keep the first in a sequence (i.e. the onset of\n",
    "    the movement). otherwise, keep the final saccade in the sequence\n",
    "\n",
    "    \"\"\"\n",
    "    duplicates = set([])\n",
    "    for t in eventT:\n",
    "        if onset:\n",
    "            new = eventT[((eventT-t)<win) & ((eventT-t)>0)]\n",
    "        else:\n",
    "            new = eventT[((t-eventT)<win) & ((t-eventT)>0)]\n",
    "        duplicates.update(list(new))\n",
    "    out = np.sort(np.setdiff1d(eventT, np.array(list(duplicates)), assume_unique=True))\n",
    "    return out"
   ]
  },
  {
   "cell_type": "code",
   "execution_count": 5,
   "id": "13bbd4b4-8c7e-4793-a1af-12d24da12b92",
   "metadata": {},
   "outputs": [],
   "source": [
    "from asyncio import Event\n",
    "from typing import Tuple\n",
    "from time import sleep\n",
    "\n",
    "@ray.remote\n",
    "class ProgressBarActor:\n",
    "    counter: int\n",
    "    delta: int\n",
    "    event: Event\n",
    "\n",
    "    def __init__(self) -> None:\n",
    "        self.counter = 0\n",
    "        self.delta = 0\n",
    "        self.event = Event()\n",
    "\n",
    "    def update(self, num_items_completed: int) -> None:\n",
    "        \"\"\"Updates the ProgressBar with the incremental\n",
    "        number of items that were just completed.\n",
    "        \"\"\"\n",
    "        self.counter += num_items_completed\n",
    "        self.delta += num_items_completed\n",
    "        self.event.set()\n",
    "\n",
    "    async def wait_for_update(self) -> Tuple[int, int]:\n",
    "        \"\"\"Blocking call.\n",
    "\n",
    "        Waits until somebody calls `update`, then returns a tuple of\n",
    "        the number of updates since the last call to\n",
    "        `wait_for_update`, and the total number of completed items.\n",
    "        \"\"\"\n",
    "        await self.event.wait()\n",
    "        self.event.clear()\n",
    "        saved_delta = self.delta\n",
    "        self.delta = 0\n",
    "        return saved_delta, self.counter\n",
    "\n",
    "    def get_counter(self) -> int:\n",
    "        \"\"\"\n",
    "        Returns the total number of complete items.\n",
    "        \"\"\"\n",
    "        return self.counter\n",
    "\n",
    "class ProgressBar:\n",
    "    progress_actor: ActorHandle\n",
    "    total: int\n",
    "    description: str\n",
    "    pbar: tqdm\n",
    "\n",
    "    def __init__(self, total: int, description: str = \"\"):\n",
    "        # Ray actors don't seem to play nice with mypy, generating\n",
    "        # a spurious warning for the following line,\n",
    "        # which we need to suppress. The code is fine.\n",
    "        self.progress_actor = ProgressBarActor.remote()  # type: ignore\n",
    "        self.total = total\n",
    "        self.description = description\n",
    "\n",
    "    @property\n",
    "    def actor(self) -> ActorHandle:\n",
    "        \"\"\"Returns a reference to the remote `ProgressBarActor`.\n",
    "\n",
    "        When you complete tasks, call `update` on the actor.\n",
    "        \"\"\"\n",
    "        return self.progress_actor\n",
    "\n",
    "    def print_until_done(self) -> None:\n",
    "        \"\"\"Blocking call.\n",
    "\n",
    "        Do this after starting a series of remote Ray tasks, to which you've\n",
    "        passed the actor handle. Each of them calls `update` on the actor.\n",
    "        When the progress meter reaches 100%, this method returns.\n",
    "        \"\"\"\n",
    "        pbar = tqdm(desc=self.description, total=self.total)\n",
    "        while True:\n",
    "            delta, counter = ray.get(self.actor.wait_for_update.remote())\n",
    "            pbar.update(delta)\n",
    "            if counter >= self.total:\n",
    "                pbar.close()\n",
    "                return"
   ]
  },
  {
   "cell_type": "code",
   "execution_count": 6,
   "id": "71811ada-6441-42cc-be57-7cf6eed26ae5",
   "metadata": {},
   "outputs": [
    {
     "name": "stdout",
     "output_type": "stream",
     "text": [
      "Reading eyecam\n",
      "Reading worldcam\n",
      "Reading ephys\n",
      "Load saccade times and timestamps\n"
     ]
    },
    {
     "name": "stderr",
     "output_type": "stream",
     "text": [
      "/tmp/ipykernel_41387/3562726393.py:14: UserWarning: Boolean Series key will be reindexed to match DataFrame index.\n",
      "  ephys = hffm[hffm['session']=='070921_J553RT_control_Rig2'][hffm['gazecluster']!='unresponsive']\n"
     ]
    }
   ],
   "source": [
    "basepath = '/home/niell_lab/Data/demo_video'\n",
    "\n",
    "print('Reading eyecam')\n",
    "eyevid = avi_to_arr(os.path.join(basepath,'070921_J553RT_control_Rig2_fm1_REYEdeinter.avi'), ds=1)\n",
    "\n",
    "print('Reading worldcam')\n",
    "model_data = load(os.path.join(basepath, 'ModelData_dt016_rawWorldCam_2ds.h5'))\n",
    "worldvid = model_data['model_vid_sm_shift']\n",
    "worldvidT = model_data['model_t']\n",
    "\n",
    "print('Reading ephys')\n",
    "hffm = pd.read_pickle('/home/niell_lab/Data/freely_moving_ephys/batch_files/062022/hffm_062022_gt.pickle')\n",
    "\n",
    "ephys = hffm[hffm['session']=='070921_J553RT_control_Rig2'][hffm['gazecluster']!='unresponsive']\n",
    "ephys = ephys.sort_values(by='FmLt_gazeshift_peakT',axis=0,ascending=True).reset_index(drop=True)\n",
    "\n",
    "print('Load saccade times and timestamps')\n",
    "saccT = np.array(sorted(list(ephys.loc[0,'FmLt_gazeshift_left_saccTimes_dHead1'])\n",
    "         + list(ephys.loc[0,'FmLt_gazeshift_right_saccTimes_dHead1'])))\n",
    "\n",
    "eyevidT = ephys.loc[0,'FmLt_eyeT'].copy()\n",
    "spikeT = ephys['FmLt_spikeT'].copy().to_dict()\n",
    "dHead = ephys.loc[0,'FmLt_dHead'].copy()\n",
    "dGaze = ephys.loc[0,'FmLt_dGaze'].copy()"
   ]
  },
  {
   "cell_type": "code",
   "execution_count": 181,
   "id": "534344e3-4d18-4a16-8f8b-436e4e2d0fa8",
   "metadata": {},
   "outputs": [],
   "source": [
    "klabels = ephys['gazecluster'].copy().to_numpy()"
   ]
  },
  {
   "cell_type": "code",
   "execution_count": 57,
   "id": "618c59d6-30b3-4126-9569-3e39bbfbd95e",
   "metadata": {},
   "outputs": [
    {
     "name": "stdout",
     "output_type": "stream",
     "text": [
      "Load saccade times and timestamps\n"
     ]
    }
   ],
   "source": [
    "print('Load saccade times and timestamps')\n",
    "saccT = np.array(sorted(list(ephys.loc[0,'FmLt_gazeshift_left_saccTimes_dHead1'])\n",
    "         + list(ephys.loc[0,'FmLt_gazeshift_right_saccTimes_dHead1'])))"
   ]
  },
  {
   "cell_type": "code",
   "execution_count": 68,
   "id": "23b85a2b-afae-4288-b4e0-b5cf31e00f8d",
   "metadata": {},
   "outputs": [],
   "source": [
    "t = ephys.loc[0, 'FmLt_gazeshift_left_saccTimes_dHead1']"
   ]
  },
  {
   "cell_type": "code",
   "execution_count": 69,
   "id": "db5545a3-958d-4975-a02c-a29228f8a037",
   "metadata": {},
   "outputs": [
    {
     "data": {
      "text/plain": [
       "array([37.13333749999583], dtype=object)"
      ]
     },
     "execution_count": 69,
     "metadata": {},
     "output_type": "execute_result"
    }
   ],
   "source": [
    "t[(t<37.5) * (t>30)]"
   ]
  },
  {
   "cell_type": "code",
   "execution_count": 58,
   "id": "a874a9bf-45e9-4cb8-b6b5-7b688115988c",
   "metadata": {},
   "outputs": [
    {
     "data": {
      "text/plain": [
       "array([37.1333375])"
      ]
     },
     "execution_count": 58,
     "metadata": {},
     "output_type": "execute_result"
    }
   ],
   "source": [
    "saccT[(saccT<37.5) * (saccT>30)]"
   ]
  },
  {
   "cell_type": "code",
   "execution_count": 40,
   "id": "6db2dd63-d5cf-44bc-8902-c48d70a1b91e",
   "metadata": {},
   "outputs": [],
   "source": [
    "def psth_modind(psth):\n",
    "    # modulation in terms of spike rate\n",
    "    psth = psth.astype(float)\n",
    "    use = psth - np.mean(psth[0:800].copy())\n",
    "    mod = np.max(np.abs(use[1000:1250]))\n",
    "    return mod"
   ]
  },
  {
   "cell_type": "code",
   "execution_count": 143,
   "id": "26331295-c7c7-4009-9fd1-251bcf04fa2c",
   "metadata": {},
   "outputs": [
    {
     "data": {
      "text/plain": [
       "['fr',\n",
       " 'Wn_layer5cent_from_lfp',\n",
       " 'Rc_layer5cent_from_lfp',\n",
       " 'Rc_depth_from_layer4',\n",
       " 'Wn_depth_from_layer5',\n",
       " 'FmLt_active_fr',\n",
       " 'FmLt_inactive_fr',\n",
       " 'Wn_active_fr',\n",
       " 'Wn_inactive_fr',\n",
       " 'Fm_fr',\n",
       " 'Gt_fr']"
      ]
     },
     "execution_count": 143,
     "metadata": {},
     "output_type": "execute_result"
    }
   ],
   "source": [
    "[x for x in hffm.columns if 'fr' in x]"
   ]
  },
  {
   "cell_type": "code",
   "execution_count": 149,
   "id": "2555b046-876e-498d-b39f-9600b82283f9",
   "metadata": {},
   "outputs": [],
   "source": [
    "modinds = []\n",
    "for ind, row in ephys.iterrows():\n",
    "    modinds.append(row['Fm_fr'])\n"
   ]
  },
  {
   "cell_type": "code",
   "execution_count": 150,
   "id": "4806e011-9937-425e-a92d-b69c8defe79d",
   "metadata": {},
   "outputs": [],
   "source": [
    "np.save('/home/niell_lab/Desktop/demo_fr.npy', modinds)"
   ]
  },
  {
   "cell_type": "code",
   "execution_count": 43,
   "id": "ac05fd5d-cbd0-493d-b69a-33485673caf7",
   "metadata": {},
   "outputs": [
    {
     "data": {
      "text/plain": [
       "(array([ 5., 10., 21., 17., 10., 14., 11.,  5.,  4.,  2.]),\n",
       " array([0.2555635 , 0.32164773, 0.38773197, 0.4538162 , 0.51990043,\n",
       "        0.58598466, 0.6520689 , 0.71815313, 0.78423736, 0.85032159,\n",
       "        0.91640582]),\n",
       " <BarContainer object of 10 artists>)"
      ]
     },
     "execution_count": 43,
     "metadata": {},
     "output_type": "execute_result"
    },
    {
     "data": {
      "image/png": "[encoded data removed]",
      "text/plain": [
       "<Figure size 432x288 with 1 Axes>"
      ]
     },
     "metadata": {
      "needs_background": "light"
     },
     "output_type": "display_data"
    }
   ],
   "source": [
    "plt.hist(modinds)"
   ]
  },
  {
   "cell_type": "code",
   "execution_count": 7,
   "id": "a3e9f996-6bf3-453d-aeb9-2445fe9bd836",
   "metadata": {},
   "outputs": [],
   "source": [
    "saccthresh = { # deg/sec\n",
    "    'head_moved': 60,\n",
    "    'gaze_stationary': 120,\n",
    "    'gaze_moved': 240\n",
    "}\n",
    "\n",
    "eyevidT_ = eyevidT.copy()[:-1]\n",
    "\n",
    "# Gaze shifts\n",
    "left_gazeshift_times = eyevidT_[(dHead > saccthresh['head_moved']) & (dGaze > saccthresh['gaze_moved'])]\n",
    "right_gazeshift_times = eyevidT_[(dHead < -saccthresh['head_moved']) & (dGaze < -saccthresh['gaze_moved'])]\n",
    "\n",
    "saccT_new = np.sort(np.concatenate([left_gazeshift_times, right_gazeshift_times]))\n",
    "\n",
    "saccT_new = drop_repeat_sacc(saccT_new)"
   ]
  },
  {
   "cell_type": "code",
   "execution_count": 178,
   "id": "fd0818de-9535-4920-913b-e459dff17c47",
   "metadata": {},
   "outputs": [],
   "source": [
    "@ray.remote\n",
    "def plot_frame_img(currentT, plot_t0, plot_tlen, spikeT, saccT,\n",
    "                   eyevid, eyevidT, worldvid, worldvidT,\n",
    "                   pbar:ActorHandle,):\n",
    "    \n",
    "    fig = plt.figure(constrained_layout=True, figsize=(10,7), dpi=200)\n",
    "    spec = fig.add_gridspec(ncols=2, nrows=5)\n",
    "\n",
    "    ax_eyecam = fig.add_subplot(spec[:2,0])\n",
    "    ax_worldcam = fig.add_subplot(spec[:2,1])\n",
    "    ax_raster = fig.add_subplot(spec[2:,:])\n",
    "\n",
    "    worldFr = np.argmin(np.abs(worldvidT-currentT))\n",
    "    eyeFr = np.argmin(np.abs(eyevidT-currentT))\n",
    "\n",
    "    for i, sps in spikeT.items():\n",
    "        sps = sps[(sps>plot_t0) * (sps<(plot_t0+plot_tlen))]\n",
    "        ax_raster.plot(sps, np.ones(len(sps))*i, '|', color='k', markersize=3)\n",
    "    ax_raster.set_ylim([len(spikeT.keys())+1, -4])\n",
    "    ax_raster.set_xlim([plot_t0, plot_t0+plot_tlen])\n",
    "    ax_raster.set_xticks(np.arange(t_start, t_start+tlen+0.5, 0.5))\n",
    "    ax_raster.set_xticklabels((np.arange(0, tlen+0.5, 0.5)*1000).astype(int))\n",
    "    ax_raster.set_ylabel('cells')\n",
    "    ax_raster.set_xlabel('time (s)')\n",
    "    ax_raster.spines['right'].set_visible(False)\n",
    "    ax_raster.spines['top'].set_visible(False)\n",
    "\n",
    "    ax_raster.vlines(currentT, -2, len(spikeT.keys())+2, color='tab:blue')\n",
    "\n",
    "    # show saccades\n",
    "    show_saccT = saccT[(saccT>plot_t0) * (saccT<(plot_t0+plot_tlen))]\n",
    "    # ax_raster.vlines(show_saccT, -2, len(spikeT.keys())+2, color='tab:red')\n",
    "    ax_raster.plot(show_saccT, np.ones(len(show_saccT)) * -3, '.', color='tab:red', marker='s', markersize=7)\n",
    "\n",
    "    # eyecam\n",
    "    ax_eyecam.imshow(eyevid[eyeFr,217:,150:500].astype(np.uint8), cmap='gray')\n",
    "    ax_eyecam.axis('off')\n",
    "\n",
    "    # worldcam\n",
    "    ax_worldcam.imshow(worldvid[worldFr,:,:], cmap='gray')\n",
    "    ax_worldcam.axis('off')\n",
    "\n",
    "    plt.tight_layout()\n",
    "\n",
    "    width, height = fig.get_size_inches() * fig.get_dpi()\n",
    "    fig.canvas.draw() # draw the canvas, cache the renderer\n",
    "    images = np.frombuffer(fig.canvas.tostring_rgb(),\n",
    "                    dtype='uint8').reshape(int(height), int(width), 3)\n",
    "    \n",
    "    plt.close()\n",
    "    pbar.update.remote(1)\n",
    "    return images"
   ]
  },
  {
   "cell_type": "code",
   "execution_count": null,
   "id": "c51b57a9-38ed-49ea-a19e-08fe6056fcaf",
   "metadata": {},
   "outputs": [],
   "source": [
    "for i, sps in spikeT.items():\n",
    "    sps = sps[(sps>plot_t0) * (sps<(plot_t0+plot_tlen))]\n",
    "    ax_raster.plot(sps, np.ones(len(sps))*i, '|', color='k', markersize=3)\n",
    "ax_raster.set_ylim([len(spikeT.keys())+1, -4])\n",
    "ax_raster.set_xlim([plot_t0, plot_t0+plot_tlen])\n",
    "ax_raster.set_xticks(np.arange(t_start, t_start+tlen, 1))\n",
    "ax_raster.set_xticklabels((np.arange(0, tlen, 1)).astype(int))\n",
    "ax_raster.set_ylabel('cells')\n",
    "ax_raster.set_xlabel('time (s)')\n",
    "ax_raster.spines['right'].set_visible(False)\n",
    "ax_raster.spines['top'].set_visible(False)\n",
    "\n",
    "ax_raster.vlines(currentT, -2, len(spikeT.keys())+2, color='tab:blue')"
   ]
  },
  {
   "cell_type": "code",
   "execution_count": 151,
   "id": "87dbc230-e8e7-4161-8e0d-5805b586c41e",
   "metadata": {},
   "outputs": [],
   "source": [
    "t_start = 13  # was 13\n",
    "tlen = 3 # was 3\n",
    "numFr = np.argmin(np.abs(worldvidT-(t_start+tlen))) - np.argmin(np.abs(worldvidT-t_start))"
   ]
  },
  {
   "cell_type": "code",
   "execution_count": 114,
   "id": "b5023cf8-697a-4ec0-ad56-a72ae84b531e",
   "metadata": {},
   "outputs": [
    {
     "data": {
      "text/plain": [
       "array([46.222144 , 46.27408  , 46.694016 , 47.7101885, 48.022144 ,\n",
       "       48.478464 , 48.5261565, 48.590374 , 49.1427775, 49.590285 ,\n",
       "       49.6105215, 51.079309 , 51.1425985, 51.6464895])"
      ]
     },
     "execution_count": 114,
     "metadata": {},
     "output_type": "execute_result"
    }
   ],
   "source": [
    "saccT[(saccT>t_start) * (saccT<(t_start+tlen))]"
   ]
  },
  {
   "cell_type": "code",
   "execution_count": 10,
   "id": "f8f91229-2202-4339-b2e3-4a4b4ed9ec51",
   "metadata": {
    "scrolled": true,
    "tags": []
   },
   "outputs": [
    {
     "name": "stderr",
     "output_type": "stream",
     "text": [
      "\u001b[2m\u001b[36m(raylet)\u001b[0m Spilled 3126 MiB, 4 objects, write throughput 643 MiB/s. Set RAY_verbose_spill_logs=0 to disable this message.\n",
      "\u001b[2m\u001b[36m(raylet)\u001b[0m Spilled 46423 MiB, 5 objects, write throughput 513 MiB/s.\n"
     ]
    }
   ],
   "source": [
    "mpl.use('agg')\n",
    "\n",
    "# t_start = 46.1  # 46.1 sec\n",
    "# tlen = 3 # sec\n",
    "# numFr = np.argmin(np.abs(worldvidT-(t_start+tlen))) - np.argmin(np.abs(worldvidT-t_start))\n",
    "pb = ProgressBar(numFr)\n",
    "actor = pb.actor\n",
    "\n",
    "spikeT_r = ray.put(spikeT)\n",
    "saccT_r = ray.put(saccT_new)\n",
    "eyevid_r = ray.put(eyevid)\n",
    "eyevidT_r = ray.put(eyevidT)\n",
    "worldvid_r = ray.put(worldvid)\n",
    "worldvidT_r = ray.put(worldvidT)"
   ]
  },
  {
   "cell_type": "code",
   "execution_count": 71,
   "id": "96643445-7ca3-4033-9b45-23ce1556cbaf",
   "metadata": {},
   "outputs": [],
   "source": [
    "%matplotlib inline"
   ]
  },
  {
   "cell_type": "code",
   "execution_count": 120,
   "id": "c1d9ea26-6ea0-4226-8990-df99c34d3a9f",
   "metadata": {},
   "outputs": [],
   "source": [
    "cmap_v = plt.cm.viridis(np.linspace(0,1,100))"
   ]
  },
  {
   "cell_type": "code",
   "execution_count": 121,
   "id": "6445ee69-5100-4e11-b95d-0f71ea21669a",
   "metadata": {},
   "outputs": [
    {
     "data": {
      "text/plain": [
       "['Gt_sf_cat', 'sf_pref', 'osi_for_sf_pref', 'dsi_for_sf_pref', 'sf_pref_cpd']"
      ]
     },
     "execution_count": 121,
     "metadata": {},
     "output_type": "execute_result"
    }
   ],
   "source": [
    "[col for col in ephys.columns if 'sf' in col]"
   ]
  },
  {
   "cell_type": "code",
   "execution_count": 122,
   "id": "e3bdbaac-0bbd-40c1-b320-339fd575f648",
   "metadata": {},
   "outputs": [],
   "source": [
    "sf_pref = ephys['sf_pref_cpd'].copy().to_numpy()"
   ]
  },
  {
   "cell_type": "code",
   "execution_count": 125,
   "id": "d72e4552-4253-4d02-a087-0a9fc96f192f",
   "metadata": {},
   "outputs": [
    {
     "data": {
      "text/plain": [
       "0.02"
      ]
     },
     "execution_count": 125,
     "metadata": {},
     "output_type": "execute_result"
    }
   ],
   "source": [
    "np.nanmin(sf_pref)"
   ]
  },
  {
   "cell_type": "code",
   "execution_count": 194,
   "id": "7d593a95-4655-4c54-a244-9f682c3559a8",
   "metadata": {},
   "outputs": [],
   "source": [
    "mpl.rcParams['pdf.fonttype'] = 42\n",
    "mpl.rcParams['ps.fonttype'] = 42"
   ]
  },
  {
   "cell_type": "code",
   "execution_count": 195,
   "id": "a4f977e3-1dc8-437d-acce-9244ab554bba",
   "metadata": {},
   "outputs": [
    {
     "name": "stderr",
     "output_type": "stream",
     "text": [
      "/tmp/ipykernel_41387/3269715132.py:15: UserWarning: marker is redundantly defined by the 'marker' keyword argument and the fmt string \".\" (-> marker='.'). The keyword argument will take precedence.\n",
      "  ax_raster.plot(show_saccT, np.ones(len(show_saccT)) * -3, '.', color='k', marker='v', markersize=7)\n"
     ]
    },
    {
     "data": {
      "image/png": "[encoded data removed]",
      "text/plain": [
       "<Figure size 2700x1200 with 1 Axes>"
      ]
     },
     "metadata": {
      "needs_background": "light"
     },
     "output_type": "display_data"
    }
   ],
   "source": [
    "tick_sz = 0.5\n",
    "fig, ax_raster = plt.subplots(1,1,figsize=(9,4), dpi=300)\n",
    "for i, sps in spikeT.items():\n",
    "    sps = sps[(sps>t_start) * (sps<(t_start+tlen))]\n",
    "    ax_raster.plot(sps, np.ones(len(sps))*i, '|', color=cat_cmap[klabels[i]], markersize=4)\n",
    "ax_raster.set_ylim([len(spikeT.keys())+1,-4])\n",
    "ax_raster.set_xlim([t_start, t_start+tlen])\n",
    "ax_raster.set_xticks(np.arange(t_start, t_start+tlen+tick_sz, tick_sz))\n",
    "ax_raster.set_xticklabels((np.arange(0, tlen+tick_sz, tick_sz)*1000).astype(int))\n",
    "ax_raster.set_ylabel('cells')\n",
    "ax_raster.set_xlabel('time (ms)')\n",
    "ax_raster.spines['right'].set_visible(False)\n",
    "ax_raster.spines['top'].set_visible(False)\n",
    "show_saccT = saccT[(saccT>t_start) * (saccT<(t_start+tlen))]\n",
    "ax_raster.plot(show_saccT, np.ones(len(show_saccT)) * -3, '.', color='k', marker='v', markersize=7)\n",
    "fig.savefig('/home/niell_lab/Desktop/fig2_example_saccades_13_3_cmap.pdf')"
   ]
  },
  {
   "cell_type": "code",
   "execution_count": 179,
   "id": "0f74f878-ed24-450b-af6f-a2cbc723ebdc",
   "metadata": {
    "scrolled": true,
    "tags": []
   },
   "outputs": [
    {
     "name": "stderr",
     "output_type": "stream",
     "text": [
      "\u001b[2m\u001b[36m(plot_frame_img pid=41662)\u001b[0m /tmp/ipykernel_41387/3741962776.py:33: UserWarning: marker is redundantly defined by the 'marker' keyword argument and the fmt string \".\" (-> marker='.'). The keyword argument will take precedence.\n",
      "\u001b[2m\u001b[36m(plot_frame_img pid=41667)\u001b[0m /tmp/ipykernel_41387/3741962776.py:33: UserWarning: marker is redundantly defined by the 'marker' keyword argument and the fmt string \".\" (-> marker='.'). The keyword argument will take precedence.\n",
      "\u001b[2m\u001b[36m(plot_frame_img pid=41667)\u001b[0m /tmp/ipykernel_41387/3741962776.py:43: UserWarning: This figure was using constrained_layout, but that is incompatible with subplots_adjust and/or tight_layout; disabling constrained_layout.\n",
      "\u001b[2m\u001b[36m(plot_frame_img pid=41661)\u001b[0m /tmp/ipykernel_41387/3741962776.py:33: UserWarning: marker is redundantly defined by the 'marker' keyword argument and the fmt string \".\" (-> marker='.'). The keyword argument will take precedence.\n",
      "\u001b[2m\u001b[36m(plot_frame_img pid=41669)\u001b[0m /tmp/ipykernel_41387/3741962776.py:33: UserWarning: marker is redundantly defined by the 'marker' keyword argument and the fmt string \".\" (-> marker='.'). The keyword argument will take precedence.\n",
      "\u001b[2m\u001b[36m(plot_frame_img pid=41669)\u001b[0m /tmp/ipykernel_41387/3741962776.py:43: UserWarning: This figure was using constrained_layout, but that is incompatible with subplots_adjust and/or tight_layout; disabling constrained_layout.\n",
      "\u001b[2m\u001b[36m(plot_frame_img pid=41672)\u001b[0m /tmp/ipykernel_41387/3741962776.py:33: UserWarning: marker is redundantly defined by the 'marker' keyword argument and the fmt string \".\" (-> marker='.'). The keyword argument will take precedence.\n",
      "\u001b[2m\u001b[36m(plot_frame_img pid=41672)\u001b[0m /tmp/ipykernel_41387/3741962776.py:43: UserWarning: This figure was using constrained_layout, but that is incompatible with subplots_adjust and/or tight_layout; disabling constrained_layout.\n",
      "\u001b[2m\u001b[36m(plot_frame_img pid=41665)\u001b[0m /tmp/ipykernel_41387/3741962776.py:33: UserWarning: marker is redundantly defined by the 'marker' keyword argument and the fmt string \".\" (-> marker='.'). The keyword argument will take precedence.\n",
      "\u001b[2m\u001b[36m(plot_frame_img pid=41665)\u001b[0m /tmp/ipykernel_41387/3741962776.py:43: UserWarning: This figure was using constrained_layout, but that is incompatible with subplots_adjust and/or tight_layout; disabling constrained_layout.\n",
      "\u001b[2m\u001b[36m(plot_frame_img pid=115373)\u001b[0m /tmp/ipykernel_41387/3741962776.py:33: UserWarning: marker is redundantly defined by the 'marker' keyword argument and the fmt string \".\" (-> marker='.'). The keyword argument will take precedence.\n",
      "\u001b[2m\u001b[36m(plot_frame_img pid=115373)\u001b[0m /tmp/ipykernel_41387/3741962776.py:43: UserWarning: This figure was using constrained_layout, but that is incompatible with subplots_adjust and/or tight_layout; disabling constrained_layout.\n",
      "\u001b[2m\u001b[36m(plot_frame_img pid=118188)\u001b[0m /tmp/ipykernel_41387/3741962776.py:33: UserWarning: marker is redundantly defined by the 'marker' keyword argument and the fmt string \".\" (-> marker='.'). The keyword argument will take precedence.\n",
      "\u001b[2m\u001b[36m(plot_frame_img pid=127621)\u001b[0m /tmp/ipykernel_41387/3741962776.py:33: UserWarning: marker is redundantly defined by the 'marker' keyword argument and the fmt string \".\" (-> marker='.'). The keyword argument will take precedence.\n",
      "\u001b[2m\u001b[36m(plot_frame_img pid=127621)\u001b[0m /tmp/ipykernel_41387/3741962776.py:43: UserWarning: This figure was using constrained_layout, but that is incompatible with subplots_adjust and/or tight_layout; disabling constrained_layout.\n",
      "\u001b[2m\u001b[36m(plot_frame_img pid=130502)\u001b[0m /tmp/ipykernel_41387/3741962776.py:33: UserWarning: marker is redundantly defined by the 'marker' keyword argument and the fmt string \".\" (-> marker='.'). The keyword argument will take precedence.\n",
      "\u001b[2m\u001b[36m(plot_frame_img pid=130502)\u001b[0m /tmp/ipykernel_41387/3741962776.py:43: UserWarning: This figure was using constrained_layout, but that is incompatible with subplots_adjust and/or tight_layout; disabling constrained_layout.\n",
      "\u001b[2m\u001b[36m(plot_frame_img pid=138040)\u001b[0m /tmp/ipykernel_41387/3741962776.py:33: UserWarning: marker is redundantly defined by the 'marker' keyword argument and the fmt string \".\" (-> marker='.'). The keyword argument will take precedence.\n",
      "\u001b[2m\u001b[36m(plot_frame_img pid=139487)\u001b[0m /tmp/ipykernel_41387/3741962776.py:33: UserWarning: marker is redundantly defined by the 'marker' keyword argument and the fmt string \".\" (-> marker='.'). The keyword argument will take precedence.\n",
      "\u001b[2m\u001b[36m(plot_frame_img pid=166924)\u001b[0m /tmp/ipykernel_41387/3741962776.py:33: UserWarning: marker is redundantly defined by the 'marker' keyword argument and the fmt string \".\" (-> marker='.'). The keyword argument will take precedence.\n",
      "\u001b[2m\u001b[36m(plot_frame_img pid=166924)\u001b[0m /tmp/ipykernel_41387/3741962776.py:43: UserWarning: This figure was using constrained_layout, but that is incompatible with subplots_adjust and/or tight_layout; disabling constrained_layout.\n",
      "\u001b[2m\u001b[36m(plot_frame_img pid=168385)\u001b[0m /tmp/ipykernel_41387/3741962776.py:33: UserWarning: marker is redundantly defined by the 'marker' keyword argument and the fmt string \".\" (-> marker='.'). The keyword argument will take precedence.\n",
      "\u001b[2m\u001b[36m(plot_frame_img pid=168385)\u001b[0m /tmp/ipykernel_41387/3741962776.py:43: UserWarning: This figure was using constrained_layout, but that is incompatible with subplots_adjust and/or tight_layout; disabling constrained_layout.\n",
      "\u001b[2m\u001b[36m(plot_frame_img pid=41663)\u001b[0m /tmp/ipykernel_41387/3741962776.py:33: UserWarning: marker is redundantly defined by the 'marker' keyword argument and the fmt string \".\" (-> marker='.'). The keyword argument will take precedence.\n",
      "\u001b[2m\u001b[36m(plot_frame_img pid=118188)\u001b[0m /tmp/ipykernel_41387/3741962776.py:43: UserWarning: This figure was using constrained_layout, but that is incompatible with subplots_adjust and/or tight_layout; disabling constrained_layout.\n",
      "\u001b[2m\u001b[36m(plot_frame_img pid=136524)\u001b[0m /tmp/ipykernel_41387/3741962776.py:33: UserWarning: marker is redundantly defined by the 'marker' keyword argument and the fmt string \".\" (-> marker='.'). The keyword argument will take precedence.\n",
      "\u001b[2m\u001b[36m(plot_frame_img pid=139487)\u001b[0m /tmp/ipykernel_41387/3741962776.py:43: UserWarning: This figure was using constrained_layout, but that is incompatible with subplots_adjust and/or tight_layout; disabling constrained_layout.\n"
     ]
    },
    {
     "data": {
      "application/vnd.jupyter.widget-view+json": {
       "model_id": "e27d5d13a6f54fd88e3fd8dad1c6cda8",
       "version_major": 2,
       "version_minor": 0
      },
      "text/plain": [
       "  0%|          | 0/188 [00:00<?, ?it/s]"
      ]
     },
     "metadata": {},
     "output_type": "display_data"
    },
    {
     "name": "stderr",
     "output_type": "stream",
     "text": [
      "\u001b[2m\u001b[36m(plot_frame_img pid=41662)\u001b[0m /tmp/ipykernel_41387/3741962776.py:43: UserWarning: This figure was using constrained_layout, but that is incompatible with subplots_adjust and/or tight_layout; disabling constrained_layout.\n",
      "\u001b[2m\u001b[36m(plot_frame_img pid=41661)\u001b[0m /tmp/ipykernel_41387/3741962776.py:43: UserWarning: This figure was using constrained_layout, but that is incompatible with subplots_adjust and/or tight_layout; disabling constrained_layout.\n",
      "\u001b[2m\u001b[36m(plot_frame_img pid=41663)\u001b[0m /tmp/ipykernel_41387/3741962776.py:43: UserWarning: This figure was using constrained_layout, but that is incompatible with subplots_adjust and/or tight_layout; disabling constrained_layout.\n",
      "\u001b[2m\u001b[36m(plot_frame_img pid=41671)\u001b[0m /tmp/ipykernel_41387/3741962776.py:33: UserWarning: marker is redundantly defined by the 'marker' keyword argument and the fmt string \".\" (-> marker='.'). The keyword argument will take precedence.\n",
      "\u001b[2m\u001b[36m(plot_frame_img pid=41671)\u001b[0m /tmp/ipykernel_41387/3741962776.py:43: UserWarning: This figure was using constrained_layout, but that is incompatible with subplots_adjust and/or tight_layout; disabling constrained_layout.\n",
      "\u001b[2m\u001b[36m(plot_frame_img pid=121740)\u001b[0m /tmp/ipykernel_41387/3741962776.py:33: UserWarning: marker is redundantly defined by the 'marker' keyword argument and the fmt string \".\" (-> marker='.'). The keyword argument will take precedence.\n",
      "\u001b[2m\u001b[36m(plot_frame_img pid=136524)\u001b[0m /tmp/ipykernel_41387/3741962776.py:43: UserWarning: This figure was using constrained_layout, but that is incompatible with subplots_adjust and/or tight_layout; disabling constrained_layout.\n",
      "\u001b[2m\u001b[36m(plot_frame_img pid=138040)\u001b[0m /tmp/ipykernel_41387/3741962776.py:43: UserWarning: This figure was using constrained_layout, but that is incompatible with subplots_adjust and/or tight_layout; disabling constrained_layout.\n",
      "\u001b[2m\u001b[36m(plot_frame_img pid=170805)\u001b[0m /tmp/ipykernel_41387/3741962776.py:33: UserWarning: marker is redundantly defined by the 'marker' keyword argument and the fmt string \".\" (-> marker='.'). The keyword argument will take precedence.\n",
      "\u001b[2m\u001b[36m(plot_frame_img pid=170805)\u001b[0m /tmp/ipykernel_41387/3741962776.py:43: UserWarning: This figure was using constrained_layout, but that is incompatible with subplots_adjust and/or tight_layout; disabling constrained_layout.\n",
      "\u001b[2m\u001b[36m(plot_frame_img pid=121740)\u001b[0m /tmp/ipykernel_41387/3741962776.py:43: UserWarning: This figure was using constrained_layout, but that is incompatible with subplots_adjust and/or tight_layout; disabling constrained_layout.\n",
      "\u001b[2m\u001b[36m(plot_frame_img pid=41665)\u001b[0m /tmp/ipykernel_41387/3741962776.py:33: UserWarning: marker is redundantly defined by the 'marker' keyword argument and the fmt string \".\" (-> marker='.'). The keyword argument will take precedence.\n",
      "\u001b[2m\u001b[36m(plot_frame_img pid=127621)\u001b[0m /tmp/ipykernel_41387/3741962776.py:33: UserWarning: marker is redundantly defined by the 'marker' keyword argument and the fmt string \".\" (-> marker='.'). The keyword argument will take precedence.\n",
      "\u001b[2m\u001b[36m(plot_frame_img pid=130502)\u001b[0m /tmp/ipykernel_41387/3741962776.py:33: UserWarning: marker is redundantly defined by the 'marker' keyword argument and the fmt string \".\" (-> marker='.'). The keyword argument will take precedence.\n",
      "\u001b[2m\u001b[36m(plot_frame_img pid=168385)\u001b[0m /tmp/ipykernel_41387/3741962776.py:33: UserWarning: marker is redundantly defined by the 'marker' keyword argument and the fmt string \".\" (-> marker='.'). The keyword argument will take precedence.\n",
      "\u001b[2m\u001b[36m(plot_frame_img pid=41667)\u001b[0m /tmp/ipykernel_41387/3741962776.py:33: UserWarning: marker is redundantly defined by the 'marker' keyword argument and the fmt string \".\" (-> marker='.'). The keyword argument will take precedence.\n",
      "\u001b[2m\u001b[36m(plot_frame_img pid=41667)\u001b[0m /tmp/ipykernel_41387/3741962776.py:43: UserWarning: This figure was using constrained_layout, but that is incompatible with subplots_adjust and/or tight_layout; disabling constrained_layout.\n",
      "\u001b[2m\u001b[36m(plot_frame_img pid=41661)\u001b[0m /tmp/ipykernel_41387/3741962776.py:33: UserWarning: marker is redundantly defined by the 'marker' keyword argument and the fmt string \".\" (-> marker='.'). The keyword argument will take precedence.\n",
      "\u001b[2m\u001b[36m(plot_frame_img pid=41661)\u001b[0m /tmp/ipykernel_41387/3741962776.py:43: UserWarning: This figure was using constrained_layout, but that is incompatible with subplots_adjust and/or tight_layout; disabling constrained_layout.\n",
      "\u001b[2m\u001b[36m(plot_frame_img pid=41663)\u001b[0m /tmp/ipykernel_41387/3741962776.py:33: UserWarning: marker is redundantly defined by the 'marker' keyword argument and the fmt string \".\" (-> marker='.'). The keyword argument will take precedence.\n",
      "\u001b[2m\u001b[36m(plot_frame_img pid=41669)\u001b[0m /tmp/ipykernel_41387/3741962776.py:33: UserWarning: marker is redundantly defined by the 'marker' keyword argument and the fmt string \".\" (-> marker='.'). The keyword argument will take precedence.\n",
      "\u001b[2m\u001b[36m(plot_frame_img pid=41669)\u001b[0m /tmp/ipykernel_41387/3741962776.py:43: UserWarning: This figure was using constrained_layout, but that is incompatible with subplots_adjust and/or tight_layout; disabling constrained_layout.\n",
      "\u001b[2m\u001b[36m(plot_frame_img pid=41672)\u001b[0m /tmp/ipykernel_41387/3741962776.py:33: UserWarning: marker is redundantly defined by the 'marker' keyword argument and the fmt string \".\" (-> marker='.'). The keyword argument will take precedence.\n",
      "\u001b[2m\u001b[36m(plot_frame_img pid=41672)\u001b[0m /tmp/ipykernel_41387/3741962776.py:43: UserWarning: This figure was using constrained_layout, but that is incompatible with subplots_adjust and/or tight_layout; disabling constrained_layout.\n",
      "\u001b[2m\u001b[36m(plot_frame_img pid=41665)\u001b[0m /tmp/ipykernel_41387/3741962776.py:43: UserWarning: This figure was using constrained_layout, but that is incompatible with subplots_adjust and/or tight_layout; disabling constrained_layout.\n",
      "\u001b[2m\u001b[36m(plot_frame_img pid=41671)\u001b[0m /tmp/ipykernel_41387/3741962776.py:33: UserWarning: marker is redundantly defined by the 'marker' keyword argument and the fmt string \".\" (-> marker='.'). The keyword argument will take precedence.\n",
      "\u001b[2m\u001b[36m(plot_frame_img pid=115373)\u001b[0m /tmp/ipykernel_41387/3741962776.py:33: UserWarning: marker is redundantly defined by the 'marker' keyword argument and the fmt string \".\" (-> marker='.'). The keyword argument will take precedence.\n",
      "\u001b[2m\u001b[36m(plot_frame_img pid=115373)\u001b[0m /tmp/ipykernel_41387/3741962776.py:43: UserWarning: This figure was using constrained_layout, but that is incompatible with subplots_adjust and/or tight_layout; disabling constrained_layout.\n",
      "\u001b[2m\u001b[36m(plot_frame_img pid=118188)\u001b[0m /tmp/ipykernel_41387/3741962776.py:33: UserWarning: marker is redundantly defined by the 'marker' keyword argument and the fmt string \".\" (-> marker='.'). The keyword argument will take precedence.\n",
      "\u001b[2m\u001b[36m(plot_frame_img pid=118188)\u001b[0m /tmp/ipykernel_41387/3741962776.py:43: UserWarning: This figure was using constrained_layout, but that is incompatible with subplots_adjust and/or tight_layout; disabling constrained_layout.\n",
      "\u001b[2m\u001b[36m(plot_frame_img pid=127621)\u001b[0m /tmp/ipykernel_41387/3741962776.py:43: UserWarning: This figure was using constrained_layout, but that is incompatible with subplots_adjust and/or tight_layout; disabling constrained_layout.\n",
      "\u001b[2m\u001b[36m(plot_frame_img pid=130502)\u001b[0m /tmp/ipykernel_41387/3741962776.py:43: UserWarning: This figure was using constrained_layout, but that is incompatible with subplots_adjust and/or tight_layout; disabling constrained_layout.\n",
      "\u001b[2m\u001b[36m(plot_frame_img pid=138040)\u001b[0m /tmp/ipykernel_41387/3741962776.py:33: UserWarning: marker is redundantly defined by the 'marker' keyword argument and the fmt string \".\" (-> marker='.'). The keyword argument will take precedence.\n",
      "\u001b[2m\u001b[36m(plot_frame_img pid=138040)\u001b[0m /tmp/ipykernel_41387/3741962776.py:43: UserWarning: This figure was using constrained_layout, but that is incompatible with subplots_adjust and/or tight_layout; disabling constrained_layout.\n",
      "\u001b[2m\u001b[36m(plot_frame_img pid=139487)\u001b[0m /tmp/ipykernel_41387/3741962776.py:33: UserWarning: marker is redundantly defined by the 'marker' keyword argument and the fmt string \".\" (-> marker='.'). The keyword argument will take precedence.\n",
      "\u001b[2m\u001b[36m(plot_frame_img pid=139487)\u001b[0m /tmp/ipykernel_41387/3741962776.py:43: UserWarning: This figure was using constrained_layout, but that is incompatible with subplots_adjust and/or tight_layout; disabling constrained_layout.\n",
      "\u001b[2m\u001b[36m(plot_frame_img pid=166924)\u001b[0m /tmp/ipykernel_41387/3741962776.py:33: UserWarning: marker is redundantly defined by the 'marker' keyword argument and the fmt string \".\" (-> marker='.'). The keyword argument will take precedence.\n",
      "\u001b[2m\u001b[36m(plot_frame_img pid=166924)\u001b[0m /tmp/ipykernel_41387/3741962776.py:43: UserWarning: This figure was using constrained_layout, but that is incompatible with subplots_adjust and/or tight_layout; disabling constrained_layout.\n",
      "\u001b[2m\u001b[36m(plot_frame_img pid=168385)\u001b[0m /tmp/ipykernel_41387/3741962776.py:43: UserWarning: This figure was using constrained_layout, but that is incompatible with subplots_adjust and/or tight_layout; disabling constrained_layout.\n",
      "\u001b[2m\u001b[36m(plot_frame_img pid=41662)\u001b[0m /tmp/ipykernel_41387/3741962776.py:33: UserWarning: marker is redundantly defined by the 'marker' keyword argument and the fmt string \".\" (-> marker='.'). The keyword argument will take precedence.\n",
      "\u001b[2m\u001b[36m(plot_frame_img pid=136524)\u001b[0m /tmp/ipykernel_41387/3741962776.py:33: UserWarning: marker is redundantly defined by the 'marker' keyword argument and the fmt string \".\" (-> marker='.'). The keyword argument will take precedence.\n",
      "\u001b[2m\u001b[36m(plot_frame_img pid=41662)\u001b[0m /tmp/ipykernel_41387/3741962776.py:43: UserWarning: This figure was using constrained_layout, but that is incompatible with subplots_adjust and/or tight_layout; disabling constrained_layout.\n",
      "\u001b[2m\u001b[36m(plot_frame_img pid=41663)\u001b[0m /tmp/ipykernel_41387/3741962776.py:43: UserWarning: This figure was using constrained_layout, but that is incompatible with subplots_adjust and/or tight_layout; disabling constrained_layout.\n",
      "\u001b[2m\u001b[36m(plot_frame_img pid=41671)\u001b[0m /tmp/ipykernel_41387/3741962776.py:43: UserWarning: This figure was using constrained_layout, but that is incompatible with subplots_adjust and/or tight_layout; disabling constrained_layout.\n",
      "\u001b[2m\u001b[36m(plot_frame_img pid=121740)\u001b[0m /tmp/ipykernel_41387/3741962776.py:33: UserWarning: marker is redundantly defined by the 'marker' keyword argument and the fmt string \".\" (-> marker='.'). The keyword argument will take precedence.\n",
      "\u001b[2m\u001b[36m(plot_frame_img pid=121740)\u001b[0m /tmp/ipykernel_41387/3741962776.py:43: UserWarning: This figure was using constrained_layout, but that is incompatible with subplots_adjust and/or tight_layout; disabling constrained_layout.\n",
      "\u001b[2m\u001b[36m(plot_frame_img pid=136524)\u001b[0m /tmp/ipykernel_41387/3741962776.py:43: UserWarning: This figure was using constrained_layout, but that is incompatible with subplots_adjust and/or tight_layout; disabling constrained_layout.\n",
      "\u001b[2m\u001b[36m(plot_frame_img pid=170805)\u001b[0m /tmp/ipykernel_41387/3741962776.py:33: UserWarning: marker is redundantly defined by the 'marker' keyword argument and the fmt string \".\" (-> marker='.'). The keyword argument will take precedence.\n",
      "\u001b[2m\u001b[36m(plot_frame_img pid=170805)\u001b[0m /tmp/ipykernel_41387/3741962776.py:43: UserWarning: This figure was using constrained_layout, but that is incompatible with subplots_adjust and/or tight_layout; disabling constrained_layout.\n",
      "\u001b[2m\u001b[36m(plot_frame_img pid=41667)\u001b[0m /tmp/ipykernel_41387/3741962776.py:33: UserWarning: marker is redundantly defined by the 'marker' keyword argument and the fmt string \".\" (-> marker='.'). The keyword argument will take precedence.\n",
      "\u001b[2m\u001b[36m(plot_frame_img pid=41665)\u001b[0m /tmp/ipykernel_41387/3741962776.py:33: UserWarning: marker is redundantly defined by the 'marker' keyword argument and the fmt string \".\" (-> marker='.'). The keyword argument will take precedence.\n",
      "\u001b[2m\u001b[36m(plot_frame_img pid=41665)\u001b[0m /tmp/ipykernel_41387/3741962776.py:43: UserWarning: This figure was using constrained_layout, but that is incompatible with subplots_adjust and/or tight_layout; disabling constrained_layout.\n",
      "\u001b[2m\u001b[36m(plot_frame_img pid=115373)\u001b[0m /tmp/ipykernel_41387/3741962776.py:33: UserWarning: marker is redundantly defined by the 'marker' keyword argument and the fmt string \".\" (-> marker='.'). The keyword argument will take precedence.\n",
      "\u001b[2m\u001b[36m(plot_frame_img pid=115373)\u001b[0m /tmp/ipykernel_41387/3741962776.py:43: UserWarning: This figure was using constrained_layout, but that is incompatible with subplots_adjust and/or tight_layout; disabling constrained_layout.\n",
      "\u001b[2m\u001b[36m(plot_frame_img pid=127621)\u001b[0m /tmp/ipykernel_41387/3741962776.py:33: UserWarning: marker is redundantly defined by the 'marker' keyword argument and the fmt string \".\" (-> marker='.'). The keyword argument will take precedence.\n",
      "\u001b[2m\u001b[36m(plot_frame_img pid=130502)\u001b[0m /tmp/ipykernel_41387/3741962776.py:33: UserWarning: marker is redundantly defined by the 'marker' keyword argument and the fmt string \".\" (-> marker='.'). The keyword argument will take precedence.\n",
      "\u001b[2m\u001b[36m(plot_frame_img pid=130502)\u001b[0m /tmp/ipykernel_41387/3741962776.py:43: UserWarning: This figure was using constrained_layout, but that is incompatible with subplots_adjust and/or tight_layout; disabling constrained_layout.\n",
      "\u001b[2m\u001b[36m(plot_frame_img pid=166924)\u001b[0m /tmp/ipykernel_41387/3741962776.py:33: UserWarning: marker is redundantly defined by the 'marker' keyword argument and the fmt string \".\" (-> marker='.'). The keyword argument will take precedence.\n",
      "\u001b[2m\u001b[36m(plot_frame_img pid=168385)\u001b[0m /tmp/ipykernel_41387/3741962776.py:33: UserWarning: marker is redundantly defined by the 'marker' keyword argument and the fmt string \".\" (-> marker='.'). The keyword argument will take precedence.\n",
      "\u001b[2m\u001b[36m(plot_frame_img pid=41667)\u001b[0m /tmp/ipykernel_41387/3741962776.py:43: UserWarning: This figure was using constrained_layout, but that is incompatible with subplots_adjust and/or tight_layout; disabling constrained_layout.\n",
      "\u001b[2m\u001b[36m(plot_frame_img pid=166924)\u001b[0m /tmp/ipykernel_41387/3741962776.py:43: UserWarning: This figure was using constrained_layout, but that is incompatible with subplots_adjust and/or tight_layout; disabling constrained_layout.\n",
      "\u001b[2m\u001b[36m(plot_frame_img pid=41661)\u001b[0m /tmp/ipykernel_41387/3741962776.py:33: UserWarning: marker is redundantly defined by the 'marker' keyword argument and the fmt string \".\" (-> marker='.'). The keyword argument will take precedence.\n",
      "\u001b[2m\u001b[36m(plot_frame_img pid=118188)\u001b[0m /tmp/ipykernel_41387/3741962776.py:33: UserWarning: marker is redundantly defined by the 'marker' keyword argument and the fmt string \".\" (-> marker='.'). The keyword argument will take precedence.\n",
      "\u001b[2m\u001b[36m(plot_frame_img pid=139487)\u001b[0m /tmp/ipykernel_41387/3741962776.py:33: UserWarning: marker is redundantly defined by the 'marker' keyword argument and the fmt string \".\" (-> marker='.'). The keyword argument will take precedence.\n",
      "\u001b[2m\u001b[36m(plot_frame_img pid=41662)\u001b[0m /tmp/ipykernel_41387/3741962776.py:33: UserWarning: marker is redundantly defined by the 'marker' keyword argument and the fmt string \".\" (-> marker='.'). The keyword argument will take precedence.\n",
      "\u001b[2m\u001b[36m(plot_frame_img pid=41661)\u001b[0m /tmp/ipykernel_41387/3741962776.py:43: UserWarning: This figure was using constrained_layout, but that is incompatible with subplots_adjust and/or tight_layout; disabling constrained_layout.\n",
      "\u001b[2m\u001b[36m(plot_frame_img pid=41663)\u001b[0m /tmp/ipykernel_41387/3741962776.py:33: UserWarning: marker is redundantly defined by the 'marker' keyword argument and the fmt string \".\" (-> marker='.'). The keyword argument will take precedence.\n",
      "\u001b[2m\u001b[36m(plot_frame_img pid=41663)\u001b[0m /tmp/ipykernel_41387/3741962776.py:43: UserWarning: This figure was using constrained_layout, but that is incompatible with subplots_adjust and/or tight_layout; disabling constrained_layout.\n",
      "\u001b[2m\u001b[36m(plot_frame_img pid=41669)\u001b[0m /tmp/ipykernel_41387/3741962776.py:33: UserWarning: marker is redundantly defined by the 'marker' keyword argument and the fmt string \".\" (-> marker='.'). The keyword argument will take precedence.\n",
      "\u001b[2m\u001b[36m(plot_frame_img pid=41669)\u001b[0m /tmp/ipykernel_41387/3741962776.py:43: UserWarning: This figure was using constrained_layout, but that is incompatible with subplots_adjust and/or tight_layout; disabling constrained_layout.\n",
      "\u001b[2m\u001b[36m(plot_frame_img pid=41672)\u001b[0m /tmp/ipykernel_41387/3741962776.py:33: UserWarning: marker is redundantly defined by the 'marker' keyword argument and the fmt string \".\" (-> marker='.'). The keyword argument will take precedence.\n",
      "\u001b[2m\u001b[36m(plot_frame_img pid=41672)\u001b[0m /tmp/ipykernel_41387/3741962776.py:43: UserWarning: This figure was using constrained_layout, but that is incompatible with subplots_adjust and/or tight_layout; disabling constrained_layout.\n",
      "\u001b[2m\u001b[36m(plot_frame_img pid=41671)\u001b[0m /tmp/ipykernel_41387/3741962776.py:33: UserWarning: marker is redundantly defined by the 'marker' keyword argument and the fmt string \".\" (-> marker='.'). The keyword argument will take precedence.\n",
      "\u001b[2m\u001b[36m(plot_frame_img pid=118188)\u001b[0m /tmp/ipykernel_41387/3741962776.py:43: UserWarning: This figure was using constrained_layout, but that is incompatible with subplots_adjust and/or tight_layout; disabling constrained_layout.\n",
      "\u001b[2m\u001b[36m(plot_frame_img pid=121740)\u001b[0m /tmp/ipykernel_41387/3741962776.py:33: UserWarning: marker is redundantly defined by the 'marker' keyword argument and the fmt string \".\" (-> marker='.'). The keyword argument will take precedence.\n",
      "\u001b[2m\u001b[36m(plot_frame_img pid=127621)\u001b[0m /tmp/ipykernel_41387/3741962776.py:43: UserWarning: This figure was using constrained_layout, but that is incompatible with subplots_adjust and/or tight_layout; disabling constrained_layout.\n",
      "\u001b[2m\u001b[36m(plot_frame_img pid=136524)\u001b[0m /tmp/ipykernel_41387/3741962776.py:33: UserWarning: marker is redundantly defined by the 'marker' keyword argument and the fmt string \".\" (-> marker='.'). The keyword argument will take precedence.\n",
      "\u001b[2m\u001b[36m(plot_frame_img pid=138040)\u001b[0m /tmp/ipykernel_41387/3741962776.py:33: UserWarning: marker is redundantly defined by the 'marker' keyword argument and the fmt string \".\" (-> marker='.'). The keyword argument will take precedence.\n",
      "\u001b[2m\u001b[36m(plot_frame_img pid=138040)\u001b[0m /tmp/ipykernel_41387/3741962776.py:43: UserWarning: This figure was using constrained_layout, but that is incompatible with subplots_adjust and/or tight_layout; disabling constrained_layout.\n",
      "\u001b[2m\u001b[36m(plot_frame_img pid=139487)\u001b[0m /tmp/ipykernel_41387/3741962776.py:43: UserWarning: This figure was using constrained_layout, but that is incompatible with subplots_adjust and/or tight_layout; disabling constrained_layout.\n",
      "\u001b[2m\u001b[36m(plot_frame_img pid=168385)\u001b[0m /tmp/ipykernel_41387/3741962776.py:43: UserWarning: This figure was using constrained_layout, but that is incompatible with subplots_adjust and/or tight_layout; disabling constrained_layout.\n",
      "\u001b[2m\u001b[36m(plot_frame_img pid=136524)\u001b[0m /tmp/ipykernel_41387/3741962776.py:43: UserWarning: This figure was using constrained_layout, but that is incompatible with subplots_adjust and/or tight_layout; disabling constrained_layout.\n",
      "\u001b[2m\u001b[36m(plot_frame_img pid=41662)\u001b[0m /tmp/ipykernel_41387/3741962776.py:43: UserWarning: This figure was using constrained_layout, but that is incompatible with subplots_adjust and/or tight_layout; disabling constrained_layout.\n",
      "\u001b[2m\u001b[36m(plot_frame_img pid=41665)\u001b[0m /tmp/ipykernel_41387/3741962776.py:33: UserWarning: marker is redundantly defined by the 'marker' keyword argument and the fmt string \".\" (-> marker='.'). The keyword argument will take precedence.\n",
      "\u001b[2m\u001b[36m(plot_frame_img pid=41671)\u001b[0m /tmp/ipykernel_41387/3741962776.py:43: UserWarning: This figure was using constrained_layout, but that is incompatible with subplots_adjust and/or tight_layout; disabling constrained_layout.\n",
      "\u001b[2m\u001b[36m(plot_frame_img pid=121740)\u001b[0m /tmp/ipykernel_41387/3741962776.py:43: UserWarning: This figure was using constrained_layout, but that is incompatible with subplots_adjust and/or tight_layout; disabling constrained_layout.\n",
      "\u001b[2m\u001b[36m(plot_frame_img pid=130502)\u001b[0m /tmp/ipykernel_41387/3741962776.py:33: UserWarning: marker is redundantly defined by the 'marker' keyword argument and the fmt string \".\" (-> marker='.'). The keyword argument will take precedence.\n",
      "\u001b[2m\u001b[36m(plot_frame_img pid=170805)\u001b[0m /tmp/ipykernel_41387/3741962776.py:33: UserWarning: marker is redundantly defined by the 'marker' keyword argument and the fmt string \".\" (-> marker='.'). The keyword argument will take precedence.\n",
      "\u001b[2m\u001b[36m(plot_frame_img pid=170805)\u001b[0m /tmp/ipykernel_41387/3741962776.py:43: UserWarning: This figure was using constrained_layout, but that is incompatible with subplots_adjust and/or tight_layout; disabling constrained_layout.\n",
      "\u001b[2m\u001b[36m(plot_frame_img pid=115373)\u001b[0m /tmp/ipykernel_41387/3741962776.py:33: UserWarning: marker is redundantly defined by the 'marker' keyword argument and the fmt string \".\" (-> marker='.'). The keyword argument will take precedence.\n",
      "\u001b[2m\u001b[36m(plot_frame_img pid=41667)\u001b[0m /tmp/ipykernel_41387/3741962776.py:33: UserWarning: marker is redundantly defined by the 'marker' keyword argument and the fmt string \".\" (-> marker='.'). The keyword argument will take precedence.\n",
      "\u001b[2m\u001b[36m(plot_frame_img pid=41667)\u001b[0m /tmp/ipykernel_41387/3741962776.py:43: UserWarning: This figure was using constrained_layout, but that is incompatible with subplots_adjust and/or tight_layout; disabling constrained_layout.\n",
      "\u001b[2m\u001b[36m(plot_frame_img pid=41661)\u001b[0m /tmp/ipykernel_41387/3741962776.py:33: UserWarning: marker is redundantly defined by the 'marker' keyword argument and the fmt string \".\" (-> marker='.'). The keyword argument will take precedence.\n",
      "\u001b[2m\u001b[36m(plot_frame_img pid=41661)\u001b[0m /tmp/ipykernel_41387/3741962776.py:43: UserWarning: This figure was using constrained_layout, but that is incompatible with subplots_adjust and/or tight_layout; disabling constrained_layout.\n",
      "\u001b[2m\u001b[36m(plot_frame_img pid=41669)\u001b[0m /tmp/ipykernel_41387/3741962776.py:33: UserWarning: marker is redundantly defined by the 'marker' keyword argument and the fmt string \".\" (-> marker='.'). The keyword argument will take precedence.\n",
      "\u001b[2m\u001b[36m(plot_frame_img pid=41672)\u001b[0m /tmp/ipykernel_41387/3741962776.py:33: UserWarning: marker is redundantly defined by the 'marker' keyword argument and the fmt string \".\" (-> marker='.'). The keyword argument will take precedence.\n",
      "\u001b[2m\u001b[36m(plot_frame_img pid=41665)\u001b[0m /tmp/ipykernel_41387/3741962776.py:43: UserWarning: This figure was using constrained_layout, but that is incompatible with subplots_adjust and/or tight_layout; disabling constrained_layout.\n",
      "\u001b[2m\u001b[36m(plot_frame_img pid=115373)\u001b[0m /tmp/ipykernel_41387/3741962776.py:43: UserWarning: This figure was using constrained_layout, but that is incompatible with subplots_adjust and/or tight_layout; disabling constrained_layout.\n",
      "\u001b[2m\u001b[36m(plot_frame_img pid=118188)\u001b[0m /tmp/ipykernel_41387/3741962776.py:33: UserWarning: marker is redundantly defined by the 'marker' keyword argument and the fmt string \".\" (-> marker='.'). The keyword argument will take precedence.\n",
      "\u001b[2m\u001b[36m(plot_frame_img pid=118188)\u001b[0m /tmp/ipykernel_41387/3741962776.py:43: UserWarning: This figure was using constrained_layout, but that is incompatible with subplots_adjust and/or tight_layout; disabling constrained_layout.\n",
      "\u001b[2m\u001b[36m(plot_frame_img pid=127621)\u001b[0m /tmp/ipykernel_41387/3741962776.py:33: UserWarning: marker is redundantly defined by the 'marker' keyword argument and the fmt string \".\" (-> marker='.'). The keyword argument will take precedence.\n",
      "\u001b[2m\u001b[36m(plot_frame_img pid=130502)\u001b[0m /tmp/ipykernel_41387/3741962776.py:43: UserWarning: This figure was using constrained_layout, but that is incompatible with subplots_adjust and/or tight_layout; disabling constrained_layout.\n",
      "\u001b[2m\u001b[36m(plot_frame_img pid=138040)\u001b[0m /tmp/ipykernel_41387/3741962776.py:33: UserWarning: marker is redundantly defined by the 'marker' keyword argument and the fmt string \".\" (-> marker='.'). The keyword argument will take precedence.\n",
      "\u001b[2m\u001b[36m(plot_frame_img pid=138040)\u001b[0m /tmp/ipykernel_41387/3741962776.py:43: UserWarning: This figure was using constrained_layout, but that is incompatible with subplots_adjust and/or tight_layout; disabling constrained_layout.\n",
      "\u001b[2m\u001b[36m(plot_frame_img pid=139487)\u001b[0m /tmp/ipykernel_41387/3741962776.py:33: UserWarning: marker is redundantly defined by the 'marker' keyword argument and the fmt string \".\" (-> marker='.'). The keyword argument will take precedence.\n",
      "\u001b[2m\u001b[36m(plot_frame_img pid=139487)\u001b[0m /tmp/ipykernel_41387/3741962776.py:43: UserWarning: This figure was using constrained_layout, but that is incompatible with subplots_adjust and/or tight_layout; disabling constrained_layout.\n",
      "\u001b[2m\u001b[36m(plot_frame_img pid=166924)\u001b[0m /tmp/ipykernel_41387/3741962776.py:33: UserWarning: marker is redundantly defined by the 'marker' keyword argument and the fmt string \".\" (-> marker='.'). The keyword argument will take precedence.\n",
      "\u001b[2m\u001b[36m(plot_frame_img pid=166924)\u001b[0m /tmp/ipykernel_41387/3741962776.py:43: UserWarning: This figure was using constrained_layout, but that is incompatible with subplots_adjust and/or tight_layout; disabling constrained_layout.\n",
      "\u001b[2m\u001b[36m(plot_frame_img pid=168385)\u001b[0m /tmp/ipykernel_41387/3741962776.py:33: UserWarning: marker is redundantly defined by the 'marker' keyword argument and the fmt string \".\" (-> marker='.'). The keyword argument will take precedence.\n",
      "\u001b[2m\u001b[36m(plot_frame_img pid=168385)\u001b[0m /tmp/ipykernel_41387/3741962776.py:43: UserWarning: This figure was using constrained_layout, but that is incompatible with subplots_adjust and/or tight_layout; disabling constrained_layout.\n",
      "\u001b[2m\u001b[36m(plot_frame_img pid=41663)\u001b[0m /tmp/ipykernel_41387/3741962776.py:33: UserWarning: marker is redundantly defined by the 'marker' keyword argument and the fmt string \".\" (-> marker='.'). The keyword argument will take precedence.\n",
      "\u001b[2m\u001b[36m(plot_frame_img pid=41662)\u001b[0m /tmp/ipykernel_41387/3741962776.py:33: UserWarning: marker is redundantly defined by the 'marker' keyword argument and the fmt string \".\" (-> marker='.'). The keyword argument will take precedence.\n",
      "\u001b[2m\u001b[36m(plot_frame_img pid=41662)\u001b[0m /tmp/ipykernel_41387/3741962776.py:43: UserWarning: This figure was using constrained_layout, but that is incompatible with subplots_adjust and/or tight_layout; disabling constrained_layout.\n",
      "\u001b[2m\u001b[36m(plot_frame_img pid=41663)\u001b[0m /tmp/ipykernel_41387/3741962776.py:43: UserWarning: This figure was using constrained_layout, but that is incompatible with subplots_adjust and/or tight_layout; disabling constrained_layout.\n",
      "\u001b[2m\u001b[36m(plot_frame_img pid=41669)\u001b[0m /tmp/ipykernel_41387/3741962776.py:43: UserWarning: This figure was using constrained_layout, but that is incompatible with subplots_adjust and/or tight_layout; disabling constrained_layout.\n",
      "\u001b[2m\u001b[36m(plot_frame_img pid=41672)\u001b[0m /tmp/ipykernel_41387/3741962776.py:43: UserWarning: This figure was using constrained_layout, but that is incompatible with subplots_adjust and/or tight_layout; disabling constrained_layout.\n",
      "\u001b[2m\u001b[36m(plot_frame_img pid=41671)\u001b[0m /tmp/ipykernel_41387/3741962776.py:33: UserWarning: marker is redundantly defined by the 'marker' keyword argument and the fmt string \".\" (-> marker='.'). The keyword argument will take precedence.\n",
      "\u001b[2m\u001b[36m(plot_frame_img pid=121740)\u001b[0m /tmp/ipykernel_41387/3741962776.py:33: UserWarning: marker is redundantly defined by the 'marker' keyword argument and the fmt string \".\" (-> marker='.'). The keyword argument will take precedence.\n",
      "\u001b[2m\u001b[36m(plot_frame_img pid=121740)\u001b[0m /tmp/ipykernel_41387/3741962776.py:43: UserWarning: This figure was using constrained_layout, but that is incompatible with subplots_adjust and/or tight_layout; disabling constrained_layout.\n",
      "\u001b[2m\u001b[36m(plot_frame_img pid=127621)\u001b[0m /tmp/ipykernel_41387/3741962776.py:43: UserWarning: This figure was using constrained_layout, but that is incompatible with subplots_adjust and/or tight_layout; disabling constrained_layout.\n",
      "\u001b[2m\u001b[36m(plot_frame_img pid=136524)\u001b[0m /tmp/ipykernel_41387/3741962776.py:33: UserWarning: marker is redundantly defined by the 'marker' keyword argument and the fmt string \".\" (-> marker='.'). The keyword argument will take precedence.\n",
      "\u001b[2m\u001b[36m(plot_frame_img pid=136524)\u001b[0m /tmp/ipykernel_41387/3741962776.py:43: UserWarning: This figure was using constrained_layout, but that is incompatible with subplots_adjust and/or tight_layout; disabling constrained_layout.\n",
      "\u001b[2m\u001b[36m(plot_frame_img pid=170805)\u001b[0m /tmp/ipykernel_41387/3741962776.py:33: UserWarning: marker is redundantly defined by the 'marker' keyword argument and the fmt string \".\" (-> marker='.'). The keyword argument will take precedence.\n",
      "\u001b[2m\u001b[36m(plot_frame_img pid=41671)\u001b[0m /tmp/ipykernel_41387/3741962776.py:43: UserWarning: This figure was using constrained_layout, but that is incompatible with subplots_adjust and/or tight_layout; disabling constrained_layout.\n",
      "\u001b[2m\u001b[36m(plot_frame_img pid=41667)\u001b[0m /tmp/ipykernel_41387/3741962776.py:33: UserWarning: marker is redundantly defined by the 'marker' keyword argument and the fmt string \".\" (-> marker='.'). The keyword argument will take precedence.\n",
      "\u001b[2m\u001b[36m(plot_frame_img pid=41661)\u001b[0m /tmp/ipykernel_41387/3741962776.py:33: UserWarning: marker is redundantly defined by the 'marker' keyword argument and the fmt string \".\" (-> marker='.'). The keyword argument will take precedence.\n",
      "\u001b[2m\u001b[36m(plot_frame_img pid=41665)\u001b[0m /tmp/ipykernel_41387/3741962776.py:33: UserWarning: marker is redundantly defined by the 'marker' keyword argument and the fmt string \".\" (-> marker='.'). The keyword argument will take precedence.\n",
      "\u001b[2m\u001b[36m(plot_frame_img pid=41665)\u001b[0m /tmp/ipykernel_41387/3741962776.py:43: UserWarning: This figure was using constrained_layout, but that is incompatible with subplots_adjust and/or tight_layout; disabling constrained_layout.\n",
      "\u001b[2m\u001b[36m(plot_frame_img pid=115373)\u001b[0m /tmp/ipykernel_41387/3741962776.py:33: UserWarning: marker is redundantly defined by the 'marker' keyword argument and the fmt string \".\" (-> marker='.'). The keyword argument will take precedence.\n",
      "\u001b[2m\u001b[36m(plot_frame_img pid=115373)\u001b[0m /tmp/ipykernel_41387/3741962776.py:43: UserWarning: This figure was using constrained_layout, but that is incompatible with subplots_adjust and/or tight_layout; disabling constrained_layout.\n",
      "\u001b[2m\u001b[36m(plot_frame_img pid=130502)\u001b[0m /tmp/ipykernel_41387/3741962776.py:33: UserWarning: marker is redundantly defined by the 'marker' keyword argument and the fmt string \".\" (-> marker='.'). The keyword argument will take precedence.\n",
      "\u001b[2m\u001b[36m(plot_frame_img pid=130502)\u001b[0m /tmp/ipykernel_41387/3741962776.py:43: UserWarning: This figure was using constrained_layout, but that is incompatible with subplots_adjust and/or tight_layout; disabling constrained_layout.\n",
      "\u001b[2m\u001b[36m(plot_frame_img pid=166924)\u001b[0m /tmp/ipykernel_41387/3741962776.py:33: UserWarning: marker is redundantly defined by the 'marker' keyword argument and the fmt string \".\" (-> marker='.'). The keyword argument will take precedence.\n",
      "\u001b[2m\u001b[36m(plot_frame_img pid=170805)\u001b[0m /tmp/ipykernel_41387/3741962776.py:43: UserWarning: This figure was using constrained_layout, but that is incompatible with subplots_adjust and/or tight_layout; disabling constrained_layout.\n",
      "\u001b[2m\u001b[36m(plot_frame_img pid=41662)\u001b[0m /tmp/ipykernel_41387/3741962776.py:33: UserWarning: marker is redundantly defined by the 'marker' keyword argument and the fmt string \".\" (-> marker='.'). The keyword argument will take precedence.\n",
      "\u001b[2m\u001b[36m(plot_frame_img pid=41667)\u001b[0m /tmp/ipykernel_41387/3741962776.py:43: UserWarning: This figure was using constrained_layout, but that is incompatible with subplots_adjust and/or tight_layout; disabling constrained_layout.\n",
      "\u001b[2m\u001b[36m(plot_frame_img pid=41661)\u001b[0m /tmp/ipykernel_41387/3741962776.py:43: UserWarning: This figure was using constrained_layout, but that is incompatible with subplots_adjust and/or tight_layout; disabling constrained_layout.\n",
      "\u001b[2m\u001b[36m(plot_frame_img pid=41663)\u001b[0m /tmp/ipykernel_41387/3741962776.py:33: UserWarning: marker is redundantly defined by the 'marker' keyword argument and the fmt string \".\" (-> marker='.'). The keyword argument will take precedence.\n",
      "\u001b[2m\u001b[36m(plot_frame_img pid=41669)\u001b[0m /tmp/ipykernel_41387/3741962776.py:33: UserWarning: marker is redundantly defined by the 'marker' keyword argument and the fmt string \".\" (-> marker='.'). The keyword argument will take precedence.\n",
      "\u001b[2m\u001b[36m(plot_frame_img pid=41669)\u001b[0m /tmp/ipykernel_41387/3741962776.py:43: UserWarning: This figure was using constrained_layout, but that is incompatible with subplots_adjust and/or tight_layout; disabling constrained_layout.\n",
      "\u001b[2m\u001b[36m(plot_frame_img pid=41672)\u001b[0m /tmp/ipykernel_41387/3741962776.py:33: UserWarning: marker is redundantly defined by the 'marker' keyword argument and the fmt string \".\" (-> marker='.'). The keyword argument will take precedence.\n",
      "\u001b[2m\u001b[36m(plot_frame_img pid=41672)\u001b[0m /tmp/ipykernel_41387/3741962776.py:43: UserWarning: This figure was using constrained_layout, but that is incompatible with subplots_adjust and/or tight_layout; disabling constrained_layout.\n",
      "\u001b[2m\u001b[36m(plot_frame_img pid=118188)\u001b[0m /tmp/ipykernel_41387/3741962776.py:33: UserWarning: marker is redundantly defined by the 'marker' keyword argument and the fmt string \".\" (-> marker='.'). The keyword argument will take precedence.\n",
      "\u001b[2m\u001b[36m(plot_frame_img pid=118188)\u001b[0m /tmp/ipykernel_41387/3741962776.py:43: UserWarning: This figure was using constrained_layout, but that is incompatible with subplots_adjust and/or tight_layout; disabling constrained_layout.\n",
      "\u001b[2m\u001b[36m(plot_frame_img pid=121740)\u001b[0m /tmp/ipykernel_41387/3741962776.py:33: UserWarning: marker is redundantly defined by the 'marker' keyword argument and the fmt string \".\" (-> marker='.'). The keyword argument will take precedence.\n",
      "\u001b[2m\u001b[36m(plot_frame_img pid=127621)\u001b[0m /tmp/ipykernel_41387/3741962776.py:33: UserWarning: marker is redundantly defined by the 'marker' keyword argument and the fmt string \".\" (-> marker='.'). The keyword argument will take precedence.\n",
      "\u001b[2m\u001b[36m(plot_frame_img pid=127621)\u001b[0m /tmp/ipykernel_41387/3741962776.py:43: UserWarning: This figure was using constrained_layout, but that is incompatible with subplots_adjust and/or tight_layout; disabling constrained_layout.\n",
      "\u001b[2m\u001b[36m(plot_frame_img pid=136524)\u001b[0m /tmp/ipykernel_41387/3741962776.py:33: UserWarning: marker is redundantly defined by the 'marker' keyword argument and the fmt string \".\" (-> marker='.'). The keyword argument will take precedence.\n",
      "\u001b[2m\u001b[36m(plot_frame_img pid=138040)\u001b[0m /tmp/ipykernel_41387/3741962776.py:33: UserWarning: marker is redundantly defined by the 'marker' keyword argument and the fmt string \".\" (-> marker='.'). The keyword argument will take precedence.\n",
      "\u001b[2m\u001b[36m(plot_frame_img pid=138040)\u001b[0m /tmp/ipykernel_41387/3741962776.py:43: UserWarning: This figure was using constrained_layout, but that is incompatible with subplots_adjust and/or tight_layout; disabling constrained_layout.\n",
      "\u001b[2m\u001b[36m(plot_frame_img pid=139487)\u001b[0m /tmp/ipykernel_41387/3741962776.py:33: UserWarning: marker is redundantly defined by the 'marker' keyword argument and the fmt string \".\" (-> marker='.'). The keyword argument will take precedence.\n",
      "\u001b[2m\u001b[36m(plot_frame_img pid=139487)\u001b[0m /tmp/ipykernel_41387/3741962776.py:43: UserWarning: This figure was using constrained_layout, but that is incompatible with subplots_adjust and/or tight_layout; disabling constrained_layout.\n",
      "\u001b[2m\u001b[36m(plot_frame_img pid=166924)\u001b[0m /tmp/ipykernel_41387/3741962776.py:43: UserWarning: This figure was using constrained_layout, but that is incompatible with subplots_adjust and/or tight_layout; disabling constrained_layout.\n",
      "\u001b[2m\u001b[36m(plot_frame_img pid=168385)\u001b[0m /tmp/ipykernel_41387/3741962776.py:33: UserWarning: marker is redundantly defined by the 'marker' keyword argument and the fmt string \".\" (-> marker='.'). The keyword argument will take precedence.\n",
      "\u001b[2m\u001b[36m(plot_frame_img pid=168385)\u001b[0m /tmp/ipykernel_41387/3741962776.py:43: UserWarning: This figure was using constrained_layout, but that is incompatible with subplots_adjust and/or tight_layout; disabling constrained_layout.\n",
      "\u001b[2m\u001b[36m(plot_frame_img pid=41662)\u001b[0m /tmp/ipykernel_41387/3741962776.py:43: UserWarning: This figure was using constrained_layout, but that is incompatible with subplots_adjust and/or tight_layout; disabling constrained_layout.\n",
      "\u001b[2m\u001b[36m(plot_frame_img pid=41663)\u001b[0m /tmp/ipykernel_41387/3741962776.py:43: UserWarning: This figure was using constrained_layout, but that is incompatible with subplots_adjust and/or tight_layout; disabling constrained_layout.\n",
      "\u001b[2m\u001b[36m(plot_frame_img pid=41671)\u001b[0m /tmp/ipykernel_41387/3741962776.py:33: UserWarning: marker is redundantly defined by the 'marker' keyword argument and the fmt string \".\" (-> marker='.'). The keyword argument will take precedence.\n",
      "\u001b[2m\u001b[36m(plot_frame_img pid=41671)\u001b[0m /tmp/ipykernel_41387/3741962776.py:43: UserWarning: This figure was using constrained_layout, but that is incompatible with subplots_adjust and/or tight_layout; disabling constrained_layout.\n",
      "\u001b[2m\u001b[36m(plot_frame_img pid=121740)\u001b[0m /tmp/ipykernel_41387/3741962776.py:43: UserWarning: This figure was using constrained_layout, but that is incompatible with subplots_adjust and/or tight_layout; disabling constrained_layout.\n",
      "\u001b[2m\u001b[36m(plot_frame_img pid=136524)\u001b[0m /tmp/ipykernel_41387/3741962776.py:43: UserWarning: This figure was using constrained_layout, but that is incompatible with subplots_adjust and/or tight_layout; disabling constrained_layout.\n",
      "\u001b[2m\u001b[36m(plot_frame_img pid=170805)\u001b[0m /tmp/ipykernel_41387/3741962776.py:33: UserWarning: marker is redundantly defined by the 'marker' keyword argument and the fmt string \".\" (-> marker='.'). The keyword argument will take precedence.\n",
      "\u001b[2m\u001b[36m(plot_frame_img pid=170805)\u001b[0m /tmp/ipykernel_41387/3741962776.py:43: UserWarning: This figure was using constrained_layout, but that is incompatible with subplots_adjust and/or tight_layout; disabling constrained_layout.\n",
      "\u001b[2m\u001b[36m(plot_frame_img pid=41667)\u001b[0m /tmp/ipykernel_41387/3741962776.py:33: UserWarning: marker is redundantly defined by the 'marker' keyword argument and the fmt string \".\" (-> marker='.'). The keyword argument will take precedence.\n",
      "\u001b[2m\u001b[36m(plot_frame_img pid=41661)\u001b[0m /tmp/ipykernel_41387/3741962776.py:33: UserWarning: marker is redundantly defined by the 'marker' keyword argument and the fmt string \".\" (-> marker='.'). The keyword argument will take precedence.\n",
      "\u001b[2m\u001b[36m(plot_frame_img pid=41665)\u001b[0m /tmp/ipykernel_41387/3741962776.py:33: UserWarning: marker is redundantly defined by the 'marker' keyword argument and the fmt string \".\" (-> marker='.'). The keyword argument will take precedence.\n",
      "\u001b[2m\u001b[36m(plot_frame_img pid=41665)\u001b[0m /tmp/ipykernel_41387/3741962776.py:43: UserWarning: This figure was using constrained_layout, but that is incompatible with subplots_adjust and/or tight_layout; disabling constrained_layout.\n",
      "\u001b[2m\u001b[36m(plot_frame_img pid=115373)\u001b[0m /tmp/ipykernel_41387/3741962776.py:33: UserWarning: marker is redundantly defined by the 'marker' keyword argument and the fmt string \".\" (-> marker='.'). The keyword argument will take precedence.\n",
      "\u001b[2m\u001b[36m(plot_frame_img pid=115373)\u001b[0m /tmp/ipykernel_41387/3741962776.py:43: UserWarning: This figure was using constrained_layout, but that is incompatible with subplots_adjust and/or tight_layout; disabling constrained_layout.\n",
      "\u001b[2m\u001b[36m(plot_frame_img pid=130502)\u001b[0m /tmp/ipykernel_41387/3741962776.py:33: UserWarning: marker is redundantly defined by the 'marker' keyword argument and the fmt string \".\" (-> marker='.'). The keyword argument will take precedence.\n",
      "\u001b[2m\u001b[36m(plot_frame_img pid=130502)\u001b[0m /tmp/ipykernel_41387/3741962776.py:43: UserWarning: This figure was using constrained_layout, but that is incompatible with subplots_adjust and/or tight_layout; disabling constrained_layout.\n",
      "\u001b[2m\u001b[36m(plot_frame_img pid=166924)\u001b[0m /tmp/ipykernel_41387/3741962776.py:33: UserWarning: marker is redundantly defined by the 'marker' keyword argument and the fmt string \".\" (-> marker='.'). The keyword argument will take precedence.\n",
      "\u001b[2m\u001b[36m(plot_frame_img pid=166924)\u001b[0m /tmp/ipykernel_41387/3741962776.py:43: UserWarning: This figure was using constrained_layout, but that is incompatible with subplots_adjust and/or tight_layout; disabling constrained_layout.\n",
      "\u001b[2m\u001b[36m(plot_frame_img pid=41662)\u001b[0m /tmp/ipykernel_41387/3741962776.py:33: UserWarning: marker is redundantly defined by the 'marker' keyword argument and the fmt string \".\" (-> marker='.'). The keyword argument will take precedence.\n",
      "\u001b[2m\u001b[36m(plot_frame_img pid=41667)\u001b[0m /tmp/ipykernel_41387/3741962776.py:43: UserWarning: This figure was using constrained_layout, but that is incompatible with subplots_adjust and/or tight_layout; disabling constrained_layout.\n",
      "\u001b[2m\u001b[36m(plot_frame_img pid=41661)\u001b[0m /tmp/ipykernel_41387/3741962776.py:43: UserWarning: This figure was using constrained_layout, but that is incompatible with subplots_adjust and/or tight_layout; disabling constrained_layout.\n",
      "\u001b[2m\u001b[36m(plot_frame_img pid=41663)\u001b[0m /tmp/ipykernel_41387/3741962776.py:33: UserWarning: marker is redundantly defined by the 'marker' keyword argument and the fmt string \".\" (-> marker='.'). The keyword argument will take precedence.\n",
      "\u001b[2m\u001b[36m(plot_frame_img pid=41663)\u001b[0m /tmp/ipykernel_41387/3741962776.py:43: UserWarning: This figure was using constrained_layout, but that is incompatible with subplots_adjust and/or tight_layout; disabling constrained_layout.\n",
      "\u001b[2m\u001b[36m(plot_frame_img pid=41669)\u001b[0m /tmp/ipykernel_41387/3741962776.py:33: UserWarning: marker is redundantly defined by the 'marker' keyword argument and the fmt string \".\" (-> marker='.'). The keyword argument will take precedence.\n",
      "\u001b[2m\u001b[36m(plot_frame_img pid=41669)\u001b[0m /tmp/ipykernel_41387/3741962776.py:43: UserWarning: This figure was using constrained_layout, but that is incompatible with subplots_adjust and/or tight_layout; disabling constrained_layout.\n",
      "\u001b[2m\u001b[36m(plot_frame_img pid=41672)\u001b[0m /tmp/ipykernel_41387/3741962776.py:33: UserWarning: marker is redundantly defined by the 'marker' keyword argument and the fmt string \".\" (-> marker='.'). The keyword argument will take precedence.\n",
      "\u001b[2m\u001b[36m(plot_frame_img pid=41672)\u001b[0m /tmp/ipykernel_41387/3741962776.py:43: UserWarning: This figure was using constrained_layout, but that is incompatible with subplots_adjust and/or tight_layout; disabling constrained_layout.\n",
      "\u001b[2m\u001b[36m(plot_frame_img pid=118188)\u001b[0m /tmp/ipykernel_41387/3741962776.py:33: UserWarning: marker is redundantly defined by the 'marker' keyword argument and the fmt string \".\" (-> marker='.'). The keyword argument will take precedence.\n",
      "\u001b[2m\u001b[36m(plot_frame_img pid=118188)\u001b[0m /tmp/ipykernel_41387/3741962776.py:43: UserWarning: This figure was using constrained_layout, but that is incompatible with subplots_adjust and/or tight_layout; disabling constrained_layout.\n",
      "\u001b[2m\u001b[36m(plot_frame_img pid=121740)\u001b[0m /tmp/ipykernel_41387/3741962776.py:33: UserWarning: marker is redundantly defined by the 'marker' keyword argument and the fmt string \".\" (-> marker='.'). The keyword argument will take precedence.\n",
      "\u001b[2m\u001b[36m(plot_frame_img pid=127621)\u001b[0m /tmp/ipykernel_41387/3741962776.py:33: UserWarning: marker is redundantly defined by the 'marker' keyword argument and the fmt string \".\" (-> marker='.'). The keyword argument will take precedence.\n",
      "\u001b[2m\u001b[36m(plot_frame_img pid=127621)\u001b[0m /tmp/ipykernel_41387/3741962776.py:43: UserWarning: This figure was using constrained_layout, but that is incompatible with subplots_adjust and/or tight_layout; disabling constrained_layout.\n",
      "\u001b[2m\u001b[36m(plot_frame_img pid=136524)\u001b[0m /tmp/ipykernel_41387/3741962776.py:33: UserWarning: marker is redundantly defined by the 'marker' keyword argument and the fmt string \".\" (-> marker='.'). The keyword argument will take precedence.\n",
      "\u001b[2m\u001b[36m(plot_frame_img pid=138040)\u001b[0m /tmp/ipykernel_41387/3741962776.py:33: UserWarning: marker is redundantly defined by the 'marker' keyword argument and the fmt string \".\" (-> marker='.'). The keyword argument will take precedence.\n",
      "\u001b[2m\u001b[36m(plot_frame_img pid=138040)\u001b[0m /tmp/ipykernel_41387/3741962776.py:43: UserWarning: This figure was using constrained_layout, but that is incompatible with subplots_adjust and/or tight_layout; disabling constrained_layout.\n",
      "\u001b[2m\u001b[36m(plot_frame_img pid=139487)\u001b[0m /tmp/ipykernel_41387/3741962776.py:33: UserWarning: marker is redundantly defined by the 'marker' keyword argument and the fmt string \".\" (-> marker='.'). The keyword argument will take precedence.\n",
      "\u001b[2m\u001b[36m(plot_frame_img pid=139487)\u001b[0m /tmp/ipykernel_41387/3741962776.py:43: UserWarning: This figure was using constrained_layout, but that is incompatible with subplots_adjust and/or tight_layout; disabling constrained_layout.\n",
      "\u001b[2m\u001b[36m(plot_frame_img pid=168385)\u001b[0m /tmp/ipykernel_41387/3741962776.py:33: UserWarning: marker is redundantly defined by the 'marker' keyword argument and the fmt string \".\" (-> marker='.'). The keyword argument will take precedence.\n",
      "\u001b[2m\u001b[36m(plot_frame_img pid=168385)\u001b[0m /tmp/ipykernel_41387/3741962776.py:43: UserWarning: This figure was using constrained_layout, but that is incompatible with subplots_adjust and/or tight_layout; disabling constrained_layout.\n",
      "\u001b[2m\u001b[36m(plot_frame_img pid=41662)\u001b[0m /tmp/ipykernel_41387/3741962776.py:43: UserWarning: This figure was using constrained_layout, but that is incompatible with subplots_adjust and/or tight_layout; disabling constrained_layout.\n",
      "\u001b[2m\u001b[36m(plot_frame_img pid=41671)\u001b[0m /tmp/ipykernel_41387/3741962776.py:33: UserWarning: marker is redundantly defined by the 'marker' keyword argument and the fmt string \".\" (-> marker='.'). The keyword argument will take precedence.\n",
      "\u001b[2m\u001b[36m(plot_frame_img pid=41671)\u001b[0m /tmp/ipykernel_41387/3741962776.py:43: UserWarning: This figure was using constrained_layout, but that is incompatible with subplots_adjust and/or tight_layout; disabling constrained_layout.\n",
      "\u001b[2m\u001b[36m(plot_frame_img pid=121740)\u001b[0m /tmp/ipykernel_41387/3741962776.py:43: UserWarning: This figure was using constrained_layout, but that is incompatible with subplots_adjust and/or tight_layout; disabling constrained_layout.\n",
      "\u001b[2m\u001b[36m(plot_frame_img pid=136524)\u001b[0m /tmp/ipykernel_41387/3741962776.py:43: UserWarning: This figure was using constrained_layout, but that is incompatible with subplots_adjust and/or tight_layout; disabling constrained_layout.\n",
      "\u001b[2m\u001b[36m(plot_frame_img pid=170805)\u001b[0m /tmp/ipykernel_41387/3741962776.py:33: UserWarning: marker is redundantly defined by the 'marker' keyword argument and the fmt string \".\" (-> marker='.'). The keyword argument will take precedence.\n",
      "\u001b[2m\u001b[36m(plot_frame_img pid=170805)\u001b[0m /tmp/ipykernel_41387/3741962776.py:43: UserWarning: This figure was using constrained_layout, but that is incompatible with subplots_adjust and/or tight_layout; disabling constrained_layout.\n",
      "\u001b[2m\u001b[36m(plot_frame_img pid=172261)\u001b[0m /tmp/ipykernel_41387/3741962776.py:33: UserWarning: marker is redundantly defined by the 'marker' keyword argument and the fmt string \".\" (-> marker='.'). The keyword argument will take precedence.\n",
      "\u001b[2m\u001b[36m(plot_frame_img pid=172261)\u001b[0m /tmp/ipykernel_41387/3741962776.py:43: UserWarning: This figure was using constrained_layout, but that is incompatible with subplots_adjust and/or tight_layout; disabling constrained_layout.\n",
      "\u001b[2m\u001b[36m(plot_frame_img pid=41667)\u001b[0m /tmp/ipykernel_41387/3741962776.py:33: UserWarning: marker is redundantly defined by the 'marker' keyword argument and the fmt string \".\" (-> marker='.'). The keyword argument will take precedence.\n",
      "\u001b[2m\u001b[36m(plot_frame_img pid=41661)\u001b[0m /tmp/ipykernel_41387/3741962776.py:33: UserWarning: marker is redundantly defined by the 'marker' keyword argument and the fmt string \".\" (-> marker='.'). The keyword argument will take precedence.\n",
      "\u001b[2m\u001b[36m(plot_frame_img pid=41665)\u001b[0m /tmp/ipykernel_41387/3741962776.py:33: UserWarning: marker is redundantly defined by the 'marker' keyword argument and the fmt string \".\" (-> marker='.'). The keyword argument will take precedence.\n",
      "\u001b[2m\u001b[36m(plot_frame_img pid=41665)\u001b[0m /tmp/ipykernel_41387/3741962776.py:43: UserWarning: This figure was using constrained_layout, but that is incompatible with subplots_adjust and/or tight_layout; disabling constrained_layout.\n",
      "\u001b[2m\u001b[36m(plot_frame_img pid=115373)\u001b[0m /tmp/ipykernel_41387/3741962776.py:33: UserWarning: marker is redundantly defined by the 'marker' keyword argument and the fmt string \".\" (-> marker='.'). The keyword argument will take precedence.\n",
      "\u001b[2m\u001b[36m(plot_frame_img pid=115373)\u001b[0m /tmp/ipykernel_41387/3741962776.py:43: UserWarning: This figure was using constrained_layout, but that is incompatible with subplots_adjust and/or tight_layout; disabling constrained_layout.\n",
      "\u001b[2m\u001b[36m(plot_frame_img pid=118188)\u001b[0m /tmp/ipykernel_41387/3741962776.py:33: UserWarning: marker is redundantly defined by the 'marker' keyword argument and the fmt string \".\" (-> marker='.'). The keyword argument will take precedence.\n",
      "\u001b[2m\u001b[36m(plot_frame_img pid=130502)\u001b[0m /tmp/ipykernel_41387/3741962776.py:33: UserWarning: marker is redundantly defined by the 'marker' keyword argument and the fmt string \".\" (-> marker='.'). The keyword argument will take precedence.\n",
      "\u001b[2m\u001b[36m(plot_frame_img pid=130502)\u001b[0m /tmp/ipykernel_41387/3741962776.py:43: UserWarning: This figure was using constrained_layout, but that is incompatible with subplots_adjust and/or tight_layout; disabling constrained_layout.\n",
      "\u001b[2m\u001b[36m(plot_frame_img pid=139487)\u001b[0m /tmp/ipykernel_41387/3741962776.py:33: UserWarning: marker is redundantly defined by the 'marker' keyword argument and the fmt string \".\" (-> marker='.'). The keyword argument will take precedence.\n",
      "\u001b[2m\u001b[36m(plot_frame_img pid=166924)\u001b[0m /tmp/ipykernel_41387/3741962776.py:33: UserWarning: marker is redundantly defined by the 'marker' keyword argument and the fmt string \".\" (-> marker='.'). The keyword argument will take precedence.\n",
      "\u001b[2m\u001b[36m(plot_frame_img pid=166924)\u001b[0m /tmp/ipykernel_41387/3741962776.py:43: UserWarning: This figure was using constrained_layout, but that is incompatible with subplots_adjust and/or tight_layout; disabling constrained_layout.\n",
      "\u001b[2m\u001b[36m(plot_frame_img pid=168385)\u001b[0m /tmp/ipykernel_41387/3741962776.py:33: UserWarning: marker is redundantly defined by the 'marker' keyword argument and the fmt string \".\" (-> marker='.'). The keyword argument will take precedence.\n",
      "\u001b[2m\u001b[36m(plot_frame_img pid=41669)\u001b[0m /tmp/ipykernel_41387/3741962776.py:33: UserWarning: marker is redundantly defined by the 'marker' keyword argument and the fmt string \".\" (-> marker='.'). The keyword argument will take precedence.\n",
      "\u001b[2m\u001b[36m(plot_frame_img pid=139487)\u001b[0m /tmp/ipykernel_41387/3741962776.py:43: UserWarning: This figure was using constrained_layout, but that is incompatible with subplots_adjust and/or tight_layout; disabling constrained_layout.\n",
      "\u001b[2m\u001b[36m(plot_frame_img pid=41667)\u001b[0m /tmp/ipykernel_41387/3741962776.py:43: UserWarning: This figure was using constrained_layout, but that is incompatible with subplots_adjust and/or tight_layout; disabling constrained_layout.\n",
      "\u001b[2m\u001b[36m(plot_frame_img pid=127621)\u001b[0m /tmp/ipykernel_41387/3741962776.py:33: UserWarning: marker is redundantly defined by the 'marker' keyword argument and the fmt string \".\" (-> marker='.'). The keyword argument will take precedence.\n",
      "\u001b[2m\u001b[36m(plot_frame_img pid=41662)\u001b[0m /tmp/ipykernel_41387/3741962776.py:33: UserWarning: marker is redundantly defined by the 'marker' keyword argument and the fmt string \".\" (-> marker='.'). The keyword argument will take precedence.\n",
      "\u001b[2m\u001b[36m(plot_frame_img pid=41662)\u001b[0m /tmp/ipykernel_41387/3741962776.py:43: UserWarning: This figure was using constrained_layout, but that is incompatible with subplots_adjust and/or tight_layout; disabling constrained_layout.\n",
      "\u001b[2m\u001b[36m(plot_frame_img pid=41661)\u001b[0m /tmp/ipykernel_41387/3741962776.py:43: UserWarning: This figure was using constrained_layout, but that is incompatible with subplots_adjust and/or tight_layout; disabling constrained_layout.\n",
      "\u001b[2m\u001b[36m(plot_frame_img pid=41663)\u001b[0m /tmp/ipykernel_41387/3741962776.py:33: UserWarning: marker is redundantly defined by the 'marker' keyword argument and the fmt string \".\" (-> marker='.'). The keyword argument will take precedence.\n",
      "\u001b[2m\u001b[36m(plot_frame_img pid=41663)\u001b[0m /tmp/ipykernel_41387/3741962776.py:43: UserWarning: This figure was using constrained_layout, but that is incompatible with subplots_adjust and/or tight_layout; disabling constrained_layout.\n",
      "\u001b[2m\u001b[36m(plot_frame_img pid=41669)\u001b[0m /tmp/ipykernel_41387/3741962776.py:43: UserWarning: This figure was using constrained_layout, but that is incompatible with subplots_adjust and/or tight_layout; disabling constrained_layout.\n",
      "\u001b[2m\u001b[36m(plot_frame_img pid=41672)\u001b[0m /tmp/ipykernel_41387/3741962776.py:33: UserWarning: marker is redundantly defined by the 'marker' keyword argument and the fmt string \".\" (-> marker='.'). The keyword argument will take precedence.\n",
      "\u001b[2m\u001b[36m(plot_frame_img pid=41672)\u001b[0m /tmp/ipykernel_41387/3741962776.py:43: UserWarning: This figure was using constrained_layout, but that is incompatible with subplots_adjust and/or tight_layout; disabling constrained_layout.\n",
      "\u001b[2m\u001b[36m(plot_frame_img pid=118188)\u001b[0m /tmp/ipykernel_41387/3741962776.py:43: UserWarning: This figure was using constrained_layout, but that is incompatible with subplots_adjust and/or tight_layout; disabling constrained_layout.\n",
      "\u001b[2m\u001b[36m(plot_frame_img pid=121740)\u001b[0m /tmp/ipykernel_41387/3741962776.py:33: UserWarning: marker is redundantly defined by the 'marker' keyword argument and the fmt string \".\" (-> marker='.'). The keyword argument will take precedence.\n",
      "\u001b[2m\u001b[36m(plot_frame_img pid=121740)\u001b[0m /tmp/ipykernel_41387/3741962776.py:43: UserWarning: This figure was using constrained_layout, but that is incompatible with subplots_adjust and/or tight_layout; disabling constrained_layout.\n",
      "\u001b[2m\u001b[36m(plot_frame_img pid=127621)\u001b[0m /tmp/ipykernel_41387/3741962776.py:43: UserWarning: This figure was using constrained_layout, but that is incompatible with subplots_adjust and/or tight_layout; disabling constrained_layout.\n",
      "\u001b[2m\u001b[36m(plot_frame_img pid=136524)\u001b[0m /tmp/ipykernel_41387/3741962776.py:33: UserWarning: marker is redundantly defined by the 'marker' keyword argument and the fmt string \".\" (-> marker='.'). The keyword argument will take precedence.\n",
      "\u001b[2m\u001b[36m(plot_frame_img pid=138040)\u001b[0m /tmp/ipykernel_41387/3741962776.py:33: UserWarning: marker is redundantly defined by the 'marker' keyword argument and the fmt string \".\" (-> marker='.'). The keyword argument will take precedence.\n",
      "\u001b[2m\u001b[36m(plot_frame_img pid=138040)\u001b[0m /tmp/ipykernel_41387/3741962776.py:43: UserWarning: This figure was using constrained_layout, but that is incompatible with subplots_adjust and/or tight_layout; disabling constrained_layout.\n",
      "\u001b[2m\u001b[36m(plot_frame_img pid=168385)\u001b[0m /tmp/ipykernel_41387/3741962776.py:43: UserWarning: This figure was using constrained_layout, but that is incompatible with subplots_adjust and/or tight_layout; disabling constrained_layout.\n",
      "\u001b[2m\u001b[36m(plot_frame_img pid=170805)\u001b[0m /tmp/ipykernel_41387/3741962776.py:33: UserWarning: marker is redundantly defined by the 'marker' keyword argument and the fmt string \".\" (-> marker='.'). The keyword argument will take precedence.\n",
      "\u001b[2m\u001b[36m(plot_frame_img pid=41671)\u001b[0m /tmp/ipykernel_41387/3741962776.py:33: UserWarning: marker is redundantly defined by the 'marker' keyword argument and the fmt string \".\" (-> marker='.'). The keyword argument will take precedence.\n",
      "\u001b[2m\u001b[36m(plot_frame_img pid=41665)\u001b[0m /tmp/ipykernel_41387/3741962776.py:33: UserWarning: marker is redundantly defined by the 'marker' keyword argument and the fmt string \".\" (-> marker='.'). The keyword argument will take precedence.\n",
      "\u001b[2m\u001b[36m(plot_frame_img pid=41671)\u001b[0m /tmp/ipykernel_41387/3741962776.py:43: UserWarning: This figure was using constrained_layout, but that is incompatible with subplots_adjust and/or tight_layout; disabling constrained_layout.\n",
      "\u001b[2m\u001b[36m(plot_frame_img pid=115373)\u001b[0m /tmp/ipykernel_41387/3741962776.py:33: UserWarning: marker is redundantly defined by the 'marker' keyword argument and the fmt string \".\" (-> marker='.'). The keyword argument will take precedence.\n",
      "\u001b[2m\u001b[36m(plot_frame_img pid=130502)\u001b[0m /tmp/ipykernel_41387/3741962776.py:33: UserWarning: marker is redundantly defined by the 'marker' keyword argument and the fmt string \".\" (-> marker='.'). The keyword argument will take precedence.\n",
      "\u001b[2m\u001b[36m(plot_frame_img pid=136524)\u001b[0m /tmp/ipykernel_41387/3741962776.py:43: UserWarning: This figure was using constrained_layout, but that is incompatible with subplots_adjust and/or tight_layout; disabling constrained_layout.\n",
      "\u001b[2m\u001b[36m(plot_frame_img pid=166924)\u001b[0m /tmp/ipykernel_41387/3741962776.py:33: UserWarning: marker is redundantly defined by the 'marker' keyword argument and the fmt string \".\" (-> marker='.'). The keyword argument will take precedence.\n",
      "\u001b[2m\u001b[36m(plot_frame_img pid=170805)\u001b[0m /tmp/ipykernel_41387/3741962776.py:43: UserWarning: This figure was using constrained_layout, but that is incompatible with subplots_adjust and/or tight_layout; disabling constrained_layout.\n",
      "\u001b[2m\u001b[36m(plot_frame_img pid=172261)\u001b[0m /tmp/ipykernel_41387/3741962776.py:33: UserWarning: marker is redundantly defined by the 'marker' keyword argument and the fmt string \".\" (-> marker='.'). The keyword argument will take precedence.\n",
      "\u001b[2m\u001b[36m(plot_frame_img pid=172261)\u001b[0m /tmp/ipykernel_41387/3741962776.py:43: UserWarning: This figure was using constrained_layout, but that is incompatible with subplots_adjust and/or tight_layout; disabling constrained_layout.\n",
      "\u001b[2m\u001b[36m(plot_frame_img pid=41667)\u001b[0m /tmp/ipykernel_41387/3741962776.py:33: UserWarning: marker is redundantly defined by the 'marker' keyword argument and the fmt string \".\" (-> marker='.'). The keyword argument will take precedence.\n",
      "\u001b[2m\u001b[36m(plot_frame_img pid=41667)\u001b[0m /tmp/ipykernel_41387/3741962776.py:43: UserWarning: This figure was using constrained_layout, but that is incompatible with subplots_adjust and/or tight_layout; disabling constrained_layout.\n",
      "\u001b[2m\u001b[36m(plot_frame_img pid=41661)\u001b[0m /tmp/ipykernel_41387/3741962776.py:33: UserWarning: marker is redundantly defined by the 'marker' keyword argument and the fmt string \".\" (-> marker='.'). The keyword argument will take precedence.\n",
      "\u001b[2m\u001b[36m(plot_frame_img pid=41661)\u001b[0m /tmp/ipykernel_41387/3741962776.py:43: UserWarning: This figure was using constrained_layout, but that is incompatible with subplots_adjust and/or tight_layout; disabling constrained_layout.\n",
      "\u001b[2m\u001b[36m(plot_frame_img pid=41663)\u001b[0m /tmp/ipykernel_41387/3741962776.py:33: UserWarning: marker is redundantly defined by the 'marker' keyword argument and the fmt string \".\" (-> marker='.'). The keyword argument will take precedence.\n",
      "\u001b[2m\u001b[36m(plot_frame_img pid=41669)\u001b[0m /tmp/ipykernel_41387/3741962776.py:33: UserWarning: marker is redundantly defined by the 'marker' keyword argument and the fmt string \".\" (-> marker='.'). The keyword argument will take precedence.\n",
      "\u001b[2m\u001b[36m(plot_frame_img pid=41672)\u001b[0m /tmp/ipykernel_41387/3741962776.py:33: UserWarning: marker is redundantly defined by the 'marker' keyword argument and the fmt string \".\" (-> marker='.'). The keyword argument will take precedence.\n",
      "\u001b[2m\u001b[36m(plot_frame_img pid=41665)\u001b[0m /tmp/ipykernel_41387/3741962776.py:43: UserWarning: This figure was using constrained_layout, but that is incompatible with subplots_adjust and/or tight_layout; disabling constrained_layout.\n",
      "\u001b[2m\u001b[36m(plot_frame_img pid=115373)\u001b[0m /tmp/ipykernel_41387/3741962776.py:43: UserWarning: This figure was using constrained_layout, but that is incompatible with subplots_adjust and/or tight_layout; disabling constrained_layout.\n",
      "\u001b[2m\u001b[36m(plot_frame_img pid=118188)\u001b[0m /tmp/ipykernel_41387/3741962776.py:33: UserWarning: marker is redundantly defined by the 'marker' keyword argument and the fmt string \".\" (-> marker='.'). The keyword argument will take precedence.\n",
      "\u001b[2m\u001b[36m(plot_frame_img pid=118188)\u001b[0m /tmp/ipykernel_41387/3741962776.py:43: UserWarning: This figure was using constrained_layout, but that is incompatible with subplots_adjust and/or tight_layout; disabling constrained_layout.\n",
      "\u001b[2m\u001b[36m(plot_frame_img pid=127621)\u001b[0m /tmp/ipykernel_41387/3741962776.py:33: UserWarning: marker is redundantly defined by the 'marker' keyword argument and the fmt string \".\" (-> marker='.'). The keyword argument will take precedence.\n",
      "\u001b[2m\u001b[36m(plot_frame_img pid=127621)\u001b[0m /tmp/ipykernel_41387/3741962776.py:43: UserWarning: This figure was using constrained_layout, but that is incompatible with subplots_adjust and/or tight_layout; disabling constrained_layout.\n",
      "\u001b[2m\u001b[36m(plot_frame_img pid=130502)\u001b[0m /tmp/ipykernel_41387/3741962776.py:43: UserWarning: This figure was using constrained_layout, but that is incompatible with subplots_adjust and/or tight_layout; disabling constrained_layout.\n",
      "\u001b[2m\u001b[36m(plot_frame_img pid=139487)\u001b[0m /tmp/ipykernel_41387/3741962776.py:33: UserWarning: marker is redundantly defined by the 'marker' keyword argument and the fmt string \".\" (-> marker='.'). The keyword argument will take precedence.\n",
      "\u001b[2m\u001b[36m(plot_frame_img pid=139487)\u001b[0m /tmp/ipykernel_41387/3741962776.py:43: UserWarning: This figure was using constrained_layout, but that is incompatible with subplots_adjust and/or tight_layout; disabling constrained_layout.\n",
      "\u001b[2m\u001b[36m(plot_frame_img pid=166924)\u001b[0m /tmp/ipykernel_41387/3741962776.py:43: UserWarning: This figure was using constrained_layout, but that is incompatible with subplots_adjust and/or tight_layout; disabling constrained_layout.\n",
      "\u001b[2m\u001b[36m(plot_frame_img pid=168385)\u001b[0m /tmp/ipykernel_41387/3741962776.py:33: UserWarning: marker is redundantly defined by the 'marker' keyword argument and the fmt string \".\" (-> marker='.'). The keyword argument will take precedence.\n",
      "\u001b[2m\u001b[36m(plot_frame_img pid=168385)\u001b[0m /tmp/ipykernel_41387/3741962776.py:43: UserWarning: This figure was using constrained_layout, but that is incompatible with subplots_adjust and/or tight_layout; disabling constrained_layout.\n",
      "\u001b[2m\u001b[36m(plot_frame_img pid=41669)\u001b[0m /tmp/ipykernel_41387/3741962776.py:43: UserWarning: This figure was using constrained_layout, but that is incompatible with subplots_adjust and/or tight_layout; disabling constrained_layout.\n",
      "\u001b[2m\u001b[36m(plot_frame_img pid=121740)\u001b[0m /tmp/ipykernel_41387/3741962776.py:33: UserWarning: marker is redundantly defined by the 'marker' keyword argument and the fmt string \".\" (-> marker='.'). The keyword argument will take precedence.\n",
      "\u001b[2m\u001b[36m(plot_frame_img pid=41662)\u001b[0m /tmp/ipykernel_41387/3741962776.py:33: UserWarning: marker is redundantly defined by the 'marker' keyword argument and the fmt string \".\" (-> marker='.'). The keyword argument will take precedence.\n",
      "\u001b[2m\u001b[36m(plot_frame_img pid=41662)\u001b[0m /tmp/ipykernel_41387/3741962776.py:43: UserWarning: This figure was using constrained_layout, but that is incompatible with subplots_adjust and/or tight_layout; disabling constrained_layout.\n",
      "\u001b[2m\u001b[36m(plot_frame_img pid=41663)\u001b[0m /tmp/ipykernel_41387/3741962776.py:43: UserWarning: This figure was using constrained_layout, but that is incompatible with subplots_adjust and/or tight_layout; disabling constrained_layout.\n",
      "\u001b[2m\u001b[36m(plot_frame_img pid=41672)\u001b[0m /tmp/ipykernel_41387/3741962776.py:43: UserWarning: This figure was using constrained_layout, but that is incompatible with subplots_adjust and/or tight_layout; disabling constrained_layout.\n",
      "\u001b[2m\u001b[36m(plot_frame_img pid=41671)\u001b[0m /tmp/ipykernel_41387/3741962776.py:33: UserWarning: marker is redundantly defined by the 'marker' keyword argument and the fmt string \".\" (-> marker='.'). The keyword argument will take precedence.\n",
      "\u001b[2m\u001b[36m(plot_frame_img pid=41671)\u001b[0m /tmp/ipykernel_41387/3741962776.py:43: UserWarning: This figure was using constrained_layout, but that is incompatible with subplots_adjust and/or tight_layout; disabling constrained_layout.\n",
      "\u001b[2m\u001b[36m(plot_frame_img pid=121740)\u001b[0m /tmp/ipykernel_41387/3741962776.py:43: UserWarning: This figure was using constrained_layout, but that is incompatible with subplots_adjust and/or tight_layout; disabling constrained_layout.\n",
      "\u001b[2m\u001b[36m(plot_frame_img pid=136524)\u001b[0m /tmp/ipykernel_41387/3741962776.py:33: UserWarning: marker is redundantly defined by the 'marker' keyword argument and the fmt string \".\" (-> marker='.'). The keyword argument will take precedence.\n",
      "\u001b[2m\u001b[36m(plot_frame_img pid=136524)\u001b[0m /tmp/ipykernel_41387/3741962776.py:43: UserWarning: This figure was using constrained_layout, but that is incompatible with subplots_adjust and/or tight_layout; disabling constrained_layout.\n",
      "\u001b[2m\u001b[36m(plot_frame_img pid=138040)\u001b[0m /tmp/ipykernel_41387/3741962776.py:33: UserWarning: marker is redundantly defined by the 'marker' keyword argument and the fmt string \".\" (-> marker='.'). The keyword argument will take precedence.\n",
      "\u001b[2m\u001b[36m(plot_frame_img pid=138040)\u001b[0m /tmp/ipykernel_41387/3741962776.py:43: UserWarning: This figure was using constrained_layout, but that is incompatible with subplots_adjust and/or tight_layout; disabling constrained_layout.\n",
      "\u001b[2m\u001b[36m(plot_frame_img pid=170805)\u001b[0m /tmp/ipykernel_41387/3741962776.py:33: UserWarning: marker is redundantly defined by the 'marker' keyword argument and the fmt string \".\" (-> marker='.'). The keyword argument will take precedence.\n",
      "\u001b[2m\u001b[36m(plot_frame_img pid=170805)\u001b[0m /tmp/ipykernel_41387/3741962776.py:43: UserWarning: This figure was using constrained_layout, but that is incompatible with subplots_adjust and/or tight_layout; disabling constrained_layout.\n",
      "\u001b[2m\u001b[36m(plot_frame_img pid=41665)\u001b[0m /tmp/ipykernel_41387/3741962776.py:33: UserWarning: marker is redundantly defined by the 'marker' keyword argument and the fmt string \".\" (-> marker='.'). The keyword argument will take precedence.\n",
      "\u001b[2m\u001b[36m(plot_frame_img pid=41665)\u001b[0m /tmp/ipykernel_41387/3741962776.py:43: UserWarning: This figure was using constrained_layout, but that is incompatible with subplots_adjust and/or tight_layout; disabling constrained_layout.\n",
      "\u001b[2m\u001b[36m(plot_frame_img pid=115373)\u001b[0m /tmp/ipykernel_41387/3741962776.py:33: UserWarning: marker is redundantly defined by the 'marker' keyword argument and the fmt string \".\" (-> marker='.'). The keyword argument will take precedence.\n",
      "\u001b[2m\u001b[36m(plot_frame_img pid=118188)\u001b[0m /tmp/ipykernel_41387/3741962776.py:33: UserWarning: marker is redundantly defined by the 'marker' keyword argument and the fmt string \".\" (-> marker='.'). The keyword argument will take precedence.\n",
      "\u001b[2m\u001b[36m(plot_frame_img pid=130502)\u001b[0m /tmp/ipykernel_41387/3741962776.py:33: UserWarning: marker is redundantly defined by the 'marker' keyword argument and the fmt string \".\" (-> marker='.'). The keyword argument will take precedence.\n",
      "\u001b[2m\u001b[36m(plot_frame_img pid=130502)\u001b[0m /tmp/ipykernel_41387/3741962776.py:43: UserWarning: This figure was using constrained_layout, but that is incompatible with subplots_adjust and/or tight_layout; disabling constrained_layout.\n",
      "\u001b[2m\u001b[36m(plot_frame_img pid=139487)\u001b[0m /tmp/ipykernel_41387/3741962776.py:33: UserWarning: marker is redundantly defined by the 'marker' keyword argument and the fmt string \".\" (-> marker='.'). The keyword argument will take precedence.\n",
      "\u001b[2m\u001b[36m(plot_frame_img pid=166924)\u001b[0m /tmp/ipykernel_41387/3741962776.py:33: UserWarning: marker is redundantly defined by the 'marker' keyword argument and the fmt string \".\" (-> marker='.'). The keyword argument will take precedence.\n",
      "\u001b[2m\u001b[36m(plot_frame_img pid=166924)\u001b[0m /tmp/ipykernel_41387/3741962776.py:43: UserWarning: This figure was using constrained_layout, but that is incompatible with subplots_adjust and/or tight_layout; disabling constrained_layout.\n",
      "\u001b[2m\u001b[36m(plot_frame_img pid=168385)\u001b[0m /tmp/ipykernel_41387/3741962776.py:33: UserWarning: marker is redundantly defined by the 'marker' keyword argument and the fmt string \".\" (-> marker='.'). The keyword argument will take precedence.\n",
      "\u001b[2m\u001b[36m(plot_frame_img pid=172261)\u001b[0m /tmp/ipykernel_41387/3741962776.py:33: UserWarning: marker is redundantly defined by the 'marker' keyword argument and the fmt string \".\" (-> marker='.'). The keyword argument will take precedence.\n",
      "\u001b[2m\u001b[36m(plot_frame_img pid=172261)\u001b[0m /tmp/ipykernel_41387/3741962776.py:43: UserWarning: This figure was using constrained_layout, but that is incompatible with subplots_adjust and/or tight_layout; disabling constrained_layout.\n",
      "\u001b[2m\u001b[36m(plot_frame_img pid=41667)\u001b[0m /tmp/ipykernel_41387/3741962776.py:33: UserWarning: marker is redundantly defined by the 'marker' keyword argument and the fmt string \".\" (-> marker='.'). The keyword argument will take precedence.\n",
      "\u001b[2m\u001b[36m(plot_frame_img pid=41661)\u001b[0m /tmp/ipykernel_41387/3741962776.py:33: UserWarning: marker is redundantly defined by the 'marker' keyword argument and the fmt string \".\" (-> marker='.'). The keyword argument will take precedence.\n",
      "\u001b[2m\u001b[36m(plot_frame_img pid=139487)\u001b[0m /tmp/ipykernel_41387/3741962776.py:43: UserWarning: This figure was using constrained_layout, but that is incompatible with subplots_adjust and/or tight_layout; disabling constrained_layout.\n",
      "\u001b[2m\u001b[36m(plot_frame_img pid=41662)\u001b[0m /tmp/ipykernel_41387/3741962776.py:33: UserWarning: marker is redundantly defined by the 'marker' keyword argument and the fmt string \".\" (-> marker='.'). The keyword argument will take precedence.\n",
      "\u001b[2m\u001b[36m(plot_frame_img pid=41667)\u001b[0m /tmp/ipykernel_41387/3741962776.py:43: UserWarning: This figure was using constrained_layout, but that is incompatible with subplots_adjust and/or tight_layout; disabling constrained_layout.\n",
      "\u001b[2m\u001b[36m(plot_frame_img pid=41661)\u001b[0m /tmp/ipykernel_41387/3741962776.py:43: UserWarning: This figure was using constrained_layout, but that is incompatible with subplots_adjust and/or tight_layout; disabling constrained_layout.\n",
      "\u001b[2m\u001b[36m(plot_frame_img pid=41663)\u001b[0m /tmp/ipykernel_41387/3741962776.py:33: UserWarning: marker is redundantly defined by the 'marker' keyword argument and the fmt string \".\" (-> marker='.'). The keyword argument will take precedence.\n",
      "\u001b[2m\u001b[36m(plot_frame_img pid=41663)\u001b[0m /tmp/ipykernel_41387/3741962776.py:43: UserWarning: This figure was using constrained_layout, but that is incompatible with subplots_adjust and/or tight_layout; disabling constrained_layout.\n",
      "\u001b[2m\u001b[36m(plot_frame_img pid=41669)\u001b[0m /tmp/ipykernel_41387/3741962776.py:33: UserWarning: marker is redundantly defined by the 'marker' keyword argument and the fmt string \".\" (-> marker='.'). The keyword argument will take precedence.\n",
      "\u001b[2m\u001b[36m(plot_frame_img pid=41669)\u001b[0m /tmp/ipykernel_41387/3741962776.py:43: UserWarning: This figure was using constrained_layout, but that is incompatible with subplots_adjust and/or tight_layout; disabling constrained_layout.\n",
      "\u001b[2m\u001b[36m(plot_frame_img pid=41672)\u001b[0m /tmp/ipykernel_41387/3741962776.py:33: UserWarning: marker is redundantly defined by the 'marker' keyword argument and the fmt string \".\" (-> marker='.'). The keyword argument will take precedence.\n",
      "\u001b[2m\u001b[36m(plot_frame_img pid=41672)\u001b[0m /tmp/ipykernel_41387/3741962776.py:43: UserWarning: This figure was using constrained_layout, but that is incompatible with subplots_adjust and/or tight_layout; disabling constrained_layout.\n",
      "\u001b[2m\u001b[36m(plot_frame_img pid=115373)\u001b[0m /tmp/ipykernel_41387/3741962776.py:43: UserWarning: This figure was using constrained_layout, but that is incompatible with subplots_adjust and/or tight_layout; disabling constrained_layout.\n",
      "\u001b[2m\u001b[36m(plot_frame_img pid=118188)\u001b[0m /tmp/ipykernel_41387/3741962776.py:43: UserWarning: This figure was using constrained_layout, but that is incompatible with subplots_adjust and/or tight_layout; disabling constrained_layout.\n",
      "\u001b[2m\u001b[36m(plot_frame_img pid=121740)\u001b[0m /tmp/ipykernel_41387/3741962776.py:33: UserWarning: marker is redundantly defined by the 'marker' keyword argument and the fmt string \".\" (-> marker='.'). The keyword argument will take precedence.\n",
      "\u001b[2m\u001b[36m(plot_frame_img pid=127621)\u001b[0m /tmp/ipykernel_41387/3741962776.py:33: UserWarning: marker is redundantly defined by the 'marker' keyword argument and the fmt string \".\" (-> marker='.'). The keyword argument will take precedence.\n",
      "\u001b[2m\u001b[36m(plot_frame_img pid=127621)\u001b[0m /tmp/ipykernel_41387/3741962776.py:43: UserWarning: This figure was using constrained_layout, but that is incompatible with subplots_adjust and/or tight_layout; disabling constrained_layout.\n",
      "\u001b[2m\u001b[36m(plot_frame_img pid=136524)\u001b[0m /tmp/ipykernel_41387/3741962776.py:33: UserWarning: marker is redundantly defined by the 'marker' keyword argument and the fmt string \".\" (-> marker='.'). The keyword argument will take precedence.\n",
      "\u001b[2m\u001b[36m(plot_frame_img pid=138040)\u001b[0m /tmp/ipykernel_41387/3741962776.py:33: UserWarning: marker is redundantly defined by the 'marker' keyword argument and the fmt string \".\" (-> marker='.'). The keyword argument will take precedence.\n",
      "\u001b[2m\u001b[36m(plot_frame_img pid=168385)\u001b[0m /tmp/ipykernel_41387/3741962776.py:43: UserWarning: This figure was using constrained_layout, but that is incompatible with subplots_adjust and/or tight_layout; disabling constrained_layout.\n",
      "\u001b[2m\u001b[36m(plot_frame_img pid=41662)\u001b[0m /tmp/ipykernel_41387/3741962776.py:43: UserWarning: This figure was using constrained_layout, but that is incompatible with subplots_adjust and/or tight_layout; disabling constrained_layout.\n",
      "\u001b[2m\u001b[36m(plot_frame_img pid=41665)\u001b[0m /tmp/ipykernel_41387/3741962776.py:33: UserWarning: marker is redundantly defined by the 'marker' keyword argument and the fmt string \".\" (-> marker='.'). The keyword argument will take precedence.\n",
      "\u001b[2m\u001b[36m(plot_frame_img pid=41671)\u001b[0m /tmp/ipykernel_41387/3741962776.py:33: UserWarning: marker is redundantly defined by the 'marker' keyword argument and the fmt string \".\" (-> marker='.'). The keyword argument will take precedence.\n",
      "\u001b[2m\u001b[36m(plot_frame_img pid=41671)\u001b[0m /tmp/ipykernel_41387/3741962776.py:43: UserWarning: This figure was using constrained_layout, but that is incompatible with subplots_adjust and/or tight_layout; disabling constrained_layout.\n",
      "\u001b[2m\u001b[36m(plot_frame_img pid=121740)\u001b[0m /tmp/ipykernel_41387/3741962776.py:43: UserWarning: This figure was using constrained_layout, but that is incompatible with subplots_adjust and/or tight_layout; disabling constrained_layout.\n",
      "\u001b[2m\u001b[36m(plot_frame_img pid=130502)\u001b[0m /tmp/ipykernel_41387/3741962776.py:33: UserWarning: marker is redundantly defined by the 'marker' keyword argument and the fmt string \".\" (-> marker='.'). The keyword argument will take precedence.\n",
      "\u001b[2m\u001b[36m(plot_frame_img pid=136524)\u001b[0m /tmp/ipykernel_41387/3741962776.py:43: UserWarning: This figure was using constrained_layout, but that is incompatible with subplots_adjust and/or tight_layout; disabling constrained_layout.\n",
      "\u001b[2m\u001b[36m(plot_frame_img pid=138040)\u001b[0m /tmp/ipykernel_41387/3741962776.py:43: UserWarning: This figure was using constrained_layout, but that is incompatible with subplots_adjust and/or tight_layout; disabling constrained_layout.\n",
      "\u001b[2m\u001b[36m(plot_frame_img pid=166924)\u001b[0m /tmp/ipykernel_41387/3741962776.py:33: UserWarning: marker is redundantly defined by the 'marker' keyword argument and the fmt string \".\" (-> marker='.'). The keyword argument will take precedence.\n",
      "\u001b[2m\u001b[36m(plot_frame_img pid=170805)\u001b[0m /tmp/ipykernel_41387/3741962776.py:33: UserWarning: marker is redundantly defined by the 'marker' keyword argument and the fmt string \".\" (-> marker='.'). The keyword argument will take precedence.\n",
      "\u001b[2m\u001b[36m(plot_frame_img pid=170805)\u001b[0m /tmp/ipykernel_41387/3741962776.py:43: UserWarning: This figure was using constrained_layout, but that is incompatible with subplots_adjust and/or tight_layout; disabling constrained_layout.\n",
      "\u001b[2m\u001b[36m(plot_frame_img pid=41667)\u001b[0m /tmp/ipykernel_41387/3741962776.py:33: UserWarning: marker is redundantly defined by the 'marker' keyword argument and the fmt string \".\" (-> marker='.'). The keyword argument will take precedence.\n",
      "\u001b[2m\u001b[36m(plot_frame_img pid=41661)\u001b[0m /tmp/ipykernel_41387/3741962776.py:33: UserWarning: marker is redundantly defined by the 'marker' keyword argument and the fmt string \".\" (-> marker='.'). The keyword argument will take precedence.\n",
      "\u001b[2m\u001b[36m(plot_frame_img pid=41661)\u001b[0m /tmp/ipykernel_41387/3741962776.py:43: UserWarning: This figure was using constrained_layout, but that is incompatible with subplots_adjust and/or tight_layout; disabling constrained_layout.\n",
      "\u001b[2m\u001b[36m(plot_frame_img pid=41665)\u001b[0m /tmp/ipykernel_41387/3741962776.py:43: UserWarning: This figure was using constrained_layout, but that is incompatible with subplots_adjust and/or tight_layout; disabling constrained_layout.\n",
      "\u001b[2m\u001b[36m(plot_frame_img pid=115373)\u001b[0m /tmp/ipykernel_41387/3741962776.py:33: UserWarning: marker is redundantly defined by the 'marker' keyword argument and the fmt string \".\" (-> marker='.'). The keyword argument will take precedence.\n",
      "\u001b[2m\u001b[36m(plot_frame_img pid=118188)\u001b[0m /tmp/ipykernel_41387/3741962776.py:33: UserWarning: marker is redundantly defined by the 'marker' keyword argument and the fmt string \".\" (-> marker='.'). The keyword argument will take precedence.\n",
      "\u001b[2m\u001b[36m(plot_frame_img pid=127621)\u001b[0m /tmp/ipykernel_41387/3741962776.py:33: UserWarning: marker is redundantly defined by the 'marker' keyword argument and the fmt string \".\" (-> marker='.'). The keyword argument will take precedence.\n",
      "\u001b[2m\u001b[36m(plot_frame_img pid=130502)\u001b[0m /tmp/ipykernel_41387/3741962776.py:43: UserWarning: This figure was using constrained_layout, but that is incompatible with subplots_adjust and/or tight_layout; disabling constrained_layout.\n",
      "\u001b[2m\u001b[36m(plot_frame_img pid=139487)\u001b[0m /tmp/ipykernel_41387/3741962776.py:33: UserWarning: marker is redundantly defined by the 'marker' keyword argument and the fmt string \".\" (-> marker='.'). The keyword argument will take precedence.\n",
      "\u001b[2m\u001b[36m(plot_frame_img pid=139487)\u001b[0m /tmp/ipykernel_41387/3741962776.py:43: UserWarning: This figure was using constrained_layout, but that is incompatible with subplots_adjust and/or tight_layout; disabling constrained_layout.\n",
      "\u001b[2m\u001b[36m(plot_frame_img pid=166924)\u001b[0m /tmp/ipykernel_41387/3741962776.py:43: UserWarning: This figure was using constrained_layout, but that is incompatible with subplots_adjust and/or tight_layout; disabling constrained_layout.\n",
      "\u001b[2m\u001b[36m(plot_frame_img pid=168385)\u001b[0m /tmp/ipykernel_41387/3741962776.py:33: UserWarning: marker is redundantly defined by the 'marker' keyword argument and the fmt string \".\" (-> marker='.'). The keyword argument will take precedence.\n",
      "\u001b[2m\u001b[36m(plot_frame_img pid=168385)\u001b[0m /tmp/ipykernel_41387/3741962776.py:43: UserWarning: This figure was using constrained_layout, but that is incompatible with subplots_adjust and/or tight_layout; disabling constrained_layout.\n",
      "\u001b[2m\u001b[36m(plot_frame_img pid=172261)\u001b[0m /tmp/ipykernel_41387/3741962776.py:33: UserWarning: marker is redundantly defined by the 'marker' keyword argument and the fmt string \".\" (-> marker='.'). The keyword argument will take precedence.\n",
      "\u001b[2m\u001b[36m(plot_frame_img pid=172261)\u001b[0m /tmp/ipykernel_41387/3741962776.py:43: UserWarning: This figure was using constrained_layout, but that is incompatible with subplots_adjust and/or tight_layout; disabling constrained_layout.\n",
      "\u001b[2m\u001b[36m(plot_frame_img pid=41667)\u001b[0m /tmp/ipykernel_41387/3741962776.py:43: UserWarning: This figure was using constrained_layout, but that is incompatible with subplots_adjust and/or tight_layout; disabling constrained_layout.\n",
      "\u001b[2m\u001b[36m(plot_frame_img pid=41669)\u001b[0m /tmp/ipykernel_41387/3741962776.py:33: UserWarning: marker is redundantly defined by the 'marker' keyword argument and the fmt string \".\" (-> marker='.'). The keyword argument will take precedence.\n",
      "\u001b[2m\u001b[36m(plot_frame_img pid=41663)\u001b[0m /tmp/ipykernel_41387/3741962776.py:33: UserWarning: marker is redundantly defined by the 'marker' keyword argument and the fmt string \".\" (-> marker='.'). The keyword argument will take precedence.\n",
      "\u001b[2m\u001b[36m(plot_frame_img pid=41663)\u001b[0m /tmp/ipykernel_41387/3741962776.py:43: UserWarning: This figure was using constrained_layout, but that is incompatible with subplots_adjust and/or tight_layout; disabling constrained_layout.\n",
      "\u001b[2m\u001b[36m(plot_frame_img pid=41669)\u001b[0m /tmp/ipykernel_41387/3741962776.py:43: UserWarning: This figure was using constrained_layout, but that is incompatible with subplots_adjust and/or tight_layout; disabling constrained_layout.\n",
      "\u001b[2m\u001b[36m(plot_frame_img pid=41672)\u001b[0m /tmp/ipykernel_41387/3741962776.py:33: UserWarning: marker is redundantly defined by the 'marker' keyword argument and the fmt string \".\" (-> marker='.'). The keyword argument will take precedence.\n",
      "\u001b[2m\u001b[36m(plot_frame_img pid=41672)\u001b[0m /tmp/ipykernel_41387/3741962776.py:43: UserWarning: This figure was using constrained_layout, but that is incompatible with subplots_adjust and/or tight_layout; disabling constrained_layout.\n",
      "\u001b[2m\u001b[36m(plot_frame_img pid=115373)\u001b[0m /tmp/ipykernel_41387/3741962776.py:43: UserWarning: This figure was using constrained_layout, but that is incompatible with subplots_adjust and/or tight_layout; disabling constrained_layout.\n",
      "\u001b[2m\u001b[36m(plot_frame_img pid=118188)\u001b[0m /tmp/ipykernel_41387/3741962776.py:43: UserWarning: This figure was using constrained_layout, but that is incompatible with subplots_adjust and/or tight_layout; disabling constrained_layout.\n",
      "\u001b[2m\u001b[36m(plot_frame_img pid=127621)\u001b[0m /tmp/ipykernel_41387/3741962776.py:43: UserWarning: This figure was using constrained_layout, but that is incompatible with subplots_adjust and/or tight_layout; disabling constrained_layout.\n"
     ]
    }
   ],
   "source": [
    "# Loop over parameters appending process ids\n",
    "result_ids = []\n",
    "for f in range(numFr):\n",
    "    startFr = np.argmin(np.abs(worldvidT-t_start))\n",
    "    currentT = worldvidT[startFr+f]\n",
    "    \n",
    "    result_ids.append(plot_frame_img.remote(currentT, t_start, tlen, spikeT_r, saccT_r,\n",
    "                   eyevid_r, eyevidT_r, worldvid_r, worldvidT_r, actor))\n",
    "    \n",
    "# Progressbar and get results\n",
    "pb.print_until_done()\n",
    "results_p = ray.get(result_ids)\n",
    "images = np.stack([results_p[i] for i in range(len(results_p))])\n",
    "\n",
    "# Make video with opencv\n",
    "savepath = '/home/niell_lab/Desktop/raster_animation_13_3_font_update.mp4'\n",
    "FPS = 15 # 60 or 15 for slowed down x4\n",
    "out = cv2.VideoWriter(savepath, cv2.VideoWriter_fourcc(*'mp4v'), FPS, (images.shape[-2], images.shape[-3]))\n",
    "\n",
    "for f in range(images.shape[0]):\n",
    "    out.write(cv2.cvtColor(images[f], cv2.COLOR_BGR2RGB))\n",
    "out.release()"
   ]
  },
  {
   "cell_type": "code",
   "execution_count": null,
   "id": "5c1ef71a-ee61-4139-9351-486a7f9fba01",
   "metadata": {},
   "outputs": [],
   "source": []
  },
  {
   "cell_type": "code",
   "execution_count": null,
   "id": "51546ea6-255a-4feb-9ea8-adeea1f395fa",
   "metadata": {},
   "outputs": [],
   "source": []
  },
  {
   "cell_type": "code",
   "execution_count": null,
   "id": "0e209a28-fa99-4ff9-b516-4629320255e1",
   "metadata": {},
   "outputs": [],
   "source": []
  },
  {
   "cell_type": "code",
   "execution_count": null,
   "id": "c6f885f2-10ed-4097-a02f-acdca0fa73c9",
   "metadata": {},
   "outputs": [],
   "source": [
    "import subprocess"
   ]
  },
  {
   "cell_type": "code",
   "execution_count": null,
   "id": "19be881b-13d2-4b80-a63b-54eda8b2bcf7",
   "metadata": {},
   "outputs": [],
   "source": [
    "video_path = '/home/niell_lab/Desktop/first_2min_x4.mp4'\n",
    "audio_path = '/home/niell_lab/Data/demo_video/phil_test4.wav'\n",
    "audvid_path = '/home/niell_lab/Data/demo_video/first_2min_x4_merge.mp4'"
   ]
  },
  {
   "cell_type": "code",
   "execution_count": null,
   "id": "c75eabbc-92bd-4c2b-b6c3-c2c5b9f9f752",
   "metadata": {},
   "outputs": [],
   "source": [
    "subprocess.call(['ffmpeg', '-i', video_path, '-i', audio_path, '-c:v', 'copy', '-c:a', 'aac', '-y', audvid_path])"
   ]
  },
  {
   "cell_type": "code",
   "execution_count": null,
   "id": "417a40ec-b723-436d-82bb-6ca26e73b767",
   "metadata": {},
   "outputs": [],
   "source": []
  },
  {
   "cell_type": "code",
   "execution_count": null,
   "id": "ec2577fb-1ded-4a41-967b-58f7434fd846",
   "metadata": {},
   "outputs": [],
   "source": []
  },
  {
   "cell_type": "code",
   "execution_count": null,
   "id": "1618841c-515d-4c48-a62a-3f1091bc4230",
   "metadata": {},
   "outputs": [],
   "source": [
    "currentT = 40\n",
    "worldFr = np.argmin(np.abs(worldvidT-currentT))\n",
    "eyeFr = np.argmin(np.abs(eyevidT-currentT))\n",
    "print(currentT, worldvidT[worldFr], eyevidT[eyeFr])"
   ]
  },
  {
   "cell_type": "code",
   "execution_count": null,
   "id": "d41de7d8-c6bf-47c9-85ff-6c7b0f298da0",
   "metadata": {},
   "outputs": [],
   "source": []
  },
  {
   "cell_type": "code",
   "execution_count": null,
   "id": "38ecc5f7-1a61-4669-afa8-8ba08f673d89",
   "metadata": {},
   "outputs": [],
   "source": []
  },
  {
   "cell_type": "code",
   "execution_count": null,
   "id": "28e29cf7-be41-4eff-800a-a36281ba0fe8",
   "metadata": {},
   "outputs": [],
   "source": [
    "fig = plt.figure(constrained_layout=True, figsize=(6,6), dpi=100)\n",
    "spec = fig.add_gridspec(ncols=2, nrows=3)\n",
    "\n",
    "ax_eyecam = fig.add_subplot(spec[0,0])\n",
    "ax_worldcam = fig.add_subplot(spec[0,1])\n",
    "ax_raster = fig.add_subplot(spec[1:,:])\n",
    "\n",
    "plot_t0 = 41.1 # sec\n",
    "plot_tlen = 1\n",
    "currentT = 41.31\n",
    "\n",
    "worldFr = np.argmin(np.abs(worldvidT-currentT))\n",
    "eyeFr = np.argmin(np.abs(eyevidT-currentT))\n",
    "\n",
    "for i, sps in spikeT.items():\n",
    "    sps = sps[(sps>plot_t0) * (sps<(plot_t0+plot_tlen))]\n",
    "    ax_raster.plot(sps, np.ones(len(sps))*i, '|', color='k', markersize=3)\n",
    "ax_raster.set_ylim([len(ephys.index.values)+1,-2])\n",
    "ax_raster.set_xlim([plot_t0, plot_t0+plot_tlen])\n",
    "ax_raster.set_xticks(np.arange(plot_t0, plot_t0+plot_tlen+0.25, 0.25))\n",
    "ax_raster.set_xticklabels((np.arange(0, plot_tlen+0.25, 0.25)*1000).astype(int))\n",
    "ax_raster.set_ylabel('cells')\n",
    "ax_raster.set_xlabel('time (ms)')\n",
    "ax_raster.spines['right'].set_visible(False)\n",
    "ax_raster.spines['top'].set_visible(False)\n",
    "\n",
    "ax_raster.vlines(currentT, -2, len(ephys.index.values)+2, color='tab:blue')\n",
    "\n",
    "# show saccades\n",
    "show_saccT = saccT[(saccT>plot_t0) * (saccT<(plot_t0+plot_tlen))]\n",
    "ax_raster.vlines(show_saccT, -2, len(ephys.index.values)+2, color='tab:red')\n",
    "\n",
    "# eyecam\n",
    "ax_eyecam.imshow(eyevid[eyeFr,217:,150:500].astype(np.uint8), cmap='gray')\n",
    "ax_eyecam.axis('off')\n",
    "\n",
    "# worldcam\n",
    "ax_worldcam.imshow(worldvid[worldFr,:,:], cmap='gray')\n",
    "ax_worldcam.axis('off')\n",
    "\n",
    "width, height = fig.get_size_inches() * fig.get_dpi()\n",
    "fig.canvas.draw() # draw the canvas, cache the renderer\n",
    "images = np.frombuffer(fig.canvas.tostring_rgb(),\n",
    "                dtype='uint8').reshape(int(height), int(width), 3)\n"
   ]
  },
  {
   "cell_type": "code",
   "execution_count": null,
   "id": "dd49f7ff-e7d1-4303-bdab-503a6074d68e",
   "metadata": {},
   "outputs": [],
   "source": [
    "# @ray.remote\n",
    "def plot_frame_img(currentT, plot_t0, plot_tlen, spikeT, saccT,\n",
    "                   eyevid, eyevidT, worldvid, worldvidT, dGaze):\n",
    "                   # pbar:ActorHandle,):\n",
    "    \n",
    "    fig = plt.figure(constrained_layout=True, figsize=(6,6), dpi=100)\n",
    "    spec = fig.add_gridspec(ncols=2, nrows=5)\n",
    "\n",
    "    ax_eyecam = fig.add_subplot(spec[:2,0])\n",
    "    ax_worldcam = fig.add_subplot(spec[:2,1])\n",
    "    ax_dEye = fig.add_subplot(spec[2,:])\n",
    "    ax_raster = fig.add_subplot(spec[3:,:])\n",
    "\n",
    "    worldFr = np.argmin(np.abs(worldvidT-currentT))\n",
    "    eyeFr = np.argmin(np.abs(eyevidT-currentT))\n",
    "\n",
    "    for i, sps in spikeT.items():\n",
    "        sps = sps[(sps>plot_t0) * (sps<(plot_t0+plot_tlen))]\n",
    "        ax_raster.plot(sps, np.ones(len(sps))*i, '|', color='k', markersize=3)\n",
    "    ax_raster.set_ylim([len(spikeT.keys())+1,-2])\n",
    "    ax_raster.set_xlim([plot_t0, plot_t0+plot_tlen])\n",
    "    ax_raster.set_xticks(np.arange(plot_t0, plot_t0+plot_tlen+0.25, 0.25))\n",
    "    ax_raster.set_xticklabels((np.arange(0, plot_tlen+0.25, 0.25)*1000).astype(int))\n",
    "    ax_raster.set_ylabel('cells')\n",
    "    ax_raster.set_xlabel('time (ms)')\n",
    "    ax_raster.spines['right'].set_visible(False)\n",
    "    ax_raster.spines['top'].set_visible(False)\n",
    "    \n",
    "    ax_dEye.plot(eyevidT[:-1], dGaze)\n",
    "    ax_dEye.set_ylim([-500,500])\n",
    "    ax_dEye.set_xlim([plot_t0, plot_t0+plot_tlen])\n",
    "    ax_dEye.set_xticks(np.arange(plot_t0, plot_t0+plot_tlen+1, 1))\n",
    "    ax_dEye.set_xticklabels((np.arange(0, plot_tlen+1, 1)).astype(int))\n",
    "\n",
    "    ax_raster.vlines(currentT, -2, len(ephys.index.values)+2, color='tab:blue')\n",
    "\n",
    "    # show saccades\n",
    "    show_saccT = saccT[(saccT>plot_t0) * (saccT<(plot_t0+plot_tlen))]\n",
    "    ax_raster.vlines(show_saccT, -2, len(ephys.index.values)+2, color='tab:red')\n",
    "    ax_dEye.vlines(show_saccT, -1000, 1000, color='tab:red')\n",
    "\n",
    "    # eyecam\n",
    "    ax_eyecam.imshow(eyevid[eyeFr,217:,150:500].astype(np.uint8), cmap='gray')\n",
    "    ax_eyecam.axis('off')\n",
    "\n",
    "    # worldcam\n",
    "    ax_worldcam.imshow(worldvid[worldFr,:,:], cmap='gray')\n",
    "    ax_worldcam.axis('off')\n",
    "\n",
    "    plt.tight_layout()\n",
    "\n",
    "    width, height = fig.get_size_inches() * fig.get_dpi()\n",
    "    fig.canvas.draw() # draw the canvas, cache the renderer\n",
    "    images = np.frombuffer(fig.canvas.tostring_rgb(),\n",
    "                    dtype='uint8').reshape(int(height), int(width), 3)\n",
    "\n",
    "    # del show_saccT, sps, worldFr, eyeFr\n",
    "    \n",
    "    # plt.close()\n",
    "    # pbar.update.remote(1)\n",
    "    # return images\n",
    "    # fig.imshow()"
   ]
  },
  {
   "cell_type": "code",
   "execution_count": 35,
   "id": "ea1d0479-878d-4344-8d59-ebef86c2c5dd",
   "metadata": {},
   "outputs": [],
   "source": [
    "save_spikes = {}\n",
    "plot_t0 = 13\n",
    "plot_tlen = 3\n",
    "for i, sps in spikeT.items():\n",
    "    sps = sps[(sps>plot_t0) * (sps<(plot_t0+plot_tlen))]\n",
    "    sps = sps - plot_t0\n",
    "    save_spikes[i] = list(sps)"
   ]
  },
  {
   "cell_type": "code",
   "execution_count": 36,
   "id": "96f32580-9cb8-4aac-b60d-51cc7a2c3acb",
   "metadata": {},
   "outputs": [],
   "source": [
    "import json\n",
    "with open('/home/niell_lab/Data/demo_video/spikeT_13_to_16.json', 'w') as f:\n",
    "    json.dump(save_spikes, f)"
   ]
  },
  {
   "cell_type": "code",
   "execution_count": 33,
   "id": "0b6af11f-c6a4-43b6-b70d-e10ddd5ac8ee",
   "metadata": {},
   "outputs": [],
   "source": [
    "save_saccT = {}\n",
    "plot_t0 = 13\n",
    "plot_tlen = 3\n",
    "s = saccT[(saccT>plot_t0) * (saccT<(plot_t0+plot_tlen))]\n",
    "s = s - plot_t0\n",
    "save_saccT['gazeshift'] = list(s)"
   ]
  },
  {
   "cell_type": "code",
   "execution_count": 34,
   "id": "9e8d2efc-2e39-4edd-aef0-90ddc75054fe",
   "metadata": {},
   "outputs": [],
   "source": [
    "with open('/home/niell_lab/Data/demo_video/saccT_13_to_16.json', 'w') as f:\n",
    "    json.dump(save_saccT, f)"
   ]
  },
  {
   "cell_type": "code",
   "execution_count": null,
   "id": "46c82623-8326-4c80-8979-42776a5be9cb",
   "metadata": {},
   "outputs": [],
   "source": []
  },
  {
   "cell_type": "code",
   "execution_count": null,
   "id": "037912e4-1a1d-4784-8f88-8ae3987b91f8",
   "metadata": {},
   "outputs": [],
   "source": []
  },
  {
   "cell_type": "code",
   "execution_count": null,
   "id": "5bb3b830-03a5-4c79-8034-d71feebca820",
   "metadata": {},
   "outputs": [],
   "source": [
    "import cv2"
   ]
  },
  {
   "cell_type": "code",
   "execution_count": null,
   "id": "98021414-d91b-46fe-89ee-d4991005387c",
   "metadata": {},
   "outputs": [],
   "source": [
    "np.min(worldvid[100,:,:])"
   ]
  },
  {
   "cell_type": "code",
   "execution_count": null,
   "id": "71af2b01-f5c2-4538-9360-3f7d63dc1969",
   "metadata": {},
   "outputs": [],
   "source": [
    "np.max(worldvid[100,:,:])"
   ]
  },
  {
   "cell_type": "code",
   "execution_count": null,
   "id": "21ae7512-9de1-4112-9a6e-76b8df829d53",
   "metadata": {},
   "outputs": [],
   "source": [
    "%matplotlib inline"
   ]
  },
  {
   "cell_type": "code",
   "execution_count": null,
   "id": "e0475b7a-6c45-470a-a360-fd56fdda9505",
   "metadata": {},
   "outputs": [],
   "source": [
    "plt.imshow(worldvid[100,:,:])"
   ]
  },
  {
   "cell_type": "code",
   "execution_count": null,
   "id": "32a05a9c-4141-4b83-a402-76abad486513",
   "metadata": {},
   "outputs": [],
   "source": [
    "wc = worldvid.copy()\n",
    "wc = wc + np.abs(np.nanmin(wc))\n",
    "wc = wc / np.nanmax(wc)\n",
    "wc = 255 * wc"
   ]
  },
  {
   "cell_type": "code",
   "execution_count": null,
   "id": "56e7495c-0ab5-4466-b51e-a843ee9547c2",
   "metadata": {},
   "outputs": [],
   "source": [
    "wc = wc.astype(np.uint8)"
   ]
  },
  {
   "cell_type": "code",
   "execution_count": null,
   "id": "06dc93d2-a60c-4e9d-a808-b5d1b1d21a81",
   "metadata": {},
   "outputs": [],
   "source": [
    "out = cv2.VideoWriter('/home/niell_lab/Desktop/shifted_worldcam.mp4', cv2.VideoWriter_fourcc(*'mp4v'), 60, (80, 60), False)\n",
    "for f in range(np.size(wc,0)):\n",
    "    out.write(wc[f,:,:])\n",
    "out.release()"
   ]
  },
  {
   "cell_type": "code",
   "execution_count": null,
   "id": "eb114c5b-e4e4-4fc6-9c29-e48e749822c8",
   "metadata": {},
   "outputs": [],
   "source": [
    "last = []\n",
    "for i, sps in spikeT.items():\n",
    "    last.append(np.nanmax(sps))"
   ]
  },
  {
   "cell_type": "code",
   "execution_count": null,
   "id": "e9e289da-4d29-4a9d-bf23-c206797c1b8b",
   "metadata": {},
   "outputs": [],
   "source": [
    "np.max(last) / 60"
   ]
  },
  {
   "cell_type": "code",
   "execution_count": null,
   "id": "c338ac9d-a99a-401c-9699-a04b433e7192",
   "metadata": {},
   "outputs": [],
   "source": [
    "eyevidT.max() - np.max(last)"
   ]
  },
  {
   "cell_type": "code",
   "execution_count": null,
   "id": "27be6169-2550-47ce-9896-ac82469a29cb",
   "metadata": {},
   "outputs": [],
   "source": []
  },
  {
   "cell_type": "code",
   "execution_count": null,
   "id": "22c1c07d-afee-4f6d-8562-14addecfbd2e",
   "metadata": {},
   "outputs": [],
   "source": [
    "worldvidT.max() / 60"
   ]
  },
  {
   "cell_type": "code",
   "execution_count": null,
   "id": "64b480f5-5baf-487d-95d3-117199808848",
   "metadata": {},
   "outputs": [],
   "source": [
    "np.linspace(0, np.max())"
   ]
  },
  {
   "cell_type": "code",
   "execution_count": null,
   "id": "8422062c-b754-423f-ab54-c69c38854174",
   "metadata": {},
   "outputs": [],
   "source": [
    "np.diff(worldvidT)"
   ]
  },
  {
   "cell_type": "code",
   "execution_count": null,
   "id": "ce95808c-097c-4c98-953c-1198ef79bca3",
   "metadata": {},
   "outputs": [],
   "source": [
    "np.size(worldvidT) / 60 / 60"
   ]
  },
  {
   "cell_type": "code",
   "execution_count": null,
   "id": "9f057380-2ad2-461f-abc9-9530fff92245",
   "metadata": {},
   "outputs": [],
   "source": [
    "plt.plot(np.diff(eyevidT))\n",
    "plt.xlim([0, 120])\n",
    "plt.ylabel('diff(eyeT)')\n",
    "plt.xlabel('frame')\n",
    "# plt.hlines(0.016, 0, 120, 'k', alpha=0.3)"
   ]
  },
  {
   "cell_type": "code",
   "execution_count": null,
   "id": "3d34fb2e-cad5-4840-b30f-1c630a687628",
   "metadata": {},
   "outputs": [],
   "source": [
    "(1/60)*4"
   ]
  },
  {
   "cell_type": "code",
   "execution_count": null,
   "id": "f43740e3-fbc7-4ae8-b92b-5053c6664063",
   "metadata": {},
   "outputs": [],
   "source": [
    "*4"
   ]
  },
  {
   "cell_type": "code",
   "execution_count": null,
   "id": "7dc57295-6033-4f01-ac74-8cfa5de8e186",
   "metadata": {},
   "outputs": [],
   "source": []
  }
 ],
 "metadata": {
  "kernelspec": {
   "display_name": "Python [conda env:ephys0r]",
   "language": "python",
   "name": "conda-env-ephys0r-py"
  },
  "language_info": {
   "codemirror_mode": {
    "name": "ipython",
    "version": 3
   },
   "file_extension": ".py",
   "mimetype": "text/x-python",
   "name": "python",
   "nbconvert_exporter": "python",
   "pygments_lexer": "ipython3",
   "version": "3.8.12"
  }
 },
 "nbformat": 4,
 "nbformat_minor": 5
}
