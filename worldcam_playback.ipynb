{
 "cells": [
  {
   "cell_type": "markdown",
   "id": "e765abc0-13c9-4cc7-83b1-35c852a9cad3",
   "metadata": {},
   "source": [
    "# Imports"
   ]
  },
  {
   "cell_type": "code",
   "execution_count": 19,
   "id": "6cc819d9-3328-479b-9dd1-502a2f41b08f",
   "metadata": {},
   "outputs": [],
   "source": [
    "import matplotlib.pyplot as plt\n",
    "import numpy as np\n",
    "import pandas as pd\n",
    "from tqdm import tqdm\n",
    "import cv2\n",
    "import os, json\n",
    "import xarray as xr\n",
    "from datetime import datetime\n",
    "from sklearn.neighbors import KernelDensity"
   ]
  },
  {
   "cell_type": "markdown",
   "id": "92511416-d308-404d-91d3-31accb5edd71",
   "metadata": {},
   "source": [
    "# Basic functions"
   ]
  },
  {
   "cell_type": "code",
   "execution_count": 2,
   "id": "af1aaa3d-6d15-49ae-a984-24cf84c484a5",
   "metadata": {},
   "outputs": [],
   "source": [
    "def read_timestamp_series(s):\n",
    "    output_time = []\n",
    "    fmt = '%H:%M:%S.%f'\n",
    "    if s.dtype != np.float64:\n",
    "        for current_time in s:\n",
    "            str_time = str(current_time).strip()\n",
    "            try:\n",
    "                t = datetime.strptime(str_time, fmt)\n",
    "            except ValueError as v:\n",
    "                ulr = len(v.args[0].partition('unconverted data remains: ')[2])\n",
    "                if ulr:\n",
    "                    str_time = str_time[:-ulr]\n",
    "            try:\n",
    "                output_time.append((datetime.strptime(str_time, '%H:%M:%S.%f') - datetime.strptime('00:00:00.000000', '%H:%M:%S.%f')).total_seconds())\n",
    "            except ValueError:\n",
    "                output_time.append(np.nan)\n",
    "        output_time = np.array(output_time)\n",
    "    else:\n",
    "        output_time = s.values\n",
    "    return output_time\n",
    "\n",
    "def read_timestamp_file(path):\n",
    "    # read data and set up format\n",
    "    s = pd.read_csv(path, encoding='utf-8', engine='c', header=None).squeeze()\n",
    "    if s[0] == 0:\n",
    "        s = s[1:]\n",
    "    camT = read_timestamp_series(s)\n",
    "    return camT\n",
    "\n",
    "def calc_PSTH(spikeT, eventT, bandwidth=10, resample_size=1, edgedrop=15, win=1000):\n",
    "    \"\"\"\n",
    "    calcualtes for a single cell at a time\n",
    "\n",
    "    bandwidth (msec)\n",
    "    resample_size (msec)\n",
    "    edgedrop (msec to drop at the start and end of the window so eliminate artifacts of filtering)\n",
    "    win = 1000msec before and after\n",
    "    \"\"\"\n",
    "\n",
    "    bandwidth = bandwidth / 1000\n",
    "    resample_size = resample_size / 1000\n",
    "    win = win / 1000\n",
    "    edgedrop = edgedrop / 1000\n",
    "    edgedrop_ind = int(edgedrop / resample_size)\n",
    "\n",
    "    bins = np.arange(-win-edgedrop, win+edgedrop+resample_size, resample_size)\n",
    "\n",
    "    # Timestamps of spikes (`sps`) relative to `eventT`\n",
    "    sps = []\n",
    "    for i, t in enumerate(eventT):\n",
    "        sp = spikeT-t\n",
    "        # Only keep spikes in this window\n",
    "        sp = sp[(sp <= (win+edgedrop)) & (sp >= (-win-edgedrop))] \n",
    "        sps.extend(sp)\n",
    "    sps = np.array(sps)\n",
    "\n",
    "    kernel = KernelDensity(kernel='gaussian', bandwidth=bandwidth).fit(sps[:, np.newaxis])\n",
    "    density = kernel.score_samples(bins[:, np.newaxis])\n",
    "\n",
    "    # Multiply by the # spikes to get spike count per point. Divide\n",
    "    # by # events for rate/event.\n",
    "    psth = np.exp(density) * (np.size(sps ) / np.size(eventT))\n",
    "\n",
    "    # Drop padding at start & end to eliminate edge effects.\n",
    "    psth = psth[edgedrop_ind:-edgedrop_ind]\n",
    "\n",
    "    return psth"
   ]
  },
  {
   "cell_type": "markdown",
   "id": "5f4d8470-6d97-4cbc-8360-3009aaed2400",
   "metadata": {},
   "source": [
    "# Paths"
   ]
  },
  {
   "cell_type": "code",
   "execution_count": 3,
   "id": "48eb6c71-4752-431e-9fe6-1112d4c4adf3",
   "metadata": {},
   "outputs": [],
   "source": [
    "recpath = '/home/niell_lab/Data/freely_moving_ephys/new_hf_stim/worldcam_playback/041422/J559RT/hf4_worldcam'"
   ]
  },
  {
   "cell_type": "markdown",
   "id": "0acc479c-4827-470f-be21-2af90284056b",
   "metadata": {},
   "source": [
    "# Frame times"
   ]
  },
  {
   "cell_type": "code",
   "execution_count": 5,
   "id": "9d545a8e-637f-419f-a9ed-4544b9572e3c",
   "metadata": {},
   "outputs": [],
   "source": [
    "imu_path = os.path.join(recpath, '041422_J599RT_control_Rig2_hf4_worldcam_IMU.bin')"
   ]
  },
  {
   "cell_type": "code",
   "execution_count": 6,
   "id": "3caaf45c-9f6a-41a5-a8ab-a74611e979e0",
   "metadata": {},
   "outputs": [],
   "source": [
    "dtypes = np.dtype([\n",
    "    (\"acc_x\",np.uint16),\n",
    "    (\"acc_y\",np.uint16),\n",
    "    (\"acc_z\",np.uint16),\n",
    "    (\"none1\",np.uint16), # 3\n",
    "    (\"gyro_x\",np.uint16),\n",
    "    (\"gyro_y\",np.uint16),\n",
    "    (\"gyro_z\",np.uint16),\n",
    "    (\"none2\",np.uint16) # 7\n",
    "])\n",
    "imu = pd.DataFrame(np.fromfile(imu_path, dtypes, -1, '')).to_numpy()"
   ]
  },
  {
   "cell_type": "code",
   "execution_count": 7,
   "id": "893ba7e9-a53a-469e-88b6-57d43cb8efff",
   "metadata": {},
   "outputs": [],
   "source": [
    "path = os.path.join(recpath, '041422_J599RT_control_Rig2_hf4_worldcam_Ephys_BonsaiBoardTS.csv')\n",
    "imuT_ = read_timestamp_file(path)"
   ]
  },
  {
   "cell_type": "code",
   "execution_count": 8,
   "id": "8958ef68-de14-4a1f-b777-8ebff4c48482",
   "metadata": {},
   "outputs": [],
   "source": [
    "t0 = imuT_[0]\n",
    "num_samp = np.size(imu,0)\n",
    "samp_freq = 30000\n",
    "imuT = np.array(t0 + np.linspace(0, num_samp-1, num_samp) / samp_freq)"
   ]
  },
  {
   "cell_type": "code",
   "execution_count": 9,
   "id": "7f3df41a-fd94-4167-9568-7841c717c96f",
   "metadata": {},
   "outputs": [],
   "source": [
    "use_onsets = imu[:,3]-np.median(imu)\n",
    "use_diff = np.diff(use_onsets)\n",
    "use_show = use_diff/np.max(use_diff)\n",
    "use_show[use_show < 0] = 0\n",
    "frame_onset_frames = np.argwhere(use_show > 0.5).flatten()\n",
    "frame_onset_times = imuT[frame_onset_frames] - t0"
   ]
  },
  {
   "cell_type": "code",
   "execution_count": 11,
   "id": "ebd103fe-f20d-4bc9-808c-df713b76b5a5",
   "metadata": {},
   "outputs": [],
   "source": [
    "stimstart = imu[:,7]-np.median(imu)\n",
    "stimstart_diff = np.diff(stimstart)\n",
    "stimstart_diff = stimstart_diff/np.max(stimstart_diff)\n",
    "stimstart_diff[stimstart_diff<0] = 0\n",
    "stim_restart_frames = np.argwhere(stimstart_diff > 0.5).flatten()\n",
    "stim_restart_times = imuT[stim_restart_frames] - t0"
   ]
  },
  {
   "cell_type": "markdown",
   "id": "e46351e2-311e-42b2-b274-18cf488bfda0",
   "metadata": {
    "tags": []
   },
   "source": [
    "# Timestamp that stimulus frames were shown at"
   ]
  },
  {
   "cell_type": "code",
   "execution_count": 12,
   "id": "ad58895d-abe4-46d4-991f-aef9c83d6978",
   "metadata": {},
   "outputs": [],
   "source": [
    "# shape will be [presentation timestamp, stim frame number]\n",
    "stim_labels = np.zeros([len(frame_onset_times)])*np.nan\n",
    "\n",
    "stim_count = 0\n",
    "\n",
    "# iterater through stimulus frame onsets\n",
    "for f, t in enumerate(frame_onset_times):\n",
    "    \n",
    "    # how many times has the stimulus video been repeated so far?\n",
    "    stim_count = np.size(stim_restart_times[stim_restart_times<=t])\n",
    "    \n",
    "    # skip this if the stimulus video hasn't shown the \"first\" frame yet\n",
    "    # i.e. if it started partway through displaying the 1 min stimulus\n",
    "    if stim_count == 0:\n",
    "        continue\n",
    "    \n",
    "    # what is the timstamp of the first frame of this stimulus cycle?\n",
    "    cycle_start = stim_restart_times[stim_count-1]\n",
    "    \n",
    "    # how many frames have been shown since this stimulus cycle started?\n",
    "    # max value should be 3600 frames (60fps for 60sec)\n",
    "    elapsed_frames = np.sum((frame_onset_times<=t) * (frame_onset_times>=cycle_start))\n",
    "    \n",
    "    stim_labels[f] = elapsed_frames\n",
    "    "
   ]
  },
  {
   "cell_type": "code",
   "execution_count": 13,
   "id": "5c00f434-ec78-4966-8df5-dc188896d1cb",
   "metadata": {},
   "outputs": [
    {
     "data": {
      "text/plain": [
       "[<matplotlib.lines.Line2D at 0x7f9faad006d0>]"
      ]
     },
     "execution_count": 13,
     "metadata": {},
     "output_type": "execute_result"
    },
    {
     "data": {
      "image/png": "[encoded data removed]",
      "text/plain": [
       "<Figure size 432x288 with 1 Axes>"
      ]
     },
     "metadata": {
      "needs_background": "light"
     },
     "output_type": "display_data"
    }
   ],
   "source": [
    "plt.plot(stim_labels)"
   ]
  },
  {
   "cell_type": "markdown",
   "id": "08ac4783-b4a4-46f0-8b79-20decb42e380",
   "metadata": {},
   "source": [
    "# Ephys during playback"
   ]
  },
  {
   "cell_type": "code",
   "execution_count": 14,
   "id": "49a4efe0-82ad-4f0b-b21e-3afacbc631d9",
   "metadata": {},
   "outputs": [],
   "source": [
    "ephys_path = os.path.join(recpath,'041422_J599RT_control_Rig2_hf4_worldcam_ephys_merge.json')\n",
    "ephys_data = pd.read_json(ephys_path)"
   ]
  },
  {
   "cell_type": "code",
   "execution_count": 15,
   "id": "293f63e6-0938-42a5-9f59-651acac6d91f",
   "metadata": {},
   "outputs": [],
   "source": [
    "# sort by ch\n",
    "ephys_data = ephys_data.sort_values(by='ch', axis=0, ascending=True)\n",
    "ephys_data = ephys_data.reset_index()\n",
    "ephys_data = ephys_data.drop('index', axis=1)"
   ]
  },
  {
   "cell_type": "code",
   "execution_count": 16,
   "id": "7306b7a6-c8bb-4015-bc8e-3675f5f20b93",
   "metadata": {},
   "outputs": [],
   "source": [
    "# good cells\n",
    "ephys = ephys_data.loc[ephys_data['group']=='good']"
   ]
  },
  {
   "cell_type": "code",
   "execution_count": 17,
   "id": "64f0ad5e-b013-4c84-9f81-58c7e60d57bd",
   "metadata": {},
   "outputs": [
    {
     "name": "stderr",
     "output_type": "stream",
     "text": [
      "/tmp/ipykernel_1176621/2649321378.py:5: SettingWithCopyWarning: \n",
      "A value is trying to be set on a copy of a slice from a DataFrame.\n",
      "Try using .loc[row_indexer,col_indexer] = value instead\n",
      "\n",
      "See the caveats in the documentation: https://pandas.pydata.org/pandas-docs/stable/user_guide/indexing.html#returning-a-view-versus-a-copy\n",
      "  ephys['spikeT_'] = ephys['spikeT'].copy()\n"
     ]
    }
   ],
   "source": [
    "# timing correction\n",
    "offset = 0.1\n",
    "drift = -0.000114\n",
    "\n",
    "ephys['spikeT_'] = ephys['spikeT'].copy()\n",
    "for ind, row in ephys.iterrows():\n",
    "    sps = np.array(row['spikeT_'].copy()).astype(float)\n",
    "    ephys.at[ind,'spikeT'] = sps - (offset + sps * drift)"
   ]
  },
  {
   "cell_type": "markdown",
   "id": "e4cf7205-adfe-4e80-accb-ee1c3a5ffa3a",
   "metadata": {},
   "source": [
    "# Saccade times in stimulus"
   ]
  },
  {
   "cell_type": "code",
   "execution_count": 18,
   "id": "72745454-a2e7-495d-815f-523b56800299",
   "metadata": {},
   "outputs": [],
   "source": [
    "with open('/home/niell_lab/Desktop/worldcam_playback_saccframes.json', 'r') as fp:\n",
    "    saccFr = json.load(fp)"
   ]
  },
  {
   "cell_type": "markdown",
   "id": "2d69ff80-be9e-459f-921e-0263fdb03c32",
   "metadata": {},
   "source": [
    "# Responses during playback"
   ]
  },
  {
   "cell_type": "code",
   "execution_count": 23,
   "id": "23a00954-f743-4e8a-8210-9fa59216ba01",
   "metadata": {},
   "outputs": [
    {
     "name": "stderr",
     "output_type": "stream",
     "text": [
      "80it [01:43,  1.30s/it]\n"
     ]
    }
   ],
   "source": [
    "# all the times in the recording when a gaze shift was shown on the monitor\n",
    "use_fr = []\n",
    "for f in (saccFr['gazeL']+saccFr['gazeR']):\n",
    "    use_fr.extend(list(np.where(stim_labels==f)[0]))\n",
    "use_fr = sorted(use_fr)\n",
    "\n",
    "eventT = np.array([frame_onset_times[f] for f in use_fr])\n",
    "\n",
    "all_psth = np.zeros([len(ephys.index.values), 2001])\n",
    "\n",
    "for i, ind in tqdm(enumerate(ephys.index.values)):\n",
    "    \n",
    "    sps = np.array(ephys.loc[ind,'spikeT'].copy()).astype(float)\n",
    "    psth = calc_PSTH(sps, eventT)\n",
    "    \n",
    "    all_psth[i,:] = psth"
   ]
  },
  {
   "cell_type": "markdown",
   "id": "990b8995-af5f-41bd-93e3-314f243e10fe",
   "metadata": {},
   "source": [
    "# some plots"
   ]
  },
  {
   "cell_type": "code",
   "execution_count": null,
   "id": "816feddd-e50b-4d34-8a86-c56bfcb747e7",
   "metadata": {},
   "outputs": [],
   "source": [
    "# plot PSTHs\n",
    "bins = np.arange(-1000,1001,1)\n",
    "\n",
    "fig, axs = plt.subplots(10,8, dpi=300, figsize=(15,15))\n",
    "\n",
    "for i, ind in enumerate(ephys.index.values):\n",
    "    psth = all_psth[i,:]\n",
    "    \n",
    "    row = int(np.floor(i/8))\n",
    "    col = int(i%8)\n",
    "    \n",
    "    axs[row,col].plot(bins, psth)\n",
    "    axs[row,col].vlines(0, 0, np.max(psth)*1.1, color='k', linestyle='dashed')\n",
    "    axs[row,col].set_ylim([0, np.max(psth)*1.1])\n",
    "    axs[row,col].set_title(ind)\n",
    "    axs[row,col].set_xticklabels([])\n",
    "    axs[row,col].set_xlim([-500,500])\n",
    "\n",
    "fig.tight_layout()"
   ]
  },
  {
   "cell_type": "code",
   "execution_count": null,
   "id": "128d7d77-19de-4a46-a258-f9931c3d0d39",
   "metadata": {},
   "outputs": [],
   "source": [
    "# plot raster\n",
    "fig, ax = plt.subplots(1,1, figsize=(10,5), dpi=300)\n",
    "sps = np.array(ephys.loc[11, 'spikeT_'].copy())\n",
    "for i, t in enumerate(stim_restart_times):\n",
    "    sps_i = sps[(sps>t) * (sps<(t+3))]\n",
    "    sps_i = sps_i - t\n",
    "    ax.plot(sps_i, np.ones(len(sps_i))*i, '|')\n",
    "    ax.vlines((eventT-t)[(eventT>t) * (eventT<(t+3))], 0, 20, 'k')"
   ]
  },
  {
   "cell_type": "code",
   "execution_count": null,
   "id": "1c2b2e1d-b25e-4c4f-94bf-81707fe1d1b6",
   "metadata": {},
   "outputs": [],
   "source": []
  }
 ],
 "metadata": {
  "kernelspec": {
   "display_name": "Python [conda env:ephys0]",
   "language": "python",
   "name": "conda-env-ephys0-py"
  },
  "language_info": {
   "codemirror_mode": {
    "name": "ipython",
    "version": 3
   },
   "file_extension": ".py",
   "mimetype": "text/x-python",
   "name": "python",
   "nbconvert_exporter": "python",
   "pygments_lexer": "ipython3",
   "version": "3.8.12"
  }
 },
 "nbformat": 4,
 "nbformat_minor": 5
}
