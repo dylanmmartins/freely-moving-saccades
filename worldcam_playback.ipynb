{
 "cells": [
  {
   "cell_type": "code",
   "execution_count": 6,
   "id": "6cc819d9-3328-479b-9dd1-502a2f41b08f",
   "metadata": {},
   "outputs": [],
   "source": [
    "import matplotlib.pyplot as plt\n",
    "import numpy as np\n",
    "import pandas as pd\n",
    "import cv2\n",
    "import os\n",
    "import xarray as xr"
   ]
  },
  {
   "cell_type": "code",
   "execution_count": 2,
   "id": "48eb6c71-4752-431e-9fe6-1112d4c4adf3",
   "metadata": {},
   "outputs": [],
   "source": [
    "recpath = '/home/niell_lab/Data/freely_moving_ephys/new_hf_stim/worldcam_playback/041422/J559RT/hf4_worldcam'"
   ]
  },
  {
   "cell_type": "code",
   "execution_count": 5,
   "id": "90376f4c-3f30-41cb-b031-d3a2141e35ec",
   "metadata": {},
   "outputs": [
    {
     "data": {
      "text/plain": [
       "['041422_J599RT_control_Rig2_hf4_worldcam_REYEdeinter.avi',\n",
       " '041422_J599RT_control_Rig2_hf4_worldcam_REYE_plot.avi',\n",
       " '041422_J599RT_control_Rig2_hf4_worldcam_Ephys.bin',\n",
       " '041422_J599RT_control_Rig2_hf4_worldcam_IMU.bin',\n",
       " '041422_J599RT_control_Rig2_hf4_worldcam_REYE_BonsaiTS.csv',\n",
       " '041422_J599RT_control_Rig2_hf4_worldcam_speed.nc',\n",
       " '041422_J599RT_control_Rig2_hf4_worldcam_BALLMOUSE_BonsaiTS_X_Y.csv',\n",
       " '041422_J599RT_control_Rig2_hf4_worldcam_world.nc',\n",
       " '041422_J599RT_control_Rig2_hf4_worldcam_ephys_merge.json',\n",
       " '041422_J599RT_control_Rig2_hf4_worldcam_WORLD_BonsaiTS.csv',\n",
       " '041422_J599RT_control_Rig2_hf4_worldcam_REYE_BonsaiTSformatted.csv',\n",
       " '041422_J599RT_control_Rig2_hf4_worldcam_REYE_tracking_figs.pdf',\n",
       " '041422_J599RT_control_Rig2_hf4_worldcam_WORLD.avi',\n",
       " '041422_J599RT_control_Rig2_hf4_worldcam_REYE.nc',\n",
       " '041422_J599RT_control_Rig2_hf4_worldcam_WORLD_BonsaiTSformatted.csv',\n",
       " '041422_J599RT_control_Rig2_hf4_worldcam_WORLDcalib.avi',\n",
       " '041422_J599RT_control_Rig2_hf4_worldcam_Ephys_medianTrace.mat',\n",
       " '041422_J599RT_control_Rig2_hf4_worldcam_imu.nc',\n",
       " '041422_J599RT_control_Rig2_hf4_worldcam_WORLDdeinter.avi',\n",
       " '041422_J599RT_control_Rig2_hf4_worldcam_REYE.avi',\n",
       " '041422_J599RT_control_Rig2_hf4_worldcam_Ephys_BonsaiBoardTS.csv',\n",
       " '041422_J599RT_control_Rig2_hf4_worldcam_REYEdeinterDLC_resnet50_EphysEyeCams8Oct12shuffle1_35714_meta.pickle',\n",
       " '041422_J599RT_control_Rig2_hf4_worldcam_REYEdeinterDLC_resnet50_EphysEyeCams8Oct12shuffle1_35714.h5']"
      ]
     },
     "execution_count": 5,
     "metadata": {},
     "output_type": "execute_result"
    }
   ],
   "source": [
    "os.listdir(recpath)"
   ]
  },
  {
   "cell_type": "markdown",
   "id": "0acc479c-4827-470f-be21-2af90284056b",
   "metadata": {},
   "source": [
    "# Frame times"
   ]
  },
  {
   "cell_type": "code",
   "execution_count": 10,
   "id": "9d545a8e-637f-419f-a9ed-4544b9572e3c",
   "metadata": {},
   "outputs": [],
   "source": [
    "imu_path = os.path.join(recpath, '041422_J599RT_control_Rig2_hf4_worldcam_IMU.bin')"
   ]
  },
  {
   "cell_type": "code",
   "execution_count": 12,
   "id": "3caaf45c-9f6a-41a5-a8ab-a74611e979e0",
   "metadata": {},
   "outputs": [],
   "source": [
    "dtypes = np.dtype([\n",
    "    (\"acc_x\",np.uint16),\n",
    "    (\"acc_y\",np.uint16),\n",
    "    (\"acc_z\",np.uint16),\n",
    "    (\"none1\",np.uint16), # 3\n",
    "    (\"gyro_x\",np.uint16),\n",
    "    (\"gyro_y\",np.uint16),\n",
    "    (\"gyro_z\",np.uint16),\n",
    "    (\"none2\",np.uint16) # 7\n",
    "])\n",
    "imu = pd.DataFrame(np.fromfile(imu_path, dtypes, -1, '')).to_numpy()"
   ]
  },
  {
   "cell_type": "code",
   "execution_count": 21,
   "id": "af1aaa3d-6d15-49ae-a984-24cf84c484a5",
   "metadata": {},
   "outputs": [],
   "source": [
    "from datetime import datetime\n",
    "def read_timestamp_series(s):\n",
    "    output_time = []\n",
    "    fmt = '%H:%M:%S.%f'\n",
    "    if s.dtype != np.float64:\n",
    "        for current_time in s:\n",
    "            str_time = str(current_time).strip()\n",
    "            try:\n",
    "                t = datetime.strptime(str_time, fmt)\n",
    "            except ValueError as v:\n",
    "                ulr = len(v.args[0].partition('unconverted data remains: ')[2])\n",
    "                if ulr:\n",
    "                    str_time = str_time[:-ulr]\n",
    "            try:\n",
    "                output_time.append((datetime.strptime(str_time, '%H:%M:%S.%f') - datetime.strptime('00:00:00.000000', '%H:%M:%S.%f')).total_seconds())\n",
    "            except ValueError:\n",
    "                output_time.append(np.nan)\n",
    "        output_time = np.array(output_time)\n",
    "    else:\n",
    "        output_time = s.values\n",
    "    return output_time\n",
    "\n",
    "def read_timestamp_file(path):\n",
    "    # read data and set up format\n",
    "    s = pd.read_csv(path, encoding='utf-8', engine='c', header=None).squeeze()\n",
    "    if s[0] == 0:\n",
    "        s = s[1:]\n",
    "    camT = read_timestamp_series(s)\n",
    "    return camT"
   ]
  },
  {
   "cell_type": "code",
   "execution_count": 22,
   "id": "893ba7e9-a53a-469e-88b6-57d43cb8efff",
   "metadata": {},
   "outputs": [],
   "source": [
    "path = os.path.join(recpath, '041422_J599RT_control_Rig2_hf4_worldcam_Ephys_BonsaiBoardTS.csv')\n",
    "imuT = read_timestamp_file(path)"
   ]
  },
  {
   "cell_type": "code",
   "execution_count": 32,
   "id": "b38d02a7-6e99-4677-835c-985e3e089f41",
   "metadata": {},
   "outputs": [],
   "source": [
    "t0 = imuT[0]\n",
    "num_samp = np.size(imu,0)"
   ]
  },
  {
   "cell_type": "code",
   "execution_count": 33,
   "id": "d5b9c314-107e-4d1f-bbd0-9e86c6d3bd60",
   "metadata": {},
   "outputs": [],
   "source": [
    "imuT = list(np.array(t0 + np.linspace(0, num_samp-1, num_samp) / 30000))"
   ]
  },
  {
   "cell_type": "code",
   "execution_count": 48,
   "id": "7f3df41a-fd94-4167-9568-7841c717c96f",
   "metadata": {},
   "outputs": [],
   "source": [
    "useT = imuT-imuT[0]\n",
    "use_onsets = imu[:,3]-np.median(imu)\n",
    "use_diff = np.diff(use_onsets)\n",
    "use_show = use_diff/np.max(use_diff)\n",
    "use_show[use_show < 0] = 0\n",
    "frame_onsets = useT[np.argwhere(use_show > 0.5).flatten()]"
   ]
  },
  {
   "cell_type": "code",
   "execution_count": 59,
   "id": "ddc89a62-df75-432b-8d98-c43a5705e69f",
   "metadata": {},
   "outputs": [
    {
     "data": {
      "text/plain": [
       "0.00673333333543269"
      ]
     },
     "execution_count": 59,
     "metadata": {},
     "output_type": "execute_result"
    }
   ],
   "source": [
    "frame_onsets"
   ]
  },
  {
   "cell_type": "code",
   "execution_count": 85,
   "id": "ebd103fe-f20d-4bc9-808c-df713b76b5a5",
   "metadata": {},
   "outputs": [
    {
     "data": {
      "text/plain": [
       "[<matplotlib.lines.Line2D at 0x7f616e94c7c0>]"
      ]
     },
     "execution_count": 85,
     "metadata": {},
     "output_type": "execute_result"
    },
    {
     "data": {
      "image/png": "[encoded data removed]",
      "text/plain": [
       "<Figure size 432x288 with 1 Axes>"
      ]
     },
     "metadata": {
      "needs_background": "light"
     },
     "output_type": "display_data"
    }
   ],
   "source": [
    "stimstart = imu[:,7]-np.median(imu)\n",
    "stimstart_diff = np.diff(stimstart)\n",
    "stimstart_diff = stimstart_diff/np.max(stimstart_diff)\n",
    "stimstart_diff[stimstart_diff<0] = 0\n",
    "stim_restarts = useT[np.argwhere(stimstart_diff > 0.5).flatten()]"
   ]
  },
  {
   "cell_type": "markdown",
   "id": "e46351e2-311e-42b2-b274-18cf488bfda0",
   "metadata": {},
   "source": [
    "# Saccade times"
   ]
  },
  {
   "cell_type": "code",
   "execution_count": 60,
   "id": "6bb3ea6f-424d-4cee-8e87-810698d0998b",
   "metadata": {},
   "outputs": [],
   "source": [
    "hffm = pd.read_pickle('/home/niell_lab/Data/freely_moving_ephys/batch_files/062022/hffm_062022_gt.pickle')"
   ]
  },
  {
   "cell_type": "code",
   "execution_count": 62,
   "id": "4504b1fc-3e3c-4dbd-a0d6-586580e47a7f",
   "metadata": {},
   "outputs": [],
   "source": [
    "c = hffm[hffm['session']=='070921_J553RT_control_Rig2'].iloc[0]"
   ]
  },
  {
   "cell_type": "code",
   "execution_count": 74,
   "id": "fe52fcd6-197b-4a83-b53c-7a2d04ae5531",
   "metadata": {},
   "outputs": [],
   "source": [
    "saccdict = {\n",
    "    'left_gaze': list(c['FmLt_gazeshift_left_saccTimes_dHead1']),\n",
    "    'right_gaze': list(c['FmLt_gazeshift_right_saccTimes_dHead1']),\n",
    "    'left_comp': list(c['FmLt_comp_left_saccTimes_dHead1']),\n",
    "    'right_comp': list(c['FmLt_comp_right_saccTimes_dHead1'])\n",
    "}"
   ]
  },
  {
   "cell_type": "code",
   "execution_count": 87,
   "id": "205ae0b0-364f-46aa-b8f3-7ea36ec09efe",
   "metadata": {},
   "outputs": [
    {
     "data": {
      "text/plain": [
       "array([  56.1427    ,  116.17196667,  176.2011    ,  236.23046667,\n",
       "        296.2596    ,  356.2889    ,  416.31803333,  476.34743333,\n",
       "        536.37656667,  596.40583333,  656.43506667,  716.4643    ,\n",
       "        776.49353333,  836.5229    ,  896.55203333,  956.58133333,\n",
       "       1016.61043333, 1076.6397    , 1136.66903333, 1196.69823333])"
      ]
     },
     "execution_count": 87,
     "metadata": {},
     "output_type": "execute_result"
    }
   ],
   "source": [
    "for startInd, startT in stim_restarts:\n",
    "    for key, val in saccdict.items():\n",
    "        "
   ]
  },
  {
   "cell_type": "markdown",
   "id": "ded8091a-ef03-4a3a-90e7-6a359ec189a6",
   "metadata": {},
   "source": [
    "# Saccade frames"
   ]
  },
  {
   "cell_type": "code",
   "execution_count": null,
   "id": "eab662fd-e263-4f76-8303-8aa7ceb2f7dc",
   "metadata": {},
   "outputs": [],
   "source": [
    "frame_onsets"
   ]
  },
  {
   "cell_type": "markdown",
   "id": "08ac4783-b4a4-46f0-8b79-20decb42e380",
   "metadata": {},
   "source": [
    "# Ephys"
   ]
  },
  {
   "cell_type": "code",
   "execution_count": null,
   "id": "a42f0458-20bb-44f3-991f-5308d438d109",
   "metadata": {},
   "outputs": [],
   "source": [
    "self.ephys_data = pd.read_json(self.ephys_json_path)\n",
    "        if do_sorting:\n",
    "            # sort units by shank and site order\n",
    "            self.ephys_data = self.ephys_data.sort_values(by='ch', axis=0, ascending=True)\n",
    "            self.ephys_data = self.ephys_data.reset_index()\n",
    "            self.ephys_data = self.ephys_data.drop('index', axis=1)\n",
    "        # spike times\n",
    "        self.ephys_data['spikeTraw'] = self.ephys_data['spikeT'].copy()\n",
    "        # select good cells from phy2\n",
    "        self.cells = self.ephys_data.loc[self.ephys_data['group']=='good']\n",
    "        self.units = self.cells.index.values"
   ]
  }
 ],
 "metadata": {
  "kernelspec": {
   "display_name": "Python [conda env:ephys0]",
   "language": "python",
   "name": "conda-env-ephys0-py"
  },
  "language_info": {
   "codemirror_mode": {
    "name": "ipython",
    "version": 3
   },
   "file_extension": ".py",
   "mimetype": "text/x-python",
   "name": "python",
   "nbconvert_exporter": "python",
   "pygments_lexer": "ipython3",
   "version": "3.8.12"
  }
 },
 "nbformat": 4,
 "nbformat_minor": 5
}
