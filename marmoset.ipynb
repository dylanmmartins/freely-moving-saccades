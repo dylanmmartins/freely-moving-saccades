{
 "cells": [
  {
   "cell_type": "markdown",
   "id": "f8602895-71f5-40b3-969e-07592f1834ac",
   "metadata": {},
   "source": [
    "# Imports and paths"
   ]
  },
  {
   "cell_type": "code",
   "execution_count": null,
   "id": "32623ad2-f82b-4778-bafa-dd0feb90e4c2",
   "metadata": {},
   "outputs": [],
   "source": [
    "import os\n",
    "from scipy.io import loadmat\n",
    "import numpy as np\n",
    "import matplotlib.pyplot as plt\n",
    "from sklearn.cluster import KMeans\n",
    "from sklearn.decomposition import PCA\n",
    "import matplotlib as mpl\n",
    "mpl.rcParams['axes.spines.top'] = False\n",
    "mpl.rcParams['axes.spines.right'] = False\n",
    "mpl.rcParams['pdf.fonttype'] = 42\n",
    "mpl.rcParams['ps.fonttype'] = 42\n",
    "%matplotlib inline\n",
    "mpl.rcParams.update({'font.size':10})\n",
    "plasma_map = plt.cm.plasma(np.linspace(0,1,15))\n",
    "kcolors = {\n",
    "    'movement': plasma_map[12,:],\n",
    "    'early': plasma_map[10,:],\n",
    "    'late': plasma_map[8,:],\n",
    "    'biphasic': plasma_map[5,:],\n",
    "    'negative': plasma_map[2,:],\n",
    "    'unresponsive': 'dimgrey'\n",
    "}\n",
    "tcolors = {\n",
    "    'gaze': 'firebrick',\n",
    "    'comp': 'mediumblue',\n",
    "    'rc': 'indigo'\n",
    "}"
   ]
  },
  {
   "cell_type": "code",
   "execution_count": null,
   "id": "0e74d8f8-fc19-4190-bf4e-4bc4291ede8e",
   "metadata": {},
   "outputs": [],
   "source": [
    "psth_bins = np.arange(-200,401)"
   ]
  },
  {
   "cell_type": "code",
   "execution_count": null,
   "id": "4d4d3d08-bad7-482a-9de9-73f9db579061",
   "metadata": {},
   "outputs": [],
   "source": [
    "savepath = '/home/niell_lab/Data/marmoset/gazeshift/panels/'\n",
    "data = loadmat('/home/niell_lab/Data/marmoset/gazeshift/Pooled_V1Hart_Preload_Final.mat')\n",
    "totdata = loadmat('/home/niell_lab/Data/marmoset/gazeshift/Pooled_V1Hart_Preload_TotalInfo.mat')"
   ]
  },
  {
   "cell_type": "markdown",
   "id": "ab5209b0-79dc-4e15-bb11-07c5aff32686",
   "metadata": {},
   "source": [
    "%ISACMOD = [];  % saccade modulation psths for images (each row a neuron)\n",
    "                % time steps are 1ms, with 50 being saccade offset\n",
    "%GSACMOD = [];  % saccade modulation psths for gratings (each row a neuron)\n",
    "%SFTUNE = [];   % spatial freq tuning curves (each row a neuron)\n",
    "%TFTUNE = [];   % temporal freq tuning (fft of temporal kernel), each row a neuron\n",
    "%ORTUNE = [];   % orientation tuning per neuron\n",
    "%BASEMU = [];   % baseline firing rate, to natural images (inclusion criteria?)\n",
    "%PEAKIM = [];   % time of the peak latency of nat image modulation\n",
    "%SFGRID = [];   % for each neuron, the spatial frequencies uses in RF \n",
    "%ANIMID = [];   % which of the two animals, 1=Allen, 2=Logan"
   ]
  },
  {
   "cell_type": "markdown",
   "id": "d97aea1b-5d93-43a1-b183-07a8b2b5ce45",
   "metadata": {},
   "source": [
    "# Rasters for example units"
   ]
  },
  {
   "cell_type": "code",
   "execution_count": null,
   "id": "b1c9faf0-0dd3-4931-979f-86d856eb5544",
   "metadata": {},
   "outputs": [],
   "source": [
    "totunits = totdata['TotalInfo']"
   ]
  },
  {
   "cell_type": "code",
   "execution_count": null,
   "id": "8c86b57a-9eed-4e63-94bf-ead7a7ec44a6",
   "metadata": {},
   "outputs": [],
   "source": [
    "def mRaster(ax, rast, n=500):\n",
    "    usetrials = np.array(sorted(np.random.choice(np.arange(0,int(np.max(rast[:,1]))), n, replace=False)))\n",
    "    \n",
    "    for row, tnum in enumerate(usetrials):\n",
    "        sps = rast.copy()\n",
    "        sps = sps[sps[:,1].astype(int)==tnum]\n",
    "        sps = sps[:,0]\n",
    "        \n",
    "        ax.plot(sps, np.ones(sps.size)*row, '|', color='k', markersize=0.3)\n",
    "        \n",
    "    ax.set_xlim([-0.2,0.4])\n",
    "    ax.set_ylim([n, 0])\n",
    "    ax.set_yticks(np.linspace(0,n,3))\n",
    "    \n",
    "    ax.set_xticks(np.linspace(-.2,.4,4))\n",
    "    ax.set_xticklabels([])\n",
    "    # ax.set_xticklabels(np.linspace(-200,400,4).astype(int))\n",
    "    \n",
    "    return useinds"
   ]
  },
  {
   "cell_type": "code",
   "execution_count": null,
   "id": "38391a8a-cf15-4442-b37b-94bf7beb81ac",
   "metadata": {},
   "outputs": [],
   "source": [
    "example_units = [9, 96, 30]\n",
    "# [39, 21, 95] [9, 30]\n",
    "# 9 is super strong early cell\n",
    "\n",
    "fig, axs = plt.subplots(3,3, figsize=(6,4.8), dpi=300)\n",
    "\n",
    "for uPos, uNum in enumerate(example_units):\n",
    "\n",
    "    unitlabels = ['tagname','pathname','pathplot','isolation','depth','duration',\n",
    "                  'waveform','channel','shank','ISI','Hart','SacGrating','SacImage']\n",
    "    unit_dict = dict(zip(unitlabels, list(totunits[uNum][0][0][0])))\n",
    "\n",
    "    sacimlabels = ['EventList','StimWin','TrialType','StimRast','OriInd','StimTT',\n",
    "                   'StimUU','StimSU','OriInd2','StimRast2','StimTT2','StimUU2',\n",
    "                   'StimSU2','BaseMu','BaseMu2']\n",
    "    sacim_dict = dict(zip(sacimlabels, list(unit_dict['SacImage'][0][0])))\n",
    "\n",
    "\n",
    "    hartlabels = ['SFcurve','stcounts','stsem','NOri','NSpf','SpatOris','SpatFrqs',\n",
    "                  'tXX','tempker','sgcounts','sgsem','Ori','OI','SFI','SpatFreq',\n",
    "                  'ymean','uu','su','otune','sotune','stune','sstune','MyTick','MyTickLabel',\n",
    "                  'mcounts','msem','pcounts','psem','tcrit','trepa','trepb','FileTag']\n",
    "    hart_dict = dict(zip(hartlabels, list(unit_dict['Hart'][0][0])))\n",
    "\n",
    "    useinds = mRaster(axs[0,uPos], sacim_dict['StimRast2'], 500)\n",
    "    axs[0,uPos].set_ylabel('gaze shifts')\n",
    "    \n",
    "    axs[0,uPos].set_title('cell {}'.format(uPos+1))\n",
    "\n",
    "    axs[1,uPos].plot(sacim_dict['StimTT'].flatten(), sacim_dict['StimUU'].flatten(), 'k-')\n",
    "    axs[1,uPos].vlines(0,0,np.max(sacim_dict['StimUU'].flatten())*1.1, 'k', linestyle='dashed',linewidth=1)\n",
    "    axs[1,uPos].set_ylabel('sp/s')\n",
    "    axs[1,uPos].set_xticks(np.linspace(-.2,.4,4))\n",
    "    axs[1,uPos].set_xticklabels(np.linspace(-200,400,4).astype(int))\n",
    "    axs[1,uPos].set_xlabel('time (ms)')\n",
    "\n",
    "    axs[2,uPos].plot(hart_dict['SpatOris'].flatten(),\n",
    "                  np.array(hart_dict['otune'].flatten())[:int(np.size(hart_dict['SpatOris'].flatten()))],\n",
    "                  color='k')\n",
    "    axs[2,uPos].set_xticks(hart_dict['SpatOris'].flatten()[::2].astype(int))\n",
    "    axs[2,uPos].set_xlabel('orientation (deg)')\n",
    "    axs[2,uPos].set_ylabel('sp/s')\n",
    "\n",
    "fig.tight_layout()\n",
    "\n",
    "fig.savefig(os.path.join(savepath, '6_example_cells.pdf'))"
   ]
  },
  {
   "cell_type": "code",
   "execution_count": null,
   "id": "4e971a6a-a504-4ea7-ad49-d7fb4895fb03",
   "metadata": {},
   "outputs": [],
   "source": [
    "def normalize_psth(psth):\n",
    "    pref = psth.copy()\n",
    "    bsln = np.mean(psth[0:150]) # was -100 to -50 ms ; now, -200 to -50 ms\n",
    "    norm_psth = (psth - bsln) / np.max(pref[200:]) # 0 to 200\n",
    "    return norm_psth"
   ]
  },
  {
   "cell_type": "markdown",
   "id": "c435bae9-1de5-4b34-ba29-721104dd37a0",
   "metadata": {},
   "source": [
    "# Cross validation"
   ]
  },
  {
   "cell_type": "code",
   "execution_count": null,
   "id": "c134a30b-1380-4a39-a978-15bfb7f7e3b3",
   "metadata": {},
   "outputs": [],
   "source": [
    "import numpy as np\n",
    "import pandas as pd\n",
    "from sklearn.neighbors import KernelDensity\n",
    "from tqdm import tqdm\n",
    "\n",
    "def calc_PSTH(spikeT, eventT, bandwidth=10, resample_size=1, edgedrop=15, win=1000, num_events=None):\n",
    "    \"\"\"\n",
    "    calcualtes for a single cell at a time\n",
    "\n",
    "    bandwidth (in msec)\n",
    "    resample_size (msec)\n",
    "    edgedrop (msec to drop at the start and end of the window so eliminate artifacts of filtering)\n",
    "    win = 1000msec before and after\n",
    "    \"\"\"\n",
    "\n",
    "    # Some conversions\n",
    "    bandwidth = bandwidth / 1000\n",
    "    resample_size = resample_size / 1000\n",
    "    win = win / 1000\n",
    "    edgedrop = edgedrop / 1000\n",
    "    edgedrop_ind = int(edgedrop / resample_size)\n",
    "\n",
    "    # Setup time bins. The bins of the returned PSTH will be -`win` msec to +`win` msec\n",
    "    # with `resame_size` msec bins, where 0 is the time of the event. Because of edge effects\n",
    "    # from the gaussian filter, we'll calculate the PSTH with an extra `edgedrop` msec at the\n",
    "    # start and end so that the edges of the PSTH can be dropped without losing timepoints\n",
    "    # we care about.\n",
    "    bins = np.arange(-win-edgedrop, win+edgedrop+resample_size, resample_size)\n",
    "\n",
    "    # if there is only one event time (i.e. if it's an int for all spikes like eventT=np.array(0)\n",
    "    if np.size(eventT)>1:\n",
    "\n",
    "        # Get the timestamps of spikes relative to events in `eventT`\n",
    "        sps = []\n",
    "        for i, t in enumerate(eventT):\n",
    "            sp = spikeT-t\n",
    "            # Only keep spikes in this window\n",
    "            sp = sp[(sp <= (win+edgedrop)) & (sp >= (-win-edgedrop))] \n",
    "            sps.extend(sp)\n",
    "        num_events = np.size(eventT)\n",
    "    else:\n",
    "        sps = eventT.copy().flatten()\n",
    "    \n",
    "    # If `win` is 1000 msec, values in `sps` will fall between -1 and 1, since only spikes\n",
    "    # that fall before or after the event by 1 second are included.\n",
    "    # (Because of `edge_drop`, values can be a bit beyond `win` but those will be eliminated before\n",
    "    # the PSTH is returned.\n",
    "    sps = np.array(sps)\n",
    "\n",
    "    # Calculate the PSTH using Kernel Density Estimation\n",
    "    kernel = KernelDensity(kernel='gaussian', bandwidth=bandwidth).fit(sps[:, np.newaxis])\n",
    "    density = kernel.score_samples(bins[:, np.newaxis])\n",
    "\n",
    "    # Here, `density` is a probability function that sums to 1. We want it in sp/sec.\n",
    "    # We need to multiply by the # spikes to get the spike count per point. Then,\n",
    "    # we divide by the number of events so that we get teh rate per event.\n",
    "    psth = np.exp(density) * (np.size(sps) / num_events)\n",
    "\n",
    "    # Drop the extra time at the start and end of the window, since it will have\n",
    "    # edge effects from the gaussian filter. After dropping this, it will be the\n",
    "    # size set by `win`, so no important timepoints are actually lost here.\n",
    "    psth = psth[edgedrop_ind:-edgedrop_ind]\n",
    "\n",
    "    return psth\n",
    "\n",
    "def normalize_psth(psth, raw_pref=None, baseline_val=None):\n",
    "    if raw_pref is None:\n",
    "        raw_pref = psth.copy()\n",
    "    if baseline_val is None:\n",
    "        baseline_val = np.mean(psth[0:800].astype(float))\n",
    "    norm_psth = (psth - baseline_val) / np.max(raw_pref[750:1250].astype(float)) # [1000:1250]\n",
    "    return norm_psth"
   ]
  },
  {
   "cell_type": "code",
   "execution_count": null,
   "id": "24029916-788e-47c0-b053-db9e40279e32",
   "metadata": {},
   "outputs": [],
   "source": [
    "totunits = totdata['TotalInfo']"
   ]
  },
  {
   "cell_type": "code",
   "execution_count": null,
   "id": "c5213a79-4ee4-4a7d-a8eb-2b5260fa7efa",
   "metadata": {},
   "outputs": [],
   "source": [
    "uNum = 10\n",
    "\n",
    "unitlabels = ['tagname','pathname','pathplot','isolation','depth','duration',\n",
    "              'waveform','channel','shank','ISI','Hart','SacGrating','SacImage']\n",
    "unit_dict = dict(zip(unitlabels, list(totunits[uNum][0][0][0])))\n",
    "\n",
    "sacimlabels = ['EventList','StimWin','TrialType','StimRast','OriInd','StimTT',\n",
    "               'StimUU','StimSU','OriInd2','StimRast2','StimTT2','StimUU2',\n",
    "               'StimSU2','BaseMu','BaseMu2']\n",
    "sacim_dict = dict(zip(sacimlabels, list(unit_dict['SacImage'][0][0])))\n",
    "\n",
    "rast = sacim_dict['StimRast2'].copy()\n",
    "\n",
    "trials = np.unique(rast[:,1]).astype(int)-1\n",
    "\n",
    "train_inds = np.array(sorted(np.random.choice(trials, size=int(np.floor(trials.size/2)), replace=False)))\n",
    "test_inds = trials.copy()\n",
    "test_inds = np.delete(test_inds, train_inds)\n",
    "\n",
    "all_sps = []\n",
    "for tnum in train_inds:\n",
    "    sps = rast.copy()\n",
    "    sps = sps[sps[:,1].astype(int)==int(tnum)]\n",
    "    sps = sps[:,0]\n",
    "    all_sps.extend(sps)\n",
    "    \n",
    "# PSTH\n",
    "psth = calc_PSTH(np.array(all_sps), np.zeros(train_inds.size), bandwidth=5, win=250)\n",
    "# normalize\n",
    "# norm_psth = normalize_psth(psth)"
   ]
  },
  {
   "cell_type": "code",
   "execution_count": null,
   "id": "be0854ac-deed-407c-b4e6-03adec21bd31",
   "metadata": {},
   "outputs": [],
   "source": [
    "plt.plot(psth)"
   ]
  },
  {
   "cell_type": "code",
   "execution_count": null,
   "id": "ecf9b50f-6fde-40e3-872a-79274d0e95eb",
   "metadata": {},
   "outputs": [],
   "source": [
    "for uPos, uNum in enumerate(601):\n"
   ]
  },
  {
   "cell_type": "code",
   "execution_count": null,
   "id": "cb67505d-8fe1-4aea-9c9a-4e9e7f33a97d",
   "metadata": {},
   "outputs": [],
   "source": []
  },
  {
   "cell_type": "code",
   "execution_count": null,
   "id": "bdd8f1d4-e14d-4a6c-80df-110333df407d",
   "metadata": {},
   "outputs": [],
   "source": []
  },
  {
   "cell_type": "code",
   "execution_count": null,
   "id": "bede6b5f-1716-4305-9472-6862b610eb29",
   "metadata": {},
   "outputs": [],
   "source": [
    "norm_train = np.zeros([n_cells,2001])\n",
    "norm_test = np.zeros([n_cells,2001])\n",
    "for i, ind in enumerate(good_inds):\n",
    "    norm_train[i,:] = normalize_psth(train_psth[ind,:])\n",
    "    norm_test[i,:] = normalize_psth(test_psth[ind,:])"
   ]
  },
  {
   "cell_type": "markdown",
   "id": "6486e782-86f7-43e2-917f-8451f4918ded",
   "metadata": {},
   "source": [
    "# Open in arrays"
   ]
  },
  {
   "cell_type": "code",
   "execution_count": null,
   "id": "21f1ecc7-1e43-40b0-a272-39020a89f874",
   "metadata": {},
   "outputs": [],
   "source": [
    "sacc_psth = data['ISACMOD2']\n",
    "grat_psth = data['GSACMOD']\n",
    "sf_tuning = data['SFTUNE']\n",
    "tf_tuning = data['TFTUNE']\n",
    "ori_tuning = data['ORTUNE']\n",
    "bsln_fr = data['BASEMU2']\n",
    "peakT = data['PEAKIM2']\n",
    "animal = data['ANIMID']"
   ]
  },
  {
   "cell_type": "code",
   "execution_count": null,
   "id": "b5d1fc75-b32b-440d-b9a3-1e1ff03639cc",
   "metadata": {},
   "outputs": [],
   "source": [
    "n_cells = np.size(peakT,0)\n",
    "\n",
    "norm_sacc_psth = np.zeros([n_cells, len(psth_bins)])\n",
    "for ind in range(n_cells):\n",
    "    norm_sacc_psth[ind,:] = normalize_psth(sacc_psth[ind].copy())"
   ]
  },
  {
   "cell_type": "markdown",
   "id": "a31c277e-4704-49e2-b7a3-974d53230c47",
   "metadata": {},
   "source": [
    "# Grat prefs"
   ]
  },
  {
   "cell_type": "code",
   "execution_count": null,
   "id": "8e05bf2f-b878-4b7b-a7b1-d883b90968ac",
   "metadata": {},
   "outputs": [],
   "source": [
    "# spatial and temporal frequencies used\n",
    "sf_vals = np.array([1,2,4,8,16])\n",
    "tf_vals = (60/16) * np.arange(9)\n",
    "\n",
    "tf_pref = np.zeros(n_cells); sf_pref = np.zeros(n_cells)\n",
    "ori_index = np.zeros(n_cells); tf_index = np.zeros(n_cells); sf_index = np.zeros(n_cells);\n",
    "\n",
    "\n",
    "for ind in range(n_cells):\n",
    "    sf = sf_tuning[ind,:].copy()\n",
    "    tf = tf_tuning[ind,:].copy()\n",
    "    ori = ori_tuning[ind,:].copy()\n",
    "    \n",
    "    ofi = np.nanstd(ori) / np.nanmean(ori)\n",
    "    sfi = np.nanstd(sf) / np.nanmean(sf)\n",
    "    tfi = np.nanstd(tf) / np.nanmean(tf)\n",
    "    \n",
    "    svec = sf.copy()-1\n",
    "    svec[svec<0] = 0\n",
    "    svec = svec**2\n",
    "    spref = np.nansum(svec * sf_vals) / np.nansum(svec)\n",
    "    \n",
    "    tvec = tf.copy()-1\n",
    "    tvec[tvec<0] = 0\n",
    "    tvec = tvec**2\n",
    "    tpref = np.nansum(tvec * tf_vals) / np.nansum(tvec)\n",
    "    \n",
    "    sf_pref[ind] = spref\n",
    "    tf_pref[ind] = tpref\n",
    "    ori_index[ind] = ofi\n",
    "    sf_index[ind] = sfi\n",
    "    tf_index[ind] = tfi"
   ]
  },
  {
   "cell_type": "code",
   "execution_count": null,
   "id": "880b60c1-7b6c-4063-95b1-32520746e576",
   "metadata": {},
   "outputs": [],
   "source": [
    "def psth_modind(psth):\n",
    "    # modulation in terms of spike rate\n",
    "    psth = psth.astype(float)\n",
    "    use = psth - np.mean(psth[0:150].copy())\n",
    "    mod = np.max(np.abs(use[200:]))\n",
    "    return mod\n",
    "\n",
    "sacc_resp = np.zeros(n_cells)\n",
    "mods = np.zeros(n_cells)\n",
    "for ind in range(n_cells):\n",
    "    mod = psth_modind(norm_sacc_psth[ind,:])\n",
    "    mods[ind] = mod\n",
    "    if mod > 0.1:\n",
    "        sacc_resp[ind] = True"
   ]
  },
  {
   "cell_type": "code",
   "execution_count": null,
   "id": "e627ff71-bd4a-491d-b171-ff32679b480e",
   "metadata": {},
   "outputs": [],
   "source": [
    "pca_input = norm_sacc_psth.copy()\n",
    "\n",
    "n_pcas = 10\n",
    "pca = PCA(n_components=n_pcas)\n",
    "pca.fit(pca_input)\n",
    "\n",
    "explvar = pca.explained_variance_ratio_\n",
    "\n",
    "proj = pca.transform(pca_input)\n",
    "\n",
    "# keep_pcas = int(np.argwhere(np.cumsum(explvar)>.95)[0])\n",
    "# print('using best {} PCs'.format(keep_pcas))\n",
    "\n",
    "gproj = proj[:,:7] # \n",
    "\n",
    "km = KMeans(n_clusters=4) ### using 4 clusters, not 5...\n",
    "km.fit_predict(gproj)\n",
    "Z = km.labels_"
   ]
  },
  {
   "cell_type": "code",
   "execution_count": null,
   "id": "f1f29669-abdd-45b2-a543-e87d61658216",
   "metadata": {},
   "outputs": [],
   "source": [
    "np.cumsum(explvar[:7])"
   ]
  },
  {
   "cell_type": "code",
   "execution_count": null,
   "id": "76cb47ef-9b91-4c0b-95e2-e812d41601bd",
   "metadata": {},
   "outputs": [],
   "source": [
    "kord = [0,2,3,1]\n",
    "\n",
    "color_list = [kcolors['early'],\n",
    "          kcolors['late'],\n",
    "          kcolors['biphasic'],\n",
    "          kcolors['negative']\n",
    "         ]"
   ]
  },
  {
   "cell_type": "code",
   "execution_count": null,
   "id": "7e44dd1f-70b6-4a76-a978-f68517c0259d",
   "metadata": {},
   "outputs": [],
   "source": [
    "clusters = Z.copy()"
   ]
  },
  {
   "cell_type": "code",
   "execution_count": null,
   "id": "fbf35992-cd4d-4597-b5da-b2fb8fe9b79d",
   "metadata": {},
   "outputs": [],
   "source": [
    "fig, axs = plt.subplots(1,4,figsize=(7.5,2), dpi=300)\n",
    "for ki, k in enumerate(kord):\n",
    "    ax = axs[ki]\n",
    "    inds = np.argwhere(clusters==k).flatten()\n",
    "    for ind in inds:\n",
    "        psth = norm_sacc_psth[ind,:]\n",
    "        ax.plot(psth_bins, psth, alpha=0.2)\n",
    "    ax.plot(psth_bins, np.nanmean(norm_sacc_psth[inds,:], axis=0), color=color_list[ki], linewidth=2)\n",
    "    ax.set_ylim([-0.75,1])\n",
    "    ax.vlines(0, -1, 1, color='k', linestyle='dashed')\n",
    "    ax.set_xticks(np.linspace(-200,400,4))\n",
    "    ax.set_xlim([-200,400])\n",
    "    ax.set_xlabel('time (ms)')\n",
    "    if ki>0:\n",
    "        ax.set_yticks([])\n",
    "    if ki==0:\n",
    "        ax.set_ylabel('norm sp/s')\n",
    "fig.tight_layout()\n",
    "fig.savefig(os.path.join(savepath, '6_clusters.pdf'))"
   ]
  },
  {
   "cell_type": "code",
   "execution_count": null,
   "id": "c4cd7300-5081-41ea-9ff6-985d29a11aa6",
   "metadata": {},
   "outputs": [],
   "source": [
    "fig, axs = plt.subplots(2,2,figsize=(4,3.25), dpi=300)\n",
    "for ki, k in enumerate(kord):\n",
    "    ax = axs.flatten()[ki]\n",
    "    inds = np.argwhere(clusters==k).flatten()\n",
    "    for ind in inds:\n",
    "        psth = norm_sacc_psth[ind,:]\n",
    "        ax.plot(psth_bins, psth, alpha=0.2)\n",
    "    ax.plot(psth_bins, np.nanmean(norm_sacc_psth[inds,:], axis=0), color=color_list[ki], linewidth=2)\n",
    "    ax.set_ylim([-0.8,1])\n",
    "    ax.vlines(0, -1, 1, color='k', linestyle='dashed')\n",
    "    ax.set_xticks(np.linspace(-200,400,4))\n",
    "    ax.set_xlim([-200,400])\n",
    "    if ki<2:\n",
    "        ax.set_xticklabels([])\n",
    "    if ki==0 or ki==2:\n",
    "        ax.set_ylabel('norm sp/s')\n",
    "    if ki>1:\n",
    "        ax.set_xlabel('time (ms)')\n",
    "fig.tight_layout()\n",
    "fig.savefig(os.path.join(savepath, '6_clusters_sq.pdf'))"
   ]
  },
  {
   "cell_type": "code",
   "execution_count": null,
   "id": "07984dcf-f357-4014-8e95-66eb8fcf2f3c",
   "metadata": {},
   "outputs": [],
   "source": [
    "fig, ax = plt.subplots(1,1,figsize=(2.75,2), dpi=300)\n",
    "for ki, k in enumerate(kord):\n",
    "    inds = np.argwhere(clusters==k).flatten()\n",
    "    for ind in inds:\n",
    "        psth = norm_sacc_psth[ind,:]\n",
    "        # ax.plot(psth_bins, psth, alpha=0.2)\n",
    "    ax.plot(psth_bins, np.nanmean(norm_sacc_psth[inds,:], axis=0), color=color_list[ki], linewidth=2)\n",
    "    ax.set_ylim([-.5,.7])\n",
    "    ax.vlines(0, -1, 1, color='k', linestyle='dashed')\n",
    "    \n",
    "ax.set_xlim([-200,400])\n",
    "ax.set_xticks(np.linspace(-200,400,4))\n",
    "ax.set_xlabel('time (ms)')\n",
    "ax.set_ylabel('norm sp/s')\n",
    "\n",
    "fig.tight_layout()\n",
    "fig.savefig(os.path.join(savepath, '6_all_clusters.pdf'))"
   ]
  },
  {
   "cell_type": "code",
   "execution_count": null,
   "id": "984a73d5-f242-4b92-bb31-dc7e645ff9af",
   "metadata": {},
   "outputs": [],
   "source": [
    "fig, ax = plt.subplots(1,1,figsize=(2.5,2), dpi=300)\n",
    "for ki, k in enumerate(kord):\n",
    "    inds = np.argwhere(clusters==k).flatten()\n",
    "    ax.scatter(proj[inds,0], proj[inds,1], s=1, c=color_list[ki])\n",
    "ax.set_xlabel('PC 1'); ax.set_ylabel('PC 2')\n",
    "ax.axis('equal')\n",
    "# ax.set_ylim([-3,5])\n",
    "# ax.set_xlim([-6,8])\n",
    "\n",
    "fig.savefig(os.path.join(savepath, '6_pca.pdf'))"
   ]
  },
  {
   "cell_type": "code",
   "execution_count": null,
   "id": "5de5c10c-e6e5-47e2-8d4b-8058379ee563",
   "metadata": {},
   "outputs": [],
   "source": [
    "def plot_cprop_scatter(ax, data, clusters, color_list):\n",
    "    for ki, k in enumerate(kord):\n",
    "        \n",
    "        inds = np.argwhere(clusters==k).flatten()\n",
    "        kdata = data[inds].copy()\n",
    "        \n",
    "        x_jitter = np.random.uniform(ki-0.2, ki+0.2, np.size(kdata,0))\n",
    "        \n",
    "        ax.plot(x_jitter, kdata, '.', color=color_list[ki], markersize=2)\n",
    "        \n",
    "        hline = np.nanmedian(kdata)\n",
    "        err = np.std(kdata) / np.sqrt(np.size(kdata))\n",
    "        \n",
    "        ax.hlines(hline, ki-0.2, ki+0.2, color='k', linewidth=2)\n",
    "        ax.vlines(ki, hline-err, hline+err, color='k', linewidth=2)\n",
    "        \n",
    "        ax.set_xticks(range(4))\n",
    "        ax.set_xticklabels(['early','late','biphasic','negative'])"
   ]
  },
  {
   "cell_type": "code",
   "execution_count": null,
   "id": "adb7c314-e974-4e0a-8c67-f0276bf2ef69",
   "metadata": {},
   "outputs": [],
   "source": [
    "from scipy import stats\n",
    "def running_median(ax, x, y, n_bins=7):\n",
    "    bins = np.linspace(np.min(x), np.max(x), n_bins)\n",
    "    bin_means, bin_edges, bin_number = stats.binned_statistic(x[~np.isnan(x) & ~np.isnan(y)], y[~np.isnan(x) & ~np.isnan(y)], statistic=np.median, bins=bins)\n",
    "    bin_std, _, _ = stats.binned_statistic(x[~np.isnan(x) & ~np.isnan(y)], y[~np.isnan(x) & ~np.isnan(y)], statistic=np.nanstd, bins=bins)\n",
    "    hist, _ = np.histogram(x[~np.isnan(x) & ~np.isnan(y)], bins=bins)\n",
    "    tuning_err = bin_std / np.sqrt(hist)\n",
    "    ax.plot(bin_edges[:-1] + (np.median(np.diff(bins))/2), bin_means, '-', color='k')\n",
    "    ax.fill_between(bin_edges[:-1] + (np.median(np.diff(bins))/2), bin_means-tuning_err, bin_means+tuning_err, color='k', alpha=0.2)"
   ]
  },
  {
   "cell_type": "code",
   "execution_count": null,
   "id": "e37a6a3f-0eb0-4b59-8cf2-3ff76eb6bc0e",
   "metadata": {},
   "outputs": [],
   "source": [
    "grat_resp = np.zeros(n_cells)\n",
    "for ind in range(n_cells):\n",
    "    ffi = np.sqrt(ori_index[ind]**2 + sf_index[ind]**2)\n",
    "    if ffi >= 0.2:\n",
    "        grat_resp[ind] = True\n",
    "grat_resp = grat_resp.astype(bool)"
   ]
  },
  {
   "cell_type": "code",
   "execution_count": null,
   "id": "38ba9b50-bafb-4aea-9bc9-857d90fa439d",
   "metadata": {},
   "outputs": [],
   "source": [
    "fig, [[ax0,ax1],[ax2,ax3]] = plt.subplots(2,2, figsize=(6,4.5), dpi=300)\n",
    "\n",
    "# use = np.argwhere((grat_resp)).flatten()\n",
    "use = np.argwhere((grat_resp) * (peakT.flatten()>25) * (peakT.flatten()<160)).flatten() # 25; 175 ms\n",
    "\n",
    "plot_cprop_scatter(ax0, tf_pref[use], clusters[use], color_list)\n",
    "ax0.set_ylabel('temporal freq (cps)')\n",
    "\n",
    "plot_cprop_scatter(ax2, sf_pref[use], clusters[use], color_list)\n",
    "ax2.set_ylabel('spatial freq (cpd)')\n",
    "\n",
    "for ki, k in enumerate(kord):\n",
    "    inds = np.intersect1d(np.argwhere((clusters==k)).flatten(), use)\n",
    "    \n",
    "    ax1.plot(peakT.flatten()[inds], tf_pref[inds], '.', color=color_list[ki], markersize=3)\n",
    "    ax3.plot(peakT.flatten()[inds], sf_pref[inds], '.', color=color_list[ki], markersize=3)\n",
    "    \n",
    "running_median(ax1, peakT.flatten()[use], tf_pref[use], n_bins=6)\n",
    "running_median(ax3, peakT.flatten()[use], sf_pref[use], n_bins=6)\n",
    "\n",
    "ax1.set_xlabel('saccade latency (ms)')\n",
    "ax3.set_xlabel('saccade latency (ms)')\n",
    "ax1.set_ylabel('temporal freq (cps)')\n",
    "ax3.set_ylabel('spatial freq (cpd)')\n",
    "    \n",
    "ax1.set_xlim([25,175])\n",
    "ax3.set_xlim([25,175])\n",
    "ax0.set_ylim([0, 15]); ax1.set_ylim([0, 15])\n",
    "ax2.set_ylim([1.5, 5]); ax3.set_ylim([1.5, 5])\n",
    "\n",
    "fig.tight_layout()\n",
    "\n",
    "fig.savefig(os.path.join(savepath, '6_sf_tf_scatter.pdf'))"
   ]
  },
  {
   "cell_type": "code",
   "execution_count": null,
   "id": "959f7a33-c417-4a9e-a9d1-054c4ef20cd2",
   "metadata": {},
   "outputs": [],
   "source": [
    "from scipy.stats import linregress"
   ]
  },
  {
   "cell_type": "code",
   "execution_count": null,
   "id": "0ea71dc9-2dc2-4fde-b236-1ad34dac674a",
   "metadata": {},
   "outputs": [],
   "source": [
    "x = peakT.flatten()[use]\n",
    "y = sf_pref[use]\n",
    "\n",
    "res = linregress(x, y)\n",
    "(res.rvalue)**2"
   ]
  },
  {
   "cell_type": "code",
   "execution_count": null,
   "id": "398d4621-f0d2-40a3-befc-8d21fc98cbea",
   "metadata": {},
   "outputs": [],
   "source": [
    "(res.rvalue)**2"
   ]
  },
  {
   "cell_type": "code",
   "execution_count": null,
   "id": "4603d15f-5fd7-44f3-ba50-4c2f7f48d389",
   "metadata": {},
   "outputs": [],
   "source": [
    "res.pvalue"
   ]
  },
  {
   "cell_type": "code",
   "execution_count": null,
   "id": "f02ad5e8-7edd-47ac-a4c1-440c31ffef93",
   "metadata": {},
   "outputs": [],
   "source": [
    "len(peakT.flatten()[grat_resp])"
   ]
  },
  {
   "cell_type": "code",
   "execution_count": null,
   "id": "bd4638c7-5275-4160-a4b5-00499e09f840",
   "metadata": {},
   "outputs": [],
   "source": [
    "use = np.argwhere((grat_resp) * (peakT.flatten()>25) * (peakT.flatten()<150)).flatten()\n",
    "np.unique(clusters[use], return_counts=True)"
   ]
  },
  {
   "cell_type": "code",
   "execution_count": null,
   "id": "337fe4a5-ffbd-4f08-b7bc-25c384687933",
   "metadata": {},
   "outputs": [],
   "source": [
    "len(use)"
   ]
  },
  {
   "cell_type": "code",
   "execution_count": null,
   "id": "3986d338-72ee-4d7e-95a4-25fb73484058",
   "metadata": {},
   "outputs": [],
   "source": [
    "latency_sort = np.argsort(peakT.flatten().copy())\n",
    "tempseq = norm_sacc_psth.copy()[latency_sort]"
   ]
  },
  {
   "cell_type": "code",
   "execution_count": null,
   "id": "0cccb66e-1f70-45fe-84a5-19d4839c176e",
   "metadata": {},
   "outputs": [],
   "source": [
    "def plot_tempseq(ax, seq):\n",
    "    \n",
    "    ax.set_xlabel('time (msec)')\n",
    "    ax.set_ylim([np.size(seq,0),0])\n",
    "    \n",
    "    vmin = -0.75; vmax = 0.75\n",
    "    img = ax.imshow(seq, cmap='coolwarm', vmin=vmin, vmax=vmax)\n",
    "    \n",
    "    ax.set_xlim([0,601])\n",
    "    \n",
    "    ax.set_xticks(np.linspace(0,600,4))\n",
    "    ax.set_xticklabels(labels=np.linspace(-200,400,4).astype(int))\n",
    "    ax.vlines(200, 0, np.size(seq,0), color='k', linestyle='dashed', linewidth=1)\n",
    "    \n",
    "    ax.set_aspect(3)\n",
    "    \n",
    "    return img"
   ]
  },
  {
   "cell_type": "code",
   "execution_count": null,
   "id": "6670b001-3876-4dec-b30c-9aac0fc24eeb",
   "metadata": {},
   "outputs": [],
   "source": [
    "fig, ax = plt.subplots(1,1, dpi=300, figsize=(5,5))\n",
    "plot_tempseq(ax, tempseq)\n",
    "ax.set_yticks(np.arange(0,np.size(tempseq,0),100))\n",
    "fig.savefig(os.path.join(savepath, '6_tempseq.pdf'))"
   ]
  },
  {
   "cell_type": "code",
   "execution_count": null,
   "id": "0301f275-51cc-4d2e-9a63-1ab769443196",
   "metadata": {},
   "outputs": [],
   "source": [
    "0,2,3,1"
   ]
  },
  {
   "cell_type": "code",
   "execution_count": null,
   "id": "d56c276f-c618-42dd-ab51-536654b6b41e",
   "metadata": {},
   "outputs": [],
   "source": [
    "k_to_name = {\n",
    "    0:'early',\n",
    "    2:'late',\n",
    "    3:'biphasic',\n",
    "    1:'negative'\n",
    "}"
   ]
  },
  {
   "cell_type": "code",
   "execution_count": null,
   "id": "cf09deb5-b0b6-44c8-8d1d-2f165dea1cc1",
   "metadata": {},
   "outputs": [],
   "source": [
    "sorted_clusters = clusters.copy()[latency_sort]\n",
    "\n",
    "tempseq_legend = np.zeros([n_cells, 1, 4])\n",
    "for ki, k in enumerate(sorted_clusters):\n",
    "    tempseq_legend[ki,:,:] = kcolors[k_to_name[k]]"
   ]
  },
  {
   "cell_type": "code",
   "execution_count": null,
   "id": "6a1ab184-e55f-4955-8e7f-edf6129c1949",
   "metadata": {},
   "outputs": [],
   "source": [
    "fig, ax = plt.subplots(1,1,figsize=(0.5,1.5), dpi=300)\n",
    "ax.imshow(tempseq_legend, aspect=.05)\n",
    "ax.set_yticks([]); ax.set_xticks([])\n",
    "ax.axes.spines.bottom.set_visible(False)\n",
    "ax.axes.spines.right.set_visible(False)\n",
    "ax.axes.spines.left.set_visible(False)\n",
    "ax.axes.spines.top.set_visible(False)\n",
    "plt.tight_layout()\n",
    "fig.savefig(os.path.join(savepath, '6_tempseq_legend.pdf'))"
   ]
  },
  {
   "cell_type": "code",
   "execution_count": null,
   "id": "b3e3589b-769a-4a3c-8587-f5be6b6964d9",
   "metadata": {},
   "outputs": [],
   "source": [
    "fig, [ax_cellcounts, ax_baseline_fr] = plt.subplots(1,2, figsize=(5.5,2.5), dpi=300)\n",
    "\n",
    "names = ['early','late','biphasic','negative']\n",
    "print_names = ['early','late','biph','neg']\n",
    "\n",
    "for ki, k in enumerate(kord):\n",
    "    inds = np.argwhere((clusters==k)).flatten()\n",
    "    ax_cellcounts.bar(ki, len(inds)/n_cells, color=color_list[ki])\n",
    "    \n",
    "ax_cellcounts.set_xticks(ticks=range(4))\n",
    "ax_cellcounts.set_xticklabels(print_names, rotation=90)\n",
    "ax_cellcounts.set_ylabel('frac. cells')\n",
    "\n",
    "for ki, k in enumerate(kord):\n",
    "    inds = np.argwhere((clusters==k)).flatten()\n",
    "    bsln_plot_vals = bsln_fr[inds]\n",
    "    \n",
    "    err = np.nanstd(bsln_plot_vals) / np.sqrt(np.size(bsln_plot_vals))\n",
    "    med = np.nanmedian(bsln_plot_vals)\n",
    "    \n",
    "    ax_baseline_fr.bar(ki, med, color=color_list[ki])\n",
    "    ax_baseline_fr.plot([ki, ki], [med-err, med+err], 'k-')\n",
    "    \n",
    "ax_baseline_fr.set_xticks(range(4))\n",
    "ax_baseline_fr.set_xticklabels(print_names, rotation=90)\n",
    "ax_baseline_fr.set_ylabel('baseline (sp/s)')\n",
    "\n",
    "fig.tight_layout()\n",
    "fig.savefig(os.path.join(savepath, '6_ksize_bslnFr.pdf'))"
   ]
  },
  {
   "cell_type": "code",
   "execution_count": null,
   "id": "ccc251cc-a005-4af4-9788-ab678d7b7e1d",
   "metadata": {},
   "outputs": [],
   "source": []
  }
 ],
 "metadata": {
  "kernelspec": {
   "display_name": "Python [conda env:ephys0]",
   "language": "python",
   "name": "conda-env-ephys0-py"
  },
  "language_info": {
   "codemirror_mode": {
    "name": "ipython",
    "version": 3
   },
   "file_extension": ".py",
   "mimetype": "text/x-python",
   "name": "python",
   "nbconvert_exporter": "python",
   "pygments_lexer": "ipython3",
   "version": "3.8.12"
  }
 },
 "nbformat": 4,
 "nbformat_minor": 5
}
