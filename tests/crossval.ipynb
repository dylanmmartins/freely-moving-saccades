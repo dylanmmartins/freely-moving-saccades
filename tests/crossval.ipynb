{
 "cells": [
  {
   "cell_type": "code",
   "execution_count": null,
   "id": "cbb17b99-9257-45b7-a451-01656c962dc8",
   "metadata": {},
   "outputs": [],
   "source": [
    "import sys, os\n",
    "sys.path.insert(0, '/home/niell_lab/Documents/GitHub/FreelyMovingEphys/')\n",
    "import matplotlib.pyplot as plt\n",
    "import matplotlib as mpl\n",
    "from matplotlib import cm\n",
    "import matplotlib.gridspec as gridspec\n",
    "import numpy as np\n",
    "import pandas as pd\n",
    "from scipy.interpolate import interp1d\n",
    "from scipy.stats import linregress\n",
    "from matplotlib.backends.backend_pdf import PdfPages\n",
    "import cv2\n",
    "import xarray as xr\n",
    "mpl.rcParams['axes.spines.top'] = False\n",
    "mpl.rcParams['axes.spines.right'] = False\n",
    "mpl.rcParams['pdf.fonttype'] = 42\n",
    "mpl.rcParams['ps.fonttype'] = 42\n",
    "%matplotlib inline\n",
    "mpl.rcParams.update({'font.size':10})"
   ]
  },
  {
   "cell_type": "code",
   "execution_count": null,
   "id": "dbc20b27-0d6b-45d5-9a88-c00edb441d2e",
   "metadata": {},
   "outputs": [],
   "source": [
    "%matplotlib inline"
   ]
  },
  {
   "cell_type": "code",
   "execution_count": null,
   "id": "119d89d6-b7e6-482e-8649-ff99d5669e3d",
   "metadata": {},
   "outputs": [],
   "source": [
    "train_psth = np.load('/home/niell_lab/Data/freely_moving_ephys/eye_movements/cross validation/June22/train_psth1.npy')\n",
    "test_psth = np.load('/home/niell_lab/Data/freely_moving_ephys/eye_movements/cross validation/June22/test_psth1.npy')\n",
    "good_inds = np.load('/home/niell_lab/Data/freely_moving_ephys/eye_movements/cross validation/June22/good_inds.npy')"
   ]
  },
  {
   "cell_type": "code",
   "execution_count": null,
   "id": "ab41c4a7-5bed-42be-b510-97cd4f0bb157",
   "metadata": {},
   "outputs": [],
   "source": [
    "def get_direction_pref(left, right):\n",
    "    evok_left = left[1000:1250]\n",
    "    evok_right = right[1000:1250]\n",
    "    \n",
    "    ind = np.argmax([np.max(np.abs(evok_left)), np.max(np.abs(evok_right))])\n",
    "    pref = ['left','right'][ind]\n",
    "    nonpref = ('left' if pref=='right' else 'right')\n",
    "    \n",
    "    return pref, nonpref\n",
    "    \n",
    "def normalize_psth(psth, raw_pref=None, baseline_val=None):\n",
    "    if raw_pref is None:\n",
    "        raw_pref = psth.copy()\n",
    "    if baseline_val is None:\n",
    "        baseline_val = np.nanmean(psth[0:800].astype(float))\n",
    "    norm_psth = (psth - baseline_val) / np.nanmax(raw_pref[750:1250].astype(float))\n",
    "    return norm_psth"
   ]
  },
  {
   "cell_type": "code",
   "execution_count": null,
   "id": "5edc407f-0e8c-4622-821f-5c680af6c8b3",
   "metadata": {},
   "outputs": [],
   "source": [
    "norm_train = np.zeros([len(good_inds),2001])\n",
    "norm_test = np.zeros([len(good_inds),2001])\n",
    "for i, ind in enumerate(good_inds):\n",
    "    norm_train[i,:] = normalize_psth(train_psth[ind,:])\n",
    "    norm_test[i,:] = normalize_psth(test_psth[ind,:])"
   ]
  },
  {
   "cell_type": "code",
   "execution_count": null,
   "id": "1e088a1a-d24a-4337-a147-54755c79a476",
   "metadata": {},
   "outputs": [],
   "source": [
    "psth_bins = np.arange(-1,1.001,1/1000)"
   ]
  },
  {
   "cell_type": "code",
   "execution_count": null,
   "id": "c946a459-b7bd-42cb-a081-6c6af0014505",
   "metadata": {},
   "outputs": [],
   "source": [
    "def calc_latency(psth):\n",
    "    # use norm PSTH\n",
    "    ind = np.argmax(psth[1025:1250])+1025 # was 1000:1170\n",
    "    peakT = psth_bins[ind]\n",
    "    val = psth[ind]\n",
    "    return peakT, val"
   ]
  },
  {
   "cell_type": "code",
   "execution_count": null,
   "id": "3031094d-c6e9-467b-8efa-6b5f8f7512a6",
   "metadata": {},
   "outputs": [],
   "source": [
    "train_peakT = np.zeros(np.size(norm_train,0))\n",
    "test_peakT = np.zeros(np.size(norm_test,0))\n",
    "for i in range(np.size(norm_train,0)):\n",
    "    train_peakT[i], _ = calc_latency(norm_train[i,:])\n",
    "    test_peakT[i], _ = calc_latency(norm_test[i,:])"
   ]
  },
  {
   "cell_type": "code",
   "execution_count": null,
   "id": "ffe51627-7a2b-4921-9cf7-752fbf45ce9c",
   "metadata": {},
   "outputs": [],
   "source": [
    "# sort peak times\n",
    "order = np.argsort(train_peakT)\n",
    "\n",
    "sort_train_psths = norm_train[order,:].copy()\n",
    "sort_test_psths = norm_test[order,:].copy()"
   ]
  },
  {
   "cell_type": "code",
   "execution_count": null,
   "id": "39a4ad0a-c6aa-4e6f-abf4-1c1b8326d9b0",
   "metadata": {},
   "outputs": [],
   "source": [
    "def drop_nan_along(x, axis=1):\n",
    "    # axis=1 will drop along columns (i.e. any rows with NaNs will be dropped)\n",
    "    x = x[~np.isnan(x).any(axis=axis)]\n",
    "    return x"
   ]
  },
  {
   "cell_type": "code",
   "execution_count": null,
   "id": "94b9912a-c629-4f39-96ea-aeab1d7f5f97",
   "metadata": {},
   "outputs": [],
   "source": [
    "def plot_tempseq(panel, tseq, return_img=False, freev=None):\n",
    "    tseq = drop_nan_along(tseq, 1)\n",
    "    panel.set_xlabel('msec')\n",
    "    panel.set_ylim([np.size(tseq,0),0])\n",
    "    vmin = -0.75; vmax = 0.75\n",
    "    if freev is not None:\n",
    "        vmin = -freev\n",
    "        vmax = freev\n",
    "    img = panel.imshow(tseq, cmap='coolwarm', vmin=vmin, vmax=vmax)\n",
    "    panel.set_xlim([800,1400])\n",
    "    panel.set_xticks(np.linspace(800,1400,4), labels=np.linspace(-200,400,4).astype(int))\n",
    "    panel.vlines(1000, 0, np.size(tseq,0), color='k', linestyle='dashed', linewidth=1)\n",
    "    panel.set_aspect(2.8)\n",
    "    if return_img:\n",
    "        return img"
   ]
  },
  {
   "cell_type": "code",
   "execution_count": null,
   "id": "37ed88ed-c639-41f8-8f2a-79b815576b98",
   "metadata": {},
   "outputs": [],
   "source": [
    "fig, [ax0,ax1] = plt.subplots(1,2,figsize=(4,4), dpi=300)\n",
    "\n",
    "ax0_img = plot_tempseq(ax0, sort_train_psths)\n",
    "\n",
    "ax1_img = plot_tempseq(ax1, sort_test_psths)\n",
    "ax1.set_yticklabels([])\n",
    "\n",
    "ax0.set_title('train')\n",
    "ax1.set_title('test')\n",
    "\n",
    "# fig.savefig('/home/niell_lab/Desktop/crossval.pdf')"
   ]
  },
  {
   "cell_type": "code",
   "execution_count": null,
   "id": "83ed3859-2c5e-4096-9677-484a25dc876c",
   "metadata": {},
   "outputs": [],
   "source": [
    "plt.figure(figsize=(2,2), dpi=300)\n",
    "plt.plot(train_peakT[(train_peakT>.025) * (train_peakT<.250)],\n",
    "         test_peakT[(test_peakT>.025) * (test_peakT<.250)], 'k.', markersize=3)\n",
    "plt.xlabel('train latency (msec)'); plt.ylabel('test latency (msecs)')\n",
    "plt.plot([0.02,.250], [0.02,.250], linestyle='dashed', color='tab:red', linewidth=1)\n",
    "plt.xlim([.02, .20]); plt.ylim([.02, .250])\n",
    "plt.xticks(np.linspace(0.020,.250,4), labels=np.linspace(20,250,4).astype(int))\n",
    "plt.yticks(np.linspace(0.020,.250,4), labels=np.linspace(20,250,4).astype(int))\n",
    "\n",
    "# plt.savefig('/home/niell_lab/Desktop/crossval_peakT.pdf', pad_inches=3)"
   ]
  },
  {
   "cell_type": "code",
   "execution_count": null,
   "id": "09a317f1-b38c-4bd7-88e2-d05c82204008",
   "metadata": {},
   "outputs": [],
   "source": [
    "maxcc = np.zeros([len(sort_train_psths)])*np.nan\n",
    "for i in range(len(sort_train_psths)):\n",
    "    \n",
    "    train = sort_train_psths[i,:].copy()\n",
    "    test = sort_test_psths[i,:].copy()\n",
    "    \n",
    "    r = np.corrcoef(train[1000:1250], test[1000:1250])\n",
    "    maxcc[i] = r[0,1]**2"
   ]
  },
  {
   "cell_type": "code",
   "execution_count": null,
   "id": "edcbf6d6-b54a-46c5-a146-4856ccb612ff",
   "metadata": {},
   "outputs": [],
   "source": [
    "fig, ax0 = plt.subplots(1,1,figsize=(2.5,1.5), dpi=300)\n",
    "\n",
    "weights = np.ones_like(maxcc) / float(len(maxcc))\n",
    "n,_,_ = ax0.hist(maxcc, color='grey', bins=np.linspace(-1,1,21), weights=weights)\n",
    "# ax0.set_xlabel('gaze shift cc');\n",
    "ax0.set_ylabel('frac. cells')\n",
    "ax0.set_xticks(np.arange(-1,1,3),labels=[])\n",
    "ax0.plot([0,0], [0, .22], color='k', linewidth=1, linestyle='dashed')\n",
    "ax0.set_ylim([0,.22])\n",
    "\n",
    "fig.tight_layout()\n",
    "fig.savefig('/home/niell_lab/Desktop/mouse_crossval_gazeshift_correlation.pdf')"
   ]
  },
  {
   "cell_type": "code",
   "execution_count": null,
   "id": "2312156a-b1d0-4b85-b58d-2047d7c75e59",
   "metadata": {},
   "outputs": [],
   "source": [
    "from scipy.stats import spearmanr"
   ]
  },
  {
   "cell_type": "code",
   "execution_count": null,
   "id": "280769eb-d297-47bc-804d-f5c197e88e4a",
   "metadata": {},
   "outputs": [],
   "source": [
    "spearmanr(train_peakT, test_peakT)"
   ]
  },
  {
   "cell_type": "code",
   "execution_count": null,
   "id": "89c3d82d-57f5-4e7a-86b9-887938a7a097",
   "metadata": {},
   "outputs": [],
   "source": [
    "res.rvalue"
   ]
  },
  {
   "cell_type": "code",
   "execution_count": null,
   "id": "ce4f3556-74ba-4c96-935c-c6b06df6661e",
   "metadata": {},
   "outputs": [],
   "source": [
    "0.8578792694126758**2"
   ]
  },
  {
   "cell_type": "code",
   "execution_count": null,
   "id": "72e8f555-5923-48a2-bee7-afce89151623",
   "metadata": {},
   "outputs": [],
   "source": [
    "np.linspace(0.035,.2,4)"
   ]
  },
  {
   "cell_type": "code",
   "execution_count": null,
   "id": "25a91034-bff4-4757-b008-28ff724e536a",
   "metadata": {},
   "outputs": [],
   "source": [
    "np.linspace(35,200,4).astype(int)"
   ]
  },
  {
   "cell_type": "code",
   "execution_count": null,
   "id": "2b620a67-c540-4a0f-afa7-351ee38882ab",
   "metadata": {},
   "outputs": [],
   "source": []
  }
 ],
 "metadata": {
  "kernelspec": {
   "display_name": "ephys0",
   "language": "python",
   "name": "ephys0"
  },
  "language_info": {
   "codemirror_mode": {
    "name": "ipython",
    "version": 3
   },
   "file_extension": ".py",
   "mimetype": "text/x-python",
   "name": "python",
   "nbconvert_exporter": "python",
   "pygments_lexer": "ipython3",
   "version": "3.9.7"
  }
 },
 "nbformat": 4,
 "nbformat_minor": 5
}
